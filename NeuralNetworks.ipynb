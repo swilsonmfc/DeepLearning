{
  "nbformat": 4,
  "nbformat_minor": 0,
  "metadata": {
    "colab": {
      "name": "NeuralNetworks.ipynb",
      "provenance": [],
      "collapsed_sections": [],
      "toc_visible": true,
      "authorship_tag": "ABX9TyPuJfOoiZWcXlFQB7aj5h9h",
      "include_colab_link": true
    },
    "kernelspec": {
      "name": "python3",
      "display_name": "Python 3"
    },
    "language_info": {
      "name": "python"
    }
  },
  "cells": [
    {
      "cell_type": "markdown",
      "metadata": {
        "id": "view-in-github",
        "colab_type": "text"
      },
      "source": [
        "<a href=\"https://colab.research.google.com/github/swilsonmfc/deeplearning/blob/master/NeuralNetworks.ipynb\" target=\"_parent\"><img src=\"https://colab.research.google.com/assets/colab-badge.svg\" alt=\"Open In Colab\"/></a>"
      ]
    },
    {
      "cell_type": "markdown",
      "metadata": {
        "id": "QpCQUNFENwGx"
      },
      "source": [
        "# Neural Networks\n",
        "\n",
        "![](https://victorzhou.com/media/nn-series/network.svg)"
      ]
    },
    {
      "cell_type": "markdown",
      "metadata": {
        "id": "QUsAc2iPB8Hz"
      },
      "source": [
        "# Setup"
      ]
    },
    {
      "cell_type": "code",
      "metadata": {
        "id": "siAUoMZDB89Y"
      },
      "source": [
        "import pandas as pd\n",
        "import numpy as np\n",
        "import matplotlib.pyplot as plt\n",
        "\n",
        "from sklearn.model_selection import train_test_split\n",
        "from sklearn.metrics import log_loss\n",
        "\n",
        "import tensorflow as tf\n",
        "import tensorflow.keras as keras\n",
        "\n",
        "from tensorflow.keras import Sequential\n",
        "from tensorflow.keras.layers import Flatten\n",
        "from tensorflow.keras.layers import Dense\n",
        "from tensorflow.keras.layers import Softmax\n",
        "from tensorflow.keras.utils import to_categorical"
      ],
      "execution_count": 94,
      "outputs": []
    },
    {
      "cell_type": "markdown",
      "metadata": {
        "id": "5f-VJrbNCJ8f"
      },
      "source": [
        "# Data"
      ]
    },
    {
      "cell_type": "code",
      "metadata": {
        "colab": {
          "base_uri": "https://localhost:8080/"
        },
        "id": "QZkAchIhCfHM",
        "outputId": "6aee0692-a991-4a4e-d5e0-ee4eee0ad537"
      },
      "source": [
        "mnist = keras.datasets.mnist.load_data()"
      ],
      "execution_count": 3,
      "outputs": [
        {
          "output_type": "stream",
          "text": [
            "Downloading data from https://storage.googleapis.com/tensorflow/tf-keras-datasets/mnist.npz\n",
            "11493376/11490434 [==============================] - 0s 0us/step\n"
          ],
          "name": "stdout"
        }
      ]
    },
    {
      "cell_type": "code",
      "metadata": {
        "id": "v6UAmlE-Cixd"
      },
      "source": [
        "(X_train, y_train), (X_test, y_test) = mnist"
      ],
      "execution_count": 4,
      "outputs": []
    },
    {
      "cell_type": "code",
      "metadata": {
        "colab": {
          "base_uri": "https://localhost:8080/"
        },
        "id": "mJXuYxy7Cns1",
        "outputId": "614d2bd5-daf5-4d0f-fa97-a55e74e12f23"
      },
      "source": [
        "print(f'Training Images {X_train.shape}, Labels {y_train.shape}')\n",
        "print(f'Testing  Images {X_test.shape}, Labels {y_test.shape}')"
      ],
      "execution_count": 5,
      "outputs": [
        {
          "output_type": "stream",
          "text": [
            "Training Images (60000, 28, 28), Labels (60000,)\n",
            "Testing  Images (10000, 28, 28), Labels (10000,)\n"
          ],
          "name": "stdout"
        }
      ]
    },
    {
      "cell_type": "markdown",
      "metadata": {
        "id": "TvI1tFQiCryj"
      },
      "source": [
        "## Example"
      ]
    },
    {
      "cell_type": "code",
      "metadata": {
        "colab": {
          "base_uri": "https://localhost:8080/",
          "height": 282
        },
        "id": "bDLJt8ymCtrr",
        "outputId": "f8387229-e375-495a-8dec-5c5ff4acd194"
      },
      "source": [
        "plt.imshow(X_train[1], cmap=plt.cm.binary)"
      ],
      "execution_count": 7,
      "outputs": [
        {
          "output_type": "execute_result",
          "data": {
            "text/plain": [
              "<matplotlib.image.AxesImage at 0x7f0c136c5310>"
            ]
          },
          "metadata": {
            "tags": []
          },
          "execution_count": 7
        },
        {
          "output_type": "display_data",
          "data": {
            "image/png": "[encoded data removed]",
            "text/plain": [
              "<Figure size 432x288 with 1 Axes>"
            ]
          },
          "metadata": {
            "tags": [],
            "needs_background": "light"
          }
        }
      ]
    },
    {
      "cell_type": "markdown",
      "metadata": {
        "id": "3SuEE1-BCxTk"
      },
      "source": [
        "## Preprocess\n",
        "* Flatten and scale data\n",
        "* Note:  We lose information when we flatten"
      ]
    },
    {
      "cell_type": "code",
      "metadata": {
        "id": "bX_XSHjPC5td"
      },
      "source": [
        "X_train = X_train.reshape(60000, 784).astype('float32')\n",
        "X_test  = X_test.reshape(10000, 784).astype('float32')"
      ],
      "execution_count": 8,
      "outputs": []
    },
    {
      "cell_type": "code",
      "metadata": {
        "id": "numKkYcYC9MO"
      },
      "source": [
        "X_train /= 255\n",
        "X_test  /= 255"
      ],
      "execution_count": 9,
      "outputs": []
    },
    {
      "cell_type": "markdown",
      "metadata": {
        "id": "VPcUGtZfC99c"
      },
      "source": [
        "## Labels"
      ]
    },
    {
      "cell_type": "code",
      "metadata": {
        "id": "oc10QsewC-0D"
      },
      "source": [
        "y_train = to_categorical(y_train)\n",
        "y_test  = to_categorical(y_test)"
      ],
      "execution_count": 10,
      "outputs": []
    },
    {
      "cell_type": "markdown",
      "metadata": {
        "id": "RDgGT2hHDCDf"
      },
      "source": [
        "# Learning Objective\n",
        "* We have 60,000 28 x 28 pixel images in a training set\n",
        "* We want to learn how to identify the number in each image"
      ]
    },
    {
      "cell_type": "markdown",
      "metadata": {
        "id": "fbQ815esDEOM"
      },
      "source": [
        "## Gradient Descent"
      ]
    },
    {
      "cell_type": "markdown",
      "metadata": {
        "id": "wCShY2Q1DNQB"
      },
      "source": [
        "* Gradient Descent uses all the data in each epoch before updating\n",
        "* Can be hard to break out of local minima\n",
        "* Training data rarely fits in available memory"
      ]
    },
    {
      "cell_type": "markdown",
      "metadata": {
        "id": "Eyg9EV9LDPrv"
      },
      "source": [
        "## Stochastic Gradient Descent\n",
        "* Update after each training example\n",
        "* Online learning\n",
        "* High variance - training can be inefficient"
      ]
    },
    {
      "cell_type": "markdown",
      "metadata": {
        "id": "5DhbTWhNDUnJ"
      },
      "source": [
        "## Batch Gradient Descent\n",
        "* By updating over each batch, we get an averaging of errors\n",
        "* Averaging errors helps smooth the error surface\n",
        "* Results in a fewer local minima traps\n",
        "* Recommendation start at 32 or 64 then move by multiples of two up or down to fit memory"
      ]
    },
    {
      "cell_type": "code",
      "metadata": {
        "id": "GukdqOtrDgWp"
      },
      "source": [
        "batch_size = 64\n",
        "epochs=100"
      ],
      "execution_count": 14,
      "outputs": []
    },
    {
      "cell_type": "markdown",
      "metadata": {
        "id": "0L6RQRSfDiVU"
      },
      "source": [
        "# Metrics"
      ]
    },
    {
      "cell_type": "code",
      "metadata": {
        "id": "OsIa9e4hDkBQ"
      },
      "source": [
        "results_df = pd.DataFrame(columns=['Loss', 'Accuracy'])"
      ],
      "execution_count": 16,
      "outputs": []
    },
    {
      "cell_type": "code",
      "metadata": {
        "id": "dwLG5KDVDog6"
      },
      "source": [
        "def plot_accuracy(history, ax, color='b'):\n",
        "    acc = history.history['accuracy']\n",
        "    val_acc = history.history['val_accuracy']\n",
        "    epochs = range(1, len(acc) + 1)\n",
        "    ax.plot(epochs, acc, 'bo', color=color, label='Train')\n",
        "    ax.plot(epochs, val_acc, 'b', color=color, label='Validation')\n",
        "    ax.set_title('Training & Validation Accuracy')\n",
        "    ax.set_xlabel('Epochs')\n",
        "    ax.legend()\n",
        "    \n",
        "def plot_loss(history, ax, color='b'):\n",
        "    loss = history.history['loss']\n",
        "    val_loss = history.history['val_loss']\n",
        "    epochs = range(1, len(loss) + 1)\n",
        "    ax.plot(epochs, loss, 'bo', color=color, label='Train')\n",
        "    ax.plot(epochs, val_loss, 'b', color=color, label='Validation')\n",
        "    ax.set_title('Training & Validation Loss')\n",
        "    ax.set_xlabel('Epochs')\n",
        "    ax.legend()"
      ],
      "execution_count": 49,
      "outputs": []
    },
    {
      "cell_type": "markdown",
      "metadata": {
        "id": "f6NlkL-uDpc9"
      },
      "source": [
        "## Softmax\n",
        "* Activation function that squashes the output between 0 and 1\n",
        "* Designed to maximize the most likely class\n",
        "* Provides an interpretable probability of being a class\n",
        "\n",
        "![](https://lh6.googleusercontent.com/3vcfJ5hJhsMZAMFIbQOEycfVW1t6rh1CXt62DeMk8RPPXVzV4vCcURNm_z_F7618uAeSHT7qT7wE_UiK5Ic0b-Eeuunn6iTGeHWbpAaUAP6-G2ePubeGWCb4_TmSapeaimZqvuUs)"
      ]
    },
    {
      "cell_type": "markdown",
      "metadata": {
        "id": "VTvzLF46THPO"
      },
      "source": [
        "## Logits -> Softmax"
      ]
    },
    {
      "cell_type": "code",
      "metadata": {
        "colab": {
          "base_uri": "https://localhost:8080/"
        },
        "id": "MWoshIABTLdR",
        "outputId": "edddb714-ffc6-41e1-8124-6d3bbe50bb38"
      },
      "source": [
        "z = [-3, 2, 5, 1]\n",
        "s = np.exp(z) / np.sum(np.exp(z))\n",
        "for val, soft in zip(z, s):\n",
        "  print(f'{val}\\t{soft:.3f}')"
      ],
      "execution_count": 84,
      "outputs": [
        {
          "output_type": "stream",
          "text": [
            "-3\t0.000\n",
            "2\t0.047\n",
            "5\t0.936\n",
            "1\t0.017\n"
          ],
          "name": "stdout"
        }
      ]
    },
    {
      "cell_type": "markdown",
      "metadata": {
        "id": "EBG2-90BDupA"
      },
      "source": [
        "## Categorical CrossEntropy\n",
        "* Used as a loss function for multi-class classification\n",
        "* Often paired with softmax activation\n",
        "\n",
        "![](https://miro.medium.com/max/1122/1*wcTVsYh3d4IQnYcUGdu66Q@2x.png)"
      ]
    },
    {
      "cell_type": "markdown",
      "metadata": {
        "id": "ONS2ONAFT29g"
      },
      "source": [
        "## Softmax -> Loss"
      ]
    },
    {
      "cell_type": "code",
      "metadata": {
        "colab": {
          "base_uri": "https://localhost:8080/"
        },
        "id": "0S7b3XwbUBxP",
        "outputId": "61ce0c5f-f9df-4f2a-b0b1-d6369d7c6027"
      },
      "source": [
        "pred = s\n",
        "act  = [0, 1, 0, 0]\n",
        "\n",
        "loss = - np.sum(act * np.log(pred)) / len(act)\n",
        "print(f'Loss {loss:.3f}')"
      ],
      "execution_count": 117,
      "outputs": [
        {
          "output_type": "stream",
          "text": [
            "Loss 0.767\n"
          ],
          "name": "stdout"
        }
      ]
    },
    {
      "cell_type": "code",
      "metadata": {
        "colab": {
          "base_uri": "https://localhost:8080/"
        },
        "id": "lXjjPCIgU4Ct",
        "outputId": "8cf7ad1c-4100-4a78-8792-7d9d027d6d10"
      },
      "source": [
        "pred = s\n",
        "act  = [0, 0, 1, 0]\n",
        "\n",
        "loss = - np.sum(act * np.log(pred)) / len(act)\n",
        "print(f'Loss {loss:.3f}')"
      ],
      "execution_count": 116,
      "outputs": [
        {
          "output_type": "stream",
          "text": [
            "Loss 0.017\n"
          ],
          "name": "stdout"
        }
      ]
    },
    {
      "cell_type": "markdown",
      "metadata": {
        "id": "CVXPxb0qVW9X"
      },
      "source": [
        "![](https://encrypted-tbn0.gstatic.com/images?q=tbn:ANd9GcTwe_aIg3_aqanrEIb66lMQNS92vHcYaV5WuoyztOFuLWUMQ6dUhkrnzeehNbb8Hh8dhxY&usqp=CAU)"
      ]
    },
    {
      "cell_type": "markdown",
      "metadata": {
        "id": "rpj0tk4aDyCi"
      },
      "source": [
        "# Shallow Network"
      ]
    },
    {
      "cell_type": "code",
      "metadata": {
        "id": "PydThe-ID4fN"
      },
      "source": [
        "model = Sequential()\n",
        "model.add(Dense(64, activation='sigmoid', input_shape=(784, )))\n",
        "model.add(Dense(10, activation='softmax'))"
      ],
      "execution_count": 20,
      "outputs": []
    },
    {
      "cell_type": "code",
      "metadata": {
        "colab": {
          "base_uri": "https://localhost:8080/"
        },
        "id": "ExiE4dVFD-nm",
        "outputId": "15a064f4-79a3-4329-a2e3-03af51a36e85"
      },
      "source": [
        "model.summary()"
      ],
      "execution_count": 21,
      "outputs": [
        {
          "output_type": "stream",
          "text": [
            "Model: \"sequential\"\n",
            "_________________________________________________________________\n",
            "Layer (type)                 Output Shape              Param #   \n",
            "=================================================================\n",
            "dense (Dense)                (None, 64)                50240     \n",
            "_________________________________________________________________\n",
            "dense_1 (Dense)              (None, 10)                650       \n",
            "=================================================================\n",
            "Total params: 50,890\n",
            "Trainable params: 50,890\n",
            "Non-trainable params: 0\n",
            "_________________________________________________________________\n"
          ],
          "name": "stdout"
        }
      ]
    },
    {
      "cell_type": "code",
      "metadata": {
        "colab": {
          "base_uri": "https://localhost:8080/",
          "height": 312
        },
        "id": "mLXh9G8DEPdK",
        "outputId": "3adf13a8-61ba-4a23-ecdb-35f6d4c57e1f"
      },
      "source": [
        "keras.utils.plot_model(model, show_shapes=True)"
      ],
      "execution_count": 25,
      "outputs": [
        {
          "output_type": "execute_result",
          "data": {
            "image/png": "[encoded data removed]",
            "text/plain": [
              "<IPython.core.display.Image object>"
            ]
          },
          "metadata": {
            "tags": []
          },
          "execution_count": 25
        }
      ]
    },
    {
      "cell_type": "code",
      "metadata": {
        "id": "hn1gtO2DEBj3"
      },
      "source": [
        "model.compile(optimizer='SGD', loss='categorical_crossentropy', metrics=['accuracy'])"
      ],
      "execution_count": 26,
      "outputs": []
    },
    {
      "cell_type": "code",
      "metadata": {
        "colab": {
          "base_uri": "https://localhost:8080/"
        },
        "id": "-mpBmc2kEDgK",
        "outputId": "09d022ac-b29d-4ffa-cb64-996607f6d161"
      },
      "source": [
        "history_shallow = model.fit(X_train, y_train, validation_split=0.1, epochs=epochs, batch_size=batch_size)"
      ],
      "execution_count": 27,
      "outputs": [
        {
          "output_type": "stream",
          "text": [
            "Epoch 1/100\n",
            "844/844 [==============================] - 3s 2ms/step - loss: 1.8843 - accuracy: 0.5928 - val_loss: 1.4696 - val_accuracy: 0.7862\n",
            "Epoch 2/100\n",
            "844/844 [==============================] - 2s 3ms/step - loss: 1.2454 - accuracy: 0.7822 - val_loss: 0.9799 - val_accuracy: 0.8470\n",
            "Epoch 3/100\n",
            "844/844 [==============================] - 3s 4ms/step - loss: 0.9073 - accuracy: 0.8252 - val_loss: 0.7355 - val_accuracy: 0.8735\n",
            "Epoch 4/100\n",
            "844/844 [==============================] - 4s 5ms/step - loss: 0.7332 - accuracy: 0.8455 - val_loss: 0.6025 - val_accuracy: 0.8873\n",
            "Epoch 5/100\n",
            "844/844 [==============================] - 4s 5ms/step - loss: 0.6316 - accuracy: 0.8582 - val_loss: 0.5213 - val_accuracy: 0.8937\n",
            "Epoch 6/100\n",
            "844/844 [==============================] - 3s 4ms/step - loss: 0.5657 - accuracy: 0.8680 - val_loss: 0.4670 - val_accuracy: 0.8980\n",
            "Epoch 7/100\n",
            "844/844 [==============================] - 4s 4ms/step - loss: 0.5193 - accuracy: 0.8745 - val_loss: 0.4284 - val_accuracy: 0.9027\n",
            "Epoch 8/100\n",
            "844/844 [==============================] - 4s 4ms/step - loss: 0.4850 - accuracy: 0.8792 - val_loss: 0.3997 - val_accuracy: 0.9053\n",
            "Epoch 9/100\n",
            "844/844 [==============================] - 4s 5ms/step - loss: 0.4585 - accuracy: 0.8835 - val_loss: 0.3772 - val_accuracy: 0.9087\n",
            "Epoch 10/100\n",
            "844/844 [==============================] - 4s 4ms/step - loss: 0.4374 - accuracy: 0.8869 - val_loss: 0.3595 - val_accuracy: 0.9100\n",
            "Epoch 11/100\n",
            "844/844 [==============================] - 3s 4ms/step - loss: 0.4201 - accuracy: 0.8901 - val_loss: 0.3451 - val_accuracy: 0.9142\n",
            "Epoch 12/100\n",
            "844/844 [==============================] - 3s 4ms/step - loss: 0.4057 - accuracy: 0.8928 - val_loss: 0.3330 - val_accuracy: 0.9162\n",
            "Epoch 13/100\n",
            "844/844 [==============================] - 3s 4ms/step - loss: 0.3935 - accuracy: 0.8953 - val_loss: 0.3225 - val_accuracy: 0.9173\n",
            "Epoch 14/100\n",
            "844/844 [==============================] - 3s 4ms/step - loss: 0.3829 - accuracy: 0.8968 - val_loss: 0.3140 - val_accuracy: 0.9185\n",
            "Epoch 15/100\n",
            "844/844 [==============================] - 3s 4ms/step - loss: 0.3736 - accuracy: 0.8985 - val_loss: 0.3061 - val_accuracy: 0.9202\n",
            "Epoch 16/100\n",
            "844/844 [==============================] - 3s 4ms/step - loss: 0.3654 - accuracy: 0.8995 - val_loss: 0.2996 - val_accuracy: 0.9208\n",
            "Epoch 17/100\n",
            "844/844 [==============================] - 3s 3ms/step - loss: 0.3581 - accuracy: 0.9015 - val_loss: 0.2938 - val_accuracy: 0.9217\n",
            "Epoch 18/100\n",
            "844/844 [==============================] - 3s 3ms/step - loss: 0.3514 - accuracy: 0.9030 - val_loss: 0.2879 - val_accuracy: 0.9228\n",
            "Epoch 19/100\n",
            "844/844 [==============================] - 4s 5ms/step - loss: 0.3455 - accuracy: 0.9040 - val_loss: 0.2830 - val_accuracy: 0.9240\n",
            "Epoch 20/100\n",
            "844/844 [==============================] - 3s 4ms/step - loss: 0.3399 - accuracy: 0.9054 - val_loss: 0.2784 - val_accuracy: 0.9237\n",
            "Epoch 21/100\n",
            "844/844 [==============================] - 3s 4ms/step - loss: 0.3348 - accuracy: 0.9063 - val_loss: 0.2741 - val_accuracy: 0.9242\n",
            "Epoch 22/100\n",
            "844/844 [==============================] - 4s 5ms/step - loss: 0.3301 - accuracy: 0.9074 - val_loss: 0.2705 - val_accuracy: 0.9253\n",
            "Epoch 23/100\n",
            "844/844 [==============================] - 4s 4ms/step - loss: 0.3257 - accuracy: 0.9085 - val_loss: 0.2669 - val_accuracy: 0.9253\n",
            "Epoch 24/100\n",
            "844/844 [==============================] - 3s 3ms/step - loss: 0.3215 - accuracy: 0.9101 - val_loss: 0.2635 - val_accuracy: 0.9265\n",
            "Epoch 25/100\n",
            "844/844 [==============================] - 3s 4ms/step - loss: 0.3177 - accuracy: 0.9102 - val_loss: 0.2603 - val_accuracy: 0.9267\n",
            "Epoch 26/100\n",
            "844/844 [==============================] - 3s 4ms/step - loss: 0.3140 - accuracy: 0.9111 - val_loss: 0.2578 - val_accuracy: 0.9280\n",
            "Epoch 27/100\n",
            "844/844 [==============================] - 3s 4ms/step - loss: 0.3106 - accuracy: 0.9120 - val_loss: 0.2548 - val_accuracy: 0.9283\n",
            "Epoch 28/100\n",
            "844/844 [==============================] - 2s 2ms/step - loss: 0.3073 - accuracy: 0.9131 - val_loss: 0.2520 - val_accuracy: 0.9287\n",
            "Epoch 29/100\n",
            "844/844 [==============================] - 2s 3ms/step - loss: 0.3042 - accuracy: 0.9135 - val_loss: 0.2496 - val_accuracy: 0.9295\n",
            "Epoch 30/100\n",
            "844/844 [==============================] - 2s 3ms/step - loss: 0.3011 - accuracy: 0.9143 - val_loss: 0.2472 - val_accuracy: 0.9297\n",
            "Epoch 31/100\n",
            "844/844 [==============================] - 3s 3ms/step - loss: 0.2983 - accuracy: 0.9153 - val_loss: 0.2449 - val_accuracy: 0.9308\n",
            "Epoch 32/100\n",
            "844/844 [==============================] - 3s 4ms/step - loss: 0.2954 - accuracy: 0.9160 - val_loss: 0.2427 - val_accuracy: 0.9312\n",
            "Epoch 33/100\n",
            "844/844 [==============================] - 3s 4ms/step - loss: 0.2928 - accuracy: 0.9169 - val_loss: 0.2404 - val_accuracy: 0.9320\n",
            "Epoch 34/100\n",
            "844/844 [==============================] - 3s 3ms/step - loss: 0.2903 - accuracy: 0.9171 - val_loss: 0.2384 - val_accuracy: 0.9323\n",
            "Epoch 35/100\n",
            "844/844 [==============================] - 3s 4ms/step - loss: 0.2877 - accuracy: 0.9180 - val_loss: 0.2367 - val_accuracy: 0.9333\n",
            "Epoch 36/100\n",
            "844/844 [==============================] - 3s 4ms/step - loss: 0.2853 - accuracy: 0.9187 - val_loss: 0.2344 - val_accuracy: 0.9327\n",
            "Epoch 37/100\n",
            "844/844 [==============================] - 3s 4ms/step - loss: 0.2829 - accuracy: 0.9191 - val_loss: 0.2323 - val_accuracy: 0.9335\n",
            "Epoch 38/100\n",
            "844/844 [==============================] - 3s 4ms/step - loss: 0.2806 - accuracy: 0.9202 - val_loss: 0.2308 - val_accuracy: 0.9338\n",
            "Epoch 39/100\n",
            "844/844 [==============================] - 3s 3ms/step - loss: 0.2784 - accuracy: 0.9206 - val_loss: 0.2290 - val_accuracy: 0.9347\n",
            "Epoch 40/100\n",
            "844/844 [==============================] - 3s 4ms/step - loss: 0.2762 - accuracy: 0.9214 - val_loss: 0.2277 - val_accuracy: 0.9360\n",
            "Epoch 41/100\n",
            "844/844 [==============================] - 3s 3ms/step - loss: 0.2741 - accuracy: 0.9218 - val_loss: 0.2256 - val_accuracy: 0.9350\n",
            "Epoch 42/100\n",
            "844/844 [==============================] - 2s 2ms/step - loss: 0.2720 - accuracy: 0.9223 - val_loss: 0.2236 - val_accuracy: 0.9365\n",
            "Epoch 43/100\n",
            "844/844 [==============================] - 4s 4ms/step - loss: 0.2700 - accuracy: 0.9225 - val_loss: 0.2222 - val_accuracy: 0.9365\n",
            "Epoch 44/100\n",
            "844/844 [==============================] - 4s 4ms/step - loss: 0.2680 - accuracy: 0.9235 - val_loss: 0.2206 - val_accuracy: 0.9370\n",
            "Epoch 45/100\n",
            "844/844 [==============================] - 3s 3ms/step - loss: 0.2660 - accuracy: 0.9240 - val_loss: 0.2190 - val_accuracy: 0.9370\n",
            "Epoch 46/100\n",
            "844/844 [==============================] - 3s 3ms/step - loss: 0.2641 - accuracy: 0.9241 - val_loss: 0.2173 - val_accuracy: 0.9387\n",
            "Epoch 47/100\n",
            "844/844 [==============================] - 2s 2ms/step - loss: 0.2622 - accuracy: 0.9250 - val_loss: 0.2158 - val_accuracy: 0.9378\n",
            "Epoch 48/100\n",
            "844/844 [==============================] - 2s 2ms/step - loss: 0.2604 - accuracy: 0.9255 - val_loss: 0.2145 - val_accuracy: 0.9398\n",
            "Epoch 49/100\n",
            "844/844 [==============================] - 2s 2ms/step - loss: 0.2586 - accuracy: 0.9263 - val_loss: 0.2130 - val_accuracy: 0.9395\n",
            "Epoch 50/100\n",
            "844/844 [==============================] - 2s 2ms/step - loss: 0.2568 - accuracy: 0.9267 - val_loss: 0.2115 - val_accuracy: 0.9395\n",
            "Epoch 51/100\n",
            "844/844 [==============================] - 2s 2ms/step - loss: 0.2550 - accuracy: 0.9270 - val_loss: 0.2101 - val_accuracy: 0.9420\n",
            "Epoch 52/100\n",
            "844/844 [==============================] - 2s 2ms/step - loss: 0.2533 - accuracy: 0.9277 - val_loss: 0.2088 - val_accuracy: 0.9407\n",
            "Epoch 53/100\n",
            "844/844 [==============================] - 2s 2ms/step - loss: 0.2516 - accuracy: 0.9281 - val_loss: 0.2073 - val_accuracy: 0.9420\n",
            "Epoch 54/100\n",
            "844/844 [==============================] - 2s 2ms/step - loss: 0.2500 - accuracy: 0.9286 - val_loss: 0.2061 - val_accuracy: 0.9423\n",
            "Epoch 55/100\n",
            "844/844 [==============================] - 2s 2ms/step - loss: 0.2484 - accuracy: 0.9293 - val_loss: 0.2049 - val_accuracy: 0.9425\n",
            "Epoch 56/100\n",
            "844/844 [==============================] - 2s 2ms/step - loss: 0.2467 - accuracy: 0.9296 - val_loss: 0.2034 - val_accuracy: 0.9433\n",
            "Epoch 57/100\n",
            "844/844 [==============================] - 2s 2ms/step - loss: 0.2452 - accuracy: 0.9304 - val_loss: 0.2020 - val_accuracy: 0.9443\n",
            "Epoch 58/100\n",
            "844/844 [==============================] - 2s 2ms/step - loss: 0.2436 - accuracy: 0.9305 - val_loss: 0.2009 - val_accuracy: 0.9448\n",
            "Epoch 59/100\n",
            "844/844 [==============================] - 2s 2ms/step - loss: 0.2421 - accuracy: 0.9312 - val_loss: 0.1996 - val_accuracy: 0.9450\n",
            "Epoch 60/100\n",
            "844/844 [==============================] - 2s 2ms/step - loss: 0.2405 - accuracy: 0.9317 - val_loss: 0.1985 - val_accuracy: 0.9448\n",
            "Epoch 61/100\n",
            "844/844 [==============================] - 2s 2ms/step - loss: 0.2391 - accuracy: 0.9320 - val_loss: 0.1971 - val_accuracy: 0.9463\n",
            "Epoch 62/100\n",
            "844/844 [==============================] - 2s 2ms/step - loss: 0.2376 - accuracy: 0.9325 - val_loss: 0.1958 - val_accuracy: 0.9465\n",
            "Epoch 63/100\n",
            "844/844 [==============================] - 2s 2ms/step - loss: 0.2361 - accuracy: 0.9326 - val_loss: 0.1947 - val_accuracy: 0.9462\n",
            "Epoch 64/100\n",
            "844/844 [==============================] - 2s 2ms/step - loss: 0.2347 - accuracy: 0.9334 - val_loss: 0.1935 - val_accuracy: 0.9470\n",
            "Epoch 65/100\n",
            "844/844 [==============================] - 2s 2ms/step - loss: 0.2332 - accuracy: 0.9338 - val_loss: 0.1923 - val_accuracy: 0.9465\n",
            "Epoch 66/100\n",
            "844/844 [==============================] - 2s 2ms/step - loss: 0.2319 - accuracy: 0.9340 - val_loss: 0.1913 - val_accuracy: 0.9473\n",
            "Epoch 67/100\n",
            "844/844 [==============================] - 2s 2ms/step - loss: 0.2305 - accuracy: 0.9347 - val_loss: 0.1903 - val_accuracy: 0.9473\n",
            "Epoch 68/100\n",
            "844/844 [==============================] - 2s 2ms/step - loss: 0.2291 - accuracy: 0.9349 - val_loss: 0.1893 - val_accuracy: 0.9482\n",
            "Epoch 69/100\n",
            "844/844 [==============================] - 2s 2ms/step - loss: 0.2278 - accuracy: 0.9353 - val_loss: 0.1880 - val_accuracy: 0.9477\n",
            "Epoch 70/100\n",
            "844/844 [==============================] - 2s 2ms/step - loss: 0.2265 - accuracy: 0.9355 - val_loss: 0.1876 - val_accuracy: 0.9487\n",
            "Epoch 71/100\n",
            "844/844 [==============================] - 2s 2ms/step - loss: 0.2252 - accuracy: 0.9357 - val_loss: 0.1863 - val_accuracy: 0.9487\n",
            "Epoch 72/100\n",
            "844/844 [==============================] - 2s 2ms/step - loss: 0.2239 - accuracy: 0.9361 - val_loss: 0.1852 - val_accuracy: 0.9492\n",
            "Epoch 73/100\n",
            "844/844 [==============================] - 2s 2ms/step - loss: 0.2226 - accuracy: 0.9369 - val_loss: 0.1839 - val_accuracy: 0.9497\n",
            "Epoch 74/100\n",
            "844/844 [==============================] - 2s 2ms/step - loss: 0.2214 - accuracy: 0.9370 - val_loss: 0.1832 - val_accuracy: 0.9502\n",
            "Epoch 75/100\n",
            "844/844 [==============================] - 2s 2ms/step - loss: 0.2202 - accuracy: 0.9376 - val_loss: 0.1823 - val_accuracy: 0.9500\n",
            "Epoch 76/100\n",
            "844/844 [==============================] - 2s 2ms/step - loss: 0.2190 - accuracy: 0.9377 - val_loss: 0.1815 - val_accuracy: 0.9498\n",
            "Epoch 77/100\n",
            "844/844 [==============================] - 2s 2ms/step - loss: 0.2178 - accuracy: 0.9379 - val_loss: 0.1805 - val_accuracy: 0.9510\n",
            "Epoch 78/100\n",
            "844/844 [==============================] - 2s 2ms/step - loss: 0.2166 - accuracy: 0.9386 - val_loss: 0.1794 - val_accuracy: 0.9508\n",
            "Epoch 79/100\n",
            "844/844 [==============================] - 2s 2ms/step - loss: 0.2154 - accuracy: 0.9390 - val_loss: 0.1784 - val_accuracy: 0.9508\n",
            "Epoch 80/100\n",
            "844/844 [==============================] - 2s 2ms/step - loss: 0.2143 - accuracy: 0.9390 - val_loss: 0.1775 - val_accuracy: 0.9517\n",
            "Epoch 81/100\n",
            "844/844 [==============================] - 2s 2ms/step - loss: 0.2131 - accuracy: 0.9396 - val_loss: 0.1765 - val_accuracy: 0.9518\n",
            "Epoch 82/100\n",
            "844/844 [==============================] - 2s 2ms/step - loss: 0.2120 - accuracy: 0.9400 - val_loss: 0.1757 - val_accuracy: 0.9523\n",
            "Epoch 83/100\n",
            "844/844 [==============================] - 2s 2ms/step - loss: 0.2108 - accuracy: 0.9401 - val_loss: 0.1752 - val_accuracy: 0.9522\n",
            "Epoch 84/100\n",
            "844/844 [==============================] - 2s 2ms/step - loss: 0.2098 - accuracy: 0.9404 - val_loss: 0.1739 - val_accuracy: 0.9535\n",
            "Epoch 85/100\n",
            "844/844 [==============================] - 2s 2ms/step - loss: 0.2087 - accuracy: 0.9408 - val_loss: 0.1732 - val_accuracy: 0.9530\n",
            "Epoch 86/100\n",
            "844/844 [==============================] - 2s 2ms/step - loss: 0.2077 - accuracy: 0.9409 - val_loss: 0.1723 - val_accuracy: 0.9535\n",
            "Epoch 87/100\n",
            "844/844 [==============================] - 2s 2ms/step - loss: 0.2066 - accuracy: 0.9416 - val_loss: 0.1715 - val_accuracy: 0.9535\n",
            "Epoch 88/100\n",
            "844/844 [==============================] - 2s 2ms/step - loss: 0.2055 - accuracy: 0.9416 - val_loss: 0.1710 - val_accuracy: 0.9537\n",
            "Epoch 89/100\n",
            "844/844 [==============================] - 2s 2ms/step - loss: 0.2045 - accuracy: 0.9420 - val_loss: 0.1698 - val_accuracy: 0.9543\n",
            "Epoch 90/100\n",
            "844/844 [==============================] - 2s 2ms/step - loss: 0.2034 - accuracy: 0.9421 - val_loss: 0.1693 - val_accuracy: 0.9543\n",
            "Epoch 91/100\n",
            "844/844 [==============================] - 2s 2ms/step - loss: 0.2024 - accuracy: 0.9424 - val_loss: 0.1685 - val_accuracy: 0.9540\n",
            "Epoch 92/100\n",
            "844/844 [==============================] - 2s 2ms/step - loss: 0.2014 - accuracy: 0.9428 - val_loss: 0.1677 - val_accuracy: 0.9545\n",
            "Epoch 93/100\n",
            "844/844 [==============================] - 2s 2ms/step - loss: 0.2005 - accuracy: 0.9429 - val_loss: 0.1670 - val_accuracy: 0.9548\n",
            "Epoch 94/100\n",
            "844/844 [==============================] - 2s 2ms/step - loss: 0.1994 - accuracy: 0.9433 - val_loss: 0.1661 - val_accuracy: 0.9553\n",
            "Epoch 95/100\n",
            "844/844 [==============================] - 2s 2ms/step - loss: 0.1985 - accuracy: 0.9434 - val_loss: 0.1655 - val_accuracy: 0.9553\n",
            "Epoch 96/100\n",
            "844/844 [==============================] - 2s 2ms/step - loss: 0.1975 - accuracy: 0.9436 - val_loss: 0.1648 - val_accuracy: 0.9560\n",
            "Epoch 97/100\n",
            "844/844 [==============================] - 2s 2ms/step - loss: 0.1966 - accuracy: 0.9440 - val_loss: 0.1641 - val_accuracy: 0.9560\n",
            "Epoch 98/100\n",
            "844/844 [==============================] - 2s 2ms/step - loss: 0.1956 - accuracy: 0.9443 - val_loss: 0.1634 - val_accuracy: 0.9565\n",
            "Epoch 99/100\n",
            "844/844 [==============================] - 2s 2ms/step - loss: 0.1947 - accuracy: 0.9445 - val_loss: 0.1627 - val_accuracy: 0.9563\n",
            "Epoch 100/100\n",
            "844/844 [==============================] - 2s 2ms/step - loss: 0.1938 - accuracy: 0.9449 - val_loss: 0.1620 - val_accuracy: 0.9570\n"
          ],
          "name": "stdout"
        }
      ]
    },
    {
      "cell_type": "code",
      "metadata": {
        "colab": {
          "base_uri": "https://localhost:8080/"
        },
        "id": "Y8XPBWZyEHNp",
        "outputId": "c16987e8-eaa3-4478-ebe9-538ce8f3d37e"
      },
      "source": [
        "loss_shallow, accuracy_shallow = model.evaluate(X_test, y_test)\n",
        "results_df.loc['Shallow'] = [loss_shallow, accuracy_shallow]\n",
        "print(f'Test Loss {loss_shallow}, Accuracy {accuracy_shallow}')"
      ],
      "execution_count": 28,
      "outputs": [
        {
          "output_type": "stream",
          "text": [
            "313/313 [==============================] - 0s 1ms/step - loss: 0.1934 - accuracy: 0.9444\n",
            "Test Loss 0.19335225224494934, Accuracy 0.9444000124931335\n"
          ],
          "name": "stdout"
        }
      ]
    },
    {
      "cell_type": "code",
      "metadata": {
        "colab": {
          "base_uri": "https://localhost:8080/",
          "height": 404
        },
        "id": "J8D-69aFEJEp",
        "outputId": "e9a36881-6e34-4768-a911-844a8b9ad125"
      },
      "source": [
        "fig, ax = plt.subplots(nrows=1, ncols=2, figsize=(10,6))\n",
        "plot_accuracy(history_shallow, ax[0])\n",
        "plot_loss(history_shallow, ax[1])"
      ],
      "execution_count": 50,
      "outputs": [
        {
          "output_type": "display_data",
          "data": {
            "image/png": "[encoded data removed]",
            "text/plain": [
              "<Figure size 720x432 with 2 Axes>"
            ]
          },
          "metadata": {
            "tags": [],
            "needs_background": "light"
          }
        }
      ]
    },
    {
      "cell_type": "markdown",
      "metadata": {
        "id": "o5o6q_zpHryP"
      },
      "source": [
        "# Intermediate Network"
      ]
    },
    {
      "cell_type": "code",
      "metadata": {
        "id": "owJOvO6xJDlz"
      },
      "source": [
        "model = Sequential()\n",
        "model.add(Dense(64, activation='sigmoid', input_shape=(784, )))\n",
        "model.add(Dense(64, activation='sigmoid'))\n",
        "model.add(Dense(10, activation='softmax'))"
      ],
      "execution_count": 51,
      "outputs": []
    },
    {
      "cell_type": "code",
      "metadata": {
        "colab": {
          "base_uri": "https://localhost:8080/"
        },
        "id": "akSl0i4GJDof",
        "outputId": "936bd4f6-f722-4893-a59a-89a1f942b779"
      },
      "source": [
        "model.summary()"
      ],
      "execution_count": 52,
      "outputs": [
        {
          "output_type": "stream",
          "text": [
            "Model: \"sequential_1\"\n",
            "_________________________________________________________________\n",
            "Layer (type)                 Output Shape              Param #   \n",
            "=================================================================\n",
            "dense_2 (Dense)              (None, 64)                50240     \n",
            "_________________________________________________________________\n",
            "dense_3 (Dense)              (None, 64)                4160      \n",
            "_________________________________________________________________\n",
            "dense_4 (Dense)              (None, 10)                650       \n",
            "=================================================================\n",
            "Total params: 55,050\n",
            "Trainable params: 55,050\n",
            "Non-trainable params: 0\n",
            "_________________________________________________________________\n"
          ],
          "name": "stdout"
        }
      ]
    },
    {
      "cell_type": "code",
      "metadata": {
        "colab": {
          "base_uri": "https://localhost:8080/",
          "height": 422
        },
        "id": "hetZ6F8XJYML",
        "outputId": "617d089b-5828-4eef-9753-fd7e86aa9fe6"
      },
      "source": [
        "keras.utils.plot_model(model, show_shapes=True)"
      ],
      "execution_count": 53,
      "outputs": [
        {
          "output_type": "execute_result",
          "data": {
            "image/png": "[encoded data removed]",
            "text/plain": [
              "<IPython.core.display.Image object>"
            ]
          },
          "metadata": {
            "tags": []
          },
          "execution_count": 53
        }
      ]
    },
    {
      "cell_type": "code",
      "metadata": {
        "id": "y5WesTwTJDq6"
      },
      "source": [
        "model.compile(optimizer='SGD', loss='categorical_crossentropy', metrics=['accuracy'])"
      ],
      "execution_count": 54,
      "outputs": []
    },
    {
      "cell_type": "code",
      "metadata": {
        "colab": {
          "base_uri": "https://localhost:8080/"
        },
        "id": "WEiy2pvHJDtz",
        "outputId": "7fe57d77-51ba-4fa2-a428-d3484a661e9b"
      },
      "source": [
        "history_intermediate = model.fit(X_train, y_train, validation_split=0.1, epochs=epochs, batch_size=batch_size)"
      ],
      "execution_count": 55,
      "outputs": [
        {
          "output_type": "stream",
          "text": [
            "Epoch 1/100\n",
            "844/844 [==============================] - 3s 3ms/step - loss: 2.2687 - accuracy: 0.2120 - val_loss: 2.2196 - val_accuracy: 0.4267\n",
            "Epoch 2/100\n",
            "844/844 [==============================] - 2s 2ms/step - loss: 2.1686 - accuracy: 0.4593 - val_loss: 2.0933 - val_accuracy: 0.5832\n",
            "Epoch 3/100\n",
            "844/844 [==============================] - 2s 2ms/step - loss: 2.0000 - accuracy: 0.5601 - val_loss: 1.8632 - val_accuracy: 0.5643\n",
            "Epoch 4/100\n",
            "844/844 [==============================] - 2s 3ms/step - loss: 1.7316 - accuracy: 0.6033 - val_loss: 1.5577 - val_accuracy: 0.6340\n",
            "Epoch 5/100\n",
            "844/844 [==============================] - 3s 4ms/step - loss: 1.4492 - accuracy: 0.6526 - val_loss: 1.2916 - val_accuracy: 0.7203\n",
            "Epoch 6/100\n",
            "844/844 [==============================] - 3s 3ms/step - loss: 1.2221 - accuracy: 0.7062 - val_loss: 1.0829 - val_accuracy: 0.7505\n",
            "Epoch 7/100\n",
            "844/844 [==============================] - 2s 2ms/step - loss: 1.0451 - accuracy: 0.7434 - val_loss: 0.9191 - val_accuracy: 0.8055\n",
            "Epoch 8/100\n",
            "844/844 [==============================] - 2s 2ms/step - loss: 0.9070 - accuracy: 0.7769 - val_loss: 0.7922 - val_accuracy: 0.8267\n",
            "Epoch 9/100\n",
            "844/844 [==============================] - 2s 3ms/step - loss: 0.8005 - accuracy: 0.8004 - val_loss: 0.6958 - val_accuracy: 0.8473\n",
            "Epoch 10/100\n",
            "844/844 [==============================] - 3s 4ms/step - loss: 0.7183 - accuracy: 0.8202 - val_loss: 0.6206 - val_accuracy: 0.8615\n",
            "Epoch 11/100\n",
            "844/844 [==============================] - 3s 4ms/step - loss: 0.6543 - accuracy: 0.8330 - val_loss: 0.5630 - val_accuracy: 0.8720\n",
            "Epoch 12/100\n",
            "844/844 [==============================] - 3s 4ms/step - loss: 0.6037 - accuracy: 0.8447 - val_loss: 0.5170 - val_accuracy: 0.8803\n",
            "Epoch 13/100\n",
            "844/844 [==============================] - 4s 4ms/step - loss: 0.5629 - accuracy: 0.8538 - val_loss: 0.4810 - val_accuracy: 0.8882\n",
            "Epoch 14/100\n",
            "844/844 [==============================] - 3s 4ms/step - loss: 0.5295 - accuracy: 0.8625 - val_loss: 0.4505 - val_accuracy: 0.8912\n",
            "Epoch 15/100\n",
            "844/844 [==============================] - 3s 4ms/step - loss: 0.5018 - accuracy: 0.8686 - val_loss: 0.4259 - val_accuracy: 0.8953\n",
            "Epoch 16/100\n",
            "844/844 [==============================] - 3s 4ms/step - loss: 0.4784 - accuracy: 0.8742 - val_loss: 0.4052 - val_accuracy: 0.8983\n",
            "Epoch 17/100\n",
            "844/844 [==============================] - 4s 5ms/step - loss: 0.4586 - accuracy: 0.8783 - val_loss: 0.3873 - val_accuracy: 0.9035\n",
            "Epoch 18/100\n",
            "844/844 [==============================] - 3s 3ms/step - loss: 0.4414 - accuracy: 0.8816 - val_loss: 0.3724 - val_accuracy: 0.9077\n",
            "Epoch 19/100\n",
            "844/844 [==============================] - 3s 4ms/step - loss: 0.4265 - accuracy: 0.8855 - val_loss: 0.3601 - val_accuracy: 0.9095\n",
            "Epoch 20/100\n",
            "844/844 [==============================] - 3s 4ms/step - loss: 0.4137 - accuracy: 0.8876 - val_loss: 0.3482 - val_accuracy: 0.9122\n",
            "Epoch 21/100\n",
            "844/844 [==============================] - 2s 2ms/step - loss: 0.4022 - accuracy: 0.8899 - val_loss: 0.3382 - val_accuracy: 0.9143\n",
            "Epoch 22/100\n",
            "844/844 [==============================] - 2s 2ms/step - loss: 0.3921 - accuracy: 0.8919 - val_loss: 0.3294 - val_accuracy: 0.9147\n",
            "Epoch 23/100\n",
            "844/844 [==============================] - 2s 2ms/step - loss: 0.3829 - accuracy: 0.8941 - val_loss: 0.3218 - val_accuracy: 0.9148\n",
            "Epoch 24/100\n",
            "844/844 [==============================] - 2s 3ms/step - loss: 0.3747 - accuracy: 0.8961 - val_loss: 0.3141 - val_accuracy: 0.9183\n",
            "Epoch 25/100\n",
            "844/844 [==============================] - 4s 4ms/step - loss: 0.3673 - accuracy: 0.8979 - val_loss: 0.3079 - val_accuracy: 0.9177\n",
            "Epoch 26/100\n",
            "844/844 [==============================] - 3s 3ms/step - loss: 0.3606 - accuracy: 0.8993 - val_loss: 0.3022 - val_accuracy: 0.9182\n",
            "Epoch 27/100\n",
            "844/844 [==============================] - 3s 4ms/step - loss: 0.3543 - accuracy: 0.9009 - val_loss: 0.2965 - val_accuracy: 0.9210\n",
            "Epoch 28/100\n",
            "844/844 [==============================] - 2s 3ms/step - loss: 0.3485 - accuracy: 0.9025 - val_loss: 0.2911 - val_accuracy: 0.9217\n",
            "Epoch 29/100\n",
            "844/844 [==============================] - 3s 4ms/step - loss: 0.3431 - accuracy: 0.9036 - val_loss: 0.2864 - val_accuracy: 0.9220\n",
            "Epoch 30/100\n",
            "844/844 [==============================] - 3s 4ms/step - loss: 0.3380 - accuracy: 0.9049 - val_loss: 0.2822 - val_accuracy: 0.9225\n",
            "Epoch 31/100\n",
            "844/844 [==============================] - 3s 4ms/step - loss: 0.3333 - accuracy: 0.9061 - val_loss: 0.2785 - val_accuracy: 0.9223\n",
            "Epoch 32/100\n",
            "844/844 [==============================] - 3s 4ms/step - loss: 0.3288 - accuracy: 0.9070 - val_loss: 0.2744 - val_accuracy: 0.9237\n",
            "Epoch 33/100\n",
            "844/844 [==============================] - 4s 4ms/step - loss: 0.3246 - accuracy: 0.9081 - val_loss: 0.2705 - val_accuracy: 0.9248\n",
            "Epoch 34/100\n",
            "844/844 [==============================] - 3s 4ms/step - loss: 0.3206 - accuracy: 0.9089 - val_loss: 0.2670 - val_accuracy: 0.9255\n",
            "Epoch 35/100\n",
            "844/844 [==============================] - 3s 4ms/step - loss: 0.3166 - accuracy: 0.9100 - val_loss: 0.2641 - val_accuracy: 0.9252\n",
            "Epoch 36/100\n",
            "844/844 [==============================] - 3s 3ms/step - loss: 0.3130 - accuracy: 0.9114 - val_loss: 0.2609 - val_accuracy: 0.9273\n",
            "Epoch 37/100\n",
            "844/844 [==============================] - 3s 3ms/step - loss: 0.3094 - accuracy: 0.9121 - val_loss: 0.2583 - val_accuracy: 0.9275\n",
            "Epoch 38/100\n",
            "844/844 [==============================] - 3s 3ms/step - loss: 0.3060 - accuracy: 0.9130 - val_loss: 0.2550 - val_accuracy: 0.9285\n",
            "Epoch 39/100\n",
            "844/844 [==============================] - 3s 4ms/step - loss: 0.3028 - accuracy: 0.9135 - val_loss: 0.2522 - val_accuracy: 0.9280\n",
            "Epoch 40/100\n",
            "844/844 [==============================] - 3s 4ms/step - loss: 0.2996 - accuracy: 0.9145 - val_loss: 0.2492 - val_accuracy: 0.9283\n",
            "Epoch 41/100\n",
            "844/844 [==============================] - 3s 3ms/step - loss: 0.2965 - accuracy: 0.9156 - val_loss: 0.2466 - val_accuracy: 0.9295\n",
            "Epoch 42/100\n",
            "844/844 [==============================] - 3s 4ms/step - loss: 0.2935 - accuracy: 0.9163 - val_loss: 0.2440 - val_accuracy: 0.9303\n",
            "Epoch 43/100\n",
            "844/844 [==============================] - 3s 4ms/step - loss: 0.2906 - accuracy: 0.9172 - val_loss: 0.2415 - val_accuracy: 0.9298\n",
            "Epoch 44/100\n",
            "844/844 [==============================] - 4s 4ms/step - loss: 0.2878 - accuracy: 0.9177 - val_loss: 0.2389 - val_accuracy: 0.9305\n",
            "Epoch 45/100\n",
            "844/844 [==============================] - 3s 4ms/step - loss: 0.2851 - accuracy: 0.9181 - val_loss: 0.2366 - val_accuracy: 0.9315\n",
            "Epoch 46/100\n",
            "844/844 [==============================] - 3s 4ms/step - loss: 0.2823 - accuracy: 0.9192 - val_loss: 0.2348 - val_accuracy: 0.9318\n",
            "Epoch 47/100\n",
            "844/844 [==============================] - 3s 4ms/step - loss: 0.2798 - accuracy: 0.9195 - val_loss: 0.2322 - val_accuracy: 0.9323\n",
            "Epoch 48/100\n",
            "844/844 [==============================] - 3s 4ms/step - loss: 0.2771 - accuracy: 0.9204 - val_loss: 0.2303 - val_accuracy: 0.9325\n",
            "Epoch 49/100\n",
            "844/844 [==============================] - 3s 4ms/step - loss: 0.2746 - accuracy: 0.9211 - val_loss: 0.2284 - val_accuracy: 0.9330\n",
            "Epoch 50/100\n",
            "844/844 [==============================] - 3s 3ms/step - loss: 0.2722 - accuracy: 0.9214 - val_loss: 0.2262 - val_accuracy: 0.9345\n",
            "Epoch 51/100\n",
            "844/844 [==============================] - 2s 2ms/step - loss: 0.2698 - accuracy: 0.9219 - val_loss: 0.2240 - val_accuracy: 0.9345\n",
            "Epoch 52/100\n",
            "844/844 [==============================] - 2s 2ms/step - loss: 0.2674 - accuracy: 0.9231 - val_loss: 0.2221 - val_accuracy: 0.9358\n",
            "Epoch 53/100\n",
            "844/844 [==============================] - 3s 3ms/step - loss: 0.2651 - accuracy: 0.9234 - val_loss: 0.2203 - val_accuracy: 0.9363\n",
            "Epoch 54/100\n",
            "844/844 [==============================] - 4s 4ms/step - loss: 0.2628 - accuracy: 0.9244 - val_loss: 0.2178 - val_accuracy: 0.9380\n",
            "Epoch 55/100\n",
            "844/844 [==============================] - 3s 4ms/step - loss: 0.2604 - accuracy: 0.9247 - val_loss: 0.2166 - val_accuracy: 0.9365\n",
            "Epoch 56/100\n",
            "844/844 [==============================] - 4s 5ms/step - loss: 0.2583 - accuracy: 0.9256 - val_loss: 0.2144 - val_accuracy: 0.9395\n",
            "Epoch 57/100\n",
            "844/844 [==============================] - 3s 4ms/step - loss: 0.2561 - accuracy: 0.9262 - val_loss: 0.2128 - val_accuracy: 0.9395\n",
            "Epoch 58/100\n",
            "844/844 [==============================] - 4s 4ms/step - loss: 0.2540 - accuracy: 0.9266 - val_loss: 0.2107 - val_accuracy: 0.9407\n",
            "Epoch 59/100\n",
            "844/844 [==============================] - 3s 4ms/step - loss: 0.2519 - accuracy: 0.9273 - val_loss: 0.2089 - val_accuracy: 0.9415\n",
            "Epoch 60/100\n",
            "844/844 [==============================] - 4s 4ms/step - loss: 0.2498 - accuracy: 0.9277 - val_loss: 0.2077 - val_accuracy: 0.9423\n",
            "Epoch 61/100\n",
            "844/844 [==============================] - 3s 4ms/step - loss: 0.2478 - accuracy: 0.9286 - val_loss: 0.2053 - val_accuracy: 0.9423\n",
            "Epoch 62/100\n",
            "844/844 [==============================] - 3s 4ms/step - loss: 0.2458 - accuracy: 0.9291 - val_loss: 0.2039 - val_accuracy: 0.9428\n",
            "Epoch 63/100\n",
            "844/844 [==============================] - 4s 5ms/step - loss: 0.2437 - accuracy: 0.9294 - val_loss: 0.2023 - val_accuracy: 0.9430\n",
            "Epoch 64/100\n",
            "844/844 [==============================] - 3s 3ms/step - loss: 0.2418 - accuracy: 0.9304 - val_loss: 0.2010 - val_accuracy: 0.9428\n",
            "Epoch 65/100\n",
            "844/844 [==============================] - 3s 4ms/step - loss: 0.2399 - accuracy: 0.9306 - val_loss: 0.1991 - val_accuracy: 0.9437\n",
            "Epoch 66/100\n",
            "844/844 [==============================] - 3s 4ms/step - loss: 0.2380 - accuracy: 0.9310 - val_loss: 0.1976 - val_accuracy: 0.9448\n",
            "Epoch 67/100\n",
            "844/844 [==============================] - 3s 3ms/step - loss: 0.2361 - accuracy: 0.9316 - val_loss: 0.1961 - val_accuracy: 0.9460\n",
            "Epoch 68/100\n",
            "844/844 [==============================] - 2s 3ms/step - loss: 0.2343 - accuracy: 0.9321 - val_loss: 0.1944 - val_accuracy: 0.9457\n",
            "Epoch 69/100\n",
            "844/844 [==============================] - 3s 4ms/step - loss: 0.2324 - accuracy: 0.9323 - val_loss: 0.1929 - val_accuracy: 0.9467\n",
            "Epoch 70/100\n",
            "844/844 [==============================] - 4s 4ms/step - loss: 0.2306 - accuracy: 0.9329 - val_loss: 0.1913 - val_accuracy: 0.9482\n",
            "Epoch 71/100\n",
            "844/844 [==============================] - 5s 5ms/step - loss: 0.2288 - accuracy: 0.9335 - val_loss: 0.1902 - val_accuracy: 0.9480\n",
            "Epoch 72/100\n",
            "844/844 [==============================] - 3s 4ms/step - loss: 0.2271 - accuracy: 0.9341 - val_loss: 0.1885 - val_accuracy: 0.9483\n",
            "Epoch 73/100\n",
            "844/844 [==============================] - 3s 4ms/step - loss: 0.2254 - accuracy: 0.9345 - val_loss: 0.1873 - val_accuracy: 0.9492\n",
            "Epoch 74/100\n",
            "844/844 [==============================] - 3s 3ms/step - loss: 0.2236 - accuracy: 0.9351 - val_loss: 0.1858 - val_accuracy: 0.9492\n",
            "Epoch 75/100\n",
            "844/844 [==============================] - 2s 2ms/step - loss: 0.2220 - accuracy: 0.9356 - val_loss: 0.1845 - val_accuracy: 0.9497\n",
            "Epoch 76/100\n",
            "844/844 [==============================] - 2s 2ms/step - loss: 0.2203 - accuracy: 0.9359 - val_loss: 0.1828 - val_accuracy: 0.9505\n",
            "Epoch 77/100\n",
            "844/844 [==============================] - 2s 3ms/step - loss: 0.2187 - accuracy: 0.9367 - val_loss: 0.1822 - val_accuracy: 0.9510\n",
            "Epoch 78/100\n",
            "844/844 [==============================] - 3s 4ms/step - loss: 0.2171 - accuracy: 0.9370 - val_loss: 0.1805 - val_accuracy: 0.9503\n",
            "Epoch 79/100\n",
            "844/844 [==============================] - 3s 4ms/step - loss: 0.2155 - accuracy: 0.9373 - val_loss: 0.1793 - val_accuracy: 0.9513\n",
            "Epoch 80/100\n",
            "844/844 [==============================] - 3s 4ms/step - loss: 0.2139 - accuracy: 0.9380 - val_loss: 0.1784 - val_accuracy: 0.9525\n",
            "Epoch 81/100\n",
            "844/844 [==============================] - 3s 3ms/step - loss: 0.2124 - accuracy: 0.9387 - val_loss: 0.1770 - val_accuracy: 0.9517\n",
            "Epoch 82/100\n",
            "844/844 [==============================] - 3s 4ms/step - loss: 0.2109 - accuracy: 0.9390 - val_loss: 0.1753 - val_accuracy: 0.9532\n",
            "Epoch 83/100\n",
            "844/844 [==============================] - 2s 2ms/step - loss: 0.2093 - accuracy: 0.9391 - val_loss: 0.1742 - val_accuracy: 0.9530\n",
            "Epoch 84/100\n",
            "844/844 [==============================] - 2s 3ms/step - loss: 0.2078 - accuracy: 0.9399 - val_loss: 0.1734 - val_accuracy: 0.9533\n",
            "Epoch 85/100\n",
            "844/844 [==============================] - 3s 4ms/step - loss: 0.2064 - accuracy: 0.9401 - val_loss: 0.1723 - val_accuracy: 0.9543\n",
            "Epoch 86/100\n",
            "844/844 [==============================] - 4s 5ms/step - loss: 0.2049 - accuracy: 0.9406 - val_loss: 0.1708 - val_accuracy: 0.9542\n",
            "Epoch 87/100\n",
            "844/844 [==============================] - 3s 3ms/step - loss: 0.2034 - accuracy: 0.9409 - val_loss: 0.1700 - val_accuracy: 0.9540\n",
            "Epoch 88/100\n",
            "844/844 [==============================] - 3s 4ms/step - loss: 0.2020 - accuracy: 0.9415 - val_loss: 0.1688 - val_accuracy: 0.9550\n",
            "Epoch 89/100\n",
            "844/844 [==============================] - 3s 4ms/step - loss: 0.2006 - accuracy: 0.9420 - val_loss: 0.1675 - val_accuracy: 0.9553\n",
            "Epoch 90/100\n",
            "844/844 [==============================] - 2s 3ms/step - loss: 0.1992 - accuracy: 0.9425 - val_loss: 0.1668 - val_accuracy: 0.9547\n",
            "Epoch 91/100\n",
            "844/844 [==============================] - 2s 2ms/step - loss: 0.1979 - accuracy: 0.9431 - val_loss: 0.1655 - val_accuracy: 0.9557\n",
            "Epoch 92/100\n",
            "844/844 [==============================] - 3s 3ms/step - loss: 0.1966 - accuracy: 0.9432 - val_loss: 0.1645 - val_accuracy: 0.9562\n",
            "Epoch 93/100\n",
            "844/844 [==============================] - 2s 2ms/step - loss: 0.1952 - accuracy: 0.9435 - val_loss: 0.1632 - val_accuracy: 0.9565\n",
            "Epoch 94/100\n",
            "844/844 [==============================] - 2s 2ms/step - loss: 0.1940 - accuracy: 0.9439 - val_loss: 0.1623 - val_accuracy: 0.9568\n",
            "Epoch 95/100\n",
            "844/844 [==============================] - 2s 2ms/step - loss: 0.1926 - accuracy: 0.9445 - val_loss: 0.1614 - val_accuracy: 0.9567\n",
            "Epoch 96/100\n",
            "844/844 [==============================] - 2s 2ms/step - loss: 0.1913 - accuracy: 0.9446 - val_loss: 0.1607 - val_accuracy: 0.9572\n",
            "Epoch 97/100\n",
            "844/844 [==============================] - 2s 2ms/step - loss: 0.1900 - accuracy: 0.9451 - val_loss: 0.1590 - val_accuracy: 0.9578\n",
            "Epoch 98/100\n",
            "844/844 [==============================] - 2s 2ms/step - loss: 0.1887 - accuracy: 0.9455 - val_loss: 0.1589 - val_accuracy: 0.9572\n",
            "Epoch 99/100\n",
            "844/844 [==============================] - 2s 2ms/step - loss: 0.1875 - accuracy: 0.9457 - val_loss: 0.1575 - val_accuracy: 0.9570\n",
            "Epoch 100/100\n",
            "844/844 [==============================] - 2s 2ms/step - loss: 0.1862 - accuracy: 0.9461 - val_loss: 0.1563 - val_accuracy: 0.9582\n"
          ],
          "name": "stdout"
        }
      ]
    },
    {
      "cell_type": "code",
      "metadata": {
        "colab": {
          "base_uri": "https://localhost:8080/"
        },
        "id": "qoXxTOlqJDwV",
        "outputId": "2d824ebe-ac86-497a-eaab-86c048630a6e"
      },
      "source": [
        "loss_intermediate, accuracy_intermediate = model.evaluate(X_test, y_test)\n",
        "results_df.loc['Intermediate']= [loss_intermediate, accuracy_intermediate]\n",
        "print(f'Test Loss {loss_intermediate}, Accuracy {accuracy_intermediate}')"
      ],
      "execution_count": 57,
      "outputs": [
        {
          "output_type": "stream",
          "text": [
            "313/313 [==============================] - 0s 1ms/step - loss: 0.1849 - accuracy: 0.9459\n",
            "Test Loss 0.18493464589118958, Accuracy 0.945900022983551\n"
          ],
          "name": "stdout"
        }
      ]
    },
    {
      "cell_type": "code",
      "metadata": {
        "colab": {
          "base_uri": "https://localhost:8080/",
          "height": 404
        },
        "id": "H_zfnLmNJDzf",
        "outputId": "8c1e97ad-1935-4eb9-f467-d8004da33931"
      },
      "source": [
        "fig, ax = plt.subplots(nrows=1, ncols=2, figsize=(10,6))\n",
        "plot_accuracy(history_intermediate, ax[0], color='orange')\n",
        "plot_loss(history_intermediate, ax[1], color='orange')"
      ],
      "execution_count": 59,
      "outputs": [
        {
          "output_type": "display_data",
          "data": {
            "image/png": "[encoded data removed]",
            "text/plain": [
              "<Figure size 720x432 with 2 Axes>"
            ]
          },
          "metadata": {
            "tags": [],
            "needs_background": "light"
          }
        }
      ]
    },
    {
      "cell_type": "markdown",
      "metadata": {
        "id": "pXfutSHFJD1c"
      },
      "source": [
        "# Deep Network\n",
        "* Rough Heuristic\n",
        "  * 2-4 Hidden layers to start\n",
        "  * Reduce layers -> How does validation error respond?\n",
        "    * Reduces Error = Good, fewer layers trains faster\n",
        "    * Increases Error = Reverse, you need the capacity\n",
        "  * Increase layers --> What happens to validation error?\n",
        "    * Reduces Error -> Try another layer\n",
        "    * Increases Error = Reverse, you're likely moving into overfitting regime\n",
        "* What does more layers say about your problem?\n",
        "  * More abstract ground truth\n",
        "  * You expect there are higher level representations in your problem\n",
        "  * For example - shapes (edges -> corners -> composites)"
      ]
    },
    {
      "cell_type": "code",
      "metadata": {
        "id": "COe7Pd6LJ2Zu"
      },
      "source": [
        "model = Sequential()\n",
        "model.add(Dense(64, activation='sigmoid', input_shape=(784, )))\n",
        "model.add(Dense(64, activation='sigmoid'))\n",
        "model.add(Dense(64, activation='sigmoid'))\n",
        "model.add(Dense(64, activation='sigmoid'))\n",
        "model.add(Dense(10, activation='softmax'))"
      ],
      "execution_count": 60,
      "outputs": []
    },
    {
      "cell_type": "code",
      "metadata": {
        "colab": {
          "base_uri": "https://localhost:8080/"
        },
        "id": "svXeNOnZJ2cX",
        "outputId": "f01e7a01-faa3-4ece-878d-7694d73cbee9"
      },
      "source": [
        "model.summary()"
      ],
      "execution_count": 61,
      "outputs": [
        {
          "output_type": "stream",
          "text": [
            "Model: \"sequential_2\"\n",
            "_________________________________________________________________\n",
            "Layer (type)                 Output Shape              Param #   \n",
            "=================================================================\n",
            "dense_5 (Dense)              (None, 64)                50240     \n",
            "_________________________________________________________________\n",
            "dense_6 (Dense)              (None, 64)                4160      \n",
            "_________________________________________________________________\n",
            "dense_7 (Dense)              (None, 64)                4160      \n",
            "_________________________________________________________________\n",
            "dense_8 (Dense)              (None, 64)                4160      \n",
            "_________________________________________________________________\n",
            "dense_9 (Dense)              (None, 10)                650       \n",
            "=================================================================\n",
            "Total params: 63,370\n",
            "Trainable params: 63,370\n",
            "Non-trainable params: 0\n",
            "_________________________________________________________________\n"
          ],
          "name": "stdout"
        }
      ]
    },
    {
      "cell_type": "code",
      "metadata": {
        "colab": {
          "base_uri": "https://localhost:8080/",
          "height": 644
        },
        "id": "qu2fPvnaJ2fk",
        "outputId": "11277718-6bb9-4ad2-ba65-68d2aa53ddf6"
      },
      "source": [
        "keras.utils.plot_model(model, show_shapes=True)"
      ],
      "execution_count": 62,
      "outputs": [
        {
          "output_type": "execute_result",
          "data": {
            "image/png": "[encoded data removed]",
            "text/plain": [
              "<IPython.core.display.Image object>"
            ]
          },
          "metadata": {
            "tags": []
          },
          "execution_count": 62
        }
      ]
    },
    {
      "cell_type": "code",
      "metadata": {
        "id": "ck0wxunXJ2hV"
      },
      "source": [
        "model.compile(optimizer='SGD', loss='categorical_crossentropy', metrics=['accuracy'])"
      ],
      "execution_count": 63,
      "outputs": []
    },
    {
      "cell_type": "code",
      "metadata": {
        "colab": {
          "base_uri": "https://localhost:8080/"
        },
        "id": "z-um2TQ0J2jp",
        "outputId": "1f864cd9-27f7-4b54-ce71-b15cf32db0b2"
      },
      "source": [
        "history_deep = model.fit(X_train, y_train, validation_split=0.1, epochs=epochs, batch_size=batch_size)"
      ],
      "execution_count": 64,
      "outputs": [
        {
          "output_type": "stream",
          "text": [
            "Epoch 1/100\n",
            "844/844 [==============================] - 3s 3ms/step - loss: 2.3064 - accuracy: 0.1110 - val_loss: 2.3018 - val_accuracy: 0.1113\n",
            "Epoch 2/100\n",
            "844/844 [==============================] - 2s 3ms/step - loss: 2.3016 - accuracy: 0.1124 - val_loss: 2.3026 - val_accuracy: 0.1050\n",
            "Epoch 3/100\n",
            "844/844 [==============================] - 2s 3ms/step - loss: 2.3014 - accuracy: 0.1127 - val_loss: 2.3026 - val_accuracy: 0.1050\n",
            "Epoch 4/100\n",
            "844/844 [==============================] - 2s 3ms/step - loss: 2.3012 - accuracy: 0.1124 - val_loss: 2.3009 - val_accuracy: 0.1050\n",
            "Epoch 5/100\n",
            "844/844 [==============================] - 2s 2ms/step - loss: 2.3010 - accuracy: 0.1126 - val_loss: 2.3012 - val_accuracy: 0.1050\n",
            "Epoch 6/100\n",
            "844/844 [==============================] - 2s 3ms/step - loss: 2.3007 - accuracy: 0.1135 - val_loss: 2.3018 - val_accuracy: 0.1050\n",
            "Epoch 7/100\n",
            "844/844 [==============================] - 2s 3ms/step - loss: 2.3005 - accuracy: 0.1132 - val_loss: 2.3010 - val_accuracy: 0.1050\n",
            "Epoch 8/100\n",
            "844/844 [==============================] - 2s 2ms/step - loss: 2.3001 - accuracy: 0.1131 - val_loss: 2.3007 - val_accuracy: 0.1050\n",
            "Epoch 9/100\n",
            "844/844 [==============================] - 2s 2ms/step - loss: 2.2999 - accuracy: 0.1132 - val_loss: 2.3005 - val_accuracy: 0.1050\n",
            "Epoch 10/100\n",
            "844/844 [==============================] - 2s 3ms/step - loss: 2.2996 - accuracy: 0.1136 - val_loss: 2.2999 - val_accuracy: 0.1050\n",
            "Epoch 11/100\n",
            "844/844 [==============================] - 2s 2ms/step - loss: 2.2992 - accuracy: 0.1135 - val_loss: 2.3001 - val_accuracy: 0.1050\n",
            "Epoch 12/100\n",
            "844/844 [==============================] - 2s 3ms/step - loss: 2.2989 - accuracy: 0.1140 - val_loss: 2.3001 - val_accuracy: 0.1050\n",
            "Epoch 13/100\n",
            "844/844 [==============================] - 2s 2ms/step - loss: 2.2985 - accuracy: 0.1141 - val_loss: 2.2985 - val_accuracy: 0.1050\n",
            "Epoch 14/100\n",
            "844/844 [==============================] - 2s 3ms/step - loss: 2.2978 - accuracy: 0.1143 - val_loss: 2.2975 - val_accuracy: 0.1250\n",
            "Epoch 15/100\n",
            "844/844 [==============================] - 2s 3ms/step - loss: 2.2975 - accuracy: 0.1147 - val_loss: 2.2979 - val_accuracy: 0.1050\n",
            "Epoch 16/100\n",
            "844/844 [==============================] - 2s 3ms/step - loss: 2.2967 - accuracy: 0.1154 - val_loss: 2.2967 - val_accuracy: 0.1050\n",
            "Epoch 17/100\n",
            "844/844 [==============================] - 2s 3ms/step - loss: 2.2960 - accuracy: 0.1172 - val_loss: 2.2957 - val_accuracy: 0.1050\n",
            "Epoch 18/100\n",
            "844/844 [==============================] - 2s 3ms/step - loss: 2.2948 - accuracy: 0.1181 - val_loss: 2.2946 - val_accuracy: 0.1050\n",
            "Epoch 19/100\n",
            "844/844 [==============================] - 2s 2ms/step - loss: 2.2938 - accuracy: 0.1167 - val_loss: 2.2931 - val_accuracy: 0.1050\n",
            "Epoch 20/100\n",
            "844/844 [==============================] - 2s 3ms/step - loss: 2.2921 - accuracy: 0.1178 - val_loss: 2.2908 - val_accuracy: 0.1050\n",
            "Epoch 21/100\n",
            "844/844 [==============================] - 2s 2ms/step - loss: 2.2901 - accuracy: 0.1286 - val_loss: 2.2894 - val_accuracy: 0.1050\n",
            "Epoch 22/100\n",
            "844/844 [==============================] - 2s 3ms/step - loss: 2.2873 - accuracy: 0.1218 - val_loss: 2.2857 - val_accuracy: 0.1050\n",
            "Epoch 23/100\n",
            "844/844 [==============================] - 2s 2ms/step - loss: 2.2832 - accuracy: 0.1285 - val_loss: 2.2795 - val_accuracy: 0.1063\n",
            "Epoch 24/100\n",
            "844/844 [==============================] - 2s 2ms/step - loss: 2.2770 - accuracy: 0.1416 - val_loss: 2.2717 - val_accuracy: 0.2287\n",
            "Epoch 25/100\n",
            "844/844 [==============================] - 2s 2ms/step - loss: 2.2671 - accuracy: 0.1676 - val_loss: 2.2578 - val_accuracy: 0.2192\n",
            "Epoch 26/100\n",
            "844/844 [==============================] - 2s 2ms/step - loss: 2.2492 - accuracy: 0.2123 - val_loss: 2.2323 - val_accuracy: 0.2908\n",
            "Epoch 27/100\n",
            "844/844 [==============================] - 2s 3ms/step - loss: 2.2140 - accuracy: 0.2718 - val_loss: 2.1797 - val_accuracy: 0.2668\n",
            "Epoch 28/100\n",
            "844/844 [==============================] - 2s 2ms/step - loss: 2.1404 - accuracy: 0.2981 - val_loss: 2.0745 - val_accuracy: 0.3237\n",
            "Epoch 29/100\n",
            "844/844 [==============================] - 2s 2ms/step - loss: 2.0134 - accuracy: 0.2996 - val_loss: 1.9245 - val_accuracy: 0.3215\n",
            "Epoch 30/100\n",
            "844/844 [==============================] - 2s 2ms/step - loss: 1.8847 - accuracy: 0.3038 - val_loss: 1.8149 - val_accuracy: 0.3210\n",
            "Epoch 31/100\n",
            "844/844 [==============================] - 2s 3ms/step - loss: 1.8051 - accuracy: 0.3134 - val_loss: 1.7539 - val_accuracy: 0.3117\n",
            "Epoch 32/100\n",
            "844/844 [==============================] - 2s 3ms/step - loss: 1.7589 - accuracy: 0.3209 - val_loss: 1.7156 - val_accuracy: 0.3502\n",
            "Epoch 33/100\n",
            "844/844 [==============================] - 2s 3ms/step - loss: 1.7274 - accuracy: 0.3295 - val_loss: 1.6855 - val_accuracy: 0.3387\n",
            "Epoch 34/100\n",
            "844/844 [==============================] - 2s 3ms/step - loss: 1.7022 - accuracy: 0.3399 - val_loss: 1.6611 - val_accuracy: 0.3443\n",
            "Epoch 35/100\n",
            "844/844 [==============================] - 2s 2ms/step - loss: 1.6805 - accuracy: 0.3457 - val_loss: 1.6398 - val_accuracy: 0.3588\n",
            "Epoch 36/100\n",
            "844/844 [==============================] - 2s 2ms/step - loss: 1.6602 - accuracy: 0.3568 - val_loss: 1.6197 - val_accuracy: 0.3675\n",
            "Epoch 37/100\n",
            "844/844 [==============================] - 2s 2ms/step - loss: 1.6405 - accuracy: 0.3642 - val_loss: 1.5979 - val_accuracy: 0.3882\n",
            "Epoch 38/100\n",
            "844/844 [==============================] - 2s 2ms/step - loss: 1.6207 - accuracy: 0.3741 - val_loss: 1.5768 - val_accuracy: 0.3878\n",
            "Epoch 39/100\n",
            "844/844 [==============================] - 2s 2ms/step - loss: 1.6001 - accuracy: 0.3795 - val_loss: 1.5561 - val_accuracy: 0.3970\n",
            "Epoch 40/100\n",
            "844/844 [==============================] - 2s 2ms/step - loss: 1.5789 - accuracy: 0.3875 - val_loss: 1.5336 - val_accuracy: 0.4115\n",
            "Epoch 41/100\n",
            "844/844 [==============================] - 2s 2ms/step - loss: 1.5570 - accuracy: 0.3989 - val_loss: 1.5135 - val_accuracy: 0.4080\n",
            "Epoch 42/100\n",
            "844/844 [==============================] - 2s 2ms/step - loss: 1.5355 - accuracy: 0.4064 - val_loss: 1.4906 - val_accuracy: 0.4283\n",
            "Epoch 43/100\n",
            "844/844 [==============================] - 2s 2ms/step - loss: 1.5137 - accuracy: 0.4183 - val_loss: 1.4679 - val_accuracy: 0.4362\n",
            "Epoch 44/100\n",
            "844/844 [==============================] - 2s 2ms/step - loss: 1.4923 - accuracy: 0.4283 - val_loss: 1.4455 - val_accuracy: 0.4512\n",
            "Epoch 45/100\n",
            "844/844 [==============================] - 2s 3ms/step - loss: 1.4714 - accuracy: 0.4397 - val_loss: 1.4248 - val_accuracy: 0.4698\n",
            "Epoch 46/100\n",
            "844/844 [==============================] - 2s 2ms/step - loss: 1.4505 - accuracy: 0.4522 - val_loss: 1.4033 - val_accuracy: 0.4693\n",
            "Epoch 47/100\n",
            "844/844 [==============================] - 2s 2ms/step - loss: 1.4292 - accuracy: 0.4659 - val_loss: 1.3797 - val_accuracy: 0.5030\n",
            "Epoch 48/100\n",
            "844/844 [==============================] - 2s 2ms/step - loss: 1.4074 - accuracy: 0.4819 - val_loss: 1.3570 - val_accuracy: 0.4958\n",
            "Epoch 49/100\n",
            "844/844 [==============================] - 2s 2ms/step - loss: 1.3842 - accuracy: 0.4954 - val_loss: 1.3326 - val_accuracy: 0.5262\n",
            "Epoch 50/100\n",
            "844/844 [==============================] - 2s 2ms/step - loss: 1.3587 - accuracy: 0.5158 - val_loss: 1.3046 - val_accuracy: 0.5440\n",
            "Epoch 51/100\n",
            "844/844 [==============================] - 2s 3ms/step - loss: 1.3294 - accuracy: 0.5379 - val_loss: 1.2720 - val_accuracy: 0.5660\n",
            "Epoch 52/100\n",
            "844/844 [==============================] - 2s 3ms/step - loss: 1.2944 - accuracy: 0.5658 - val_loss: 1.2348 - val_accuracy: 0.5850\n",
            "Epoch 53/100\n",
            "844/844 [==============================] - 2s 3ms/step - loss: 1.2505 - accuracy: 0.5916 - val_loss: 1.1805 - val_accuracy: 0.6392\n",
            "Epoch 54/100\n",
            "844/844 [==============================] - 2s 3ms/step - loss: 1.1953 - accuracy: 0.6222 - val_loss: 1.1187 - val_accuracy: 0.6540\n",
            "Epoch 55/100\n",
            "844/844 [==============================] - 2s 3ms/step - loss: 1.1292 - accuracy: 0.6491 - val_loss: 1.0462 - val_accuracy: 0.6697\n",
            "Epoch 56/100\n",
            "844/844 [==============================] - 2s 2ms/step - loss: 1.0594 - accuracy: 0.6735 - val_loss: 0.9745 - val_accuracy: 0.7108\n",
            "Epoch 57/100\n",
            "844/844 [==============================] - 2s 2ms/step - loss: 0.9948 - accuracy: 0.6989 - val_loss: 0.9118 - val_accuracy: 0.7277\n",
            "Epoch 58/100\n",
            "844/844 [==============================] - 2s 2ms/step - loss: 0.9395 - accuracy: 0.7216 - val_loss: 0.8584 - val_accuracy: 0.7595\n",
            "Epoch 59/100\n",
            "844/844 [==============================] - 2s 3ms/step - loss: 0.8926 - accuracy: 0.7389 - val_loss: 0.8146 - val_accuracy: 0.7702\n",
            "Epoch 60/100\n",
            "844/844 [==============================] - 2s 3ms/step - loss: 0.8519 - accuracy: 0.7535 - val_loss: 0.7751 - val_accuracy: 0.7903\n",
            "Epoch 61/100\n",
            "844/844 [==============================] - 2s 3ms/step - loss: 0.8146 - accuracy: 0.7677 - val_loss: 0.7394 - val_accuracy: 0.7968\n",
            "Epoch 62/100\n",
            "844/844 [==============================] - 2s 3ms/step - loss: 0.7800 - accuracy: 0.7793 - val_loss: 0.7076 - val_accuracy: 0.8047\n",
            "Epoch 63/100\n",
            "844/844 [==============================] - 2s 2ms/step - loss: 0.7465 - accuracy: 0.7909 - val_loss: 0.6730 - val_accuracy: 0.8212\n",
            "Epoch 64/100\n",
            "844/844 [==============================] - 2s 3ms/step - loss: 0.7146 - accuracy: 0.8027 - val_loss: 0.6445 - val_accuracy: 0.8260\n",
            "Epoch 65/100\n",
            "844/844 [==============================] - 2s 2ms/step - loss: 0.6841 - accuracy: 0.8124 - val_loss: 0.6132 - val_accuracy: 0.8348\n",
            "Epoch 66/100\n",
            "844/844 [==============================] - 2s 3ms/step - loss: 0.6554 - accuracy: 0.8204 - val_loss: 0.5854 - val_accuracy: 0.8450\n",
            "Epoch 67/100\n",
            "844/844 [==============================] - 2s 2ms/step - loss: 0.6290 - accuracy: 0.8276 - val_loss: 0.5603 - val_accuracy: 0.8503\n",
            "Epoch 68/100\n",
            "844/844 [==============================] - 2s 2ms/step - loss: 0.6048 - accuracy: 0.8347 - val_loss: 0.5390 - val_accuracy: 0.8560\n",
            "Epoch 69/100\n",
            "844/844 [==============================] - 2s 2ms/step - loss: 0.5832 - accuracy: 0.8406 - val_loss: 0.5185 - val_accuracy: 0.8615\n",
            "Epoch 70/100\n",
            "844/844 [==============================] - 2s 3ms/step - loss: 0.5637 - accuracy: 0.8468 - val_loss: 0.4997 - val_accuracy: 0.8678\n",
            "Epoch 71/100\n",
            "844/844 [==============================] - 2s 2ms/step - loss: 0.5460 - accuracy: 0.8523 - val_loss: 0.4839 - val_accuracy: 0.8707\n",
            "Epoch 72/100\n",
            "844/844 [==============================] - 2s 2ms/step - loss: 0.5302 - accuracy: 0.8571 - val_loss: 0.4696 - val_accuracy: 0.8782\n",
            "Epoch 73/100\n",
            "844/844 [==============================] - 2s 3ms/step - loss: 0.5156 - accuracy: 0.8614 - val_loss: 0.4559 - val_accuracy: 0.8793\n",
            "Epoch 74/100\n",
            "844/844 [==============================] - 2s 3ms/step - loss: 0.5022 - accuracy: 0.8654 - val_loss: 0.4441 - val_accuracy: 0.8852\n",
            "Epoch 75/100\n",
            "844/844 [==============================] - 2s 2ms/step - loss: 0.4898 - accuracy: 0.8691 - val_loss: 0.4328 - val_accuracy: 0.8873\n",
            "Epoch 76/100\n",
            "844/844 [==============================] - 2s 3ms/step - loss: 0.4782 - accuracy: 0.8726 - val_loss: 0.4238 - val_accuracy: 0.8912\n",
            "Epoch 77/100\n",
            "844/844 [==============================] - 2s 3ms/step - loss: 0.4678 - accuracy: 0.8763 - val_loss: 0.4139 - val_accuracy: 0.8937\n",
            "Epoch 78/100\n",
            "844/844 [==============================] - 2s 2ms/step - loss: 0.4579 - accuracy: 0.8794 - val_loss: 0.4044 - val_accuracy: 0.8965\n",
            "Epoch 79/100\n",
            "844/844 [==============================] - 2s 2ms/step - loss: 0.4486 - accuracy: 0.8823 - val_loss: 0.3980 - val_accuracy: 0.8973\n",
            "Epoch 80/100\n",
            "844/844 [==============================] - 2s 2ms/step - loss: 0.4398 - accuracy: 0.8840 - val_loss: 0.3896 - val_accuracy: 0.8988\n",
            "Epoch 81/100\n",
            "844/844 [==============================] - 2s 2ms/step - loss: 0.4316 - accuracy: 0.8873 - val_loss: 0.3821 - val_accuracy: 0.9028\n",
            "Epoch 82/100\n",
            "844/844 [==============================] - 2s 2ms/step - loss: 0.4234 - accuracy: 0.8888 - val_loss: 0.3757 - val_accuracy: 0.9028\n",
            "Epoch 83/100\n",
            "844/844 [==============================] - 2s 2ms/step - loss: 0.4164 - accuracy: 0.8906 - val_loss: 0.3695 - val_accuracy: 0.9038\n",
            "Epoch 84/100\n",
            "844/844 [==============================] - 2s 2ms/step - loss: 0.4090 - accuracy: 0.8926 - val_loss: 0.3628 - val_accuracy: 0.9075\n",
            "Epoch 85/100\n",
            "844/844 [==============================] - 2s 2ms/step - loss: 0.4025 - accuracy: 0.8946 - val_loss: 0.3575 - val_accuracy: 0.9073\n",
            "Epoch 86/100\n",
            "844/844 [==============================] - 2s 2ms/step - loss: 0.3959 - accuracy: 0.8961 - val_loss: 0.3531 - val_accuracy: 0.9112\n",
            "Epoch 87/100\n",
            "844/844 [==============================] - 2s 2ms/step - loss: 0.3897 - accuracy: 0.8982 - val_loss: 0.3481 - val_accuracy: 0.9112\n",
            "Epoch 88/100\n",
            "844/844 [==============================] - 2s 3ms/step - loss: 0.3837 - accuracy: 0.8998 - val_loss: 0.3421 - val_accuracy: 0.9123\n",
            "Epoch 89/100\n",
            "844/844 [==============================] - 2s 2ms/step - loss: 0.3780 - accuracy: 0.9014 - val_loss: 0.3383 - val_accuracy: 0.9138\n",
            "Epoch 90/100\n",
            "844/844 [==============================] - 2s 2ms/step - loss: 0.3723 - accuracy: 0.9029 - val_loss: 0.3344 - val_accuracy: 0.9170\n",
            "Epoch 91/100\n",
            "844/844 [==============================] - 2s 3ms/step - loss: 0.3669 - accuracy: 0.9046 - val_loss: 0.3283 - val_accuracy: 0.9178\n",
            "Epoch 92/100\n",
            "844/844 [==============================] - 2s 2ms/step - loss: 0.3618 - accuracy: 0.9062 - val_loss: 0.3235 - val_accuracy: 0.9195\n",
            "Epoch 93/100\n",
            "844/844 [==============================] - 2s 2ms/step - loss: 0.3568 - accuracy: 0.9074 - val_loss: 0.3192 - val_accuracy: 0.9203\n",
            "Epoch 94/100\n",
            "844/844 [==============================] - 2s 2ms/step - loss: 0.3516 - accuracy: 0.9085 - val_loss: 0.3150 - val_accuracy: 0.9222\n",
            "Epoch 95/100\n",
            "844/844 [==============================] - 2s 3ms/step - loss: 0.3470 - accuracy: 0.9103 - val_loss: 0.3134 - val_accuracy: 0.9217\n",
            "Epoch 96/100\n",
            "844/844 [==============================] - 2s 3ms/step - loss: 0.3422 - accuracy: 0.9116 - val_loss: 0.3077 - val_accuracy: 0.9243\n",
            "Epoch 97/100\n",
            "844/844 [==============================] - 2s 2ms/step - loss: 0.3375 - accuracy: 0.9122 - val_loss: 0.3042 - val_accuracy: 0.9268\n",
            "Epoch 98/100\n",
            "844/844 [==============================] - 2s 3ms/step - loss: 0.3330 - accuracy: 0.9131 - val_loss: 0.3004 - val_accuracy: 0.9268\n",
            "Epoch 99/100\n",
            "844/844 [==============================] - 2s 2ms/step - loss: 0.3286 - accuracy: 0.9148 - val_loss: 0.2967 - val_accuracy: 0.9278\n",
            "Epoch 100/100\n",
            "844/844 [==============================] - 2s 2ms/step - loss: 0.3244 - accuracy: 0.9156 - val_loss: 0.2937 - val_accuracy: 0.9298\n"
          ],
          "name": "stdout"
        }
      ]
    },
    {
      "cell_type": "code",
      "metadata": {
        "colab": {
          "base_uri": "https://localhost:8080/"
        },
        "id": "8eS2pbiNJ2mQ",
        "outputId": "e938d12e-2ce6-404e-ebea-84d3c8a8a995"
      },
      "source": [
        "loss_deep, accuracy_deep = model.evaluate(X_test, y_test)\n",
        "results_df.loc['Deep']= [loss_deep, accuracy_deep]\n",
        "print(f'Test Loss {loss_deep}, Accuracy {accuracy_deep}')"
      ],
      "execution_count": 65,
      "outputs": [
        {
          "output_type": "stream",
          "text": [
            "313/313 [==============================] - 0s 1ms/step - loss: 0.3334 - accuracy: 0.9157\n",
            "Test Loss 0.3333643078804016, Accuracy 0.9157000184059143\n"
          ],
          "name": "stdout"
        }
      ]
    },
    {
      "cell_type": "code",
      "metadata": {
        "colab": {
          "base_uri": "https://localhost:8080/",
          "height": 404
        },
        "id": "Q8ubHSVuJ_ze",
        "outputId": "494ebb16-a9e4-486f-f65e-0646dfad2186"
      },
      "source": [
        "fig, ax = plt.subplots(nrows=1, ncols=2, figsize=(10,6))\n",
        "plot_accuracy(history_deep, ax[0], color='green')\n",
        "plot_loss(history_deep, ax[1], color='green')"
      ],
      "execution_count": 66,
      "outputs": [
        {
          "output_type": "display_data",
          "data": {
            "image/png": "[encoded data removed]",
            "text/plain": [
              "<Figure size 720x432 with 2 Axes>"
            ]
          },
          "metadata": {
            "tags": [],
            "needs_background": "light"
          }
        }
      ]
    },
    {
      "cell_type": "markdown",
      "metadata": {
        "id": "qo4af6ccKLOm"
      },
      "source": [
        "# Comparison"
      ]
    },
    {
      "cell_type": "code",
      "metadata": {
        "colab": {
          "base_uri": "https://localhost:8080/",
          "height": 136
        },
        "id": "pASUoWOYKMIl",
        "outputId": "97ed9b2b-8838-4fcf-dbba-f142fd8a9652"
      },
      "source": [
        "results_df"
      ],
      "execution_count": 67,
      "outputs": [
        {
          "output_type": "execute_result",
          "data": {
            "text/html": [
              "<div>\n",
              "<style scoped>\n",
              "    .dataframe tbody tr th:only-of-type {\n",
              "        vertical-align: middle;\n",
              "    }\n",
              "\n",
              "    .dataframe tbody tr th {\n",
              "        vertical-align: top;\n",
              "    }\n",
              "\n",
              "    .dataframe thead th {\n",
              "        text-align: right;\n",
              "    }\n",
              "</style>\n",
              "<table border=\"1\" class=\"dataframe\">\n",
              "  <thead>\n",
              "    <tr style=\"text-align: right;\">\n",
              "      <th></th>\n",
              "      <th>Loss</th>\n",
              "      <th>Accuracy</th>\n",
              "    </tr>\n",
              "  </thead>\n",
              "  <tbody>\n",
              "    <tr>\n",
              "      <th>Shallow</th>\n",
              "      <td>0.193352</td>\n",
              "      <td>0.9444</td>\n",
              "    </tr>\n",
              "    <tr>\n",
              "      <th>Intermediate</th>\n",
              "      <td>0.184935</td>\n",
              "      <td>0.9459</td>\n",
              "    </tr>\n",
              "    <tr>\n",
              "      <th>Deep</th>\n",
              "      <td>0.333364</td>\n",
              "      <td>0.9157</td>\n",
              "    </tr>\n",
              "  </tbody>\n",
              "</table>\n",
              "</div>"
            ],
            "text/plain": [
              "                  Loss  Accuracy\n",
              "Shallow       0.193352    0.9444\n",
              "Intermediate  0.184935    0.9459\n",
              "Deep          0.333364    0.9157"
            ]
          },
          "metadata": {
            "tags": []
          },
          "execution_count": 67
        }
      ]
    },
    {
      "cell_type": "markdown",
      "metadata": {
        "id": "XHWE4QHKKPuO"
      },
      "source": [
        "## Loss"
      ]
    },
    {
      "cell_type": "code",
      "metadata": {
        "colab": {
          "base_uri": "https://localhost:8080/",
          "height": 499
        },
        "id": "b1bx-f3BKOla",
        "outputId": "5ac8cfbb-d160-4a38-93f9-1a6f57c0d04b"
      },
      "source": [
        "shallow_loss      = history_shallow.history['val_loss']\n",
        "intermediate_loss = history_intermediate.history['val_loss']\n",
        "deep_loss         = history_deep.history['val_loss']\n",
        "ranged            = range(1, epochs + 1)\n",
        "\n",
        "plt.figure(figsize=(10,8))\n",
        "plt.plot(ranged, shallow_loss, label='Shallow')\n",
        "plt.plot(ranged, intermediate_loss, label='Intermediate')\n",
        "plt.plot(ranged, deep_loss, label='Deep')\n",
        "plt.title('Comparison of Validation Loss')\n",
        "plt.legend()\n",
        "plt.show()"
      ],
      "execution_count": 68,
      "outputs": [
        {
          "output_type": "display_data",
          "data": {
            "image/png": "[encoded data removed]",
            "text/plain": [
              "<Figure size 720x576 with 1 Axes>"
            ]
          },
          "metadata": {
            "tags": [],
            "needs_background": "light"
          }
        }
      ]
    },
    {
      "cell_type": "markdown",
      "metadata": {
        "id": "KLPw-JBjKVKv"
      },
      "source": [
        "## Accuracy"
      ]
    },
    {
      "cell_type": "code",
      "metadata": {
        "colab": {
          "base_uri": "https://localhost:8080/",
          "height": 499
        },
        "id": "IVRxzOdcKUYt",
        "outputId": "de49e1d7-e062-4996-934c-a0ef813830ad"
      },
      "source": [
        "shallow_acc      = history_shallow.history['val_accuracy']\n",
        "intermediate_acc = history_intermediate.history['val_accuracy']\n",
        "deep_acc         = history_deep.history['val_accuracy']\n",
        "ranged           = range(1, epochs + 1)\n",
        "\n",
        "plt.figure(figsize=(10,8))\n",
        "plt.plot(ranged, shallow_acc, label='Shallow')\n",
        "plt.plot(ranged, intermediate_acc, label='Intermediate')\n",
        "plt.plot(ranged, deep_acc, label='Deep')\n",
        "plt.title('Comparison of Validation Accuracy')\n",
        "plt.legend()\n",
        "plt.show()"
      ],
      "execution_count": 69,
      "outputs": [
        {
          "output_type": "display_data",
          "data": {
            "image/png": "[encoded data removed]",
            "text/plain": [
              "<Figure size 720x576 with 1 Axes>"
            ]
          },
          "metadata": {
            "tags": [],
            "needs_background": "light"
          }
        }
      ]
    },
    {
      "cell_type": "markdown",
      "metadata": {
        "id": "bfUtbACvKiBe"
      },
      "source": [
        "# Activations\n",
        "* In the previous example we used a sigmoid.\n",
        "* Sigmoids can saturate when their values are close to 0 and 1 making learning slow\n",
        "* Retrain the deep network with a reLu\n",
        "\n",
        "![](https://miro.medium.com/max/357/1*oePAhrm74RNnNEolprmTaQ.png)"
      ]
    },
    {
      "cell_type": "code",
      "metadata": {
        "id": "4DrUuRWxKkJb"
      },
      "source": [
        "model = Sequential()\n",
        "model.add(Dense(64, activation='relu', input_shape=(784, )))\n",
        "model.add(Dense(64, activation='relu'))\n",
        "model.add(Dense(64, activation='relu'))\n",
        "model.add(Dense(64, activation='relu'))\n",
        "model.add(Dense(10, activation='softmax'))"
      ],
      "execution_count": 70,
      "outputs": []
    },
    {
      "cell_type": "code",
      "metadata": {
        "colab": {
          "base_uri": "https://localhost:8080/"
        },
        "id": "nb3q4aZWKra8",
        "outputId": "0ff590b9-0858-4987-f900-258325c4f23b"
      },
      "source": [
        "model.summary()"
      ],
      "execution_count": 71,
      "outputs": [
        {
          "output_type": "stream",
          "text": [
            "Model: \"sequential_3\"\n",
            "_________________________________________________________________\n",
            "Layer (type)                 Output Shape              Param #   \n",
            "=================================================================\n",
            "dense_10 (Dense)             (None, 64)                50240     \n",
            "_________________________________________________________________\n",
            "dense_11 (Dense)             (None, 64)                4160      \n",
            "_________________________________________________________________\n",
            "dense_12 (Dense)             (None, 64)                4160      \n",
            "_________________________________________________________________\n",
            "dense_13 (Dense)             (None, 64)                4160      \n",
            "_________________________________________________________________\n",
            "dense_14 (Dense)             (None, 10)                650       \n",
            "=================================================================\n",
            "Total params: 63,370\n",
            "Trainable params: 63,370\n",
            "Non-trainable params: 0\n",
            "_________________________________________________________________\n"
          ],
          "name": "stdout"
        }
      ]
    },
    {
      "cell_type": "code",
      "metadata": {
        "id": "AmLxAeuxKrdj"
      },
      "source": [
        "model.compile(optimizer='SGD', loss='categorical_crossentropy', metrics=['accuracy'])"
      ],
      "execution_count": 72,
      "outputs": []
    },
    {
      "cell_type": "code",
      "metadata": {
        "colab": {
          "base_uri": "https://localhost:8080/"
        },
        "id": "6IvUX33LKrfx",
        "outputId": "a36017f8-da2a-46ad-b277-fbe3ce3e1c95"
      },
      "source": [
        "history_deep_relu = model.fit(X_train, y_train, validation_split=0.1, epochs=epochs, batch_size=batch_size)"
      ],
      "execution_count": 73,
      "outputs": [
        {
          "output_type": "stream",
          "text": [
            "Epoch 1/100\n",
            "844/844 [==============================] - 3s 3ms/step - loss: 1.2315 - accuracy: 0.6376 - val_loss: 0.4319 - val_accuracy: 0.8812\n",
            "Epoch 2/100\n",
            "844/844 [==============================] - 2s 2ms/step - loss: 0.4043 - accuracy: 0.8834 - val_loss: 0.2825 - val_accuracy: 0.9177\n",
            "Epoch 3/100\n",
            "844/844 [==============================] - 2s 2ms/step - loss: 0.3165 - accuracy: 0.9068 - val_loss: 0.2359 - val_accuracy: 0.9337\n",
            "Epoch 4/100\n",
            "844/844 [==============================] - 2s 2ms/step - loss: 0.2692 - accuracy: 0.9212 - val_loss: 0.2006 - val_accuracy: 0.9442\n",
            "Epoch 5/100\n",
            "844/844 [==============================] - 2s 2ms/step - loss: 0.2360 - accuracy: 0.9305 - val_loss: 0.1850 - val_accuracy: 0.9472\n",
            "Epoch 6/100\n",
            "844/844 [==============================] - 2s 2ms/step - loss: 0.2100 - accuracy: 0.9377 - val_loss: 0.1647 - val_accuracy: 0.9548\n",
            "Epoch 7/100\n",
            "844/844 [==============================] - 2s 2ms/step - loss: 0.1904 - accuracy: 0.9439 - val_loss: 0.1502 - val_accuracy: 0.9587\n",
            "Epoch 8/100\n",
            "844/844 [==============================] - 2s 2ms/step - loss: 0.1748 - accuracy: 0.9484 - val_loss: 0.1447 - val_accuracy: 0.9583\n",
            "Epoch 9/100\n",
            "844/844 [==============================] - 2s 2ms/step - loss: 0.1610 - accuracy: 0.9528 - val_loss: 0.1327 - val_accuracy: 0.9623\n",
            "Epoch 10/100\n",
            "844/844 [==============================] - 2s 2ms/step - loss: 0.1494 - accuracy: 0.9551 - val_loss: 0.1296 - val_accuracy: 0.9630\n",
            "Epoch 11/100\n",
            "844/844 [==============================] - 2s 2ms/step - loss: 0.1399 - accuracy: 0.9591 - val_loss: 0.1221 - val_accuracy: 0.9657\n",
            "Epoch 12/100\n",
            "844/844 [==============================] - 2s 2ms/step - loss: 0.1303 - accuracy: 0.9614 - val_loss: 0.1205 - val_accuracy: 0.9660\n",
            "Epoch 13/100\n",
            "844/844 [==============================] - 2s 2ms/step - loss: 0.1228 - accuracy: 0.9640 - val_loss: 0.1089 - val_accuracy: 0.9697\n",
            "Epoch 14/100\n",
            "844/844 [==============================] - 2s 2ms/step - loss: 0.1156 - accuracy: 0.9655 - val_loss: 0.1077 - val_accuracy: 0.9693\n",
            "Epoch 15/100\n",
            "844/844 [==============================] - 2s 2ms/step - loss: 0.1099 - accuracy: 0.9678 - val_loss: 0.1038 - val_accuracy: 0.9718\n",
            "Epoch 16/100\n",
            "844/844 [==============================] - 2s 2ms/step - loss: 0.1038 - accuracy: 0.9694 - val_loss: 0.1050 - val_accuracy: 0.9705\n",
            "Epoch 17/100\n",
            "844/844 [==============================] - 2s 2ms/step - loss: 0.0985 - accuracy: 0.9703 - val_loss: 0.1006 - val_accuracy: 0.9722\n",
            "Epoch 18/100\n",
            "844/844 [==============================] - 2s 2ms/step - loss: 0.0936 - accuracy: 0.9716 - val_loss: 0.0998 - val_accuracy: 0.9718\n",
            "Epoch 19/100\n",
            "844/844 [==============================] - 2s 2ms/step - loss: 0.0891 - accuracy: 0.9734 - val_loss: 0.1005 - val_accuracy: 0.9708\n",
            "Epoch 20/100\n",
            "844/844 [==============================] - 2s 2ms/step - loss: 0.0849 - accuracy: 0.9748 - val_loss: 0.1024 - val_accuracy: 0.9693\n",
            "Epoch 21/100\n",
            "844/844 [==============================] - 2s 2ms/step - loss: 0.0812 - accuracy: 0.9754 - val_loss: 0.0972 - val_accuracy: 0.9715\n",
            "Epoch 22/100\n",
            "844/844 [==============================] - 2s 2ms/step - loss: 0.0767 - accuracy: 0.9770 - val_loss: 0.0969 - val_accuracy: 0.9723\n",
            "Epoch 23/100\n",
            "844/844 [==============================] - 2s 2ms/step - loss: 0.0738 - accuracy: 0.9774 - val_loss: 0.0920 - val_accuracy: 0.9737\n",
            "Epoch 24/100\n",
            "844/844 [==============================] - 2s 2ms/step - loss: 0.0702 - accuracy: 0.9791 - val_loss: 0.1009 - val_accuracy: 0.9713\n",
            "Epoch 25/100\n",
            "844/844 [==============================] - 2s 2ms/step - loss: 0.0673 - accuracy: 0.9797 - val_loss: 0.0999 - val_accuracy: 0.9705\n",
            "Epoch 26/100\n",
            "844/844 [==============================] - 2s 2ms/step - loss: 0.0650 - accuracy: 0.9804 - val_loss: 0.0934 - val_accuracy: 0.9738\n",
            "Epoch 27/100\n",
            "844/844 [==============================] - 2s 2ms/step - loss: 0.0624 - accuracy: 0.9813 - val_loss: 0.0930 - val_accuracy: 0.9715\n",
            "Epoch 28/100\n",
            "844/844 [==============================] - 2s 2ms/step - loss: 0.0598 - accuracy: 0.9824 - val_loss: 0.0898 - val_accuracy: 0.9728\n",
            "Epoch 29/100\n",
            "844/844 [==============================] - 2s 2ms/step - loss: 0.0578 - accuracy: 0.9828 - val_loss: 0.0968 - val_accuracy: 0.9725\n",
            "Epoch 30/100\n",
            "844/844 [==============================] - 2s 2ms/step - loss: 0.0555 - accuracy: 0.9836 - val_loss: 0.0902 - val_accuracy: 0.9728\n",
            "Epoch 31/100\n",
            "844/844 [==============================] - 2s 2ms/step - loss: 0.0539 - accuracy: 0.9836 - val_loss: 0.0953 - val_accuracy: 0.9732\n",
            "Epoch 32/100\n",
            "844/844 [==============================] - 2s 2ms/step - loss: 0.0511 - accuracy: 0.9851 - val_loss: 0.0977 - val_accuracy: 0.9707\n",
            "Epoch 33/100\n",
            "844/844 [==============================] - 2s 2ms/step - loss: 0.0495 - accuracy: 0.9853 - val_loss: 0.0924 - val_accuracy: 0.9742\n",
            "Epoch 34/100\n",
            "844/844 [==============================] - 2s 2ms/step - loss: 0.0476 - accuracy: 0.9858 - val_loss: 0.1001 - val_accuracy: 0.9718\n",
            "Epoch 35/100\n",
            "844/844 [==============================] - 2s 2ms/step - loss: 0.0452 - accuracy: 0.9866 - val_loss: 0.0896 - val_accuracy: 0.9742\n",
            "Epoch 36/100\n",
            "844/844 [==============================] - 2s 2ms/step - loss: 0.0439 - accuracy: 0.9871 - val_loss: 0.0943 - val_accuracy: 0.9743\n",
            "Epoch 37/100\n",
            "844/844 [==============================] - 2s 2ms/step - loss: 0.0422 - accuracy: 0.9877 - val_loss: 0.1021 - val_accuracy: 0.9718\n",
            "Epoch 38/100\n",
            "844/844 [==============================] - 2s 3ms/step - loss: 0.0409 - accuracy: 0.9879 - val_loss: 0.0955 - val_accuracy: 0.9727\n",
            "Epoch 39/100\n",
            "844/844 [==============================] - 2s 2ms/step - loss: 0.0392 - accuracy: 0.9884 - val_loss: 0.0915 - val_accuracy: 0.9757\n",
            "Epoch 40/100\n",
            "844/844 [==============================] - 2s 2ms/step - loss: 0.0374 - accuracy: 0.9897 - val_loss: 0.0909 - val_accuracy: 0.9760\n",
            "Epoch 41/100\n",
            "844/844 [==============================] - 2s 2ms/step - loss: 0.0361 - accuracy: 0.9897 - val_loss: 0.0902 - val_accuracy: 0.9762\n",
            "Epoch 42/100\n",
            "844/844 [==============================] - 2s 2ms/step - loss: 0.0347 - accuracy: 0.9900 - val_loss: 0.0934 - val_accuracy: 0.9753\n",
            "Epoch 43/100\n",
            "844/844 [==============================] - 2s 2ms/step - loss: 0.0331 - accuracy: 0.9906 - val_loss: 0.0988 - val_accuracy: 0.9733\n",
            "Epoch 44/100\n",
            "844/844 [==============================] - 2s 2ms/step - loss: 0.0320 - accuracy: 0.9914 - val_loss: 0.0959 - val_accuracy: 0.9745\n",
            "Epoch 45/100\n",
            "844/844 [==============================] - 2s 2ms/step - loss: 0.0308 - accuracy: 0.9914 - val_loss: 0.0929 - val_accuracy: 0.9750\n",
            "Epoch 46/100\n",
            "844/844 [==============================] - 2s 2ms/step - loss: 0.0293 - accuracy: 0.9920 - val_loss: 0.0986 - val_accuracy: 0.9763\n",
            "Epoch 47/100\n",
            "844/844 [==============================] - 2s 2ms/step - loss: 0.0288 - accuracy: 0.9919 - val_loss: 0.0946 - val_accuracy: 0.9757\n",
            "Epoch 48/100\n",
            "844/844 [==============================] - 2s 2ms/step - loss: 0.0272 - accuracy: 0.9929 - val_loss: 0.1085 - val_accuracy: 0.9732\n",
            "Epoch 49/100\n",
            "844/844 [==============================] - 2s 2ms/step - loss: 0.0262 - accuracy: 0.9926 - val_loss: 0.1007 - val_accuracy: 0.9753\n",
            "Epoch 50/100\n",
            "844/844 [==============================] - 2s 2ms/step - loss: 0.0249 - accuracy: 0.9929 - val_loss: 0.0992 - val_accuracy: 0.9747\n",
            "Epoch 51/100\n",
            "844/844 [==============================] - 2s 2ms/step - loss: 0.0239 - accuracy: 0.9940 - val_loss: 0.1060 - val_accuracy: 0.9728\n",
            "Epoch 52/100\n",
            "844/844 [==============================] - 2s 2ms/step - loss: 0.0235 - accuracy: 0.9937 - val_loss: 0.1002 - val_accuracy: 0.9750\n",
            "Epoch 53/100\n",
            "844/844 [==============================] - 2s 2ms/step - loss: 0.0218 - accuracy: 0.9947 - val_loss: 0.0998 - val_accuracy: 0.9745\n",
            "Epoch 54/100\n",
            "844/844 [==============================] - 2s 2ms/step - loss: 0.0214 - accuracy: 0.9946 - val_loss: 0.1031 - val_accuracy: 0.9730\n",
            "Epoch 55/100\n",
            "844/844 [==============================] - 2s 2ms/step - loss: 0.0202 - accuracy: 0.9949 - val_loss: 0.1043 - val_accuracy: 0.9748\n",
            "Epoch 56/100\n",
            "844/844 [==============================] - 2s 2ms/step - loss: 0.0191 - accuracy: 0.9955 - val_loss: 0.1066 - val_accuracy: 0.9760\n",
            "Epoch 57/100\n",
            "844/844 [==============================] - 2s 2ms/step - loss: 0.0185 - accuracy: 0.9956 - val_loss: 0.1091 - val_accuracy: 0.9740\n",
            "Epoch 58/100\n",
            "844/844 [==============================] - 2s 2ms/step - loss: 0.0175 - accuracy: 0.9962 - val_loss: 0.1125 - val_accuracy: 0.9735\n",
            "Epoch 59/100\n",
            "844/844 [==============================] - 2s 2ms/step - loss: 0.0170 - accuracy: 0.9960 - val_loss: 0.1066 - val_accuracy: 0.9735\n",
            "Epoch 60/100\n",
            "844/844 [==============================] - 2s 2ms/step - loss: 0.0160 - accuracy: 0.9965 - val_loss: 0.1084 - val_accuracy: 0.9745\n",
            "Epoch 61/100\n",
            "844/844 [==============================] - 2s 2ms/step - loss: 0.0153 - accuracy: 0.9969 - val_loss: 0.1061 - val_accuracy: 0.9755\n",
            "Epoch 62/100\n",
            "844/844 [==============================] - 2s 2ms/step - loss: 0.0144 - accuracy: 0.9971 - val_loss: 0.1080 - val_accuracy: 0.9737\n",
            "Epoch 63/100\n",
            "844/844 [==============================] - 2s 2ms/step - loss: 0.0143 - accuracy: 0.9970 - val_loss: 0.1117 - val_accuracy: 0.9733\n",
            "Epoch 64/100\n",
            "844/844 [==============================] - 2s 2ms/step - loss: 0.0135 - accuracy: 0.9970 - val_loss: 0.1129 - val_accuracy: 0.9728\n",
            "Epoch 65/100\n",
            "844/844 [==============================] - 2s 2ms/step - loss: 0.0125 - accuracy: 0.9975 - val_loss: 0.1142 - val_accuracy: 0.9740\n",
            "Epoch 66/100\n",
            "844/844 [==============================] - 2s 2ms/step - loss: 0.0122 - accuracy: 0.9975 - val_loss: 0.1220 - val_accuracy: 0.9732\n",
            "Epoch 67/100\n",
            "844/844 [==============================] - 2s 2ms/step - loss: 0.0113 - accuracy: 0.9977 - val_loss: 0.1157 - val_accuracy: 0.9737\n",
            "Epoch 68/100\n",
            "844/844 [==============================] - 2s 3ms/step - loss: 0.0108 - accuracy: 0.9982 - val_loss: 0.1151 - val_accuracy: 0.9727\n",
            "Epoch 69/100\n",
            "844/844 [==============================] - 2s 2ms/step - loss: 0.0103 - accuracy: 0.9982 - val_loss: 0.1142 - val_accuracy: 0.9750\n",
            "Epoch 70/100\n",
            "844/844 [==============================] - 2s 2ms/step - loss: 0.0102 - accuracy: 0.9979 - val_loss: 0.1237 - val_accuracy: 0.9722\n",
            "Epoch 71/100\n",
            "844/844 [==============================] - 2s 3ms/step - loss: 0.0094 - accuracy: 0.9984 - val_loss: 0.1194 - val_accuracy: 0.9742\n",
            "Epoch 72/100\n",
            "844/844 [==============================] - 2s 2ms/step - loss: 0.0089 - accuracy: 0.9985 - val_loss: 0.1334 - val_accuracy: 0.9707\n",
            "Epoch 73/100\n",
            "844/844 [==============================] - 2s 2ms/step - loss: 0.0085 - accuracy: 0.9986 - val_loss: 0.1180 - val_accuracy: 0.9733\n",
            "Epoch 74/100\n",
            "844/844 [==============================] - 2s 2ms/step - loss: 0.0081 - accuracy: 0.9987 - val_loss: 0.1222 - val_accuracy: 0.9743\n",
            "Epoch 75/100\n",
            "844/844 [==============================] - 2s 2ms/step - loss: 0.0075 - accuracy: 0.9990 - val_loss: 0.1197 - val_accuracy: 0.9748\n",
            "Epoch 76/100\n",
            "844/844 [==============================] - 2s 2ms/step - loss: 0.0073 - accuracy: 0.9991 - val_loss: 0.1213 - val_accuracy: 0.9743\n",
            "Epoch 77/100\n",
            "844/844 [==============================] - 2s 2ms/step - loss: 0.0066 - accuracy: 0.9992 - val_loss: 0.1238 - val_accuracy: 0.9727\n",
            "Epoch 78/100\n",
            "844/844 [==============================] - 2s 3ms/step - loss: 0.0066 - accuracy: 0.9992 - val_loss: 0.1225 - val_accuracy: 0.9743\n",
            "Epoch 79/100\n",
            "844/844 [==============================] - 2s 2ms/step - loss: 0.0064 - accuracy: 0.9992 - val_loss: 0.1228 - val_accuracy: 0.9745\n",
            "Epoch 80/100\n",
            "844/844 [==============================] - 2s 2ms/step - loss: 0.0058 - accuracy: 0.9994 - val_loss: 0.1269 - val_accuracy: 0.9750\n",
            "Epoch 81/100\n",
            "844/844 [==============================] - 2s 2ms/step - loss: 0.0057 - accuracy: 0.9994 - val_loss: 0.1297 - val_accuracy: 0.9740\n",
            "Epoch 82/100\n",
            "844/844 [==============================] - 2s 3ms/step - loss: 0.0054 - accuracy: 0.9994 - val_loss: 0.1255 - val_accuracy: 0.9737\n",
            "Epoch 83/100\n",
            "844/844 [==============================] - 2s 3ms/step - loss: 0.0052 - accuracy: 0.9996 - val_loss: 0.1255 - val_accuracy: 0.9740\n",
            "Epoch 84/100\n",
            "844/844 [==============================] - 2s 3ms/step - loss: 0.0048 - accuracy: 0.9996 - val_loss: 0.1308 - val_accuracy: 0.9737\n",
            "Epoch 85/100\n",
            "844/844 [==============================] - 2s 3ms/step - loss: 0.0046 - accuracy: 0.9997 - val_loss: 0.1391 - val_accuracy: 0.9737\n",
            "Epoch 86/100\n",
            "844/844 [==============================] - 2s 3ms/step - loss: 0.0045 - accuracy: 0.9997 - val_loss: 0.1279 - val_accuracy: 0.9727\n",
            "Epoch 87/100\n",
            "844/844 [==============================] - 2s 2ms/step - loss: 0.0043 - accuracy: 0.9996 - val_loss: 0.1309 - val_accuracy: 0.9742\n",
            "Epoch 88/100\n",
            "844/844 [==============================] - 2s 3ms/step - loss: 0.0041 - accuracy: 0.9997 - val_loss: 0.1310 - val_accuracy: 0.9742\n",
            "Epoch 89/100\n",
            "844/844 [==============================] - 2s 2ms/step - loss: 0.0039 - accuracy: 0.9997 - val_loss: 0.1314 - val_accuracy: 0.9747\n",
            "Epoch 90/100\n",
            "844/844 [==============================] - 2s 3ms/step - loss: 0.0036 - accuracy: 0.9998 - val_loss: 0.1424 - val_accuracy: 0.9742\n",
            "Epoch 91/100\n",
            "844/844 [==============================] - 2s 2ms/step - loss: 0.0035 - accuracy: 0.9998 - val_loss: 0.1350 - val_accuracy: 0.9740\n",
            "Epoch 92/100\n",
            "844/844 [==============================] - 2s 3ms/step - loss: 0.0034 - accuracy: 0.9998 - val_loss: 0.1320 - val_accuracy: 0.9753\n",
            "Epoch 93/100\n",
            "844/844 [==============================] - 2s 2ms/step - loss: 0.0033 - accuracy: 0.9999 - val_loss: 0.1347 - val_accuracy: 0.9745\n",
            "Epoch 94/100\n",
            "844/844 [==============================] - 2s 2ms/step - loss: 0.0031 - accuracy: 0.9999 - val_loss: 0.1357 - val_accuracy: 0.9742\n",
            "Epoch 95/100\n",
            "844/844 [==============================] - 2s 3ms/step - loss: 0.0030 - accuracy: 0.9999 - val_loss: 0.1343 - val_accuracy: 0.9753\n",
            "Epoch 96/100\n",
            "844/844 [==============================] - 2s 3ms/step - loss: 0.0029 - accuracy: 0.9999 - val_loss: 0.1376 - val_accuracy: 0.9742\n",
            "Epoch 97/100\n",
            "844/844 [==============================] - 2s 3ms/step - loss: 0.0028 - accuracy: 0.9999 - val_loss: 0.1356 - val_accuracy: 0.9745\n",
            "Epoch 98/100\n",
            "844/844 [==============================] - 2s 2ms/step - loss: 0.0027 - accuracy: 0.9999 - val_loss: 0.1397 - val_accuracy: 0.9748\n",
            "Epoch 99/100\n",
            "844/844 [==============================] - 2s 3ms/step - loss: 0.0026 - accuracy: 0.9999 - val_loss: 0.1381 - val_accuracy: 0.9742\n",
            "Epoch 100/100\n",
            "844/844 [==============================] - 2s 3ms/step - loss: 0.0025 - accuracy: 0.9999 - val_loss: 0.1408 - val_accuracy: 0.9738\n"
          ],
          "name": "stdout"
        }
      ]
    },
    {
      "cell_type": "code",
      "metadata": {
        "colab": {
          "base_uri": "https://localhost:8080/"
        },
        "id": "2FcLdFZIKrjQ",
        "outputId": "d675f1c5-8459-423b-e1d8-69ec3dd59fc2"
      },
      "source": [
        "loss_deep_relu, accuracy_deep_relu = model.evaluate(X_test, y_test)\n",
        "results_df.loc['Deep - Relu']= [loss_deep_relu, accuracy_deep_relu]\n",
        "print(f'Test Loss {loss_deep_relu}, Accuracy {accuracy_deep_relu}')"
      ],
      "execution_count": 74,
      "outputs": [
        {
          "output_type": "stream",
          "text": [
            "313/313 [==============================] - 0s 1ms/step - loss: 0.1253 - accuracy: 0.9750\n",
            "Test Loss 0.12526196241378784, Accuracy 0.9750000238418579\n"
          ],
          "name": "stdout"
        }
      ]
    },
    {
      "cell_type": "code",
      "metadata": {
        "colab": {
          "base_uri": "https://localhost:8080/",
          "height": 404
        },
        "id": "CL7dxLAQK4Wn",
        "outputId": "242dc5fe-f86a-40db-98b6-af9659d2486b"
      },
      "source": [
        "fig, ax = plt.subplots(nrows=1, ncols=2, figsize=(10,6))\n",
        "plot_accuracy(history_deep_relu, ax[0], color='green')\n",
        "plot_loss(history_deep_relu, ax[1], color='green')"
      ],
      "execution_count": 75,
      "outputs": [
        {
          "output_type": "display_data",
          "data": {
            "image/png": "[encoded data removed]",
            "text/plain": [
              "<Figure size 720x432 with 2 Axes>"
            ]
          },
          "metadata": {
            "tags": [],
            "needs_background": "light"
          }
        }
      ]
    },
    {
      "cell_type": "markdown",
      "metadata": {
        "id": "wCsrl_hyK7ue"
      },
      "source": [
        "## Comparison"
      ]
    },
    {
      "cell_type": "code",
      "metadata": {
        "colab": {
          "base_uri": "https://localhost:8080/",
          "height": 166
        },
        "id": "RGxs9kJjK-YM",
        "outputId": "afc12a2a-0ab5-4406-cf1c-f7ed27ab9baa"
      },
      "source": [
        "results_df"
      ],
      "execution_count": 76,
      "outputs": [
        {
          "output_type": "execute_result",
          "data": {
            "text/html": [
              "<div>\n",
              "<style scoped>\n",
              "    .dataframe tbody tr th:only-of-type {\n",
              "        vertical-align: middle;\n",
              "    }\n",
              "\n",
              "    .dataframe tbody tr th {\n",
              "        vertical-align: top;\n",
              "    }\n",
              "\n",
              "    .dataframe thead th {\n",
              "        text-align: right;\n",
              "    }\n",
              "</style>\n",
              "<table border=\"1\" class=\"dataframe\">\n",
              "  <thead>\n",
              "    <tr style=\"text-align: right;\">\n",
              "      <th></th>\n",
              "      <th>Loss</th>\n",
              "      <th>Accuracy</th>\n",
              "    </tr>\n",
              "  </thead>\n",
              "  <tbody>\n",
              "    <tr>\n",
              "      <th>Shallow</th>\n",
              "      <td>0.193352</td>\n",
              "      <td>0.9444</td>\n",
              "    </tr>\n",
              "    <tr>\n",
              "      <th>Intermediate</th>\n",
              "      <td>0.184935</td>\n",
              "      <td>0.9459</td>\n",
              "    </tr>\n",
              "    <tr>\n",
              "      <th>Deep</th>\n",
              "      <td>0.333364</td>\n",
              "      <td>0.9157</td>\n",
              "    </tr>\n",
              "    <tr>\n",
              "      <th>Deep - Relu</th>\n",
              "      <td>0.125262</td>\n",
              "      <td>0.9750</td>\n",
              "    </tr>\n",
              "  </tbody>\n",
              "</table>\n",
              "</div>"
            ],
            "text/plain": [
              "                  Loss  Accuracy\n",
              "Shallow       0.193352    0.9444\n",
              "Intermediate  0.184935    0.9459\n",
              "Deep          0.333364    0.9157\n",
              "Deep - Relu   0.125262    0.9750"
            ]
          },
          "metadata": {
            "tags": []
          },
          "execution_count": 76
        }
      ]
    },
    {
      "cell_type": "markdown",
      "metadata": {
        "id": "8gsdL-plLCoN"
      },
      "source": [
        "## Accuracy\n",
        "* Relu was able to back propagate errors much more efficiently compared\n",
        "* We reached optimum in under 15 epochs with Relu Activation"
      ]
    },
    {
      "cell_type": "code",
      "metadata": {
        "colab": {
          "base_uri": "https://localhost:8080/",
          "height": 513
        },
        "id": "Fro88B18LIAU",
        "outputId": "6104383d-1a1e-4e21-e2a5-39d002e005ab"
      },
      "source": [
        "deep_acc_relu    = history_deep_relu.history['val_accuracy']\n",
        "deep_acc         = history_deep.history['val_accuracy']\n",
        "ranged           = range(1, epochs + 1)\n",
        "\n",
        "plt.figure(figsize=(10,8))\n",
        "plt.plot(ranged, deep_acc, label='Deep - Sigmoid')\n",
        "plt.plot(ranged, deep_acc_relu, label='Deep - Relu')\n",
        "plt.title('Comparison of Validation Accuracy')\n",
        "plt.legend()\n",
        "plt.xlabel('Epochs')\n",
        "plt.show()\n"
      ],
      "execution_count": 78,
      "outputs": [
        {
          "output_type": "display_data",
          "data": {
            "image/png": "[encoded data removed]",
            "text/plain": [
              "<Figure size 720x576 with 1 Axes>"
            ]
          },
          "metadata": {
            "tags": [],
            "needs_background": "light"
          }
        }
      ]
    },
    {
      "cell_type": "markdown",
      "metadata": {
        "id": "T3Ly8oGbLKeR"
      },
      "source": [
        "# Closing\n",
        "* We built models on the MNIST dataset\n",
        "* We used Dense connections and varied the depth of the layers\n",
        "* We showed the impact of activation function\n",
        "  * Sigmoid is inefficient due to neuron saturation\n",
        "  * reLu was dramatically more effective on the deep layer model\n",
        "* There are other improvements to explore\n",
        "  * Weight Initialization\n",
        "  * Optimizer (Momentum, AdaGrad, RMSProp, Adam)\n",
        "  * Learning Rates (Schedule, Adaptive, One Cycle)\n",
        "  * Batch Normalization\n",
        "  * Regularization\n",
        "* There are other models superior to Densely connected layers for computer vision\n",
        "  * Convolutional layers\n",
        "  * Pretrained architectures with Fine Tuning"
      ]
    },
    {
      "cell_type": "code",
      "metadata": {
        "id": "2sBhesNXLV1j"
      },
      "source": [
        ""
      ],
      "execution_count": null,
      "outputs": []
    }
  ]
}