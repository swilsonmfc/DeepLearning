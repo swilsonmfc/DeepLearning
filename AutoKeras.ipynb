{
  "nbformat": 4,
  "nbformat_minor": 0,
  "metadata": {
    "colab": {
      "name": "AutoKeras.ipynb",
      "provenance": [],
      "collapsed_sections": [],
      "authorship_tag": "ABX9TyOmK02cNG0PJrORysO2QS0f",
      "include_colab_link": true
    },
    "kernelspec": {
      "name": "python3",
      "display_name": "Python 3"
    },
    "language_info": {
      "name": "python"
    },
    "widgets": {
      "application/vnd.jupyter.widget-state+json": {
        "67f0f88ea5424b7aa95685a651f8bc1f": {
          "model_module": "@jupyter-widgets/controls",
          "model_name": "HBoxModel",
          "model_module_version": "1.5.0",
          "state": {
            "_view_name": "HBoxView",
            "_dom_classes": [],
            "_model_name": "HBoxModel",
            "_view_module": "@jupyter-widgets/controls",
            "_model_module_version": "1.5.0",
            "_view_count": null,
            "_view_module_version": "1.5.0",
            "box_style": "",
            "layout": "IPY_MODEL_628abe7bfbef48dc93eb5fa2d4c81662",
            "_model_module": "@jupyter-widgets/controls",
            "children": [
              "IPY_MODEL_95e23f446f7249e9901d67ad24f6ea68",
              "IPY_MODEL_113ab825a28b4e7f9927c6b691da72fc",
              "IPY_MODEL_edcb5ea9ce0c4d69ae5330d527195e6a"
            ]
          }
        },
        "628abe7bfbef48dc93eb5fa2d4c81662": {
          "model_module": "@jupyter-widgets/base",
          "model_name": "LayoutModel",
          "model_module_version": "1.2.0",
          "state": {
            "_view_name": "LayoutView",
            "grid_template_rows": null,
            "right": null,
            "justify_content": null,
            "_view_module": "@jupyter-widgets/base",
            "overflow": null,
            "_model_module_version": "1.2.0",
            "_view_count": null,
            "flex_flow": null,
            "width": null,
            "min_width": null,
            "border": null,
            "align_items": null,
            "bottom": null,
            "_model_module": "@jupyter-widgets/base",
            "top": null,
            "grid_column": null,
            "overflow_y": null,
            "overflow_x": null,
            "grid_auto_flow": null,
            "grid_area": null,
            "grid_template_columns": null,
            "flex": null,
            "_model_name": "LayoutModel",
            "justify_items": null,
            "grid_row": null,
            "max_height": null,
            "align_content": null,
            "visibility": null,
            "align_self": null,
            "height": null,
            "min_height": null,
            "padding": null,
            "grid_auto_rows": null,
            "grid_gap": null,
            "max_width": null,
            "order": null,
            "_view_module_version": "1.2.0",
            "grid_template_areas": null,
            "object_position": null,
            "object_fit": null,
            "grid_auto_columns": null,
            "margin": null,
            "display": null,
            "left": null
          }
        },
        "95e23f446f7249e9901d67ad24f6ea68": {
          "model_module": "@jupyter-widgets/controls",
          "model_name": "HTMLModel",
          "model_module_version": "1.5.0",
          "state": {
            "_view_name": "HTMLView",
            "style": "IPY_MODEL_2400029fd8844afdb70114c2b44e6cf3",
            "_dom_classes": [],
            "description": "",
            "_model_name": "HTMLModel",
            "placeholder": "​",
            "_view_module": "@jupyter-widgets/controls",
            "_model_module_version": "1.5.0",
            "value": "Dl Completed...: 100%",
            "_view_count": null,
            "_view_module_version": "1.5.0",
            "description_tooltip": null,
            "_model_module": "@jupyter-widgets/controls",
            "layout": "IPY_MODEL_74aff420da1343b3b4b86cae9aca8614"
          }
        },
        "113ab825a28b4e7f9927c6b691da72fc": {
          "model_module": "@jupyter-widgets/controls",
          "model_name": "FloatProgressModel",
          "model_module_version": "1.5.0",
          "state": {
            "_view_name": "ProgressView",
            "style": "IPY_MODEL_f30e77b4cd14493e94447ceead174f79",
            "_dom_classes": [],
            "description": "",
            "_model_name": "FloatProgressModel",
            "bar_style": "success",
            "max": 1,
            "_view_module": "@jupyter-widgets/controls",
            "_model_module_version": "1.5.0",
            "value": 1,
            "_view_count": null,
            "_view_module_version": "1.5.0",
            "orientation": "horizontal",
            "min": 0,
            "description_tooltip": null,
            "_model_module": "@jupyter-widgets/controls",
            "layout": "IPY_MODEL_5e09506c73c14e3cb2309c26a23ca7f7"
          }
        },
        "edcb5ea9ce0c4d69ae5330d527195e6a": {
          "model_module": "@jupyter-widgets/controls",
          "model_name": "HTMLModel",
          "model_module_version": "1.5.0",
          "state": {
            "_view_name": "HTMLView",
            "style": "IPY_MODEL_525ff78f02ac4b92b954e95bfb895bdf",
            "_dom_classes": [],
            "description": "",
            "_model_name": "HTMLModel",
            "placeholder": "​",
            "_view_module": "@jupyter-widgets/controls",
            "_model_module_version": "1.5.0",
            "value": " 2/2 [00:00&lt;00:00,  4.70 url/s]",
            "_view_count": null,
            "_view_module_version": "1.5.0",
            "description_tooltip": null,
            "_model_module": "@jupyter-widgets/controls",
            "layout": "IPY_MODEL_01768ccbedf44b5d8dfb08d18a203668"
          }
        },
        "2400029fd8844afdb70114c2b44e6cf3": {
          "model_module": "@jupyter-widgets/controls",
          "model_name": "DescriptionStyleModel",
          "model_module_version": "1.5.0",
          "state": {
            "_view_name": "StyleView",
            "_model_name": "DescriptionStyleModel",
            "description_width": "",
            "_view_module": "@jupyter-widgets/base",
            "_model_module_version": "1.5.0",
            "_view_count": null,
            "_view_module_version": "1.2.0",
            "_model_module": "@jupyter-widgets/controls"
          }
        },
        "74aff420da1343b3b4b86cae9aca8614": {
          "model_module": "@jupyter-widgets/base",
          "model_name": "LayoutModel",
          "model_module_version": "1.2.0",
          "state": {
            "_view_name": "LayoutView",
            "grid_template_rows": null,
            "right": null,
            "justify_content": null,
            "_view_module": "@jupyter-widgets/base",
            "overflow": null,
            "_model_module_version": "1.2.0",
            "_view_count": null,
            "flex_flow": null,
            "width": null,
            "min_width": null,
            "border": null,
            "align_items": null,
            "bottom": null,
            "_model_module": "@jupyter-widgets/base",
            "top": null,
            "grid_column": null,
            "overflow_y": null,
            "overflow_x": null,
            "grid_auto_flow": null,
            "grid_area": null,
            "grid_template_columns": null,
            "flex": null,
            "_model_name": "LayoutModel",
            "justify_items": null,
            "grid_row": null,
            "max_height": null,
            "align_content": null,
            "visibility": null,
            "align_self": null,
            "height": null,
            "min_height": null,
            "padding": null,
            "grid_auto_rows": null,
            "grid_gap": null,
            "max_width": null,
            "order": null,
            "_view_module_version": "1.2.0",
            "grid_template_areas": null,
            "object_position": null,
            "object_fit": null,
            "grid_auto_columns": null,
            "margin": null,
            "display": null,
            "left": null
          }
        },
        "f30e77b4cd14493e94447ceead174f79": {
          "model_module": "@jupyter-widgets/controls",
          "model_name": "ProgressStyleModel",
          "model_module_version": "1.5.0",
          "state": {
            "_view_name": "StyleView",
            "_model_name": "ProgressStyleModel",
            "description_width": "",
            "_view_module": "@jupyter-widgets/base",
            "_model_module_version": "1.5.0",
            "_view_count": null,
            "_view_module_version": "1.2.0",
            "bar_color": null,
            "_model_module": "@jupyter-widgets/controls"
          }
        },
        "5e09506c73c14e3cb2309c26a23ca7f7": {
          "model_module": "@jupyter-widgets/base",
          "model_name": "LayoutModel",
          "model_module_version": "1.2.0",
          "state": {
            "_view_name": "LayoutView",
            "grid_template_rows": null,
            "right": null,
            "justify_content": null,
            "_view_module": "@jupyter-widgets/base",
            "overflow": null,
            "_model_module_version": "1.2.0",
            "_view_count": null,
            "flex_flow": null,
            "width": "20px",
            "min_width": null,
            "border": null,
            "align_items": null,
            "bottom": null,
            "_model_module": "@jupyter-widgets/base",
            "top": null,
            "grid_column": null,
            "overflow_y": null,
            "overflow_x": null,
            "grid_auto_flow": null,
            "grid_area": null,
            "grid_template_columns": null,
            "flex": null,
            "_model_name": "LayoutModel",
            "justify_items": null,
            "grid_row": null,
            "max_height": null,
            "align_content": null,
            "visibility": null,
            "align_self": null,
            "height": null,
            "min_height": null,
            "padding": null,
            "grid_auto_rows": null,
            "grid_gap": null,
            "max_width": null,
            "order": null,
            "_view_module_version": "1.2.0",
            "grid_template_areas": null,
            "object_position": null,
            "object_fit": null,
            "grid_auto_columns": null,
            "margin": null,
            "display": null,
            "left": null
          }
        },
        "525ff78f02ac4b92b954e95bfb895bdf": {
          "model_module": "@jupyter-widgets/controls",
          "model_name": "DescriptionStyleModel",
          "model_module_version": "1.5.0",
          "state": {
            "_view_name": "StyleView",
            "_model_name": "DescriptionStyleModel",
            "description_width": "",
            "_view_module": "@jupyter-widgets/base",
            "_model_module_version": "1.5.0",
            "_view_count": null,
            "_view_module_version": "1.2.0",
            "_model_module": "@jupyter-widgets/controls"
          }
        },
        "01768ccbedf44b5d8dfb08d18a203668": {
          "model_module": "@jupyter-widgets/base",
          "model_name": "LayoutModel",
          "model_module_version": "1.2.0",
          "state": {
            "_view_name": "LayoutView",
            "grid_template_rows": null,
            "right": null,
            "justify_content": null,
            "_view_module": "@jupyter-widgets/base",
            "overflow": null,
            "_model_module_version": "1.2.0",
            "_view_count": null,
            "flex_flow": null,
            "width": null,
            "min_width": null,
            "border": null,
            "align_items": null,
            "bottom": null,
            "_model_module": "@jupyter-widgets/base",
            "top": null,
            "grid_column": null,
            "overflow_y": null,
            "overflow_x": null,
            "grid_auto_flow": null,
            "grid_area": null,
            "grid_template_columns": null,
            "flex": null,
            "_model_name": "LayoutModel",
            "justify_items": null,
            "grid_row": null,
            "max_height": null,
            "align_content": null,
            "visibility": null,
            "align_self": null,
            "height": null,
            "min_height": null,
            "padding": null,
            "grid_auto_rows": null,
            "grid_gap": null,
            "max_width": null,
            "order": null,
            "_view_module_version": "1.2.0",
            "grid_template_areas": null,
            "object_position": null,
            "object_fit": null,
            "grid_auto_columns": null,
            "margin": null,
            "display": null,
            "left": null
          }
        },
        "642c9ecd7c8b4a2b9b418a4f1e81ceeb": {
          "model_module": "@jupyter-widgets/controls",
          "model_name": "HBoxModel",
          "model_module_version": "1.5.0",
          "state": {
            "_view_name": "HBoxView",
            "_dom_classes": [],
            "_model_name": "HBoxModel",
            "_view_module": "@jupyter-widgets/controls",
            "_model_module_version": "1.5.0",
            "_view_count": null,
            "_view_module_version": "1.5.0",
            "box_style": "",
            "layout": "IPY_MODEL_0cd9283258ae4d39901aff74a0057c9f",
            "_model_module": "@jupyter-widgets/controls",
            "children": [
              "IPY_MODEL_bcbbc4c1da344b8faedeb350653946e2",
              "IPY_MODEL_353fc3d3433d42aebd2a9c341376d49b",
              "IPY_MODEL_18c2fd73bd1b434ab457ef6f19e2e3ac"
            ]
          }
        },
        "0cd9283258ae4d39901aff74a0057c9f": {
          "model_module": "@jupyter-widgets/base",
          "model_name": "LayoutModel",
          "model_module_version": "1.2.0",
          "state": {
            "_view_name": "LayoutView",
            "grid_template_rows": null,
            "right": null,
            "justify_content": null,
            "_view_module": "@jupyter-widgets/base",
            "overflow": null,
            "_model_module_version": "1.2.0",
            "_view_count": null,
            "flex_flow": null,
            "width": null,
            "min_width": null,
            "border": null,
            "align_items": null,
            "bottom": null,
            "_model_module": "@jupyter-widgets/base",
            "top": null,
            "grid_column": null,
            "overflow_y": null,
            "overflow_x": null,
            "grid_auto_flow": null,
            "grid_area": null,
            "grid_template_columns": null,
            "flex": null,
            "_model_name": "LayoutModel",
            "justify_items": null,
            "grid_row": null,
            "max_height": null,
            "align_content": null,
            "visibility": null,
            "align_self": null,
            "height": null,
            "min_height": null,
            "padding": null,
            "grid_auto_rows": null,
            "grid_gap": null,
            "max_width": null,
            "order": null,
            "_view_module_version": "1.2.0",
            "grid_template_areas": null,
            "object_position": null,
            "object_fit": null,
            "grid_auto_columns": null,
            "margin": null,
            "display": null,
            "left": null
          }
        },
        "bcbbc4c1da344b8faedeb350653946e2": {
          "model_module": "@jupyter-widgets/controls",
          "model_name": "HTMLModel",
          "model_module_version": "1.5.0",
          "state": {
            "_view_name": "HTMLView",
            "style": "IPY_MODEL_cb0d2bca7e69441490783827ecca4757",
            "_dom_classes": [],
            "description": "",
            "_model_name": "HTMLModel",
            "placeholder": "​",
            "_view_module": "@jupyter-widgets/controls",
            "_model_module_version": "1.5.0",
            "value": "Dl Size...: 100%",
            "_view_count": null,
            "_view_module_version": "1.5.0",
            "description_tooltip": null,
            "_model_module": "@jupyter-widgets/controls",
            "layout": "IPY_MODEL_5497fb9bb7d74309b72120b6bc38d720"
          }
        },
        "353fc3d3433d42aebd2a9c341376d49b": {
          "model_module": "@jupyter-widgets/controls",
          "model_name": "FloatProgressModel",
          "model_module_version": "1.5.0",
          "state": {
            "_view_name": "ProgressView",
            "style": "IPY_MODEL_55f1c5d5a4f142fd91d2543158dc6142",
            "_dom_classes": [],
            "description": "",
            "_model_name": "FloatProgressModel",
            "bar_style": "success",
            "max": 1,
            "_view_module": "@jupyter-widgets/controls",
            "_model_module_version": "1.5.0",
            "value": 1,
            "_view_count": null,
            "_view_module_version": "1.5.0",
            "orientation": "horizontal",
            "min": 0,
            "description_tooltip": null,
            "_model_module": "@jupyter-widgets/controls",
            "layout": "IPY_MODEL_c5320a8cae1f42b989858f798a6d2ad9"
          }
        },
        "18c2fd73bd1b434ab457ef6f19e2e3ac": {
          "model_module": "@jupyter-widgets/controls",
          "model_name": "HTMLModel",
          "model_module_version": "1.5.0",
          "state": {
            "_view_name": "HTMLView",
            "style": "IPY_MODEL_baf6bb7610c649d78669b662ecb3b38e",
            "_dom_classes": [],
            "description": "",
            "_model_name": "HTMLModel",
            "placeholder": "​",
            "_view_module": "@jupyter-widgets/controls",
            "_model_module_version": "1.5.0",
            "value": " 1/1 [00:00&lt;00:00,  4.81 MiB/s]",
            "_view_count": null,
            "_view_module_version": "1.5.0",
            "description_tooltip": null,
            "_model_module": "@jupyter-widgets/controls",
            "layout": "IPY_MODEL_a3b0806487284c93866cfddf32bfdc24"
          }
        },
        "cb0d2bca7e69441490783827ecca4757": {
          "model_module": "@jupyter-widgets/controls",
          "model_name": "DescriptionStyleModel",
          "model_module_version": "1.5.0",
          "state": {
            "_view_name": "StyleView",
            "_model_name": "DescriptionStyleModel",
            "description_width": "",
            "_view_module": "@jupyter-widgets/base",
            "_model_module_version": "1.5.0",
            "_view_count": null,
            "_view_module_version": "1.2.0",
            "_model_module": "@jupyter-widgets/controls"
          }
        },
        "5497fb9bb7d74309b72120b6bc38d720": {
          "model_module": "@jupyter-widgets/base",
          "model_name": "LayoutModel",
          "model_module_version": "1.2.0",
          "state": {
            "_view_name": "LayoutView",
            "grid_template_rows": null,
            "right": null,
            "justify_content": null,
            "_view_module": "@jupyter-widgets/base",
            "overflow": null,
            "_model_module_version": "1.2.0",
            "_view_count": null,
            "flex_flow": null,
            "width": null,
            "min_width": null,
            "border": null,
            "align_items": null,
            "bottom": null,
            "_model_module": "@jupyter-widgets/base",
            "top": null,
            "grid_column": null,
            "overflow_y": null,
            "overflow_x": null,
            "grid_auto_flow": null,
            "grid_area": null,
            "grid_template_columns": null,
            "flex": null,
            "_model_name": "LayoutModel",
            "justify_items": null,
            "grid_row": null,
            "max_height": null,
            "align_content": null,
            "visibility": null,
            "align_self": null,
            "height": null,
            "min_height": null,
            "padding": null,
            "grid_auto_rows": null,
            "grid_gap": null,
            "max_width": null,
            "order": null,
            "_view_module_version": "1.2.0",
            "grid_template_areas": null,
            "object_position": null,
            "object_fit": null,
            "grid_auto_columns": null,
            "margin": null,
            "display": null,
            "left": null
          }
        },
        "55f1c5d5a4f142fd91d2543158dc6142": {
          "model_module": "@jupyter-widgets/controls",
          "model_name": "ProgressStyleModel",
          "model_module_version": "1.5.0",
          "state": {
            "_view_name": "StyleView",
            "_model_name": "ProgressStyleModel",
            "description_width": "",
            "_view_module": "@jupyter-widgets/base",
            "_model_module_version": "1.5.0",
            "_view_count": null,
            "_view_module_version": "1.2.0",
            "bar_color": null,
            "_model_module": "@jupyter-widgets/controls"
          }
        },
        "c5320a8cae1f42b989858f798a6d2ad9": {
          "model_module": "@jupyter-widgets/base",
          "model_name": "LayoutModel",
          "model_module_version": "1.2.0",
          "state": {
            "_view_name": "LayoutView",
            "grid_template_rows": null,
            "right": null,
            "justify_content": null,
            "_view_module": "@jupyter-widgets/base",
            "overflow": null,
            "_model_module_version": "1.2.0",
            "_view_count": null,
            "flex_flow": null,
            "width": "20px",
            "min_width": null,
            "border": null,
            "align_items": null,
            "bottom": null,
            "_model_module": "@jupyter-widgets/base",
            "top": null,
            "grid_column": null,
            "overflow_y": null,
            "overflow_x": null,
            "grid_auto_flow": null,
            "grid_area": null,
            "grid_template_columns": null,
            "flex": null,
            "_model_name": "LayoutModel",
            "justify_items": null,
            "grid_row": null,
            "max_height": null,
            "align_content": null,
            "visibility": null,
            "align_self": null,
            "height": null,
            "min_height": null,
            "padding": null,
            "grid_auto_rows": null,
            "grid_gap": null,
            "max_width": null,
            "order": null,
            "_view_module_version": "1.2.0",
            "grid_template_areas": null,
            "object_position": null,
            "object_fit": null,
            "grid_auto_columns": null,
            "margin": null,
            "display": null,
            "left": null
          }
        },
        "baf6bb7610c649d78669b662ecb3b38e": {
          "model_module": "@jupyter-widgets/controls",
          "model_name": "DescriptionStyleModel",
          "model_module_version": "1.5.0",
          "state": {
            "_view_name": "StyleView",
            "_model_name": "DescriptionStyleModel",
            "description_width": "",
            "_view_module": "@jupyter-widgets/base",
            "_model_module_version": "1.5.0",
            "_view_count": null,
            "_view_module_version": "1.2.0",
            "_model_module": "@jupyter-widgets/controls"
          }
        },
        "a3b0806487284c93866cfddf32bfdc24": {
          "model_module": "@jupyter-widgets/base",
          "model_name": "LayoutModel",
          "model_module_version": "1.2.0",
          "state": {
            "_view_name": "LayoutView",
            "grid_template_rows": null,
            "right": null,
            "justify_content": null,
            "_view_module": "@jupyter-widgets/base",
            "overflow": null,
            "_model_module_version": "1.2.0",
            "_view_count": null,
            "flex_flow": null,
            "width": null,
            "min_width": null,
            "border": null,
            "align_items": null,
            "bottom": null,
            "_model_module": "@jupyter-widgets/base",
            "top": null,
            "grid_column": null,
            "overflow_y": null,
            "overflow_x": null,
            "grid_auto_flow": null,
            "grid_area": null,
            "grid_template_columns": null,
            "flex": null,
            "_model_name": "LayoutModel",
            "justify_items": null,
            "grid_row": null,
            "max_height": null,
            "align_content": null,
            "visibility": null,
            "align_self": null,
            "height": null,
            "min_height": null,
            "padding": null,
            "grid_auto_rows": null,
            "grid_gap": null,
            "max_width": null,
            "order": null,
            "_view_module_version": "1.2.0",
            "grid_template_areas": null,
            "object_position": null,
            "object_fit": null,
            "grid_auto_columns": null,
            "margin": null,
            "display": null,
            "left": null
          }
        },
        "02bb858abaab4878adf9234aec9bedc5": {
          "model_module": "@jupyter-widgets/controls",
          "model_name": "HBoxModel",
          "model_module_version": "1.5.0",
          "state": {
            "_view_name": "HBoxView",
            "_dom_classes": [],
            "_model_name": "HBoxModel",
            "_view_module": "@jupyter-widgets/controls",
            "_model_module_version": "1.5.0",
            "_view_count": null,
            "_view_module_version": "1.5.0",
            "box_style": "",
            "layout": "IPY_MODEL_10fa6494925b451f8a307a6d95a9133b",
            "_model_module": "@jupyter-widgets/controls",
            "children": [
              "IPY_MODEL_bd5afb0676ce472295e9e99f097dcf9f",
              "IPY_MODEL_1d7b6378079549009731d78bb53db09b",
              "IPY_MODEL_8c9113e4c0f04ceb9c682daf3eee5b4d"
            ]
          }
        },
        "10fa6494925b451f8a307a6d95a9133b": {
          "model_module": "@jupyter-widgets/base",
          "model_name": "LayoutModel",
          "model_module_version": "1.2.0",
          "state": {
            "_view_name": "LayoutView",
            "grid_template_rows": null,
            "right": null,
            "justify_content": null,
            "_view_module": "@jupyter-widgets/base",
            "overflow": null,
            "_model_module_version": "1.2.0",
            "_view_count": null,
            "flex_flow": null,
            "width": null,
            "min_width": null,
            "border": null,
            "align_items": null,
            "bottom": null,
            "_model_module": "@jupyter-widgets/base",
            "top": null,
            "grid_column": null,
            "overflow_y": null,
            "overflow_x": null,
            "grid_auto_flow": null,
            "grid_area": null,
            "grid_template_columns": null,
            "flex": null,
            "_model_name": "LayoutModel",
            "justify_items": null,
            "grid_row": null,
            "max_height": null,
            "align_content": null,
            "visibility": null,
            "align_self": null,
            "height": null,
            "min_height": null,
            "padding": null,
            "grid_auto_rows": null,
            "grid_gap": null,
            "max_width": null,
            "order": null,
            "_view_module_version": "1.2.0",
            "grid_template_areas": null,
            "object_position": null,
            "object_fit": null,
            "grid_auto_columns": null,
            "margin": null,
            "display": null,
            "left": null
          }
        },
        "bd5afb0676ce472295e9e99f097dcf9f": {
          "model_module": "@jupyter-widgets/controls",
          "model_name": "HTMLModel",
          "model_module_version": "1.5.0",
          "state": {
            "_view_name": "HTMLView",
            "style": "IPY_MODEL_e01535b540d14b61a4cdc753090d0c60",
            "_dom_classes": [],
            "description": "",
            "_model_name": "HTMLModel",
            "placeholder": "​",
            "_view_module": "@jupyter-widgets/controls",
            "_model_module_version": "1.5.0",
            "value": "",
            "_view_count": null,
            "_view_module_version": "1.5.0",
            "description_tooltip": null,
            "_model_module": "@jupyter-widgets/controls",
            "layout": "IPY_MODEL_1af1c95aee2048f493ac9d34a23a6f0b"
          }
        },
        "1d7b6378079549009731d78bb53db09b": {
          "model_module": "@jupyter-widgets/controls",
          "model_name": "FloatProgressModel",
          "model_module_version": "1.5.0",
          "state": {
            "_view_name": "ProgressView",
            "style": "IPY_MODEL_2b662da243b1485aa39d5fd6176e2ee6",
            "_dom_classes": [],
            "description": "",
            "_model_name": "FloatProgressModel",
            "bar_style": "info",
            "max": 1,
            "_view_module": "@jupyter-widgets/controls",
            "_model_module_version": "1.5.0",
            "value": 1,
            "_view_count": null,
            "_view_module_version": "1.5.0",
            "orientation": "horizontal",
            "min": 0,
            "description_tooltip": null,
            "_model_module": "@jupyter-widgets/controls",
            "layout": "IPY_MODEL_19b8916696d443ea97cc26708cf10705"
          }
        },
        "8c9113e4c0f04ceb9c682daf3eee5b4d": {
          "model_module": "@jupyter-widgets/controls",
          "model_name": "HTMLModel",
          "model_module_version": "1.5.0",
          "state": {
            "_view_name": "HTMLView",
            "style": "IPY_MODEL_f9fab739b4ae44df991470c32e7a5118",
            "_dom_classes": [],
            "description": "",
            "_model_name": "HTMLModel",
            "placeholder": "​",
            "_view_module": "@jupyter-widgets/controls",
            "_model_module_version": "1.5.0",
            "value": " 12535/0 [00:27&lt;00:00, 445.49 examples/s]",
            "_view_count": null,
            "_view_module_version": "1.5.0",
            "description_tooltip": null,
            "_model_module": "@jupyter-widgets/controls",
            "layout": "IPY_MODEL_1142f8bef5d745119d55d8acf8a1e94c"
          }
        },
        "e01535b540d14b61a4cdc753090d0c60": {
          "model_module": "@jupyter-widgets/controls",
          "model_name": "DescriptionStyleModel",
          "model_module_version": "1.5.0",
          "state": {
            "_view_name": "StyleView",
            "_model_name": "DescriptionStyleModel",
            "description_width": "",
            "_view_module": "@jupyter-widgets/base",
            "_model_module_version": "1.5.0",
            "_view_count": null,
            "_view_module_version": "1.2.0",
            "_model_module": "@jupyter-widgets/controls"
          }
        },
        "1af1c95aee2048f493ac9d34a23a6f0b": {
          "model_module": "@jupyter-widgets/base",
          "model_name": "LayoutModel",
          "model_module_version": "1.2.0",
          "state": {
            "_view_name": "LayoutView",
            "grid_template_rows": null,
            "right": null,
            "justify_content": null,
            "_view_module": "@jupyter-widgets/base",
            "overflow": null,
            "_model_module_version": "1.2.0",
            "_view_count": null,
            "flex_flow": null,
            "width": null,
            "min_width": null,
            "border": null,
            "align_items": null,
            "bottom": null,
            "_model_module": "@jupyter-widgets/base",
            "top": null,
            "grid_column": null,
            "overflow_y": null,
            "overflow_x": null,
            "grid_auto_flow": null,
            "grid_area": null,
            "grid_template_columns": null,
            "flex": null,
            "_model_name": "LayoutModel",
            "justify_items": null,
            "grid_row": null,
            "max_height": null,
            "align_content": null,
            "visibility": null,
            "align_self": null,
            "height": null,
            "min_height": null,
            "padding": null,
            "grid_auto_rows": null,
            "grid_gap": null,
            "max_width": null,
            "order": null,
            "_view_module_version": "1.2.0",
            "grid_template_areas": null,
            "object_position": null,
            "object_fit": null,
            "grid_auto_columns": null,
            "margin": null,
            "display": null,
            "left": null
          }
        },
        "2b662da243b1485aa39d5fd6176e2ee6": {
          "model_module": "@jupyter-widgets/controls",
          "model_name": "ProgressStyleModel",
          "model_module_version": "1.5.0",
          "state": {
            "_view_name": "StyleView",
            "_model_name": "ProgressStyleModel",
            "description_width": "",
            "_view_module": "@jupyter-widgets/base",
            "_model_module_version": "1.5.0",
            "_view_count": null,
            "_view_module_version": "1.2.0",
            "bar_color": null,
            "_model_module": "@jupyter-widgets/controls"
          }
        },
        "19b8916696d443ea97cc26708cf10705": {
          "model_module": "@jupyter-widgets/base",
          "model_name": "LayoutModel",
          "model_module_version": "1.2.0",
          "state": {
            "_view_name": "LayoutView",
            "grid_template_rows": null,
            "right": null,
            "justify_content": null,
            "_view_module": "@jupyter-widgets/base",
            "overflow": null,
            "_model_module_version": "1.2.0",
            "_view_count": null,
            "flex_flow": null,
            "width": "20px",
            "min_width": null,
            "border": null,
            "align_items": null,
            "bottom": null,
            "_model_module": "@jupyter-widgets/base",
            "top": null,
            "grid_column": null,
            "overflow_y": null,
            "overflow_x": null,
            "grid_auto_flow": null,
            "grid_area": null,
            "grid_template_columns": null,
            "flex": null,
            "_model_name": "LayoutModel",
            "justify_items": null,
            "grid_row": null,
            "max_height": null,
            "align_content": null,
            "visibility": null,
            "align_self": null,
            "height": null,
            "min_height": null,
            "padding": null,
            "grid_auto_rows": null,
            "grid_gap": null,
            "max_width": null,
            "order": null,
            "_view_module_version": "1.2.0",
            "grid_template_areas": null,
            "object_position": null,
            "object_fit": null,
            "grid_auto_columns": null,
            "margin": null,
            "display": null,
            "left": null
          }
        },
        "f9fab739b4ae44df991470c32e7a5118": {
          "model_module": "@jupyter-widgets/controls",
          "model_name": "DescriptionStyleModel",
          "model_module_version": "1.5.0",
          "state": {
            "_view_name": "StyleView",
            "_model_name": "DescriptionStyleModel",
            "description_width": "",
            "_view_module": "@jupyter-widgets/base",
            "_model_module_version": "1.5.0",
            "_view_count": null,
            "_view_module_version": "1.2.0",
            "_model_module": "@jupyter-widgets/controls"
          }
        },
        "1142f8bef5d745119d55d8acf8a1e94c": {
          "model_module": "@jupyter-widgets/base",
          "model_name": "LayoutModel",
          "model_module_version": "1.2.0",
          "state": {
            "_view_name": "LayoutView",
            "grid_template_rows": null,
            "right": null,
            "justify_content": null,
            "_view_module": "@jupyter-widgets/base",
            "overflow": null,
            "_model_module_version": "1.2.0",
            "_view_count": null,
            "flex_flow": null,
            "width": null,
            "min_width": null,
            "border": null,
            "align_items": null,
            "bottom": null,
            "_model_module": "@jupyter-widgets/base",
            "top": null,
            "grid_column": null,
            "overflow_y": null,
            "overflow_x": null,
            "grid_auto_flow": null,
            "grid_area": null,
            "grid_template_columns": null,
            "flex": null,
            "_model_name": "LayoutModel",
            "justify_items": null,
            "grid_row": null,
            "max_height": null,
            "align_content": null,
            "visibility": null,
            "align_self": null,
            "height": null,
            "min_height": null,
            "padding": null,
            "grid_auto_rows": null,
            "grid_gap": null,
            "max_width": null,
            "order": null,
            "_view_module_version": "1.2.0",
            "grid_template_areas": null,
            "object_position": null,
            "object_fit": null,
            "grid_auto_columns": null,
            "margin": null,
            "display": null,
            "left": null
          }
        },
        "e083d1f6b5af4925ad662b0946ce29dd": {
          "model_module": "@jupyter-widgets/controls",
          "model_name": "HBoxModel",
          "model_module_version": "1.5.0",
          "state": {
            "_view_name": "HBoxView",
            "_dom_classes": [],
            "_model_name": "HBoxModel",
            "_view_module": "@jupyter-widgets/controls",
            "_model_module_version": "1.5.0",
            "_view_count": null,
            "_view_module_version": "1.5.0",
            "box_style": "",
            "layout": "IPY_MODEL_2ea847e5f6ef4c1987d9234d87a61e08",
            "_model_module": "@jupyter-widgets/controls",
            "children": [
              "IPY_MODEL_039da480b09248d28be8f2bafb3c86fa",
              "IPY_MODEL_ca08dcc59e084623bc84617493f08ee2",
              "IPY_MODEL_d29cfdebe87a455d9ffe92f179591a26"
            ]
          }
        },
        "2ea847e5f6ef4c1987d9234d87a61e08": {
          "model_module": "@jupyter-widgets/base",
          "model_name": "LayoutModel",
          "model_module_version": "1.2.0",
          "state": {
            "_view_name": "LayoutView",
            "grid_template_rows": null,
            "right": null,
            "justify_content": null,
            "_view_module": "@jupyter-widgets/base",
            "overflow": null,
            "_model_module_version": "1.2.0",
            "_view_count": null,
            "flex_flow": null,
            "width": null,
            "min_width": null,
            "border": null,
            "align_items": null,
            "bottom": null,
            "_model_module": "@jupyter-widgets/base",
            "top": null,
            "grid_column": null,
            "overflow_y": null,
            "overflow_x": null,
            "grid_auto_flow": null,
            "grid_area": null,
            "grid_template_columns": null,
            "flex": null,
            "_model_name": "LayoutModel",
            "justify_items": null,
            "grid_row": null,
            "max_height": null,
            "align_content": null,
            "visibility": null,
            "align_self": null,
            "height": null,
            "min_height": null,
            "padding": null,
            "grid_auto_rows": null,
            "grid_gap": null,
            "max_width": null,
            "order": null,
            "_view_module_version": "1.2.0",
            "grid_template_areas": null,
            "object_position": null,
            "object_fit": null,
            "grid_auto_columns": null,
            "margin": null,
            "display": null,
            "left": null
          }
        },
        "039da480b09248d28be8f2bafb3c86fa": {
          "model_module": "@jupyter-widgets/controls",
          "model_name": "HTMLModel",
          "model_module_version": "1.5.0",
          "state": {
            "_view_name": "HTMLView",
            "style": "IPY_MODEL_59074b9797894011a68cac4b268746bb",
            "_dom_classes": [],
            "description": "",
            "_model_name": "HTMLModel",
            "placeholder": "​",
            "_view_module": "@jupyter-widgets/controls",
            "_model_module_version": "1.5.0",
            "value": "100%",
            "_view_count": null,
            "_view_module_version": "1.5.0",
            "description_tooltip": null,
            "_model_module": "@jupyter-widgets/controls",
            "layout": "IPY_MODEL_47d80ac68f0649e6af9c44dc14d64703"
          }
        },
        "ca08dcc59e084623bc84617493f08ee2": {
          "model_module": "@jupyter-widgets/controls",
          "model_name": "FloatProgressModel",
          "model_module_version": "1.5.0",
          "state": {
            "_view_name": "ProgressView",
            "style": "IPY_MODEL_5c6c715ccf044f41b9904840bacd2f05",
            "_dom_classes": [],
            "description": "",
            "_model_name": "FloatProgressModel",
            "bar_style": "danger",
            "max": 12573,
            "_view_module": "@jupyter-widgets/controls",
            "_model_module_version": "1.5.0",
            "value": 12572,
            "_view_count": null,
            "_view_module_version": "1.5.0",
            "orientation": "horizontal",
            "min": 0,
            "description_tooltip": null,
            "_model_module": "@jupyter-widgets/controls",
            "layout": "IPY_MODEL_d72753c1f37c4ad7b42ce1a430588e72"
          }
        },
        "d29cfdebe87a455d9ffe92f179591a26": {
          "model_module": "@jupyter-widgets/controls",
          "model_name": "HTMLModel",
          "model_module_version": "1.5.0",
          "state": {
            "_view_name": "HTMLView",
            "style": "IPY_MODEL_f5f33a6ae8424e6f9a7f4a37dc3caa1e",
            "_dom_classes": [],
            "description": "",
            "_model_name": "HTMLModel",
            "placeholder": "​",
            "_view_module": "@jupyter-widgets/controls",
            "_model_module_version": "1.5.0",
            "value": " 12572/12573 [00:00&lt;00:00, 100073.39 examples/s]",
            "_view_count": null,
            "_view_module_version": "1.5.0",
            "description_tooltip": null,
            "_model_module": "@jupyter-widgets/controls",
            "layout": "IPY_MODEL_c843e415af724a6292f4686eb454fc65"
          }
        },
        "59074b9797894011a68cac4b268746bb": {
          "model_module": "@jupyter-widgets/controls",
          "model_name": "DescriptionStyleModel",
          "model_module_version": "1.5.0",
          "state": {
            "_view_name": "StyleView",
            "_model_name": "DescriptionStyleModel",
            "description_width": "",
            "_view_module": "@jupyter-widgets/base",
            "_model_module_version": "1.5.0",
            "_view_count": null,
            "_view_module_version": "1.2.0",
            "_model_module": "@jupyter-widgets/controls"
          }
        },
        "47d80ac68f0649e6af9c44dc14d64703": {
          "model_module": "@jupyter-widgets/base",
          "model_name": "LayoutModel",
          "model_module_version": "1.2.0",
          "state": {
            "_view_name": "LayoutView",
            "grid_template_rows": null,
            "right": null,
            "justify_content": null,
            "_view_module": "@jupyter-widgets/base",
            "overflow": null,
            "_model_module_version": "1.2.0",
            "_view_count": null,
            "flex_flow": null,
            "width": null,
            "min_width": null,
            "border": null,
            "align_items": null,
            "bottom": null,
            "_model_module": "@jupyter-widgets/base",
            "top": null,
            "grid_column": null,
            "overflow_y": null,
            "overflow_x": null,
            "grid_auto_flow": null,
            "grid_area": null,
            "grid_template_columns": null,
            "flex": null,
            "_model_name": "LayoutModel",
            "justify_items": null,
            "grid_row": null,
            "max_height": null,
            "align_content": null,
            "visibility": null,
            "align_self": null,
            "height": null,
            "min_height": null,
            "padding": null,
            "grid_auto_rows": null,
            "grid_gap": null,
            "max_width": null,
            "order": null,
            "_view_module_version": "1.2.0",
            "grid_template_areas": null,
            "object_position": null,
            "object_fit": null,
            "grid_auto_columns": null,
            "margin": null,
            "display": null,
            "left": null
          }
        },
        "5c6c715ccf044f41b9904840bacd2f05": {
          "model_module": "@jupyter-widgets/controls",
          "model_name": "ProgressStyleModel",
          "model_module_version": "1.5.0",
          "state": {
            "_view_name": "StyleView",
            "_model_name": "ProgressStyleModel",
            "description_width": "",
            "_view_module": "@jupyter-widgets/base",
            "_model_module_version": "1.5.0",
            "_view_count": null,
            "_view_module_version": "1.2.0",
            "bar_color": null,
            "_model_module": "@jupyter-widgets/controls"
          }
        },
        "d72753c1f37c4ad7b42ce1a430588e72": {
          "model_module": "@jupyter-widgets/base",
          "model_name": "LayoutModel",
          "model_module_version": "1.2.0",
          "state": {
            "_view_name": "LayoutView",
            "grid_template_rows": null,
            "right": null,
            "justify_content": null,
            "_view_module": "@jupyter-widgets/base",
            "overflow": null,
            "_model_module_version": "1.2.0",
            "_view_count": null,
            "flex_flow": null,
            "width": null,
            "min_width": null,
            "border": null,
            "align_items": null,
            "bottom": null,
            "_model_module": "@jupyter-widgets/base",
            "top": null,
            "grid_column": null,
            "overflow_y": null,
            "overflow_x": null,
            "grid_auto_flow": null,
            "grid_area": null,
            "grid_template_columns": null,
            "flex": null,
            "_model_name": "LayoutModel",
            "justify_items": null,
            "grid_row": null,
            "max_height": null,
            "align_content": null,
            "visibility": null,
            "align_self": null,
            "height": null,
            "min_height": null,
            "padding": null,
            "grid_auto_rows": null,
            "grid_gap": null,
            "max_width": null,
            "order": null,
            "_view_module_version": "1.2.0",
            "grid_template_areas": null,
            "object_position": null,
            "object_fit": null,
            "grid_auto_columns": null,
            "margin": null,
            "display": null,
            "left": null
          }
        },
        "f5f33a6ae8424e6f9a7f4a37dc3caa1e": {
          "model_module": "@jupyter-widgets/controls",
          "model_name": "DescriptionStyleModel",
          "model_module_version": "1.5.0",
          "state": {
            "_view_name": "StyleView",
            "_model_name": "DescriptionStyleModel",
            "description_width": "",
            "_view_module": "@jupyter-widgets/base",
            "_model_module_version": "1.5.0",
            "_view_count": null,
            "_view_module_version": "1.2.0",
            "_model_module": "@jupyter-widgets/controls"
          }
        },
        "c843e415af724a6292f4686eb454fc65": {
          "model_module": "@jupyter-widgets/base",
          "model_name": "LayoutModel",
          "model_module_version": "1.2.0",
          "state": {
            "_view_name": "LayoutView",
            "grid_template_rows": null,
            "right": null,
            "justify_content": null,
            "_view_module": "@jupyter-widgets/base",
            "overflow": null,
            "_model_module_version": "1.2.0",
            "_view_count": null,
            "flex_flow": null,
            "width": null,
            "min_width": null,
            "border": null,
            "align_items": null,
            "bottom": null,
            "_model_module": "@jupyter-widgets/base",
            "top": null,
            "grid_column": null,
            "overflow_y": null,
            "overflow_x": null,
            "grid_auto_flow": null,
            "grid_area": null,
            "grid_template_columns": null,
            "flex": null,
            "_model_name": "LayoutModel",
            "justify_items": null,
            "grid_row": null,
            "max_height": null,
            "align_content": null,
            "visibility": null,
            "align_self": null,
            "height": null,
            "min_height": null,
            "padding": null,
            "grid_auto_rows": null,
            "grid_gap": null,
            "max_width": null,
            "order": null,
            "_view_module_version": "1.2.0",
            "grid_template_areas": null,
            "object_position": null,
            "object_fit": null,
            "grid_auto_columns": null,
            "margin": null,
            "display": null,
            "left": null
          }
        }
      }
    }
  },
  "cells": [
    {
      "cell_type": "markdown",
      "metadata": {
        "id": "view-in-github",
        "colab_type": "text"
      },
      "source": [
        "<a href=\"https://colab.research.google.com/github/swilsonmfc/deeplearning/blob/master/AutoKeras.ipynb\" target=\"_parent\"><img src=\"https://colab.research.google.com/assets/colab-badge.svg\" alt=\"Open In Colab\"/></a>"
      ]
    },
    {
      "cell_type": "markdown",
      "metadata": {
        "id": "BYKBiOJ2h3_K"
      },
      "source": [
        "# AutoKeras, D-Tale & PyCM\n",
        "\n",
        "![](https://autokeras.com/img/row_red.svg)"
      ]
    },
    {
      "cell_type": "markdown",
      "metadata": {
        "id": "cQM3GvjNlnr-"
      },
      "source": [
        "# Import"
      ]
    },
    {
      "cell_type": "code",
      "metadata": {
        "colab": {
          "base_uri": "https://localhost:8080/"
        },
        "id": "wuZXqmY6l8il",
        "outputId": "066b705e-1c21-4f0f-936e-4118eb31b99d"
      },
      "source": [
        "!pip install dtale\n",
        "!pip install autokeras\n",
        "!pip install pycm"
      ],
      "execution_count": 1,
      "outputs": [
        {
          "output_type": "stream",
          "name": "stdout",
          "text": [
            "Collecting dtale\n",
            "  Downloading dtale-1.59.1-py2.py3-none-any.whl (11.4 MB)\n",
            "\u001b[K     |████████████████████████████████| 11.4 MB 18.3 MB/s \n",
            "\u001b[?25hCollecting dash-colorscales\n",
            "  Downloading dash_colorscales-0.0.4.tar.gz (62 kB)\n",
            "\u001b[K     |████████████████████████████████| 62 kB 1.0 MB/s \n",
            "\u001b[?25hRequirement already satisfied: six in /usr/local/lib/python3.7/dist-packages (from dtale) (1.15.0)\n",
            "Requirement already satisfied: requests in /usr/local/lib/python3.7/dist-packages (from dtale) (2.23.0)\n",
            "Collecting statsmodels==0.12.2\n",
            "  Downloading statsmodels-0.12.2-cp37-cp37m-manylinux1_x86_64.whl (9.5 MB)\n",
            "\u001b[K     |████████████████████████████████| 9.5 MB 39.3 MB/s \n",
            "\u001b[?25hCollecting ppscore\n",
            "  Downloading ppscore-1.2.0.tar.gz (47 kB)\n",
            "\u001b[K     |████████████████████████████████| 47 kB 4.9 MB/s \n",
            "\u001b[?25hCollecting dash-bootstrap-components\n",
            "  Downloading dash_bootstrap_components-1.0.0-py3-none-any.whl (207 kB)\n",
            "\u001b[K     |████████████████████████████████| 207 kB 55.5 MB/s \n",
            "\u001b[?25hRequirement already satisfied: matplotlib in /usr/local/lib/python3.7/dist-packages (from dtale) (3.2.2)\n",
            "Requirement already satisfied: et-xmlfile in /usr/local/lib/python3.7/dist-packages (from dtale) (1.1.0)\n",
            "Requirement already satisfied: scipy in /usr/local/lib/python3.7/dist-packages (from dtale) (1.4.1)\n",
            "Requirement already satisfied: pandas in /usr/local/lib/python3.7/dist-packages (from dtale) (1.1.5)\n",
            "Requirement already satisfied: numpy in /usr/local/lib/python3.7/dist-packages (from dtale) (1.19.5)\n",
            "Requirement already satisfied: openpyxl in /usr/local/lib/python3.7/dist-packages (from dtale) (2.5.9)\n",
            "Requirement already satisfied: networkx in /usr/local/lib/python3.7/dist-packages (from dtale) (2.6.3)\n",
            "Collecting scikit-learn==0.24.2\n",
            "  Downloading scikit_learn-0.24.2-cp37-cp37m-manylinux2010_x86_64.whl (22.3 MB)\n",
            "\u001b[K     |████████████████████████████████| 22.3 MB 1.8 MB/s \n",
            "\u001b[?25hRequirement already satisfied: future>=0.14.0 in /usr/local/lib/python3.7/dist-packages (from dtale) (0.16.0)\n",
            "Collecting flask-ngrok\n",
            "  Downloading flask_ngrok-0.0.25-py3-none-any.whl (3.1 kB)\n",
            "Requirement already satisfied: seaborn in /usr/local/lib/python3.7/dist-packages (from dtale) (0.11.2)\n",
            "Requirement already satisfied: xlrd in /usr/local/lib/python3.7/dist-packages (from dtale) (1.1.0)\n",
            "Collecting dash-daq\n",
            "  Downloading dash_daq-0.5.0.tar.gz (642 kB)\n",
            "\u001b[K     |████████████████████████████████| 642 kB 58.8 MB/s \n",
            "\u001b[?25hCollecting strsimpy\n",
            "  Downloading strsimpy-0.2.1-py3-none-any.whl (45 kB)\n",
            "\u001b[K     |████████████████████████████████| 45 kB 4.3 MB/s \n",
            "\u001b[?25hRequirement already satisfied: Flask in /usr/local/lib/python3.7/dist-packages (from dtale) (1.1.4)\n",
            "Collecting missingno<=0.4.2\n",
            "  Downloading missingno-0.4.2-py3-none-any.whl (9.7 kB)\n",
            "Collecting squarify\n",
            "  Downloading squarify-0.4.3-py3-none-any.whl (4.3 kB)\n",
            "Collecting dash>=2.0.0\n",
            "  Downloading dash-2.0.0-py3-none-any.whl (7.3 MB)\n",
            "\u001b[K     |████████████████████████████████| 7.3 MB 44.7 MB/s \n",
            "\u001b[?25hRequirement already satisfied: xarray in /usr/local/lib/python3.7/dist-packages (from dtale) (0.18.2)\n",
            "Collecting lz4\n",
            "  Downloading lz4-3.1.3-cp37-cp37m-manylinux2010_x86_64.whl (1.8 MB)\n",
            "\u001b[K     |████████████████████████████████| 1.8 MB 42.0 MB/s \n",
            "\u001b[?25hCollecting Flask-Compress\n",
            "  Downloading Flask_Compress-1.10.1-py3-none-any.whl (7.9 kB)\n",
            "Requirement already satisfied: itsdangerous in /usr/local/lib/python3.7/dist-packages (from dtale) (1.1.0)\n",
            "Collecting kaleido\n",
            "  Downloading kaleido-0.2.1-py2.py3-none-manylinux1_x86_64.whl (79.9 MB)\n",
            "\u001b[K     |████████████████████████████████| 79.9 MB 44 kB/s \n",
            "\u001b[?25hCollecting plotly>=5.0.0\n",
            "  Downloading plotly-5.3.1-py2.py3-none-any.whl (23.9 MB)\n",
            "\u001b[K     |████████████████████████████████| 23.9 MB 1.7 MB/s \n",
            "\u001b[?25hCollecting threadpoolctl>=2.0.0\n",
            "  Downloading threadpoolctl-3.0.0-py3-none-any.whl (14 kB)\n",
            "Requirement already satisfied: joblib>=0.11 in /usr/local/lib/python3.7/dist-packages (from scikit-learn==0.24.2->dtale) (1.0.1)\n",
            "Requirement already satisfied: patsy>=0.5 in /usr/local/lib/python3.7/dist-packages (from statsmodels==0.12.2->dtale) (0.5.2)\n",
            "Collecting dash-table==5.0.0\n",
            "  Downloading dash_table-5.0.0.tar.gz (3.4 kB)\n",
            "Collecting dash-html-components==2.0.0\n",
            "  Downloading dash_html_components-2.0.0.tar.gz (3.8 kB)\n",
            "Collecting dash-core-components==2.0.0\n",
            "  Downloading dash_core_components-2.0.0.tar.gz (3.4 kB)\n",
            "Requirement already satisfied: Jinja2<3.0,>=2.10.1 in /usr/local/lib/python3.7/dist-packages (from Flask->dtale) (2.11.3)\n",
            "Requirement already satisfied: Werkzeug<2.0,>=0.15 in /usr/local/lib/python3.7/dist-packages (from Flask->dtale) (1.0.1)\n",
            "Requirement already satisfied: click<8.0,>=5.1 in /usr/local/lib/python3.7/dist-packages (from Flask->dtale) (7.1.2)\n",
            "Requirement already satisfied: MarkupSafe>=0.23 in /usr/local/lib/python3.7/dist-packages (from Jinja2<3.0,>=2.10.1->Flask->dtale) (2.0.1)\n",
            "Requirement already satisfied: python-dateutil>=2.7.3 in /usr/local/lib/python3.7/dist-packages (from pandas->dtale) (2.8.2)\n",
            "Requirement already satisfied: pytz>=2017.2 in /usr/local/lib/python3.7/dist-packages (from pandas->dtale) (2018.9)\n",
            "Collecting tenacity>=6.2.0\n",
            "  Downloading tenacity-8.0.1-py3-none-any.whl (24 kB)\n",
            "Collecting brotli\n",
            "  Downloading Brotli-1.0.9-cp37-cp37m-manylinux1_x86_64.whl (357 kB)\n",
            "\u001b[K     |████████████████████████████████| 357 kB 42.0 MB/s \n",
            "\u001b[?25hRequirement already satisfied: pyparsing!=2.0.4,!=2.1.2,!=2.1.6,>=2.0.1 in /usr/local/lib/python3.7/dist-packages (from matplotlib->dtale) (2.4.7)\n",
            "Requirement already satisfied: cycler>=0.10 in /usr/local/lib/python3.7/dist-packages (from matplotlib->dtale) (0.10.0)\n",
            "Requirement already satisfied: kiwisolver>=1.0.1 in /usr/local/lib/python3.7/dist-packages (from matplotlib->dtale) (1.3.2)\n",
            "Requirement already satisfied: jdcal in /usr/local/lib/python3.7/dist-packages (from openpyxl->dtale) (1.4.1)\n",
            "Requirement already satisfied: certifi>=2017.4.17 in /usr/local/lib/python3.7/dist-packages (from requests->dtale) (2021.5.30)\n",
            "Requirement already satisfied: urllib3!=1.25.0,!=1.25.1,<1.26,>=1.21.1 in /usr/local/lib/python3.7/dist-packages (from requests->dtale) (1.24.3)\n",
            "Requirement already satisfied: chardet<4,>=3.0.2 in /usr/local/lib/python3.7/dist-packages (from requests->dtale) (3.0.4)\n",
            "Requirement already satisfied: idna<3,>=2.5 in /usr/local/lib/python3.7/dist-packages (from requests->dtale) (2.10)\n",
            "Requirement already satisfied: setuptools>=40.4 in /usr/local/lib/python3.7/dist-packages (from xarray->dtale) (57.4.0)\n",
            "Building wheels for collected packages: dash-core-components, dash-html-components, dash-table, dash-colorscales, dash-daq, ppscore\n",
            "  Building wheel for dash-core-components (setup.py) ... \u001b[?25l\u001b[?25hdone\n",
            "  Created wheel for dash-core-components: filename=dash_core_components-2.0.0-py3-none-any.whl size=3821 sha256=0aba9c4c254d1cb27a32a05578d154d8250160d5bcf08c5258f6ddd1d0c3a90f\n",
            "  Stored in directory: /root/.cache/pip/wheels/00/f9/c7/1a6437d794ed753ea9bc9079e761d4fc803a1f1f5d3697b9ec\n",
            "  Building wheel for dash-html-components (setup.py) ... \u001b[?25l\u001b[?25hdone\n",
            "  Created wheel for dash-html-components: filename=dash_html_components-2.0.0-py3-none-any.whl size=4089 sha256=52ad2e60d74b3f2f1d09b551a6ad1a213d9d3454dfedbc9a498bde5506eec3a6\n",
            "  Stored in directory: /root/.cache/pip/wheels/ec/6b/81/05aceabd8b27f724e2c96784016287cc1bfbc349ebfda451de\n",
            "  Building wheel for dash-table (setup.py) ... \u001b[?25l\u001b[?25hdone\n",
            "  Created wheel for dash-table: filename=dash_table-5.0.0-py3-none-any.whl size=3911 sha256=57c18c09188db56ad111052cfbe00a75a0aad25dcaa614fa6e8f1a5b37f1b110\n",
            "  Stored in directory: /root/.cache/pip/wheels/85/5d/4e/7c276b57992951dbe770bf5caad6448d0539c510663aefd2e2\n",
            "  Building wheel for dash-colorscales (setup.py) ... \u001b[?25l\u001b[?25hdone\n",
            "  Created wheel for dash-colorscales: filename=dash_colorscales-0.0.4-py3-none-any.whl size=62589 sha256=4b99f37ea63d557c5af39979ab8effbc256444b3fe49c7f1a07ccef47b27b2f1\n",
            "  Stored in directory: /root/.cache/pip/wheels/2f/22/7e/183ba2af565e3eb955021fbb4fe8fe4a6b1ed8ae3e5c03236a\n",
            "  Building wheel for dash-daq (setup.py) ... \u001b[?25l\u001b[?25hdone\n",
            "  Created wheel for dash-daq: filename=dash_daq-0.5.0-py3-none-any.whl size=669716 sha256=d07d0f4e41a8a960b5e9e632803cc14f387726b271299fb7e7ae69c3baa6900c\n",
            "  Stored in directory: /root/.cache/pip/wheels/fe/54/53/a8d448db5592874db4313240571ca2c069e55f6a6b29bf5847\n",
            "  Building wheel for ppscore (setup.py) ... \u001b[?25l\u001b[?25hdone\n",
            "  Created wheel for ppscore: filename=ppscore-1.2.0-py2.py3-none-any.whl size=13068 sha256=5af1d6991a6c0aa71abb72bed38df1ac4332ec469c90e5e4ac47efde847332b6\n",
            "  Stored in directory: /root/.cache/pip/wheels/d2/3c/58/2ff786414b21713edc6f4fdb54fdee89ac37bca5edd1f60634\n",
            "Successfully built dash-core-components dash-html-components dash-table dash-colorscales dash-daq ppscore\n",
            "Installing collected packages: tenacity, brotli, threadpoolctl, plotly, Flask-Compress, dash-table, dash-html-components, dash-core-components, scikit-learn, dash, strsimpy, statsmodels, squarify, ppscore, missingno, lz4, kaleido, flask-ngrok, dash-daq, dash-colorscales, dash-bootstrap-components, dtale\n",
            "  Attempting uninstall: plotly\n",
            "    Found existing installation: plotly 4.4.1\n",
            "    Uninstalling plotly-4.4.1:\n",
            "      Successfully uninstalled plotly-4.4.1\n",
            "  Attempting uninstall: scikit-learn\n",
            "    Found existing installation: scikit-learn 0.22.2.post1\n",
            "    Uninstalling scikit-learn-0.22.2.post1:\n",
            "      Successfully uninstalled scikit-learn-0.22.2.post1\n",
            "  Attempting uninstall: statsmodels\n",
            "    Found existing installation: statsmodels 0.10.2\n",
            "    Uninstalling statsmodels-0.10.2:\n",
            "      Successfully uninstalled statsmodels-0.10.2\n",
            "  Attempting uninstall: missingno\n",
            "    Found existing installation: missingno 0.5.0\n",
            "    Uninstalling missingno-0.5.0:\n",
            "      Successfully uninstalled missingno-0.5.0\n",
            "Successfully installed Flask-Compress-1.10.1 brotli-1.0.9 dash-2.0.0 dash-bootstrap-components-1.0.0 dash-colorscales-0.0.4 dash-core-components-2.0.0 dash-daq-0.5.0 dash-html-components-2.0.0 dash-table-5.0.0 dtale-1.59.1 flask-ngrok-0.0.25 kaleido-0.2.1 lz4-3.1.3 missingno-0.4.2 plotly-5.3.1 ppscore-1.2.0 scikit-learn-0.24.2 squarify-0.4.3 statsmodels-0.12.2 strsimpy-0.2.1 tenacity-8.0.1 threadpoolctl-3.0.0\n",
            "Collecting autokeras\n",
            "  Downloading autokeras-1.0.16-py3-none-any.whl (166 kB)\n",
            "\u001b[K     |████████████████████████████████| 166 kB 29.0 MB/s \n",
            "\u001b[?25hRequirement already satisfied: packaging in /usr/local/lib/python3.7/dist-packages (from autokeras) (21.0)\n",
            "Collecting tensorflow<=2.5.0,>=2.3.0\n",
            "  Downloading tensorflow-2.5.0-cp37-cp37m-manylinux2010_x86_64.whl (454.3 MB)\n",
            "\u001b[K     |████████████████████████████████| 454.3 MB 16 kB/s \n",
            "\u001b[?25hCollecting keras-tuner>=1.0.2\n",
            "  Downloading keras_tuner-1.0.4-py3-none-any.whl (97 kB)\n",
            "\u001b[K     |████████████████████████████████| 97 kB 9.2 MB/s \n",
            "\u001b[?25hRequirement already satisfied: scikit-learn in /usr/local/lib/python3.7/dist-packages (from autokeras) (0.24.2)\n",
            "Requirement already satisfied: pandas in /usr/local/lib/python3.7/dist-packages (from autokeras) (1.1.5)\n",
            "Requirement already satisfied: tensorboard in /usr/local/lib/python3.7/dist-packages (from keras-tuner>=1.0.2->autokeras) (2.6.0)\n",
            "Requirement already satisfied: scipy in /usr/local/lib/python3.7/dist-packages (from keras-tuner>=1.0.2->autokeras) (1.4.1)\n",
            "Requirement already satisfied: requests in /usr/local/lib/python3.7/dist-packages (from keras-tuner>=1.0.2->autokeras) (2.23.0)\n",
            "Requirement already satisfied: numpy in /usr/local/lib/python3.7/dist-packages (from keras-tuner>=1.0.2->autokeras) (1.19.5)\n",
            "Collecting kt-legacy\n",
            "  Downloading kt_legacy-1.0.4-py3-none-any.whl (9.6 kB)\n",
            "Requirement already satisfied: ipython in /usr/local/lib/python3.7/dist-packages (from keras-tuner>=1.0.2->autokeras) (5.5.0)\n",
            "Requirement already satisfied: wrapt~=1.12.1 in /usr/local/lib/python3.7/dist-packages (from tensorflow<=2.5.0,>=2.3.0->autokeras) (1.12.1)\n",
            "Requirement already satisfied: six~=1.15.0 in /usr/local/lib/python3.7/dist-packages (from tensorflow<=2.5.0,>=2.3.0->autokeras) (1.15.0)\n",
            "Requirement already satisfied: typing-extensions~=3.7.4 in /usr/local/lib/python3.7/dist-packages (from tensorflow<=2.5.0,>=2.3.0->autokeras) (3.7.4.3)\n",
            "Collecting grpcio~=1.34.0\n",
            "  Downloading grpcio-1.34.1-cp37-cp37m-manylinux2014_x86_64.whl (4.0 MB)\n",
            "\u001b[K     |████████████████████████████████| 4.0 MB 45.8 MB/s \n",
            "\u001b[?25hRequirement already satisfied: flatbuffers~=1.12.0 in /usr/local/lib/python3.7/dist-packages (from tensorflow<=2.5.0,>=2.3.0->autokeras) (1.12)\n",
            "Requirement already satisfied: protobuf>=3.9.2 in /usr/local/lib/python3.7/dist-packages (from tensorflow<=2.5.0,>=2.3.0->autokeras) (3.17.3)\n",
            "Collecting keras-nightly~=2.5.0.dev\n",
            "  Downloading keras_nightly-2.5.0.dev2021032900-py2.py3-none-any.whl (1.2 MB)\n",
            "\u001b[K     |████████████████████████████████| 1.2 MB 49.0 MB/s \n",
            "\u001b[?25hRequirement already satisfied: opt-einsum~=3.3.0 in /usr/local/lib/python3.7/dist-packages (from tensorflow<=2.5.0,>=2.3.0->autokeras) (3.3.0)\n",
            "Requirement already satisfied: wheel~=0.35 in /usr/local/lib/python3.7/dist-packages (from tensorflow<=2.5.0,>=2.3.0->autokeras) (0.37.0)\n",
            "Requirement already satisfied: keras-preprocessing~=1.1.2 in /usr/local/lib/python3.7/dist-packages (from tensorflow<=2.5.0,>=2.3.0->autokeras) (1.1.2)\n",
            "Requirement already satisfied: google-pasta~=0.2 in /usr/local/lib/python3.7/dist-packages (from tensorflow<=2.5.0,>=2.3.0->autokeras) (0.2.0)\n",
            "Collecting tensorflow-estimator<2.6.0,>=2.5.0rc0\n",
            "  Downloading tensorflow_estimator-2.5.0-py2.py3-none-any.whl (462 kB)\n",
            "\u001b[K     |████████████████████████████████| 462 kB 39.1 MB/s \n",
            "\u001b[?25hRequirement already satisfied: termcolor~=1.1.0 in /usr/local/lib/python3.7/dist-packages (from tensorflow<=2.5.0,>=2.3.0->autokeras) (1.1.0)\n",
            "Requirement already satisfied: absl-py~=0.10 in /usr/local/lib/python3.7/dist-packages (from tensorflow<=2.5.0,>=2.3.0->autokeras) (0.12.0)\n",
            "Requirement already satisfied: h5py~=3.1.0 in /usr/local/lib/python3.7/dist-packages (from tensorflow<=2.5.0,>=2.3.0->autokeras) (3.1.0)\n",
            "Requirement already satisfied: astunparse~=1.6.3 in /usr/local/lib/python3.7/dist-packages (from tensorflow<=2.5.0,>=2.3.0->autokeras) (1.6.3)\n",
            "Requirement already satisfied: gast==0.4.0 in /usr/local/lib/python3.7/dist-packages (from tensorflow<=2.5.0,>=2.3.0->autokeras) (0.4.0)\n",
            "Requirement already satisfied: cached-property in /usr/local/lib/python3.7/dist-packages (from h5py~=3.1.0->tensorflow<=2.5.0,>=2.3.0->autokeras) (1.5.2)\n",
            "Requirement already satisfied: werkzeug>=0.11.15 in /usr/local/lib/python3.7/dist-packages (from tensorboard->keras-tuner>=1.0.2->autokeras) (1.0.1)\n",
            "Requirement already satisfied: google-auth<2,>=1.6.3 in /usr/local/lib/python3.7/dist-packages (from tensorboard->keras-tuner>=1.0.2->autokeras) (1.35.0)\n",
            "Requirement already satisfied: tensorboard-plugin-wit>=1.6.0 in /usr/local/lib/python3.7/dist-packages (from tensorboard->keras-tuner>=1.0.2->autokeras) (1.8.0)\n",
            "Requirement already satisfied: markdown>=2.6.8 in /usr/local/lib/python3.7/dist-packages (from tensorboard->keras-tuner>=1.0.2->autokeras) (3.3.4)\n",
            "Requirement already satisfied: setuptools>=41.0.0 in /usr/local/lib/python3.7/dist-packages (from tensorboard->keras-tuner>=1.0.2->autokeras) (57.4.0)\n",
            "Requirement already satisfied: tensorboard-data-server<0.7.0,>=0.6.0 in /usr/local/lib/python3.7/dist-packages (from tensorboard->keras-tuner>=1.0.2->autokeras) (0.6.1)\n",
            "Requirement already satisfied: google-auth-oauthlib<0.5,>=0.4.1 in /usr/local/lib/python3.7/dist-packages (from tensorboard->keras-tuner>=1.0.2->autokeras) (0.4.6)\n",
            "Requirement already satisfied: cachetools<5.0,>=2.0.0 in /usr/local/lib/python3.7/dist-packages (from google-auth<2,>=1.6.3->tensorboard->keras-tuner>=1.0.2->autokeras) (4.2.4)\n",
            "Requirement already satisfied: rsa<5,>=3.1.4 in /usr/local/lib/python3.7/dist-packages (from google-auth<2,>=1.6.3->tensorboard->keras-tuner>=1.0.2->autokeras) (4.7.2)\n",
            "Requirement already satisfied: pyasn1-modules>=0.2.1 in /usr/local/lib/python3.7/dist-packages (from google-auth<2,>=1.6.3->tensorboard->keras-tuner>=1.0.2->autokeras) (0.2.8)\n",
            "Requirement already satisfied: requests-oauthlib>=0.7.0 in /usr/local/lib/python3.7/dist-packages (from google-auth-oauthlib<0.5,>=0.4.1->tensorboard->keras-tuner>=1.0.2->autokeras) (1.3.0)\n",
            "Requirement already satisfied: importlib-metadata in /usr/local/lib/python3.7/dist-packages (from markdown>=2.6.8->tensorboard->keras-tuner>=1.0.2->autokeras) (4.8.1)\n",
            "Requirement already satisfied: pyasn1<0.5.0,>=0.4.6 in /usr/local/lib/python3.7/dist-packages (from pyasn1-modules>=0.2.1->google-auth<2,>=1.6.3->tensorboard->keras-tuner>=1.0.2->autokeras) (0.4.8)\n",
            "Requirement already satisfied: certifi>=2017.4.17 in /usr/local/lib/python3.7/dist-packages (from requests->keras-tuner>=1.0.2->autokeras) (2021.5.30)\n",
            "Requirement already satisfied: urllib3!=1.25.0,!=1.25.1,<1.26,>=1.21.1 in /usr/local/lib/python3.7/dist-packages (from requests->keras-tuner>=1.0.2->autokeras) (1.24.3)\n",
            "Requirement already satisfied: idna<3,>=2.5 in /usr/local/lib/python3.7/dist-packages (from requests->keras-tuner>=1.0.2->autokeras) (2.10)\n",
            "Requirement already satisfied: chardet<4,>=3.0.2 in /usr/local/lib/python3.7/dist-packages (from requests->keras-tuner>=1.0.2->autokeras) (3.0.4)\n",
            "Requirement already satisfied: oauthlib>=3.0.0 in /usr/local/lib/python3.7/dist-packages (from requests-oauthlib>=0.7.0->google-auth-oauthlib<0.5,>=0.4.1->tensorboard->keras-tuner>=1.0.2->autokeras) (3.1.1)\n",
            "Requirement already satisfied: zipp>=0.5 in /usr/local/lib/python3.7/dist-packages (from importlib-metadata->markdown>=2.6.8->tensorboard->keras-tuner>=1.0.2->autokeras) (3.6.0)\n",
            "Requirement already satisfied: decorator in /usr/local/lib/python3.7/dist-packages (from ipython->keras-tuner>=1.0.2->autokeras) (4.4.2)\n",
            "Requirement already satisfied: simplegeneric>0.8 in /usr/local/lib/python3.7/dist-packages (from ipython->keras-tuner>=1.0.2->autokeras) (0.8.1)\n",
            "Requirement already satisfied: traitlets>=4.2 in /usr/local/lib/python3.7/dist-packages (from ipython->keras-tuner>=1.0.2->autokeras) (5.1.0)\n",
            "Requirement already satisfied: pygments in /usr/local/lib/python3.7/dist-packages (from ipython->keras-tuner>=1.0.2->autokeras) (2.6.1)\n",
            "Requirement already satisfied: prompt-toolkit<2.0.0,>=1.0.4 in /usr/local/lib/python3.7/dist-packages (from ipython->keras-tuner>=1.0.2->autokeras) (1.0.18)\n",
            "Requirement already satisfied: pexpect in /usr/local/lib/python3.7/dist-packages (from ipython->keras-tuner>=1.0.2->autokeras) (4.8.0)\n",
            "Requirement already satisfied: pickleshare in /usr/local/lib/python3.7/dist-packages (from ipython->keras-tuner>=1.0.2->autokeras) (0.7.5)\n",
            "Requirement already satisfied: wcwidth in /usr/local/lib/python3.7/dist-packages (from prompt-toolkit<2.0.0,>=1.0.4->ipython->keras-tuner>=1.0.2->autokeras) (0.2.5)\n",
            "Requirement already satisfied: pyparsing>=2.0.2 in /usr/local/lib/python3.7/dist-packages (from packaging->autokeras) (2.4.7)\n",
            "Requirement already satisfied: python-dateutil>=2.7.3 in /usr/local/lib/python3.7/dist-packages (from pandas->autokeras) (2.8.2)\n",
            "Requirement already satisfied: pytz>=2017.2 in /usr/local/lib/python3.7/dist-packages (from pandas->autokeras) (2018.9)\n",
            "Requirement already satisfied: ptyprocess>=0.5 in /usr/local/lib/python3.7/dist-packages (from pexpect->ipython->keras-tuner>=1.0.2->autokeras) (0.7.0)\n",
            "Requirement already satisfied: joblib>=0.11 in /usr/local/lib/python3.7/dist-packages (from scikit-learn->autokeras) (1.0.1)\n",
            "Requirement already satisfied: threadpoolctl>=2.0.0 in /usr/local/lib/python3.7/dist-packages (from scikit-learn->autokeras) (3.0.0)\n",
            "Installing collected packages: grpcio, tensorflow-estimator, kt-legacy, keras-nightly, tensorflow, keras-tuner, autokeras\n",
            "  Attempting uninstall: grpcio\n",
            "    Found existing installation: grpcio 1.41.0\n",
            "    Uninstalling grpcio-1.41.0:\n",
            "      Successfully uninstalled grpcio-1.41.0\n",
            "  Attempting uninstall: tensorflow-estimator\n",
            "    Found existing installation: tensorflow-estimator 2.6.0\n",
            "    Uninstalling tensorflow-estimator-2.6.0:\n",
            "      Successfully uninstalled tensorflow-estimator-2.6.0\n",
            "  Attempting uninstall: tensorflow\n",
            "    Found existing installation: tensorflow 2.6.0\n",
            "    Uninstalling tensorflow-2.6.0:\n",
            "      Successfully uninstalled tensorflow-2.6.0\n",
            "Successfully installed autokeras-1.0.16 grpcio-1.34.1 keras-nightly-2.5.0.dev2021032900 keras-tuner-1.0.4 kt-legacy-1.0.4 tensorflow-2.5.0 tensorflow-estimator-2.5.0\n",
            "Collecting pycm\n",
            "  Downloading pycm-3.2-py2.py3-none-any.whl (64 kB)\n",
            "\u001b[K     |████████████████████████████████| 64 kB 2.7 MB/s \n",
            "\u001b[?25hRequirement already satisfied: numpy>=1.9.0 in /usr/local/lib/python3.7/dist-packages (from pycm) (1.19.5)\n",
            "Collecting art>=1.8\n",
            "  Downloading art-5.3-py2.py3-none-any.whl (574 kB)\n",
            "\u001b[K     |████████████████████████████████| 574 kB 30.0 MB/s \n",
            "\u001b[?25hInstalling collected packages: art, pycm\n",
            "Successfully installed art-5.3 pycm-3.2\n"
          ]
        }
      ]
    },
    {
      "cell_type": "markdown",
      "metadata": {
        "id": "8it_-SNHh7Hq"
      },
      "source": [
        "# Setup"
      ]
    },
    {
      "cell_type": "code",
      "metadata": {
        "id": "RtCy-RCAuiM4"
      },
      "source": [
        "import pandas as pd\n",
        "import numpy as np\n",
        "import matplotlib.pyplot as plt\n",
        "import seaborn as sns\n",
        "\n",
        "import tensorflow as tf\n",
        "import tensorflow_datasets as tfds\n",
        "from tensorflow.keras.layers import Dense\n",
        "from tensorflow.keras.models import Sequential\n",
        "from tensorflow.keras.optimizers import Adam\n",
        "\n",
        "import autokeras as ak\n",
        "\n",
        "from sklearn.model_selection import train_test_split\n",
        "from sklearn.preprocessing import StandardScaler\n",
        "\n",
        "from pycm import *\n",
        "\n",
        "import dtale\n",
        "import dtale.app as dtale_app\n",
        "dtale_app.USE_COLAB = True"
      ],
      "execution_count": 1,
      "outputs": []
    },
    {
      "cell_type": "markdown",
      "metadata": {
        "id": "6xXAE0Yeh8dn"
      },
      "source": [
        "# Data"
      ]
    },
    {
      "cell_type": "code",
      "metadata": {
        "colab": {
          "base_uri": "https://localhost:8080/",
          "height": 219,
          "referenced_widgets": [
            "67f0f88ea5424b7aa95685a651f8bc1f",
            "628abe7bfbef48dc93eb5fa2d4c81662",
            "95e23f446f7249e9901d67ad24f6ea68",
            "113ab825a28b4e7f9927c6b691da72fc",
            "edcb5ea9ce0c4d69ae5330d527195e6a",
            "2400029fd8844afdb70114c2b44e6cf3",
            "74aff420da1343b3b4b86cae9aca8614",
            "f30e77b4cd14493e94447ceead174f79",
            "5e09506c73c14e3cb2309c26a23ca7f7",
            "525ff78f02ac4b92b954e95bfb895bdf",
            "01768ccbedf44b5d8dfb08d18a203668",
            "642c9ecd7c8b4a2b9b418a4f1e81ceeb",
            "0cd9283258ae4d39901aff74a0057c9f",
            "bcbbc4c1da344b8faedeb350653946e2",
            "353fc3d3433d42aebd2a9c341376d49b",
            "18c2fd73bd1b434ab457ef6f19e2e3ac",
            "cb0d2bca7e69441490783827ecca4757",
            "5497fb9bb7d74309b72120b6bc38d720",
            "55f1c5d5a4f142fd91d2543158dc6142",
            "c5320a8cae1f42b989858f798a6d2ad9",
            "baf6bb7610c649d78669b662ecb3b38e",
            "a3b0806487284c93866cfddf32bfdc24",
            "02bb858abaab4878adf9234aec9bedc5",
            "10fa6494925b451f8a307a6d95a9133b",
            "bd5afb0676ce472295e9e99f097dcf9f",
            "1d7b6378079549009731d78bb53db09b",
            "8c9113e4c0f04ceb9c682daf3eee5b4d",
            "e01535b540d14b61a4cdc753090d0c60",
            "1af1c95aee2048f493ac9d34a23a6f0b",
            "2b662da243b1485aa39d5fd6176e2ee6",
            "19b8916696d443ea97cc26708cf10705",
            "f9fab739b4ae44df991470c32e7a5118",
            "1142f8bef5d745119d55d8acf8a1e94c",
            "e083d1f6b5af4925ad662b0946ce29dd",
            "2ea847e5f6ef4c1987d9234d87a61e08",
            "039da480b09248d28be8f2bafb3c86fa",
            "ca08dcc59e084623bc84617493f08ee2",
            "d29cfdebe87a455d9ffe92f179591a26",
            "59074b9797894011a68cac4b268746bb",
            "47d80ac68f0649e6af9c44dc14d64703",
            "5c6c715ccf044f41b9904840bacd2f05",
            "d72753c1f37c4ad7b42ce1a430588e72",
            "f5f33a6ae8424e6f9a7f4a37dc3caa1e",
            "c843e415af724a6292f4686eb454fc65"
          ]
        },
        "id": "RMfjhbYru2fE",
        "outputId": "e3d0335a-5296-4eef-90e0-3f1d7cf8daa3"
      },
      "source": [
        "ds = tfds.load('radon')"
      ],
      "execution_count": 2,
      "outputs": [
        {
          "output_type": "stream",
          "name": "stdout",
          "text": [
            "\u001b[1mDownloading and preparing dataset radon/1.0.0 (download: 1.71 MiB, generated: 9.15 MiB, total: 10.86 MiB) to /root/tensorflow_datasets/radon/1.0.0...\u001b[0m\n"
          ]
        },
        {
          "output_type": "display_data",
          "data": {
            "application/vnd.jupyter.widget-view+json": {
              "model_id": "67f0f88ea5424b7aa95685a651f8bc1f",
              "version_minor": 0,
              "version_major": 2
            },
            "text/plain": [
              "Dl Completed...: 0 url [00:00, ? url/s]"
            ]
          },
          "metadata": {}
        },
        {
          "output_type": "display_data",
          "data": {
            "application/vnd.jupyter.widget-view+json": {
              "model_id": "642c9ecd7c8b4a2b9b418a4f1e81ceeb",
              "version_minor": 0,
              "version_major": 2
            },
            "text/plain": [
              "Dl Size...: 0 MiB [00:00, ? MiB/s]"
            ]
          },
          "metadata": {}
        },
        {
          "output_type": "stream",
          "name": "stdout",
          "text": [
            "\n",
            "\n"
          ]
        },
        {
          "output_type": "display_data",
          "data": {
            "application/vnd.jupyter.widget-view+json": {
              "model_id": "02bb858abaab4878adf9234aec9bedc5",
              "version_minor": 0,
              "version_major": 2
            },
            "text/plain": [
              "0 examples [00:00, ? examples/s]"
            ]
          },
          "metadata": {}
        },
        {
          "output_type": "stream",
          "name": "stdout",
          "text": [
            "Shuffling and writing examples to /root/tensorflow_datasets/radon/1.0.0.incompleteTEQ6DU/radon-train.tfrecord\n"
          ]
        },
        {
          "output_type": "display_data",
          "data": {
            "application/vnd.jupyter.widget-view+json": {
              "model_id": "e083d1f6b5af4925ad662b0946ce29dd",
              "version_minor": 0,
              "version_major": 2
            },
            "text/plain": [
              "  0%|          | 0/12573 [00:00<?, ? examples/s]"
            ]
          },
          "metadata": {}
        },
        {
          "output_type": "stream",
          "name": "stdout",
          "text": [
            "\u001b[1mDataset radon downloaded and prepared to /root/tensorflow_datasets/radon/1.0.0. Subsequent calls will reuse this data.\u001b[0m\n"
          ]
        }
      ]
    },
    {
      "cell_type": "code",
      "metadata": {
        "colab": {
          "base_uri": "https://localhost:8080/"
        },
        "id": "DNxYVvEH1vRM",
        "outputId": "456c78c1-86b0-40bd-c585-7f2d389316b4"
      },
      "source": [
        "ds.keys()"
      ],
      "execution_count": 7,
      "outputs": [
        {
          "output_type": "execute_result",
          "data": {
            "text/plain": [
              "dict_keys(['train'])"
            ]
          },
          "metadata": {},
          "execution_count": 7
        }
      ]
    },
    {
      "cell_type": "markdown",
      "metadata": {
        "id": "p0YfQ7Z2JO2k"
      },
      "source": [
        "## Pull Frame"
      ]
    },
    {
      "cell_type": "code",
      "metadata": {
        "id": "oK42a9F3vOVI"
      },
      "source": [
        "df = tfds.as_dataframe(ds['train'].take(-1))"
      ],
      "execution_count": 8,
      "outputs": []
    },
    {
      "cell_type": "code",
      "metadata": {
        "colab": {
          "base_uri": "https://localhost:8080/",
          "height": 225
        },
        "id": "8h7Y4_l2xZBJ",
        "outputId": "cbd76898-a84f-4059-c5ce-2780b2e4da2d"
      },
      "source": [
        "df.head()"
      ],
      "execution_count": 9,
      "outputs": [
        {
          "output_type": "execute_result",
          "data": {
            "text/html": [
              "<div>\n",
              "<style scoped>\n",
              "    .dataframe tbody tr th:only-of-type {\n",
              "        vertical-align: middle;\n",
              "    }\n",
              "\n",
              "    .dataframe tbody tr th {\n",
              "        vertical-align: top;\n",
              "    }\n",
              "\n",
              "    .dataframe thead th {\n",
              "        text-align: right;\n",
              "    }\n",
              "</style>\n",
              "<table border=\"1\" class=\"dataframe\">\n",
              "  <thead>\n",
              "    <tr style=\"text-align: right;\">\n",
              "      <th></th>\n",
              "      <th>activity</th>\n",
              "      <th>features/Uppm</th>\n",
              "      <th>features/adjwt</th>\n",
              "      <th>features/basement</th>\n",
              "      <th>features/cntyfips</th>\n",
              "      <th>features/county</th>\n",
              "      <th>features/dupflag</th>\n",
              "      <th>features/floor</th>\n",
              "      <th>features/idnum</th>\n",
              "      <th>features/lat</th>\n",
              "      <th>features/lon</th>\n",
              "      <th>features/pcterr</th>\n",
              "      <th>features/region</th>\n",
              "      <th>features/rep</th>\n",
              "      <th>features/room</th>\n",
              "      <th>features/startdt</th>\n",
              "      <th>features/starttm</th>\n",
              "      <th>features/state</th>\n",
              "      <th>features/state2</th>\n",
              "      <th>features/stfips</th>\n",
              "      <th>features/stopdt</th>\n",
              "      <th>features/stoptm</th>\n",
              "      <th>features/stratum</th>\n",
              "      <th>features/typebldg</th>\n",
              "      <th>features/wave</th>\n",
              "      <th>features/windoor</th>\n",
              "      <th>features/zip</th>\n",
              "      <th>features/zipflag</th>\n",
              "    </tr>\n",
              "  </thead>\n",
              "  <tbody>\n",
              "    <tr>\n",
              "      <th>0</th>\n",
              "      <td>1.6</td>\n",
              "      <td>2.49759</td>\n",
              "      <td>292.219543</td>\n",
              "      <td>b'N'</td>\n",
              "      <td>3</td>\n",
              "      <td>b'ALLEN               '</td>\n",
              "      <td>0</td>\n",
              "      <td>1</td>\n",
              "      <td>1681</td>\n",
              "      <td>41.091000</td>\n",
              "      <td>-85.067001</td>\n",
              "      <td>12.7</td>\n",
              "      <td>2</td>\n",
              "      <td>3</td>\n",
              "      <td>2</td>\n",
              "      <td>11489</td>\n",
              "      <td>2230</td>\n",
              "      <td>b'IN'</td>\n",
              "      <td>b'IN'</td>\n",
              "      <td>18</td>\n",
              "      <td>11689</td>\n",
              "      <td>2235</td>\n",
              "      <td>2</td>\n",
              "      <td>1</td>\n",
              "      <td>92</td>\n",
              "      <td>b' '</td>\n",
              "      <td>46835</td>\n",
              "      <td>0</td>\n",
              "    </tr>\n",
              "    <tr>\n",
              "      <th>1</th>\n",
              "      <td>0.5</td>\n",
              "      <td>2.66527</td>\n",
              "      <td>364.958313</td>\n",
              "      <td>b'N'</td>\n",
              "      <td>25</td>\n",
              "      <td>b'YAVAPAI             '</td>\n",
              "      <td>0</td>\n",
              "      <td>1</td>\n",
              "      <td>1457</td>\n",
              "      <td>34.599998</td>\n",
              "      <td>-112.554001</td>\n",
              "      <td>0.0</td>\n",
              "      <td>2</td>\n",
              "      <td>5</td>\n",
              "      <td>2</td>\n",
              "      <td>22688</td>\n",
              "      <td>833</td>\n",
              "      <td>b'AZ'</td>\n",
              "      <td>b'AZ'</td>\n",
              "      <td>4</td>\n",
              "      <td>22888</td>\n",
              "      <td>1010</td>\n",
              "      <td>2</td>\n",
              "      <td>1</td>\n",
              "      <td>56</td>\n",
              "      <td>b' '</td>\n",
              "      <td>86325</td>\n",
              "      <td>0</td>\n",
              "    </tr>\n",
              "    <tr>\n",
              "      <th>2</th>\n",
              "      <td>3.0</td>\n",
              "      <td>2.43343</td>\n",
              "      <td>626.564575</td>\n",
              "      <td>b'Y'</td>\n",
              "      <td>17</td>\n",
              "      <td>b'MIDDLESEX           '</td>\n",
              "      <td>0</td>\n",
              "      <td>0</td>\n",
              "      <td>4224</td>\n",
              "      <td>42.485001</td>\n",
              "      <td>-71.391998</td>\n",
              "      <td>9.7</td>\n",
              "      <td>6</td>\n",
              "      <td>1</td>\n",
              "      <td>2</td>\n",
              "      <td>32288</td>\n",
              "      <td>1000</td>\n",
              "      <td>b'MA'</td>\n",
              "      <td>b'MA'</td>\n",
              "      <td>25</td>\n",
              "      <td>32488</td>\n",
              "      <td>1000</td>\n",
              "      <td>1</td>\n",
              "      <td>1</td>\n",
              "      <td>23</td>\n",
              "      <td>b' '</td>\n",
              "      <td>1778</td>\n",
              "      <td>0</td>\n",
              "    </tr>\n",
              "    <tr>\n",
              "      <th>3</th>\n",
              "      <td>0.6</td>\n",
              "      <td>2.43343</td>\n",
              "      <td>570.611755</td>\n",
              "      <td>b'N'</td>\n",
              "      <td>17</td>\n",
              "      <td>b'MIDDLESEX           '</td>\n",
              "      <td>0</td>\n",
              "      <td>1</td>\n",
              "      <td>4094</td>\n",
              "      <td>42.485001</td>\n",
              "      <td>-71.391998</td>\n",
              "      <td>27.6</td>\n",
              "      <td>6</td>\n",
              "      <td>3</td>\n",
              "      <td>3</td>\n",
              "      <td>32488</td>\n",
              "      <td>700</td>\n",
              "      <td>b'MA'</td>\n",
              "      <td>b'MA'</td>\n",
              "      <td>25</td>\n",
              "      <td>32688</td>\n",
              "      <td>1200</td>\n",
              "      <td>1</td>\n",
              "      <td>1</td>\n",
              "      <td>62</td>\n",
              "      <td>b' '</td>\n",
              "      <td>1432</td>\n",
              "      <td>0</td>\n",
              "    </tr>\n",
              "    <tr>\n",
              "      <th>4</th>\n",
              "      <td>1.2</td>\n",
              "      <td>2.10811</td>\n",
              "      <td>426.798859</td>\n",
              "      <td>b'Y'</td>\n",
              "      <td>95</td>\n",
              "      <td>b'JACKSON             '</td>\n",
              "      <td>0</td>\n",
              "      <td>0</td>\n",
              "      <td>6849</td>\n",
              "      <td>39.007999</td>\n",
              "      <td>-94.347000</td>\n",
              "      <td>23.5</td>\n",
              "      <td>1</td>\n",
              "      <td>3</td>\n",
              "      <td>4</td>\n",
              "      <td>32288</td>\n",
              "      <td>605</td>\n",
              "      <td>b'MO'</td>\n",
              "      <td>b'MO'</td>\n",
              "      <td>29</td>\n",
              "      <td>32488</td>\n",
              "      <td>610</td>\n",
              "      <td>2</td>\n",
              "      <td>1</td>\n",
              "      <td>91</td>\n",
              "      <td>b' '</td>\n",
              "      <td>64134</td>\n",
              "      <td>0</td>\n",
              "    </tr>\n",
              "  </tbody>\n",
              "</table>\n",
              "</div>"
            ],
            "text/plain": [
              "   activity  features/Uppm  ...  features/zip features/zipflag\n",
              "0       1.6        2.49759  ...         46835                0\n",
              "1       0.5        2.66527  ...         86325                0\n",
              "2       3.0        2.43343  ...          1778                0\n",
              "3       0.6        2.43343  ...          1432                0\n",
              "4       1.2        2.10811  ...         64134                0\n",
              "\n",
              "[5 rows x 28 columns]"
            ]
          },
          "metadata": {},
          "execution_count": 9
        }
      ]
    },
    {
      "cell_type": "code",
      "metadata": {
        "id": "RwHi81cmNn5K"
      },
      "source": [
        "df['activity'] = np.where(df.activity <= 3, 1., 0.)"
      ],
      "execution_count": 10,
      "outputs": []
    },
    {
      "cell_type": "markdown",
      "metadata": {
        "id": "s_PSufn9yN1i"
      },
      "source": [
        "# EDA"
      ]
    },
    {
      "cell_type": "code",
      "metadata": {
        "colab": {
          "base_uri": "https://localhost:8080/",
          "height": 35
        },
        "id": "t5JepARLycxd",
        "outputId": "3a607e42-823c-43e0-e9dc-8ff4091b3fbd"
      },
      "source": [
        "dtale.show(df)"
      ],
      "execution_count": 35,
      "outputs": [
        {
          "output_type": "execute_result",
          "data": {
            "text/plain": [
              "https://shd72n6n8fb-496ff2e9c6d22116-40000-colab.googleusercontent.com/dtale/main/1"
            ]
          },
          "metadata": {},
          "execution_count": 35
        }
      ]
    },
    {
      "cell_type": "markdown",
      "metadata": {
        "id": "bKWaWsZQUAxr"
      },
      "source": [
        "# Baseline Model"
      ]
    },
    {
      "cell_type": "markdown",
      "metadata": {
        "id": "6BGKmnF9zYWI"
      },
      "source": [
        "## Preprocessing"
      ]
    },
    {
      "cell_type": "code",
      "metadata": {
        "id": "IuHIs-6K1TEM"
      },
      "source": [
        "X = df.copy()\n",
        "y = X.pop('activity')"
      ],
      "execution_count": 12,
      "outputs": []
    },
    {
      "cell_type": "code",
      "metadata": {
        "id": "EuApeRPmULVM"
      },
      "source": [
        "X_base = pd.get_dummies(X)\n",
        "X_base = StandardScaler().fit_transform(X_base)\n",
        "X_train, X_test, y_train, y_test = train_test_split(X_base, y, random_state=1500)"
      ],
      "execution_count": 13,
      "outputs": []
    },
    {
      "cell_type": "markdown",
      "metadata": {
        "id": "RviOZEqRdVLB"
      },
      "source": [
        "## Model"
      ]
    },
    {
      "cell_type": "code",
      "metadata": {
        "colab": {
          "base_uri": "https://localhost:8080/"
        },
        "id": "S7rxtLDyVQa7",
        "outputId": "91be707f-57ae-4b9f-a8f1-f8afee59c18f"
      },
      "source": [
        "print(X_train.shape)"
      ],
      "execution_count": 14,
      "outputs": [
        {
          "output_type": "stream",
          "name": "stdout",
          "text": [
            "(9429, 430)\n"
          ]
        }
      ]
    },
    {
      "cell_type": "code",
      "metadata": {
        "id": "vKXTDcQ7VtRC"
      },
      "source": [
        "model_base = Sequential()\n",
        "model_base.add(Dense(64, activation='relu'))\n",
        "model_base.add(Dense(1, activation='sigmoid'))"
      ],
      "execution_count": 15,
      "outputs": []
    },
    {
      "cell_type": "code",
      "metadata": {
        "id": "KdBSgDCfZFfa"
      },
      "source": [
        "model_base.compile(optimizer='adam', loss='binary_crossentropy', metrics=['accuracy'])"
      ],
      "execution_count": 16,
      "outputs": []
    },
    {
      "cell_type": "code",
      "metadata": {
        "colab": {
          "base_uri": "https://localhost:8080/"
        },
        "id": "Rg0asnpBZOZp",
        "outputId": "b7b7e194-85fa-45e1-bd8e-af9c9debe6d5"
      },
      "source": [
        "model_base.fit(X_train, y_train, epochs=10, batch_size=32)"
      ],
      "execution_count": 17,
      "outputs": [
        {
          "output_type": "stream",
          "name": "stdout",
          "text": [
            "Epoch 1/10\n",
            "295/295 [==============================] - 1s 2ms/step - loss: 0.5635 - accuracy: 0.7239\n",
            "Epoch 2/10\n",
            "295/295 [==============================] - 0s 1ms/step - loss: 0.4406 - accuracy: 0.7974\n",
            "Epoch 3/10\n",
            "295/295 [==============================] - 0s 1ms/step - loss: 0.4118 - accuracy: 0.8106\n",
            "Epoch 4/10\n",
            "295/295 [==============================] - 0s 2ms/step - loss: 0.3928 - accuracy: 0.8214\n",
            "Epoch 5/10\n",
            "295/295 [==============================] - 0s 1ms/step - loss: 0.3831 - accuracy: 0.8281\n",
            "Epoch 6/10\n",
            "295/295 [==============================] - 0s 1ms/step - loss: 0.3715 - accuracy: 0.8329\n",
            "Epoch 7/10\n",
            "295/295 [==============================] - 0s 1ms/step - loss: 0.3665 - accuracy: 0.8381\n",
            "Epoch 8/10\n",
            "295/295 [==============================] - 0s 1ms/step - loss: 0.3564 - accuracy: 0.8439\n",
            "Epoch 9/10\n",
            "295/295 [==============================] - 0s 2ms/step - loss: 0.3520 - accuracy: 0.8440\n",
            "Epoch 10/10\n",
            "295/295 [==============================] - 0s 1ms/step - loss: 0.3481 - accuracy: 0.8462\n"
          ]
        },
        {
          "output_type": "execute_result",
          "data": {
            "text/plain": [
              "<tensorflow.python.keras.callbacks.History at 0x7fdea3faed10>"
            ]
          },
          "metadata": {},
          "execution_count": 17
        }
      ]
    },
    {
      "cell_type": "markdown",
      "metadata": {
        "id": "J4wiL5jra1e8"
      },
      "source": [
        "## Inspect"
      ]
    },
    {
      "cell_type": "code",
      "metadata": {
        "colab": {
          "base_uri": "https://localhost:8080/"
        },
        "id": "ocCs9bhqa05r",
        "outputId": "e363aa17-8870-4272-9968-1a5aa03fd561"
      },
      "source": [
        "model_base.summary()"
      ],
      "execution_count": 18,
      "outputs": [
        {
          "output_type": "stream",
          "name": "stdout",
          "text": [
            "Model: \"sequential\"\n",
            "_________________________________________________________________\n",
            "Layer (type)                 Output Shape              Param #   \n",
            "=================================================================\n",
            "dense (Dense)                (None, 64)                27584     \n",
            "_________________________________________________________________\n",
            "dense_1 (Dense)              (None, 1)                 65        \n",
            "=================================================================\n",
            "Total params: 27,649\n",
            "Trainable params: 27,649\n",
            "Non-trainable params: 0\n",
            "_________________________________________________________________\n"
          ]
        }
      ]
    },
    {
      "cell_type": "code",
      "metadata": {
        "colab": {
          "base_uri": "https://localhost:8080/",
          "height": 312
        },
        "id": "XbxgjE_Da9fX",
        "outputId": "1967c7ef-bee5-4be6-cbca-234863bc4e32"
      },
      "source": [
        "tf.keras.utils.plot_model(model_base, show_shapes=True)"
      ],
      "execution_count": 19,
      "outputs": [
        {
          "output_type": "execute_result",
          "data": {
            "image/png": "[encoded data removed]",
            "text/plain": [
              "<IPython.core.display.Image object>"
            ]
          },
          "metadata": {},
          "execution_count": 19
        }
      ]
    },
    {
      "cell_type": "markdown",
      "metadata": {
        "id": "SK160No8azft"
      },
      "source": [
        "## Predict"
      ]
    },
    {
      "cell_type": "code",
      "metadata": {
        "id": "f1U9PZiPZ93U"
      },
      "source": [
        "y_proba = model_base.predict(X_test)\n",
        "y_hat = np.where(y_proba > 0.5, 1., 0.)\n",
        "cm_base = ConfusionMatrix(actual_vector=y_test.values, predict_vector=y_hat.squeeze())"
      ],
      "execution_count": 20,
      "outputs": []
    },
    {
      "cell_type": "code",
      "metadata": {
        "colab": {
          "base_uri": "https://localhost:8080/",
          "height": 312
        },
        "id": "WoufaiAtbZQ7",
        "outputId": "3f3bcc37-b372-45bd-ddd5-08f0f1a86a3a"
      },
      "source": [
        "cm_base.plot(cmap=plt.cm.Greens, number_label=True, plot_lib=\"matplotlib\")"
      ],
      "execution_count": 21,
      "outputs": [
        {
          "output_type": "execute_result",
          "data": {
            "text/plain": [
              "<matplotlib.axes._subplots.AxesSubplot at 0x7fdea44dae10>"
            ]
          },
          "metadata": {},
          "execution_count": 21
        },
        {
          "output_type": "display_data",
          "data": {
            "image/png": "[encoded data removed]",
            "text/plain": [
              "<Figure size 432x288 with 2 Axes>"
            ]
          },
          "metadata": {
            "needs_background": "light"
          }
        }
      ]
    },
    {
      "cell_type": "code",
      "metadata": {
        "colab": {
          "base_uri": "https://localhost:8080/"
        },
        "id": "oEEdbAtwbbTX",
        "outputId": "038c8d93-de6b-4e47-bf92-2a3b82d920c4"
      },
      "source": [
        "print(cm_base)"
      ],
      "execution_count": 22,
      "outputs": [
        {
          "output_type": "stream",
          "name": "stdout",
          "text": [
            "Predict    0.0        1.0        \n",
            "Actual\n",
            "0.0        926        277        \n",
            "\n",
            "1.0        265        1676       \n",
            "\n",
            "\n",
            "\n",
            "\n",
            "\n",
            "Overall Statistics : \n",
            "\n",
            "95% CI                                                            (0.8144,0.84081)\n",
            "ACC Macro                                                         0.82761\n",
            "ARI                                                               0.42729\n",
            "AUNP                                                              0.81661\n",
            "AUNU                                                              0.81661\n",
            "Bangdiwala B                                                      0.70191\n",
            "Bennett S                                                         0.65522\n",
            "CBA                                                               0.81395\n",
            "CSI                                                               0.63444\n",
            "Chi-Squared                                                       1265.4988\n",
            "Chi-Squared DF                                                    1\n",
            "Conditional Entropy                                               0.6529\n",
            "Cramer V                                                          0.63444\n",
            "Cross Entropy                                                     0.95993\n",
            "F1 Macro                                                          0.81721\n",
            "F1 Micro                                                          0.82761\n",
            "FNR Macro                                                         0.18339\n",
            "FNR Micro                                                         0.17239\n",
            "FPR Macro                                                         0.18339\n",
            "FPR Micro                                                         0.17239\n",
            "Gwet AC1                                                          0.67378\n",
            "Hamming Loss                                                      0.17239\n",
            "Joint Entropy                                                     1.61278\n",
            "KL Divergence                                                     4e-05\n",
            "Kappa                                                             0.63442\n",
            "Kappa 95% CI                                                      (0.60642,0.66242)\n",
            "Kappa No Prevalence                                               0.65522\n",
            "Kappa Standard Error                                              0.01429\n",
            "Kappa Unbiased                                                    0.63441\n",
            "Krippendorff Alpha                                                0.63447\n",
            "Lambda A                                                          0.54946\n",
            "Lambda B                                                          0.54492\n",
            "Mutual Information                                                0.30431\n",
            "NIR                                                               0.61737\n",
            "Overall ACC                                                       0.82761\n",
            "Overall CEN                                                       0.60227\n",
            "Overall J                                                         (1.38643,0.69321)\n",
            "Overall MCC                                                       0.63444\n",
            "Overall MCEN                                                      0.47146\n",
            "Overall RACC                                                      0.52845\n",
            "Overall RACCU                                                     0.52845\n",
            "P-Value                                                           None\n",
            "PPV Macro                                                         0.81783\n",
            "PPV Micro                                                         0.82761\n",
            "Pearson C                                                         0.53572\n",
            "Phi-Squared                                                       0.40251\n",
            "RCI                                                               0.31703\n",
            "RR                                                                1572.0\n",
            "Reference Entropy                                                 0.95988\n",
            "Response Entropy                                                  0.9572\n",
            "SOA1(Landis & Koch)                                               Substantial\n",
            "SOA2(Fleiss)                                                      Intermediate to Good\n",
            "SOA3(Altman)                                                      Good\n",
            "SOA4(Cicchetti)                                                   Good\n",
            "SOA5(Cramer)                                                      Strong\n",
            "SOA6(Matthews)                                                    Moderate\n",
            "Scott PI                                                          0.63441\n",
            "Standard Error                                                    0.00674\n",
            "TNR Macro                                                         0.81661\n",
            "TNR Micro                                                         0.82761\n",
            "TPR Macro                                                         0.81661\n",
            "TPR Micro                                                         0.82761\n",
            "Zero-one Loss                                                     542\n",
            "\n",
            "Class Statistics :\n",
            "\n",
            "Classes                                                           0.0           1.0           \n",
            "ACC(Accuracy)                                                     0.82761       0.82761       \n",
            "AGF(Adjusted F-score)                                             0.81407       0.81803       \n",
            "AGM(Adjusted geometric mean)                                      0.83366       0.80266       \n",
            "AM(Difference between automatic and manual classification)        -12           12            \n",
            "AUC(Area under the ROC curve)                                     0.81661       0.81661       \n",
            "AUCI(AUC value interpretation)                                    Very Good     Very Good     \n",
            "AUPR(Area under the PR curve)                                     0.77362       0.86082       \n",
            "BCD(Bray-Curtis dissimilarity)                                    0.00191       0.00191       \n",
            "BM(Informedness or bookmaker informedness)                        0.63321       0.63321       \n",
            "CEN(Confusion entropy)                                            0.71151       0.53511       \n",
            "DOR(Diagnostic odds ratio)                                        21.14265      21.14265      \n",
            "DP(Discriminant power)                                            0.7306        0.7306        \n",
            "DPI(Discriminant power interpretation)                            Poor          Poor          \n",
            "ERR(Error rate)                                                   0.17239       0.17239       \n",
            "F0.5(F0.5 score)                                                  0.77593       0.85922       \n",
            "F1(F1 score - harmonic mean of precision and sensitivity)         0.7736        0.86081       \n",
            "F2(F2 score)                                                      0.77128       0.86241       \n",
            "FDR(False discovery rate)                                         0.2225        0.14183       \n",
            "FN(False negative/miss/type 2 error)                              277           265           \n",
            "FNR(Miss rate or false negative rate)                             0.23026       0.13653       \n",
            "FOR(False omission rate)                                          0.14183       0.2225        \n",
            "FP(False positive/type 1 error/false alarm)                       265           277           \n",
            "FPR(Fall-out or false positive rate)                              0.13653       0.23026       \n",
            "G(G-measure geometric mean of precision and sensitivity)          0.77361       0.86082       \n",
            "GI(Gini index)                                                    0.63321       0.63321       \n",
            "GM(G-mean geometric mean of specificity and sensitivity)          0.81526       0.81526       \n",
            "IBA(Index of balanced accuracy)                                   0.60235       0.72695       \n",
            "ICSI(Individual classification success index)                     0.54724       0.72164       \n",
            "IS(Information score)                                             1.02288       0.47513       \n",
            "J(Jaccard index)                                                  0.63079       0.75564       \n",
            "LS(Lift score)                                                    2.03196       1.39004       \n",
            "MCC(Matthews correlation coefficient)                             0.63444       0.63444       \n",
            "MCCI(Matthews correlation coefficient interpretation)             Moderate      Moderate      \n",
            "MCEN(Modified confusion entropy)                                  0.89981       0.74104       \n",
            "MK(Markedness)                                                    0.63566       0.63566       \n",
            "N(Condition negative)                                             1941          1203          \n",
            "NLR(Negative likelihood ratio)                                    0.26666       0.17737       \n",
            "NLRI(Negative likelihood ratio interpretation)                    Poor          Fair          \n",
            "NPV(Negative predictive value)                                    0.85817       0.7775        \n",
            "OC(Overlap coefficient)                                           0.7775        0.86347       \n",
            "OOC(Otsuka-Ochiai coefficient)                                    0.77361       0.86082       \n",
            "OP(Optimized precision)                                           0.77022       0.77022       \n",
            "P(Condition positive or support)                                  1203          1941          \n",
            "PLR(Positive likelihood ratio)                                    5.638         3.75003       \n",
            "PLRI(Positive likelihood ratio interpretation)                    Fair          Poor          \n",
            "POP(Population)                                                   3144          3144          \n",
            "PPV(Precision or positive predictive value)                       0.7775        0.85817       \n",
            "PRE(Prevalence)                                                   0.38263       0.61737       \n",
            "Q(Yule Q - coefficient of colligation)                            0.90968       0.90968       \n",
            "QI(Yule Q interpretation)                                         Strong        Strong        \n",
            "RACC(Random accuracy)                                             0.14495       0.3835        \n",
            "RACCU(Random accuracy unbiased)                                   0.14495       0.3835        \n",
            "TN(True negative/correct rejection)                               1676          926           \n",
            "TNR(Specificity or true negative rate)                            0.86347       0.76974       \n",
            "TON(Test outcome negative)                                        1953          1191          \n",
            "TOP(Test outcome positive)                                        1191          1953          \n",
            "TP(True positive/hit)                                             926           1676          \n",
            "TPR(Sensitivity, recall, hit rate, or true positive rate)         0.76974       0.86347       \n",
            "Y(Youden index)                                                   0.63321       0.63321       \n",
            "dInd(Distance index)                                              0.26769       0.26769       \n",
            "sInd(Similarity index)                                            0.81071       0.81071       \n",
            "\n"
          ]
        }
      ]
    },
    {
      "cell_type": "markdown",
      "metadata": {
        "id": "o40hwugf5DMs"
      },
      "source": [
        "# AutoKeras Model"
      ]
    },
    {
      "cell_type": "markdown",
      "metadata": {
        "id": "-Uqt54T1owuY"
      },
      "source": [
        "## Preprocessing"
      ]
    },
    {
      "cell_type": "code",
      "metadata": {
        "id": "eyxeP_lXoyWn"
      },
      "source": [
        "X = df.copy()\n",
        "y = X.pop('activity')\n",
        "X_train, X_test, y_train, y_test = train_test_split(X, y, random_state=1500)"
      ],
      "execution_count": 23,
      "outputs": []
    },
    {
      "cell_type": "markdown",
      "metadata": {
        "id": "IXB6SR2odYPe"
      },
      "source": [
        "## Model"
      ]
    },
    {
      "cell_type": "code",
      "metadata": {
        "colab": {
          "base_uri": "https://localhost:8080/"
        },
        "id": "Yer0SRQl1Oww",
        "outputId": "574b7a20-d42b-43a4-ad15-1f414cfdd0db"
      },
      "source": [
        "reg = ak.StructuredDataClassifier(max_trials=5, overwrite=True)\n",
        "reg.fit(X_train, y_train, epochs=10)\n",
        "print(reg.evaluate(X_test, y_test))"
      ],
      "execution_count": 24,
      "outputs": [
        {
          "output_type": "stream",
          "name": "stdout",
          "text": [
            "Trial 5 Complete [00h 00m 16s]\n",
            "val_accuracy: 0.8327117562294006\n",
            "\n",
            "Best val_accuracy So Far: 0.8913159370422363\n",
            "Total elapsed time: 00h 01m 24s\n",
            "INFO:tensorflow:Oracle triggered exit\n"
          ]
        },
        {
          "output_type": "stream",
          "name": "stderr",
          "text": [
            "2021-10-21 12:04:29,425 - INFO     - Oracle triggered exit\n"
          ]
        },
        {
          "output_type": "stream",
          "name": "stdout",
          "text": [
            "Epoch 1/10\n",
            "295/295 [==============================] - 1s 2ms/step - loss: 0.5267 - accuracy: 0.7273\n",
            "Epoch 2/10\n",
            "295/295 [==============================] - 1s 2ms/step - loss: 0.4117 - accuracy: 0.8164\n",
            "Epoch 3/10\n",
            "295/295 [==============================] - 1s 2ms/step - loss: 0.3890 - accuracy: 0.8283\n",
            "Epoch 4/10\n",
            "295/295 [==============================] - 1s 2ms/step - loss: 0.3759 - accuracy: 0.8378\n",
            "Epoch 5/10\n",
            "295/295 [==============================] - 1s 2ms/step - loss: 0.3648 - accuracy: 0.8459\n",
            "Epoch 6/10\n",
            "295/295 [==============================] - 1s 2ms/step - loss: 0.3532 - accuracy: 0.8532\n",
            "Epoch 7/10\n",
            "295/295 [==============================] - 1s 2ms/step - loss: 0.3390 - accuracy: 0.8623\n",
            "Epoch 8/10\n",
            "295/295 [==============================] - 1s 2ms/step - loss: 0.3185 - accuracy: 0.8715\n",
            "Epoch 9/10\n",
            "295/295 [==============================] - 1s 3ms/step - loss: 0.2943 - accuracy: 0.8851\n",
            "Epoch 10/10\n",
            "295/295 [==============================] - 1s 2ms/step - loss: 0.2730 - accuracy: 0.8966\n",
            "INFO:tensorflow:Assets written to: ./structured_data_classifier/best_model/assets\n"
          ]
        },
        {
          "output_type": "stream",
          "name": "stderr",
          "text": [
            "2021-10-21 12:04:54,073 - INFO     - Assets written to: ./structured_data_classifier/best_model/assets\n"
          ]
        },
        {
          "output_type": "stream",
          "name": "stdout",
          "text": [
            "99/99 [==============================] - 0s 2ms/step - loss: 0.2636 - accuracy: 0.8938\n",
            "[0.26356714963912964, 0.893765926361084]\n"
          ]
        }
      ]
    },
    {
      "cell_type": "markdown",
      "metadata": {
        "id": "chm-DU4H5GSb"
      },
      "source": [
        "## Inspect"
      ]
    },
    {
      "cell_type": "code",
      "metadata": {
        "id": "thfHpuQT2KLH"
      },
      "source": [
        "model_auto = reg.export_model()"
      ],
      "execution_count": 25,
      "outputs": []
    },
    {
      "cell_type": "code",
      "metadata": {
        "colab": {
          "base_uri": "https://localhost:8080/"
        },
        "id": "cFkZ-Kw12p81",
        "outputId": "7b00fae5-346c-4b4d-d7d0-c16061391049"
      },
      "source": [
        "model_auto.summary()"
      ],
      "execution_count": 26,
      "outputs": [
        {
          "output_type": "stream",
          "name": "stdout",
          "text": [
            "Model: \"model\"\n",
            "_________________________________________________________________\n",
            "Layer (type)                 Output Shape              Param #   \n",
            "=================================================================\n",
            "input_1 (InputLayer)         [(None, 27)]              0         \n",
            "_________________________________________________________________\n",
            "multi_category_encoding (Mul (None, 27)                0         \n",
            "_________________________________________________________________\n",
            "normalization (Normalization (None, 27)                55        \n",
            "_________________________________________________________________\n",
            "dense (Dense)                (None, 32)                896       \n",
            "_________________________________________________________________\n",
            "re_lu (ReLU)                 (None, 32)                0         \n",
            "_________________________________________________________________\n",
            "dense_1 (Dense)              (None, 32)                1056      \n",
            "_________________________________________________________________\n",
            "re_lu_1 (ReLU)               (None, 32)                0         \n",
            "_________________________________________________________________\n",
            "dense_2 (Dense)              (None, 1)                 33        \n",
            "_________________________________________________________________\n",
            "classification_head_1 (Activ (None, 1)                 0         \n",
            "=================================================================\n",
            "Total params: 2,040\n",
            "Trainable params: 1,985\n",
            "Non-trainable params: 55\n",
            "_________________________________________________________________\n"
          ]
        }
      ]
    },
    {
      "cell_type": "code",
      "metadata": {
        "colab": {
          "base_uri": "https://localhost:8080/",
          "height": 976
        },
        "id": "mOgJWAPV2ywk",
        "outputId": "a1d6ed59-0c75-49e8-a032-d92a252b72c5"
      },
      "source": [
        "tf.keras.utils.plot_model(model_auto, show_shapes=True)"
      ],
      "execution_count": 27,
      "outputs": [
        {
          "output_type": "execute_result",
          "data": {
            "image/png": "[encoded data removed]",
            "text/plain": [
              "<IPython.core.display.Image object>"
            ]
          },
          "metadata": {},
          "execution_count": 27
        }
      ]
    },
    {
      "cell_type": "markdown",
      "metadata": {
        "id": "Z3FTzeLw5MQj"
      },
      "source": [
        "## Predict"
      ]
    },
    {
      "cell_type": "code",
      "metadata": {
        "colab": {
          "base_uri": "https://localhost:8080/"
        },
        "id": "sgILR1HfJkPz",
        "outputId": "1991150f-1493-4711-c548-482a13ed206b"
      },
      "source": [
        "y_hat = reg.predict(X_test)\n",
        "cm_auto = ConfusionMatrix(actual_vector=y_test.values, predict_vector=y_hat.squeeze()) "
      ],
      "execution_count": 28,
      "outputs": [
        {
          "output_type": "stream",
          "name": "stdout",
          "text": [
            "99/99 [==============================] - 0s 2ms/step\n"
          ]
        }
      ]
    },
    {
      "cell_type": "code",
      "metadata": {
        "colab": {
          "base_uri": "https://localhost:8080/",
          "height": 312
        },
        "id": "8w51SRhTbP1z",
        "outputId": "c981d37e-44bd-4388-e656-2570234cfb67"
      },
      "source": [
        "cm_auto.plot(cmap=plt.cm.Greens, number_label=True, plot_lib=\"matplotlib\")"
      ],
      "execution_count": 29,
      "outputs": [
        {
          "output_type": "execute_result",
          "data": {
            "text/plain": [
              "<matplotlib.axes._subplots.AxesSubplot at 0x7fdec1a3ebd0>"
            ]
          },
          "metadata": {},
          "execution_count": 29
        },
        {
          "output_type": "display_data",
          "data": {
            "image/png": "[encoded data removed]",
            "text/plain": [
              "<Figure size 432x288 with 2 Axes>"
            ]
          },
          "metadata": {
            "needs_background": "light"
          }
        }
      ]
    },
    {
      "cell_type": "code",
      "metadata": {
        "colab": {
          "base_uri": "https://localhost:8080/"
        },
        "id": "Mtf7Jl3vbVY4",
        "outputId": "07d98f15-be92-4b84-c146-41dde1c1922a"
      },
      "source": [
        "print(cm_auto)"
      ],
      "execution_count": 31,
      "outputs": [
        {
          "output_type": "stream",
          "name": "stdout",
          "text": [
            "Predict    0.0        1.0        \n",
            "Actual\n",
            "0.0        1042       161        \n",
            "\n",
            "1.0        173        1768       \n",
            "\n",
            "\n",
            "\n",
            "\n",
            "\n",
            "Overall Statistics : \n",
            "\n",
            "95% CI                                                            (0.88299,0.90454)\n",
            "ACC Macro                                                         0.89377\n",
            "ARI                                                               0.61902\n",
            "AUNP                                                              0.88852\n",
            "AUNU                                                              0.88852\n",
            "Bangdiwala B                                                      0.80901\n",
            "Bennett S                                                         0.78753\n",
            "CBA                                                               0.88424\n",
            "CSI                                                               0.77559\n",
            "Chi-Squared                                                       1891.25626\n",
            "Chi-Squared DF                                                    1\n",
            "Conditional Entropy                                               0.48494\n",
            "Cramer V                                                          0.77559\n",
            "Cross Entropy                                                     0.95993\n",
            "F1 Macro                                                          0.88778\n",
            "F1 Micro                                                          0.89377\n",
            "FNR Macro                                                         0.11148\n",
            "FNR Micro                                                         0.10623\n",
            "FPR Macro                                                         0.11148\n",
            "FPR Micro                                                         0.10623\n",
            "Gwet AC1                                                          0.79829\n",
            "Hamming Loss                                                      0.10623\n",
            "Joint Entropy                                                     1.44482\n",
            "KL Divergence                                                     4e-05\n",
            "Kappa                                                             0.77557\n",
            "Kappa 95% CI                                                      (0.75281,0.79832)\n",
            "Kappa No Prevalence                                               0.78753\n",
            "Kappa Standard Error                                              0.01161\n",
            "Kappa Unbiased                                                    0.77556\n",
            "Krippendorff Alpha                                                0.7756\n",
            "Lambda A                                                          0.72236\n",
            "Lambda B                                                          0.7251\n",
            "Mutual Information                                                0.47753\n",
            "NIR                                                               0.61737\n",
            "Overall ACC                                                       0.89377\n",
            "Overall CEN                                                       0.44557\n",
            "Overall J                                                         (1.59837,0.79919)\n",
            "Overall MCC                                                       0.77559\n",
            "Overall MCEN                                                      0.35559\n",
            "Overall RACC                                                      0.52665\n",
            "Overall RACCU                                                     0.52666\n",
            "P-Value                                                           None\n",
            "PPV Macro                                                         0.88708\n",
            "PPV Micro                                                         0.89377\n",
            "Pearson C                                                         0.61286\n",
            "Phi-Squared                                                       0.60154\n",
            "RCI                                                               0.49749\n",
            "RR                                                                1572.0\n",
            "Reference Entropy                                                 0.95988\n",
            "Response Entropy                                                  0.96247\n",
            "SOA1(Landis & Koch)                                               Substantial\n",
            "SOA2(Fleiss)                                                      Excellent\n",
            "SOA3(Altman)                                                      Good\n",
            "SOA4(Cicchetti)                                                   Excellent\n",
            "SOA5(Cramer)                                                      Strong\n",
            "SOA6(Matthews)                                                    Strong\n",
            "Scott PI                                                          0.77556\n",
            "Standard Error                                                    0.0055\n",
            "TNR Macro                                                         0.88852\n",
            "TNR Micro                                                         0.89377\n",
            "TPR Macro                                                         0.88852\n",
            "TPR Micro                                                         0.89377\n",
            "Zero-one Loss                                                     334\n",
            "\n",
            "Class Statistics :\n",
            "\n",
            "Classes                                                           0.0           1.0           \n",
            "ACC(Accuracy)                                                     0.89377       0.89377       \n",
            "AGF(Adjusted F-score)                                             0.88956       0.88526       \n",
            "AGM(Adjusted geometric mean)                                      0.89688       0.88213       \n",
            "AM(Difference between automatic and manual classification)        12            -12           \n",
            "AUC(Area under the ROC curve)                                     0.88852       0.88852       \n",
            "AUCI(AUC value interpretation)                                    Very Good     Very Good     \n",
            "AUPR(Area under the PR curve)                                     0.86189       0.9137        \n",
            "BCD(Bray-Curtis dissimilarity)                                    0.00191       0.00191       \n",
            "BM(Informedness or bookmaker informedness)                        0.77704       0.77704       \n",
            "CEN(Confusion entropy)                                            0.53249       0.39126       \n",
            "DOR(Diagnostic odds ratio)                                        66.1421       66.1421       \n",
            "DP(Discriminant power)                                            1.00368       1.00368       \n",
            "DPI(Discriminant power interpretation)                            Limited       Limited       \n",
            "ERR(Error rate)                                                   0.10623       0.10623       \n",
            "F0.5(F0.5 score)                                                  0.85931       0.9154        \n",
            "F1(F1 score - harmonic mean of precision and sensitivity)         0.86187       0.9137        \n",
            "F2(F2 score)                                                      0.86444       0.912         \n",
            "FDR(False discovery rate)                                         0.14239       0.08346       \n",
            "FN(False negative/miss/type 2 error)                              161           173           \n",
            "FNR(Miss rate or false negative rate)                             0.13383       0.08913       \n",
            "FOR(False omission rate)                                          0.08346       0.14239       \n",
            "FP(False positive/type 1 error/false alarm)                       173           161           \n",
            "FPR(Fall-out or false positive rate)                              0.08913       0.13383       \n",
            "G(G-measure geometric mean of precision and sensitivity)          0.86188       0.9137        \n",
            "GI(Gini index)                                                    0.77704       0.77704       \n",
            "GM(G-mean geometric mean of specificity and sensitivity)          0.88824       0.88824       \n",
            "IBA(Index of balanced accuracy)                                   0.7537        0.82424       \n",
            "ICSI(Individual classification success index)                     0.72378       0.82741       \n",
            "IS(Information score)                                             1.16436       0.57007       \n",
            "J(Jaccard index)                                                  0.75727       0.8411        \n",
            "LS(Lift score)                                                    2.24134       1.48459       \n",
            "MCC(Matthews correlation coefficient)                             0.77559       0.77559       \n",
            "MCCI(Matthews correlation coefficient interpretation)             Strong        Strong        \n",
            "MCEN(Modified confusion entropy)                                  0.7383        0.58043       \n",
            "MK(Markedness)                                                    0.77415       0.77415       \n",
            "N(Condition negative)                                             1941          1203          \n",
            "NLR(Negative likelihood ratio)                                    0.14693       0.1029        \n",
            "NLRI(Negative likelihood ratio interpretation)                    Fair          Fair          \n",
            "NPV(Negative predictive value)                                    0.91654       0.85761       \n",
            "OC(Overlap coefficient)                                           0.86617       0.91654       \n",
            "OOC(Otsuka-Ochiai coefficient)                                    0.86188       0.9137        \n",
            "OP(Optimized precision)                                           0.86861       0.86861       \n",
            "P(Condition positive or support)                                  1203          1941          \n",
            "PLR(Positive likelihood ratio)                                    9.7181        6.80607       \n",
            "PLRI(Positive likelihood ratio interpretation)                    Fair          Fair          \n",
            "POP(Population)                                                   3144          3144          \n",
            "PPV(Precision or positive predictive value)                       0.85761       0.91654       \n",
            "PRE(Prevalence)                                                   0.38263       0.61737       \n",
            "Q(Yule Q - coefficient of colligation)                            0.97021       0.97021       \n",
            "QI(Yule Q interpretation)                                         Strong        Strong        \n",
            "RACC(Random accuracy)                                             0.14787       0.37878       \n",
            "RACCU(Random accuracy unbiased)                                   0.14787       0.37879       \n",
            "TN(True negative/correct rejection)                               1768          1042          \n",
            "TNR(Specificity or true negative rate)                            0.91087       0.86617       \n",
            "TON(Test outcome negative)                                        1929          1215          \n",
            "TOP(Test outcome positive)                                        1215          1929          \n",
            "TP(True positive/hit)                                             1042          1768          \n",
            "TPR(Sensitivity, recall, hit rate, or true positive rate)         0.86617       0.91087       \n",
            "Y(Youden index)                                                   0.77704       0.77704       \n",
            "dInd(Distance index)                                              0.1608        0.1608        \n",
            "sInd(Similarity index)                                            0.8863        0.8863        \n",
            "\n"
          ]
        }
      ]
    },
    {
      "cell_type": "markdown",
      "metadata": {
        "id": "PSXrTkS8aZsL"
      },
      "source": [
        "# Compare"
      ]
    },
    {
      "cell_type": "code",
      "metadata": {
        "id": "Ybc5ldFKjZIe"
      },
      "source": [
        "cp = Compare({'Baseline':cm_base, 'AutoKeras':cm_auto})"
      ],
      "execution_count": 32,
      "outputs": []
    },
    {
      "cell_type": "code",
      "metadata": {
        "colab": {
          "base_uri": "https://localhost:8080/"
        },
        "id": "Gt4lTZ6zpwug",
        "outputId": "3c5d5636-32bf-492e-f478-ef81892c9fe4"
      },
      "source": [
        "cp.print_report()"
      ],
      "execution_count": 33,
      "outputs": [
        {
          "output_type": "stream",
          "name": "stdout",
          "text": [
            "Best : AutoKeras\n",
            "\n",
            "Rank  Name         Class-Score   Overall-Score\n",
            "1     AutoKeras    9.2           5.26667\n",
            "2     Baseline     7.8           4.48333\n",
            "\n"
          ]
        }
      ]
    },
    {
      "cell_type": "markdown",
      "metadata": {
        "id": "qTCH0UDEqwpp"
      },
      "source": [
        "## Reporting"
      ]
    },
    {
      "cell_type": "code",
      "metadata": {
        "colab": {
          "base_uri": "https://localhost:8080/",
          "height": 584
        },
        "id": "J2u8_Yi_qafr",
        "outputId": "360959ed-0d29-4723-b867-868b39f3e80b"
      },
      "source": [
        "cm_auto.save_html('report_auto')\n",
        "cm_base.save_html('report_base')"
      ],
      "execution_count": 36,
      "outputs": [
        {
          "output_type": "execute_result",
          "data": {
            "text/plain": [
              "{'Message': '/content/report_base.html', 'Status': True}"
            ]
          },
          "metadata": {},
          "execution_count": 36
        },
        {
          "output_type": "display_data",
          "data": {
            "image/png": "[encoded data removed]",
            "text/plain": [
              "<Figure size 1800x720 with 2 Axes>"
            ]
          },
          "metadata": {
            "needs_background": "light"
          }
        }
      ]
    },
    {
      "cell_type": "code",
      "metadata": {
        "id": "VzrPOrW2It9Q"
      },
      "source": [
        ""
      ],
      "execution_count": null,
      "outputs": []
    }
  ]
}