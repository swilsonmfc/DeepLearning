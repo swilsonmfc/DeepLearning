{
  "nbformat": 4,
  "nbformat_minor": 0,
  "metadata": {
    "colab": {
      "name": "AutoEncoder.ipynb",
      "provenance": [],
      "collapsed_sections": [],
      "toc_visible": true,
      "authorship_tag": "ABX9TyPjkj//qfSCVzxtjiGzK9Gc",
      "include_colab_link": true
    },
    "kernelspec": {
      "name": "python3",
      "display_name": "Python 3"
    }
  },
  "cells": [
    {
      "cell_type": "markdown",
      "metadata": {
        "id": "view-in-github",
        "colab_type": "text"
      },
      "source": [
        "<a href=\"https://colab.research.google.com/github/swilsonmfc/notebooks/blob/master/NeuralNetworksAutoEncoder.ipynb\" target=\"_parent\"><img src=\"https://colab.research.google.com/assets/colab-badge.svg\" alt=\"Open In Colab\"/></a>"
      ]
    },
    {
      "cell_type": "markdown",
      "metadata": {
        "id": "GTv49mtXr6WB",
        "colab_type": "text"
      },
      "source": [
        "# Autoencoders\n"
      ]
    },
    {
      "cell_type": "markdown",
      "metadata": {
        "id": "RKN54k8AsAAt",
        "colab_type": "text"
      },
      "source": [
        "# Information Bottleneck\n",
        "![Bottleneck](https://2.bp.blogspot.com/-xdfotR5CIoY/VjJ7UKrFP2I/AAAAAAAAFlM/sHI4T4j0IrY/s1600/autoencoders.png)"
      ]
    },
    {
      "cell_type": "markdown",
      "metadata": {
        "id": "Fd13Y0P8e78t",
        "colab_type": "text"
      },
      "source": [
        "# Setup"
      ]
    },
    {
      "cell_type": "code",
      "metadata": {
        "id": "mxDDbS7ffb57",
        "colab_type": "code",
        "colab": {}
      },
      "source": [
        "import pandas as pd\n",
        "import numpy as np\n",
        "import matplotlib.pyplot as plt\n",
        "import seaborn as sns\n",
        "import math\n",
        "\n",
        "import tensorflow as tf\n",
        "import tensorflow.keras as keras\n",
        "\n",
        "from tensorflow.keras.models import Sequential\n",
        "from tensorflow.keras.models import Model\n",
        "from tensorflow.keras.layers import Input\n",
        "from tensorflow.keras.layers import Dense\n",
        "\n",
        "from tensorflow.keras.regularizers import l1\n",
        "from tensorflow.keras.utils import plot_model\n",
        "from tensorflow.keras.optimizers import Adam\n",
        "from tensorflow.keras.callbacks import EarlyStopping\n",
        "\n",
        "from sklearn.model_selection import train_test_split\n",
        "from sklearn.metrics import confusion_matrix\n",
        "from sklearn.metrics import classification_report\n",
        "from sklearn.metrics import mean_absolute_error\n",
        "from sklearn.metrics import mean_squared_error\n",
        "from sklearn.metrics import roc_curve\n",
        "from sklearn.metrics import roc_auc_score\n",
        "from sklearn.metrics import precision_recall_curve\n",
        "from sklearn.metrics import average_precision_score\n",
        "from sklearn.linear_model import LogisticRegression\n",
        "from sklearn.preprocessing import StandardScaler"
      ],
      "execution_count": 221,
      "outputs": []
    },
    {
      "cell_type": "code",
      "metadata": {
        "id": "q2pFEvxvg2ER",
        "colab_type": "code",
        "colab": {
          "base_uri": "https://localhost:8080/",
          "height": 34
        },
        "outputId": "7a7ff775-d23e-449f-c482-62b7d8aa3109"
      },
      "source": [
        "print(f'Tensorflow Version {tf.__version__}')"
      ],
      "execution_count": 199,
      "outputs": [
        {
          "output_type": "stream",
          "text": [
            "Tensorflow Version 2.2.0\n"
          ],
          "name": "stdout"
        }
      ]
    },
    {
      "cell_type": "markdown",
      "metadata": {
        "id": "FWovoAVQvLIK",
        "colab_type": "text"
      },
      "source": [
        "# Kaggle"
      ]
    },
    {
      "cell_type": "code",
      "metadata": {
        "id": "DuhS26l9vLba",
        "colab_type": "code",
        "colab": {
          "base_uri": "https://localhost:8080/",
          "height": 224
        },
        "outputId": "f3237c2a-dc63-4f03-f870-5eb39eed092a"
      },
      "source": [
        "!pip install kaggle\n",
        "!mkdir -p ~/.kaggle"
      ],
      "execution_count": 200,
      "outputs": [
        {
          "output_type": "stream",
          "text": [
            "Requirement already satisfied: kaggle in /usr/local/lib/python3.6/dist-packages (1.5.6)\n",
            "Requirement already satisfied: python-slugify in /usr/local/lib/python3.6/dist-packages (from kaggle) (4.0.0)\n",
            "Requirement already satisfied: certifi in /usr/local/lib/python3.6/dist-packages (from kaggle) (2020.6.20)\n",
            "Requirement already satisfied: urllib3<1.25,>=1.21.1 in /usr/local/lib/python3.6/dist-packages (from kaggle) (1.24.3)\n",
            "Requirement already satisfied: requests in /usr/local/lib/python3.6/dist-packages (from kaggle) (2.23.0)\n",
            "Requirement already satisfied: six>=1.10 in /usr/local/lib/python3.6/dist-packages (from kaggle) (1.12.0)\n",
            "Requirement already satisfied: tqdm in /usr/local/lib/python3.6/dist-packages (from kaggle) (4.41.1)\n",
            "Requirement already satisfied: python-dateutil in /usr/local/lib/python3.6/dist-packages (from kaggle) (2.8.1)\n",
            "Requirement already satisfied: text-unidecode>=1.3 in /usr/local/lib/python3.6/dist-packages (from python-slugify->kaggle) (1.3)\n",
            "Requirement already satisfied: idna<3,>=2.5 in /usr/local/lib/python3.6/dist-packages (from requests->kaggle) (2.9)\n",
            "Requirement already satisfied: chardet<4,>=3.0.2 in /usr/local/lib/python3.6/dist-packages (from requests->kaggle) (3.0.4)\n"
          ],
          "name": "stdout"
        }
      ]
    },
    {
      "cell_type": "code",
      "metadata": {
        "id": "zBgCJawsvQnC",
        "colab_type": "code",
        "colab": {}
      },
      "source": [
        "from google.colab import files\n",
        "files.upload()"
      ],
      "execution_count": null,
      "outputs": []
    },
    {
      "cell_type": "code",
      "metadata": {
        "id": "du54xlsZvQlB",
        "colab_type": "code",
        "colab": {}
      },
      "source": [
        "!mv kaggle.json ~/.kaggle\n",
        "!chmod 600 ~/.kaggle/kaggle.json"
      ],
      "execution_count": 202,
      "outputs": []
    },
    {
      "cell_type": "markdown",
      "metadata": {
        "id": "OBFLmuVmwDBy",
        "colab_type": "text"
      },
      "source": [
        "# Data"
      ]
    },
    {
      "cell_type": "code",
      "metadata": {
        "id": "pdge57c3wD1h",
        "colab_type": "code",
        "colab": {
          "base_uri": "https://localhost:8080/",
          "height": 34
        },
        "outputId": "25a509b1-af02-4fd0-fbbd-8f0d19f5a48b"
      },
      "source": [
        "!kaggle datasets download -d mlg-ulb/creditcardfraud"
      ],
      "execution_count": 203,
      "outputs": [
        {
          "output_type": "stream",
          "text": [
            "creditcardfraud.zip: Skipping, found more recently modified local copy (use --force to force download)\n"
          ],
          "name": "stdout"
        }
      ]
    },
    {
      "cell_type": "code",
      "metadata": {
        "id": "-mqSafSNeXMX",
        "colab_type": "code",
        "colab": {
          "base_uri": "https://localhost:8080/",
          "height": 34
        },
        "outputId": "799b227a-f219-454a-e747-efd2c3a40b61"
      },
      "source": [
        "!unzip -q creditcardfraud.zip"
      ],
      "execution_count": 204,
      "outputs": [
        {
          "output_type": "stream",
          "text": [
            "replace creditcard.csv? [y]es, [n]o, [A]ll, [N]one, [r]ename: n\n"
          ],
          "name": "stdout"
        }
      ]
    },
    {
      "cell_type": "code",
      "metadata": {
        "id": "pfnV8ff_KoPw",
        "colab_type": "code",
        "colab": {
          "base_uri": "https://localhost:8080/",
          "height": 34
        },
        "outputId": "46158a94-d298-4da9-e757-f1493d6c70bf"
      },
      "source": [
        "!ls"
      ],
      "execution_count": 205,
      "outputs": [
        {
          "output_type": "stream",
          "text": [
            "creditcard.csv\tcreditcardfraud.zip  sample_data\n"
          ],
          "name": "stdout"
        }
      ]
    },
    {
      "cell_type": "markdown",
      "metadata": {
        "id": "p2G7Gx91Vg0i",
        "colab_type": "text"
      },
      "source": [
        "# EDA"
      ]
    },
    {
      "cell_type": "code",
      "metadata": {
        "id": "v4XU2IsGVhvB",
        "colab_type": "code",
        "colab": {}
      },
      "source": [
        "df = pd.read_csv('creditcard.csv')\n",
        "class_names = ['No Fraud', 'Fraud']"
      ],
      "execution_count": 206,
      "outputs": []
    },
    {
      "cell_type": "code",
      "metadata": {
        "id": "0PRfIzN4fqbR",
        "colab_type": "code",
        "colab": {
          "base_uri": "https://localhost:8080/",
          "height": 224
        },
        "outputId": "f148912c-48cb-494b-d309-adf1416095b1"
      },
      "source": [
        "df.tail()"
      ],
      "execution_count": 208,
      "outputs": [
        {
          "output_type": "execute_result",
          "data": {
            "text/html": [
              "<div>\n",
              "<style scoped>\n",
              "    .dataframe tbody tr th:only-of-type {\n",
              "        vertical-align: middle;\n",
              "    }\n",
              "\n",
              "    .dataframe tbody tr th {\n",
              "        vertical-align: top;\n",
              "    }\n",
              "\n",
              "    .dataframe thead th {\n",
              "        text-align: right;\n",
              "    }\n",
              "</style>\n",
              "<table border=\"1\" class=\"dataframe\">\n",
              "  <thead>\n",
              "    <tr style=\"text-align: right;\">\n",
              "      <th></th>\n",
              "      <th>Time</th>\n",
              "      <th>V1</th>\n",
              "      <th>V2</th>\n",
              "      <th>V3</th>\n",
              "      <th>V4</th>\n",
              "      <th>V5</th>\n",
              "      <th>V6</th>\n",
              "      <th>V7</th>\n",
              "      <th>V8</th>\n",
              "      <th>V9</th>\n",
              "      <th>V10</th>\n",
              "      <th>V11</th>\n",
              "      <th>V12</th>\n",
              "      <th>V13</th>\n",
              "      <th>V14</th>\n",
              "      <th>V15</th>\n",
              "      <th>V16</th>\n",
              "      <th>V17</th>\n",
              "      <th>V18</th>\n",
              "      <th>V19</th>\n",
              "      <th>V20</th>\n",
              "      <th>V21</th>\n",
              "      <th>V22</th>\n",
              "      <th>V23</th>\n",
              "      <th>V24</th>\n",
              "      <th>V25</th>\n",
              "      <th>V26</th>\n",
              "      <th>V27</th>\n",
              "      <th>V28</th>\n",
              "      <th>Amount</th>\n",
              "      <th>Class</th>\n",
              "    </tr>\n",
              "  </thead>\n",
              "  <tbody>\n",
              "    <tr>\n",
              "      <th>284802</th>\n",
              "      <td>172786.0</td>\n",
              "      <td>-11.881118</td>\n",
              "      <td>10.071785</td>\n",
              "      <td>-9.834783</td>\n",
              "      <td>-2.066656</td>\n",
              "      <td>-5.364473</td>\n",
              "      <td>-2.606837</td>\n",
              "      <td>-4.918215</td>\n",
              "      <td>7.305334</td>\n",
              "      <td>1.914428</td>\n",
              "      <td>4.356170</td>\n",
              "      <td>-1.593105</td>\n",
              "      <td>2.711941</td>\n",
              "      <td>-0.689256</td>\n",
              "      <td>4.626942</td>\n",
              "      <td>-0.924459</td>\n",
              "      <td>1.107641</td>\n",
              "      <td>1.991691</td>\n",
              "      <td>0.510632</td>\n",
              "      <td>-0.682920</td>\n",
              "      <td>1.475829</td>\n",
              "      <td>0.213454</td>\n",
              "      <td>0.111864</td>\n",
              "      <td>1.014480</td>\n",
              "      <td>-0.509348</td>\n",
              "      <td>1.436807</td>\n",
              "      <td>0.250034</td>\n",
              "      <td>0.943651</td>\n",
              "      <td>0.823731</td>\n",
              "      <td>0.77</td>\n",
              "      <td>0</td>\n",
              "    </tr>\n",
              "    <tr>\n",
              "      <th>284803</th>\n",
              "      <td>172787.0</td>\n",
              "      <td>-0.732789</td>\n",
              "      <td>-0.055080</td>\n",
              "      <td>2.035030</td>\n",
              "      <td>-0.738589</td>\n",
              "      <td>0.868229</td>\n",
              "      <td>1.058415</td>\n",
              "      <td>0.024330</td>\n",
              "      <td>0.294869</td>\n",
              "      <td>0.584800</td>\n",
              "      <td>-0.975926</td>\n",
              "      <td>-0.150189</td>\n",
              "      <td>0.915802</td>\n",
              "      <td>1.214756</td>\n",
              "      <td>-0.675143</td>\n",
              "      <td>1.164931</td>\n",
              "      <td>-0.711757</td>\n",
              "      <td>-0.025693</td>\n",
              "      <td>-1.221179</td>\n",
              "      <td>-1.545556</td>\n",
              "      <td>0.059616</td>\n",
              "      <td>0.214205</td>\n",
              "      <td>0.924384</td>\n",
              "      <td>0.012463</td>\n",
              "      <td>-1.016226</td>\n",
              "      <td>-0.606624</td>\n",
              "      <td>-0.395255</td>\n",
              "      <td>0.068472</td>\n",
              "      <td>-0.053527</td>\n",
              "      <td>24.79</td>\n",
              "      <td>0</td>\n",
              "    </tr>\n",
              "    <tr>\n",
              "      <th>284804</th>\n",
              "      <td>172788.0</td>\n",
              "      <td>1.919565</td>\n",
              "      <td>-0.301254</td>\n",
              "      <td>-3.249640</td>\n",
              "      <td>-0.557828</td>\n",
              "      <td>2.630515</td>\n",
              "      <td>3.031260</td>\n",
              "      <td>-0.296827</td>\n",
              "      <td>0.708417</td>\n",
              "      <td>0.432454</td>\n",
              "      <td>-0.484782</td>\n",
              "      <td>0.411614</td>\n",
              "      <td>0.063119</td>\n",
              "      <td>-0.183699</td>\n",
              "      <td>-0.510602</td>\n",
              "      <td>1.329284</td>\n",
              "      <td>0.140716</td>\n",
              "      <td>0.313502</td>\n",
              "      <td>0.395652</td>\n",
              "      <td>-0.577252</td>\n",
              "      <td>0.001396</td>\n",
              "      <td>0.232045</td>\n",
              "      <td>0.578229</td>\n",
              "      <td>-0.037501</td>\n",
              "      <td>0.640134</td>\n",
              "      <td>0.265745</td>\n",
              "      <td>-0.087371</td>\n",
              "      <td>0.004455</td>\n",
              "      <td>-0.026561</td>\n",
              "      <td>67.88</td>\n",
              "      <td>0</td>\n",
              "    </tr>\n",
              "    <tr>\n",
              "      <th>284805</th>\n",
              "      <td>172788.0</td>\n",
              "      <td>-0.240440</td>\n",
              "      <td>0.530483</td>\n",
              "      <td>0.702510</td>\n",
              "      <td>0.689799</td>\n",
              "      <td>-0.377961</td>\n",
              "      <td>0.623708</td>\n",
              "      <td>-0.686180</td>\n",
              "      <td>0.679145</td>\n",
              "      <td>0.392087</td>\n",
              "      <td>-0.399126</td>\n",
              "      <td>-1.933849</td>\n",
              "      <td>-0.962886</td>\n",
              "      <td>-1.042082</td>\n",
              "      <td>0.449624</td>\n",
              "      <td>1.962563</td>\n",
              "      <td>-0.608577</td>\n",
              "      <td>0.509928</td>\n",
              "      <td>1.113981</td>\n",
              "      <td>2.897849</td>\n",
              "      <td>0.127434</td>\n",
              "      <td>0.265245</td>\n",
              "      <td>0.800049</td>\n",
              "      <td>-0.163298</td>\n",
              "      <td>0.123205</td>\n",
              "      <td>-0.569159</td>\n",
              "      <td>0.546668</td>\n",
              "      <td>0.108821</td>\n",
              "      <td>0.104533</td>\n",
              "      <td>10.00</td>\n",
              "      <td>0</td>\n",
              "    </tr>\n",
              "    <tr>\n",
              "      <th>284806</th>\n",
              "      <td>172792.0</td>\n",
              "      <td>-0.533413</td>\n",
              "      <td>-0.189733</td>\n",
              "      <td>0.703337</td>\n",
              "      <td>-0.506271</td>\n",
              "      <td>-0.012546</td>\n",
              "      <td>-0.649617</td>\n",
              "      <td>1.577006</td>\n",
              "      <td>-0.414650</td>\n",
              "      <td>0.486180</td>\n",
              "      <td>-0.915427</td>\n",
              "      <td>-1.040458</td>\n",
              "      <td>-0.031513</td>\n",
              "      <td>-0.188093</td>\n",
              "      <td>-0.084316</td>\n",
              "      <td>0.041333</td>\n",
              "      <td>-0.302620</td>\n",
              "      <td>-0.660377</td>\n",
              "      <td>0.167430</td>\n",
              "      <td>-0.256117</td>\n",
              "      <td>0.382948</td>\n",
              "      <td>0.261057</td>\n",
              "      <td>0.643078</td>\n",
              "      <td>0.376777</td>\n",
              "      <td>0.008797</td>\n",
              "      <td>-0.473649</td>\n",
              "      <td>-0.818267</td>\n",
              "      <td>-0.002415</td>\n",
              "      <td>0.013649</td>\n",
              "      <td>217.00</td>\n",
              "      <td>0</td>\n",
              "    </tr>\n",
              "  </tbody>\n",
              "</table>\n",
              "</div>"
            ],
            "text/plain": [
              "            Time         V1         V2  ...       V28  Amount  Class\n",
              "284802  172786.0 -11.881118  10.071785  ...  0.823731    0.77      0\n",
              "284803  172787.0  -0.732789  -0.055080  ... -0.053527   24.79      0\n",
              "284804  172788.0   1.919565  -0.301254  ... -0.026561   67.88      0\n",
              "284805  172788.0  -0.240440   0.530483  ...  0.104533   10.00      0\n",
              "284806  172792.0  -0.533413  -0.189733  ...  0.013649  217.00      0\n",
              "\n",
              "[5 rows x 31 columns]"
            ]
          },
          "metadata": {
            "tags": []
          },
          "execution_count": 208
        }
      ]
    },
    {
      "cell_type": "markdown",
      "metadata": {
        "id": "S0VKxgprwyVj",
        "colab_type": "text"
      },
      "source": [
        "## Fields"
      ]
    },
    {
      "cell_type": "code",
      "metadata": {
        "id": "LCIQJEK4foAb",
        "colab_type": "code",
        "colab": {
          "base_uri": "https://localhost:8080/",
          "height": 561
        },
        "outputId": "37b71cc0-20c9-4bcf-a9b4-a362a92e9893"
      },
      "source": [
        "df.dtypes"
      ],
      "execution_count": 207,
      "outputs": [
        {
          "output_type": "execute_result",
          "data": {
            "text/plain": [
              "Time      float64\n",
              "V1        float64\n",
              "V2        float64\n",
              "V3        float64\n",
              "V4        float64\n",
              "V5        float64\n",
              "V6        float64\n",
              "V7        float64\n",
              "V8        float64\n",
              "V9        float64\n",
              "V10       float64\n",
              "V11       float64\n",
              "V12       float64\n",
              "V13       float64\n",
              "V14       float64\n",
              "V15       float64\n",
              "V16       float64\n",
              "V17       float64\n",
              "V18       float64\n",
              "V19       float64\n",
              "V20       float64\n",
              "V21       float64\n",
              "V22       float64\n",
              "V23       float64\n",
              "V24       float64\n",
              "V25       float64\n",
              "V26       float64\n",
              "V27       float64\n",
              "V28       float64\n",
              "Amount    float64\n",
              "Class       int64\n",
              "dtype: object"
            ]
          },
          "metadata": {
            "tags": []
          },
          "execution_count": 207
        }
      ]
    },
    {
      "cell_type": "markdown",
      "metadata": {
        "id": "8TmsssF5xBiX",
        "colab_type": "text"
      },
      "source": [
        "## Missing"
      ]
    },
    {
      "cell_type": "code",
      "metadata": {
        "id": "JBVxTGUdw939",
        "colab_type": "code",
        "colab": {
          "base_uri": "https://localhost:8080/",
          "height": 561
        },
        "outputId": "fcd865ca-2617-4543-9629-f7cc82b9d326"
      },
      "source": [
        "df.isnull().sum()"
      ],
      "execution_count": 296,
      "outputs": [
        {
          "output_type": "execute_result",
          "data": {
            "text/plain": [
              "Time      0\n",
              "V1        0\n",
              "V2        0\n",
              "V3        0\n",
              "V4        0\n",
              "V5        0\n",
              "V6        0\n",
              "V7        0\n",
              "V8        0\n",
              "V9        0\n",
              "V10       0\n",
              "V11       0\n",
              "V12       0\n",
              "V13       0\n",
              "V14       0\n",
              "V15       0\n",
              "V16       0\n",
              "V17       0\n",
              "V18       0\n",
              "V19       0\n",
              "V20       0\n",
              "V21       0\n",
              "V22       0\n",
              "V23       0\n",
              "V24       0\n",
              "V25       0\n",
              "V26       0\n",
              "V27       0\n",
              "V28       0\n",
              "Amount    0\n",
              "Class     0\n",
              "dtype: int64"
            ]
          },
          "metadata": {
            "tags": []
          },
          "execution_count": 296
        }
      ]
    },
    {
      "cell_type": "markdown",
      "metadata": {
        "id": "7HryIknkwzzI",
        "colab_type": "text"
      },
      "source": [
        "## Descriptive Statistics"
      ]
    },
    {
      "cell_type": "code",
      "metadata": {
        "id": "q_b2NibLvoFH",
        "colab_type": "code",
        "colab": {
          "base_uri": "https://localhost:8080/",
          "height": 1000
        },
        "outputId": "1c5d6bbb-ab83-4703-f3a4-a4f28977e6fd"
      },
      "source": [
        "df.describe().T"
      ],
      "execution_count": 295,
      "outputs": [
        {
          "output_type": "execute_result",
          "data": {
            "text/html": [
              "<div>\n",
              "<style scoped>\n",
              "    .dataframe tbody tr th:only-of-type {\n",
              "        vertical-align: middle;\n",
              "    }\n",
              "\n",
              "    .dataframe tbody tr th {\n",
              "        vertical-align: top;\n",
              "    }\n",
              "\n",
              "    .dataframe thead th {\n",
              "        text-align: right;\n",
              "    }\n",
              "</style>\n",
              "<table border=\"1\" class=\"dataframe\">\n",
              "  <thead>\n",
              "    <tr style=\"text-align: right;\">\n",
              "      <th></th>\n",
              "      <th>count</th>\n",
              "      <th>mean</th>\n",
              "      <th>std</th>\n",
              "      <th>min</th>\n",
              "      <th>25%</th>\n",
              "      <th>50%</th>\n",
              "      <th>75%</th>\n",
              "      <th>max</th>\n",
              "    </tr>\n",
              "  </thead>\n",
              "  <tbody>\n",
              "    <tr>\n",
              "      <th>Time</th>\n",
              "      <td>284807.0</td>\n",
              "      <td>9.481386e+04</td>\n",
              "      <td>47488.145955</td>\n",
              "      <td>0.000000</td>\n",
              "      <td>54201.500000</td>\n",
              "      <td>84692.000000</td>\n",
              "      <td>139320.500000</td>\n",
              "      <td>172792.000000</td>\n",
              "    </tr>\n",
              "    <tr>\n",
              "      <th>V1</th>\n",
              "      <td>284807.0</td>\n",
              "      <td>3.919560e-15</td>\n",
              "      <td>1.958696</td>\n",
              "      <td>-56.407510</td>\n",
              "      <td>-0.920373</td>\n",
              "      <td>0.018109</td>\n",
              "      <td>1.315642</td>\n",
              "      <td>2.454930</td>\n",
              "    </tr>\n",
              "    <tr>\n",
              "      <th>V2</th>\n",
              "      <td>284807.0</td>\n",
              "      <td>5.688174e-16</td>\n",
              "      <td>1.651309</td>\n",
              "      <td>-72.715728</td>\n",
              "      <td>-0.598550</td>\n",
              "      <td>0.065486</td>\n",
              "      <td>0.803724</td>\n",
              "      <td>22.057729</td>\n",
              "    </tr>\n",
              "    <tr>\n",
              "      <th>V3</th>\n",
              "      <td>284807.0</td>\n",
              "      <td>-8.769071e-15</td>\n",
              "      <td>1.516255</td>\n",
              "      <td>-48.325589</td>\n",
              "      <td>-0.890365</td>\n",
              "      <td>0.179846</td>\n",
              "      <td>1.027196</td>\n",
              "      <td>9.382558</td>\n",
              "    </tr>\n",
              "    <tr>\n",
              "      <th>V4</th>\n",
              "      <td>284807.0</td>\n",
              "      <td>2.782312e-15</td>\n",
              "      <td>1.415869</td>\n",
              "      <td>-5.683171</td>\n",
              "      <td>-0.848640</td>\n",
              "      <td>-0.019847</td>\n",
              "      <td>0.743341</td>\n",
              "      <td>16.875344</td>\n",
              "    </tr>\n",
              "    <tr>\n",
              "      <th>V5</th>\n",
              "      <td>284807.0</td>\n",
              "      <td>-1.552563e-15</td>\n",
              "      <td>1.380247</td>\n",
              "      <td>-113.743307</td>\n",
              "      <td>-0.691597</td>\n",
              "      <td>-0.054336</td>\n",
              "      <td>0.611926</td>\n",
              "      <td>34.801666</td>\n",
              "    </tr>\n",
              "    <tr>\n",
              "      <th>V6</th>\n",
              "      <td>284807.0</td>\n",
              "      <td>2.010663e-15</td>\n",
              "      <td>1.332271</td>\n",
              "      <td>-26.160506</td>\n",
              "      <td>-0.768296</td>\n",
              "      <td>-0.274187</td>\n",
              "      <td>0.398565</td>\n",
              "      <td>73.301626</td>\n",
              "    </tr>\n",
              "    <tr>\n",
              "      <th>V7</th>\n",
              "      <td>284807.0</td>\n",
              "      <td>-1.694249e-15</td>\n",
              "      <td>1.237094</td>\n",
              "      <td>-43.557242</td>\n",
              "      <td>-0.554076</td>\n",
              "      <td>0.040103</td>\n",
              "      <td>0.570436</td>\n",
              "      <td>120.589494</td>\n",
              "    </tr>\n",
              "    <tr>\n",
              "      <th>V8</th>\n",
              "      <td>284807.0</td>\n",
              "      <td>-1.927028e-16</td>\n",
              "      <td>1.194353</td>\n",
              "      <td>-73.216718</td>\n",
              "      <td>-0.208630</td>\n",
              "      <td>0.022358</td>\n",
              "      <td>0.327346</td>\n",
              "      <td>20.007208</td>\n",
              "    </tr>\n",
              "    <tr>\n",
              "      <th>V9</th>\n",
              "      <td>284807.0</td>\n",
              "      <td>-3.137024e-15</td>\n",
              "      <td>1.098632</td>\n",
              "      <td>-13.434066</td>\n",
              "      <td>-0.643098</td>\n",
              "      <td>-0.051429</td>\n",
              "      <td>0.597139</td>\n",
              "      <td>15.594995</td>\n",
              "    </tr>\n",
              "    <tr>\n",
              "      <th>V10</th>\n",
              "      <td>284807.0</td>\n",
              "      <td>1.768627e-15</td>\n",
              "      <td>1.088850</td>\n",
              "      <td>-24.588262</td>\n",
              "      <td>-0.535426</td>\n",
              "      <td>-0.092917</td>\n",
              "      <td>0.453923</td>\n",
              "      <td>23.745136</td>\n",
              "    </tr>\n",
              "    <tr>\n",
              "      <th>V11</th>\n",
              "      <td>284807.0</td>\n",
              "      <td>9.170318e-16</td>\n",
              "      <td>1.020713</td>\n",
              "      <td>-4.797473</td>\n",
              "      <td>-0.762494</td>\n",
              "      <td>-0.032757</td>\n",
              "      <td>0.739593</td>\n",
              "      <td>12.018913</td>\n",
              "    </tr>\n",
              "    <tr>\n",
              "      <th>V12</th>\n",
              "      <td>284807.0</td>\n",
              "      <td>-1.810658e-15</td>\n",
              "      <td>0.999201</td>\n",
              "      <td>-18.683715</td>\n",
              "      <td>-0.405571</td>\n",
              "      <td>0.140033</td>\n",
              "      <td>0.618238</td>\n",
              "      <td>7.848392</td>\n",
              "    </tr>\n",
              "    <tr>\n",
              "      <th>V13</th>\n",
              "      <td>284807.0</td>\n",
              "      <td>1.693438e-15</td>\n",
              "      <td>0.995274</td>\n",
              "      <td>-5.791881</td>\n",
              "      <td>-0.648539</td>\n",
              "      <td>-0.013568</td>\n",
              "      <td>0.662505</td>\n",
              "      <td>7.126883</td>\n",
              "    </tr>\n",
              "    <tr>\n",
              "      <th>V14</th>\n",
              "      <td>284807.0</td>\n",
              "      <td>1.479045e-15</td>\n",
              "      <td>0.958596</td>\n",
              "      <td>-19.214325</td>\n",
              "      <td>-0.425574</td>\n",
              "      <td>0.050601</td>\n",
              "      <td>0.493150</td>\n",
              "      <td>10.526766</td>\n",
              "    </tr>\n",
              "    <tr>\n",
              "      <th>V15</th>\n",
              "      <td>284807.0</td>\n",
              "      <td>3.482336e-15</td>\n",
              "      <td>0.915316</td>\n",
              "      <td>-4.498945</td>\n",
              "      <td>-0.582884</td>\n",
              "      <td>0.048072</td>\n",
              "      <td>0.648821</td>\n",
              "      <td>8.877742</td>\n",
              "    </tr>\n",
              "    <tr>\n",
              "      <th>V16</th>\n",
              "      <td>284807.0</td>\n",
              "      <td>1.392007e-15</td>\n",
              "      <td>0.876253</td>\n",
              "      <td>-14.129855</td>\n",
              "      <td>-0.468037</td>\n",
              "      <td>0.066413</td>\n",
              "      <td>0.523296</td>\n",
              "      <td>17.315112</td>\n",
              "    </tr>\n",
              "    <tr>\n",
              "      <th>V17</th>\n",
              "      <td>284807.0</td>\n",
              "      <td>-7.528491e-16</td>\n",
              "      <td>0.849337</td>\n",
              "      <td>-25.162799</td>\n",
              "      <td>-0.483748</td>\n",
              "      <td>-0.065676</td>\n",
              "      <td>0.399675</td>\n",
              "      <td>9.253526</td>\n",
              "    </tr>\n",
              "    <tr>\n",
              "      <th>V18</th>\n",
              "      <td>284807.0</td>\n",
              "      <td>4.328772e-16</td>\n",
              "      <td>0.838176</td>\n",
              "      <td>-9.498746</td>\n",
              "      <td>-0.498850</td>\n",
              "      <td>-0.003636</td>\n",
              "      <td>0.500807</td>\n",
              "      <td>5.041069</td>\n",
              "    </tr>\n",
              "    <tr>\n",
              "      <th>V19</th>\n",
              "      <td>284807.0</td>\n",
              "      <td>9.049732e-16</td>\n",
              "      <td>0.814041</td>\n",
              "      <td>-7.213527</td>\n",
              "      <td>-0.456299</td>\n",
              "      <td>0.003735</td>\n",
              "      <td>0.458949</td>\n",
              "      <td>5.591971</td>\n",
              "    </tr>\n",
              "    <tr>\n",
              "      <th>V20</th>\n",
              "      <td>284807.0</td>\n",
              "      <td>5.085503e-16</td>\n",
              "      <td>0.770925</td>\n",
              "      <td>-54.497720</td>\n",
              "      <td>-0.211721</td>\n",
              "      <td>-0.062481</td>\n",
              "      <td>0.133041</td>\n",
              "      <td>39.420904</td>\n",
              "    </tr>\n",
              "    <tr>\n",
              "      <th>V21</th>\n",
              "      <td>284807.0</td>\n",
              "      <td>1.537294e-16</td>\n",
              "      <td>0.734524</td>\n",
              "      <td>-34.830382</td>\n",
              "      <td>-0.228395</td>\n",
              "      <td>-0.029450</td>\n",
              "      <td>0.186377</td>\n",
              "      <td>27.202839</td>\n",
              "    </tr>\n",
              "    <tr>\n",
              "      <th>V22</th>\n",
              "      <td>284807.0</td>\n",
              "      <td>7.959909e-16</td>\n",
              "      <td>0.725702</td>\n",
              "      <td>-10.933144</td>\n",
              "      <td>-0.542350</td>\n",
              "      <td>0.006782</td>\n",
              "      <td>0.528554</td>\n",
              "      <td>10.503090</td>\n",
              "    </tr>\n",
              "    <tr>\n",
              "      <th>V23</th>\n",
              "      <td>284807.0</td>\n",
              "      <td>5.367590e-16</td>\n",
              "      <td>0.624460</td>\n",
              "      <td>-44.807735</td>\n",
              "      <td>-0.161846</td>\n",
              "      <td>-0.011193</td>\n",
              "      <td>0.147642</td>\n",
              "      <td>22.528412</td>\n",
              "    </tr>\n",
              "    <tr>\n",
              "      <th>V24</th>\n",
              "      <td>284807.0</td>\n",
              "      <td>4.458112e-15</td>\n",
              "      <td>0.605647</td>\n",
              "      <td>-2.836627</td>\n",
              "      <td>-0.354586</td>\n",
              "      <td>0.040976</td>\n",
              "      <td>0.439527</td>\n",
              "      <td>4.584549</td>\n",
              "    </tr>\n",
              "    <tr>\n",
              "      <th>V25</th>\n",
              "      <td>284807.0</td>\n",
              "      <td>1.453003e-15</td>\n",
              "      <td>0.521278</td>\n",
              "      <td>-10.295397</td>\n",
              "      <td>-0.317145</td>\n",
              "      <td>0.016594</td>\n",
              "      <td>0.350716</td>\n",
              "      <td>7.519589</td>\n",
              "    </tr>\n",
              "    <tr>\n",
              "      <th>V26</th>\n",
              "      <td>284807.0</td>\n",
              "      <td>1.699104e-15</td>\n",
              "      <td>0.482227</td>\n",
              "      <td>-2.604551</td>\n",
              "      <td>-0.326984</td>\n",
              "      <td>-0.052139</td>\n",
              "      <td>0.240952</td>\n",
              "      <td>3.517346</td>\n",
              "    </tr>\n",
              "    <tr>\n",
              "      <th>V27</th>\n",
              "      <td>284807.0</td>\n",
              "      <td>-3.660161e-16</td>\n",
              "      <td>0.403632</td>\n",
              "      <td>-22.565679</td>\n",
              "      <td>-0.070840</td>\n",
              "      <td>0.001342</td>\n",
              "      <td>0.091045</td>\n",
              "      <td>31.612198</td>\n",
              "    </tr>\n",
              "    <tr>\n",
              "      <th>V28</th>\n",
              "      <td>284807.0</td>\n",
              "      <td>-1.206049e-16</td>\n",
              "      <td>0.330083</td>\n",
              "      <td>-15.430084</td>\n",
              "      <td>-0.052960</td>\n",
              "      <td>0.011244</td>\n",
              "      <td>0.078280</td>\n",
              "      <td>33.847808</td>\n",
              "    </tr>\n",
              "    <tr>\n",
              "      <th>Amount</th>\n",
              "      <td>284807.0</td>\n",
              "      <td>8.834962e+01</td>\n",
              "      <td>250.120109</td>\n",
              "      <td>0.000000</td>\n",
              "      <td>5.600000</td>\n",
              "      <td>22.000000</td>\n",
              "      <td>77.165000</td>\n",
              "      <td>25691.160000</td>\n",
              "    </tr>\n",
              "    <tr>\n",
              "      <th>Class</th>\n",
              "      <td>284807.0</td>\n",
              "      <td>1.727486e-03</td>\n",
              "      <td>0.041527</td>\n",
              "      <td>0.000000</td>\n",
              "      <td>0.000000</td>\n",
              "      <td>0.000000</td>\n",
              "      <td>0.000000</td>\n",
              "      <td>1.000000</td>\n",
              "    </tr>\n",
              "  </tbody>\n",
              "</table>\n",
              "</div>"
            ],
            "text/plain": [
              "           count          mean  ...            75%            max\n",
              "Time    284807.0  9.481386e+04  ...  139320.500000  172792.000000\n",
              "V1      284807.0  3.919560e-15  ...       1.315642       2.454930\n",
              "V2      284807.0  5.688174e-16  ...       0.803724      22.057729\n",
              "V3      284807.0 -8.769071e-15  ...       1.027196       9.382558\n",
              "V4      284807.0  2.782312e-15  ...       0.743341      16.875344\n",
              "V5      284807.0 -1.552563e-15  ...       0.611926      34.801666\n",
              "V6      284807.0  2.010663e-15  ...       0.398565      73.301626\n",
              "V7      284807.0 -1.694249e-15  ...       0.570436     120.589494\n",
              "V8      284807.0 -1.927028e-16  ...       0.327346      20.007208\n",
              "V9      284807.0 -3.137024e-15  ...       0.597139      15.594995\n",
              "V10     284807.0  1.768627e-15  ...       0.453923      23.745136\n",
              "V11     284807.0  9.170318e-16  ...       0.739593      12.018913\n",
              "V12     284807.0 -1.810658e-15  ...       0.618238       7.848392\n",
              "V13     284807.0  1.693438e-15  ...       0.662505       7.126883\n",
              "V14     284807.0  1.479045e-15  ...       0.493150      10.526766\n",
              "V15     284807.0  3.482336e-15  ...       0.648821       8.877742\n",
              "V16     284807.0  1.392007e-15  ...       0.523296      17.315112\n",
              "V17     284807.0 -7.528491e-16  ...       0.399675       9.253526\n",
              "V18     284807.0  4.328772e-16  ...       0.500807       5.041069\n",
              "V19     284807.0  9.049732e-16  ...       0.458949       5.591971\n",
              "V20     284807.0  5.085503e-16  ...       0.133041      39.420904\n",
              "V21     284807.0  1.537294e-16  ...       0.186377      27.202839\n",
              "V22     284807.0  7.959909e-16  ...       0.528554      10.503090\n",
              "V23     284807.0  5.367590e-16  ...       0.147642      22.528412\n",
              "V24     284807.0  4.458112e-15  ...       0.439527       4.584549\n",
              "V25     284807.0  1.453003e-15  ...       0.350716       7.519589\n",
              "V26     284807.0  1.699104e-15  ...       0.240952       3.517346\n",
              "V27     284807.0 -3.660161e-16  ...       0.091045      31.612198\n",
              "V28     284807.0 -1.206049e-16  ...       0.078280      33.847808\n",
              "Amount  284807.0  8.834962e+01  ...      77.165000   25691.160000\n",
              "Class   284807.0  1.727486e-03  ...       0.000000       1.000000\n",
              "\n",
              "[31 rows x 8 columns]"
            ]
          },
          "metadata": {
            "tags": []
          },
          "execution_count": 295
        }
      ]
    },
    {
      "cell_type": "code",
      "metadata": {
        "id": "QnxBrVzQ6W40",
        "colab_type": "code",
        "colab": {
          "base_uri": "https://localhost:8080/",
          "height": 1000
        },
        "outputId": "109840c4-40e3-4c2f-b715-3adb5b3263f5"
      },
      "source": [
        "no_fraud = df[df.Class == 0].describe().T['mean']\n",
        "fraud    = df[df.Class == 1].describe().T['mean']\n",
        "pd.DataFrame({'No Fraud': no_fraud, 'Fraud': fraud})"
      ],
      "execution_count": 302,
      "outputs": [
        {
          "output_type": "execute_result",
          "data": {
            "text/html": [
              "<div>\n",
              "<style scoped>\n",
              "    .dataframe tbody tr th:only-of-type {\n",
              "        vertical-align: middle;\n",
              "    }\n",
              "\n",
              "    .dataframe tbody tr th {\n",
              "        vertical-align: top;\n",
              "    }\n",
              "\n",
              "    .dataframe thead th {\n",
              "        text-align: right;\n",
              "    }\n",
              "</style>\n",
              "<table border=\"1\" class=\"dataframe\">\n",
              "  <thead>\n",
              "    <tr style=\"text-align: right;\">\n",
              "      <th></th>\n",
              "      <th>No Fraud</th>\n",
              "      <th>Fraud</th>\n",
              "    </tr>\n",
              "  </thead>\n",
              "  <tbody>\n",
              "    <tr>\n",
              "      <th>Time</th>\n",
              "      <td>94838.202258</td>\n",
              "      <td>80746.806911</td>\n",
              "    </tr>\n",
              "    <tr>\n",
              "      <th>V1</th>\n",
              "      <td>0.008258</td>\n",
              "      <td>-4.771948</td>\n",
              "    </tr>\n",
              "    <tr>\n",
              "      <th>V2</th>\n",
              "      <td>-0.006271</td>\n",
              "      <td>3.623778</td>\n",
              "    </tr>\n",
              "    <tr>\n",
              "      <th>V3</th>\n",
              "      <td>0.012171</td>\n",
              "      <td>-7.033281</td>\n",
              "    </tr>\n",
              "    <tr>\n",
              "      <th>V4</th>\n",
              "      <td>-0.007860</td>\n",
              "      <td>4.542029</td>\n",
              "    </tr>\n",
              "    <tr>\n",
              "      <th>V5</th>\n",
              "      <td>0.005453</td>\n",
              "      <td>-3.151225</td>\n",
              "    </tr>\n",
              "    <tr>\n",
              "      <th>V6</th>\n",
              "      <td>0.002419</td>\n",
              "      <td>-1.397737</td>\n",
              "    </tr>\n",
              "    <tr>\n",
              "      <th>V7</th>\n",
              "      <td>0.009637</td>\n",
              "      <td>-5.568731</td>\n",
              "    </tr>\n",
              "    <tr>\n",
              "      <th>V8</th>\n",
              "      <td>-0.000987</td>\n",
              "      <td>0.570636</td>\n",
              "    </tr>\n",
              "    <tr>\n",
              "      <th>V9</th>\n",
              "      <td>0.004467</td>\n",
              "      <td>-2.581123</td>\n",
              "    </tr>\n",
              "    <tr>\n",
              "      <th>V10</th>\n",
              "      <td>0.009824</td>\n",
              "      <td>-5.676883</td>\n",
              "    </tr>\n",
              "    <tr>\n",
              "      <th>V11</th>\n",
              "      <td>-0.006576</td>\n",
              "      <td>3.800173</td>\n",
              "    </tr>\n",
              "    <tr>\n",
              "      <th>V12</th>\n",
              "      <td>0.010832</td>\n",
              "      <td>-6.259393</td>\n",
              "    </tr>\n",
              "    <tr>\n",
              "      <th>V13</th>\n",
              "      <td>0.000189</td>\n",
              "      <td>-0.109334</td>\n",
              "    </tr>\n",
              "    <tr>\n",
              "      <th>V14</th>\n",
              "      <td>0.012064</td>\n",
              "      <td>-6.971723</td>\n",
              "    </tr>\n",
              "    <tr>\n",
              "      <th>V15</th>\n",
              "      <td>0.000161</td>\n",
              "      <td>-0.092929</td>\n",
              "    </tr>\n",
              "    <tr>\n",
              "      <th>V16</th>\n",
              "      <td>0.007164</td>\n",
              "      <td>-4.139946</td>\n",
              "    </tr>\n",
              "    <tr>\n",
              "      <th>V17</th>\n",
              "      <td>0.011535</td>\n",
              "      <td>-6.665836</td>\n",
              "    </tr>\n",
              "    <tr>\n",
              "      <th>V18</th>\n",
              "      <td>0.003887</td>\n",
              "      <td>-2.246308</td>\n",
              "    </tr>\n",
              "    <tr>\n",
              "      <th>V19</th>\n",
              "      <td>-0.001178</td>\n",
              "      <td>0.680659</td>\n",
              "    </tr>\n",
              "    <tr>\n",
              "      <th>V20</th>\n",
              "      <td>-0.000644</td>\n",
              "      <td>0.372319</td>\n",
              "    </tr>\n",
              "    <tr>\n",
              "      <th>V21</th>\n",
              "      <td>-0.001235</td>\n",
              "      <td>0.713588</td>\n",
              "    </tr>\n",
              "    <tr>\n",
              "      <th>V22</th>\n",
              "      <td>-0.000024</td>\n",
              "      <td>0.014049</td>\n",
              "    </tr>\n",
              "    <tr>\n",
              "      <th>V23</th>\n",
              "      <td>0.000070</td>\n",
              "      <td>-0.040308</td>\n",
              "    </tr>\n",
              "    <tr>\n",
              "      <th>V24</th>\n",
              "      <td>0.000182</td>\n",
              "      <td>-0.105130</td>\n",
              "    </tr>\n",
              "    <tr>\n",
              "      <th>V25</th>\n",
              "      <td>-0.000072</td>\n",
              "      <td>0.041449</td>\n",
              "    </tr>\n",
              "    <tr>\n",
              "      <th>V26</th>\n",
              "      <td>-0.000089</td>\n",
              "      <td>0.051648</td>\n",
              "    </tr>\n",
              "    <tr>\n",
              "      <th>V27</th>\n",
              "      <td>-0.000295</td>\n",
              "      <td>0.170575</td>\n",
              "    </tr>\n",
              "    <tr>\n",
              "      <th>V28</th>\n",
              "      <td>-0.000131</td>\n",
              "      <td>0.075667</td>\n",
              "    </tr>\n",
              "    <tr>\n",
              "      <th>Amount</th>\n",
              "      <td>88.291022</td>\n",
              "      <td>122.211321</td>\n",
              "    </tr>\n",
              "    <tr>\n",
              "      <th>Class</th>\n",
              "      <td>0.000000</td>\n",
              "      <td>1.000000</td>\n",
              "    </tr>\n",
              "  </tbody>\n",
              "</table>\n",
              "</div>"
            ],
            "text/plain": [
              "            No Fraud         Fraud\n",
              "Time    94838.202258  80746.806911\n",
              "V1          0.008258     -4.771948\n",
              "V2         -0.006271      3.623778\n",
              "V3          0.012171     -7.033281\n",
              "V4         -0.007860      4.542029\n",
              "V5          0.005453     -3.151225\n",
              "V6          0.002419     -1.397737\n",
              "V7          0.009637     -5.568731\n",
              "V8         -0.000987      0.570636\n",
              "V9          0.004467     -2.581123\n",
              "V10         0.009824     -5.676883\n",
              "V11        -0.006576      3.800173\n",
              "V12         0.010832     -6.259393\n",
              "V13         0.000189     -0.109334\n",
              "V14         0.012064     -6.971723\n",
              "V15         0.000161     -0.092929\n",
              "V16         0.007164     -4.139946\n",
              "V17         0.011535     -6.665836\n",
              "V18         0.003887     -2.246308\n",
              "V19        -0.001178      0.680659\n",
              "V20        -0.000644      0.372319\n",
              "V21        -0.001235      0.713588\n",
              "V22        -0.000024      0.014049\n",
              "V23         0.000070     -0.040308\n",
              "V24         0.000182     -0.105130\n",
              "V25        -0.000072      0.041449\n",
              "V26        -0.000089      0.051648\n",
              "V27        -0.000295      0.170575\n",
              "V28        -0.000131      0.075667\n",
              "Amount     88.291022    122.211321\n",
              "Class       0.000000      1.000000"
            ]
          },
          "metadata": {
            "tags": []
          },
          "execution_count": 302
        }
      ]
    },
    {
      "cell_type": "markdown",
      "metadata": {
        "id": "hYXCIpGm6R3E",
        "colab_type": "text"
      },
      "source": [
        "## Comparison"
      ]
    },
    {
      "cell_type": "code",
      "metadata": {
        "id": "oQ48haQU6LST",
        "colab_type": "code",
        "colab": {
          "base_uri": "https://localhost:8080/",
          "height": 318
        },
        "outputId": "dd891be9-053c-489a-e3d1-ffcced5e2a26"
      },
      "source": [
        "df.boxplot('V3', by='Class')"
      ],
      "execution_count": 303,
      "outputs": [
        {
          "output_type": "execute_result",
          "data": {
            "text/plain": [
              "<matplotlib.axes._subplots.AxesSubplot at 0x7f0885a16780>"
            ]
          },
          "metadata": {
            "tags": []
          },
          "execution_count": 303
        },
        {
          "output_type": "display_data",
          "data": {
            "image/png": "[encoded data removed]",
            "text/plain": [
              "<Figure size 432x288 with 1 Axes>"
            ]
          },
          "metadata": {
            "tags": [],
            "needs_background": "light"
          }
        }
      ]
    },
    {
      "cell_type": "code",
      "metadata": {
        "id": "spEa7XBT6Csq",
        "colab_type": "code",
        "colab": {
          "base_uri": "https://localhost:8080/",
          "height": 318
        },
        "outputId": "32128007-8d7b-4b1e-bd0c-250517d52121"
      },
      "source": [
        "df.boxplot('V17', by='Class')"
      ],
      "execution_count": 304,
      "outputs": [
        {
          "output_type": "execute_result",
          "data": {
            "text/plain": [
              "<matplotlib.axes._subplots.AxesSubplot at 0x7f08855e7470>"
            ]
          },
          "metadata": {
            "tags": []
          },
          "execution_count": 304
        },
        {
          "output_type": "display_data",
          "data": {
            "image/png": "[encoded data removed]",
            "text/plain": [
              "<Figure size 432x288 with 1 Axes>"
            ]
          },
          "metadata": {
            "tags": [],
            "needs_background": "light"
          }
        }
      ]
    },
    {
      "cell_type": "markdown",
      "metadata": {
        "id": "VGN-XJcRh8Cl",
        "colab_type": "text"
      },
      "source": [
        "# Helpers"
      ]
    },
    {
      "cell_type": "code",
      "metadata": {
        "id": "gjFbayYNnYwT",
        "colab_type": "code",
        "colab": {}
      },
      "source": [
        "def reconstruction_error(original, rebuilt, normalize=False):\n",
        "    loss = np.sum((original - rebuilt) ** 2, axis=1)\n",
        "    loss = pd.Series(data=loss)\n",
        "    if normalize:\n",
        "      loss = (loss - np.min(loss)) / (np.max(loss) - np.min(loss))\n",
        "    return loss"
      ],
      "execution_count": 209,
      "outputs": []
    },
    {
      "cell_type": "code",
      "metadata": {
        "id": "gKxeQFHpj-6r",
        "colab_type": "code",
        "colab": {}
      },
      "source": [
        "def plot_performance(history, color_train='blue', color_val='red'):\n",
        "    fig, ax = plt.subplots(figsize=(12,10))\n",
        "    \n",
        "    acc = history.history['accuracy']\n",
        "    val_acc = history.history['val_accuracy']\n",
        "    epochs = range(1, len(acc) + 1)\n",
        "    ax = plt.subplot(2, 1, 1)\n",
        "    plt.plot(epochs, acc, 'bo', color=color_train, label='Train')\n",
        "    plt.plot(epochs, val_acc, 'b', color=color_val, label='Validation')\n",
        "    plt.title('Training & Validation Accuracy')\n",
        "    plt.ylabel('Accuracy')\n",
        "    ax.legend()\n",
        "    \n",
        "    ax = plt.subplot(2, 1, 2)\n",
        "    loss = history.history['loss']\n",
        "    val_loss = history.history['val_loss']\n",
        "    epochs = range(1, len(loss) + 1)    \n",
        "    plt.plot(epochs, loss, 'bo', color=color_train, label='Train')\n",
        "    plt.plot(epochs, val_loss, 'b', color=color_val, label='Validation')\n",
        "    plt.title('Training & Validation Loss')\n",
        "    plt.xlabel('Epochs')\n",
        "    plt.ylabel('Loss')\n",
        "    plt.legend()"
      ],
      "execution_count": 210,
      "outputs": []
    },
    {
      "cell_type": "code",
      "metadata": {
        "id": "yBU8IVjONw0X",
        "colab_type": "code",
        "colab": {}
      },
      "source": [
        "def compare_history(histories, metric='val_accuracy', ylabel='Accuracy', title='Validation Accuracy'):\n",
        "    colors = (c for c in ['blue', 'orange', 'green', 'black', 'red', 'purple'])\n",
        "    fig, ax = plt.subplots(figsize=(12,10))\n",
        "    \n",
        "    ax = plt.subplot(2, 1, 1)\n",
        "    for key, history in histories.items():\n",
        "        val_acc = history.history[metric]\n",
        "        epochs = range(1, len(val_acc) + 1)\n",
        "        plt.plot(epochs, val_acc, 'b', label=key, color=next(colors))   \n",
        "        plt.title(title)\n",
        "        plt.ylabel(ylabel)\n",
        "    ax.legend()\n",
        "    \n",
        "    plt.show();"
      ],
      "execution_count": 211,
      "outputs": []
    },
    {
      "cell_type": "code",
      "metadata": {
        "id": "5k9eZDdANwyH",
        "colab_type": "code",
        "colab": {}
      },
      "source": [
        "def print_classification_report(test, pred, target_names=class_names):\n",
        "  report = classification_report(test, pred, target_names=target_names)\n",
        "  print(report)  \n",
        "\n",
        "def plot_confusion(test, pred, class_names=class_names):\n",
        "    cm = confusion_matrix(test, pred)\n",
        "    df = pd.DataFrame(cm, class_names, class_names)\n",
        "    plt.figure(figsize=(10, 10))\n",
        "    sns.heatmap(df, annot=True, fmt='d', cmap='BuGn')\n",
        "    plt.xlabel('Prediction')\n",
        "    plt.ylabel('Actual')\n",
        "    plt.show()\n",
        "\n",
        "def plot_roc_curve(test, pred_proba):\n",
        "  fpr, tpr, _ = roc_curve(test,  pred_proba)\n",
        "  auc = roc_auc_score(test, pred_proba)\n",
        "  plt.figure(figsize=(10, 10))\n",
        "  plt.plot(fpr, tpr, label=f'AUC = {auc}')\n",
        "  plt.plot([0,1], [0,1], linestyle='--')\n",
        "  plt.title('ROC Curve')\n",
        "  plt.xlabel('False Positive Rate')\n",
        "  plt.ylabel('True Positive Rate')\n",
        "  plt.legend(loc=4)\n",
        "  plt.show()\n",
        "\n",
        "def plot_precision_recall_curve(test, pred_proba):\n",
        "  precision, recall, _ = precision_recall_curve(test, pred_proba)\n",
        "  aps = average_precision_score(y_test, pred_proba)\n",
        "  plt.figure(figsize=(10, 10))\n",
        "  plt.plot(recall, precision, label=f'Avg Precision = {aps}')\n",
        "  plt.plot([0,1], [0.5,0.5], linestyle='--')\n",
        "  plt.fill_between(recall, 0, precision)\n",
        "  plt.title('Precision Recall Curve')\n",
        "  plt.xlabel('Recall')\n",
        "  plt.ylabel('Precision')\n",
        "  plt.legend(loc=4)\n",
        "  plt.show()"
      ],
      "execution_count": 212,
      "outputs": []
    },
    {
      "cell_type": "markdown",
      "metadata": {
        "id": "3PsdSxj0O3Ae",
        "colab_type": "text"
      },
      "source": [
        "# Parameters"
      ]
    },
    {
      "cell_type": "code",
      "metadata": {
        "id": "6equNTCiPhRY",
        "colab_type": "code",
        "colab": {}
      },
      "source": [
        "epochs     = 20\n",
        "batch_size = 32"
      ],
      "execution_count": 213,
      "outputs": []
    },
    {
      "cell_type": "markdown",
      "metadata": {
        "id": "pmT_-5HSj9DM",
        "colab_type": "text"
      },
      "source": [
        "# Results\n",
        "* Reconstruction Error - The distance from actual and rebuilt"
      ]
    },
    {
      "cell_type": "code",
      "metadata": {
        "id": "jNQNshtwj-0M",
        "colab_type": "code",
        "colab": {}
      },
      "source": [
        "results_df = pd.DataFrame(columns=['MAE', 'RMSE', 'LOSS', 'ACC', 'NO_FRAUD', 'FRAUD'])"
      ],
      "execution_count": 232,
      "outputs": []
    },
    {
      "cell_type": "markdown",
      "metadata": {
        "id": "huuQqGnIlULe",
        "colab_type": "text"
      },
      "source": [
        "# Pre-Processing"
      ]
    },
    {
      "cell_type": "code",
      "metadata": {
        "id": "xPPIpBC6lX8L",
        "colab_type": "code",
        "colab": {}
      },
      "source": [
        "y = df['Class'].copy()\n",
        "X = df.copy()\n",
        "X = X.drop(columns=['Class', 'Time'])"
      ],
      "execution_count": 233,
      "outputs": []
    },
    {
      "cell_type": "code",
      "metadata": {
        "id": "jfShc94ULyyI",
        "colab_type": "code",
        "colab": {}
      },
      "source": [
        "scaler = StandardScaler()\n",
        "X['Amount'] = scaler.fit_transform(X['Amount'].values.reshape(-1, 1))\n",
        "#X = scaler.fit_transform(X)"
      ],
      "execution_count": 234,
      "outputs": []
    },
    {
      "cell_type": "code",
      "metadata": {
        "id": "C6z3cj7nLzSH",
        "colab_type": "code",
        "colab": {}
      },
      "source": [
        "X_train, X_test, y_train, y_test = train_test_split(X, y, test_size=.25, random_state=1000, stratify=y)"
      ],
      "execution_count": 235,
      "outputs": []
    },
    {
      "cell_type": "code",
      "metadata": {
        "id": "UP-cjrTTNUvp",
        "colab_type": "code",
        "colab": {
          "base_uri": "https://localhost:8080/",
          "height": 51
        },
        "outputId": "47067df5-6865-41ab-a0fe-dd15c37cf2da"
      },
      "source": [
        "print('Train', X_train.shape, y_train.shape, y_train.sum())\n",
        "print('Test ', X_test.shape, y_test.shape, y_test.sum())"
      ],
      "execution_count": 236,
      "outputs": [
        {
          "output_type": "stream",
          "text": [
            "Train (213605, 29) (213605,) 369\n",
            "Test  (71202, 29) (71202,) 123\n"
          ],
          "name": "stdout"
        }
      ]
    },
    {
      "cell_type": "markdown",
      "metadata": {
        "id": "3XFptD26jIwz",
        "colab_type": "text"
      },
      "source": [
        "# Complete"
      ]
    },
    {
      "cell_type": "markdown",
      "metadata": {
        "id": "DUwN5omrOjK0",
        "colab_type": "text"
      },
      "source": [
        "## Model"
      ]
    },
    {
      "cell_type": "code",
      "metadata": {
        "id": "OYF1aBH6qwEe",
        "colab_type": "code",
        "colab": {
          "base_uri": "https://localhost:8080/",
          "height": 34
        },
        "outputId": "e4d500a2-6f95-4317-d011-58e4fc6c490c"
      },
      "source": [
        "input_size = X.shape[1]\n",
        "print(input_size)"
      ],
      "execution_count": 237,
      "outputs": [
        {
          "output_type": "stream",
          "text": [
            "29\n"
          ],
          "name": "stdout"
        }
      ]
    },
    {
      "cell_type": "code",
      "metadata": {
        "id": "oMNmBEdxJyUS",
        "colab_type": "code",
        "colab": {}
      },
      "source": [
        "# Input\n",
        "input_layer = Input(shape=(input_size,))\n",
        "\n",
        "# Encoder\n",
        "encoded = Dense(input_size,  activation='relu')(input_layer)\n",
        "\n",
        "# Output\n",
        "output_layer = Dense(input_size, activation='linear')(encoded)\n",
        "\n",
        "# AutoEncoder\n",
        "model = Model(input_layer, output_layer)"
      ],
      "execution_count": 238,
      "outputs": []
    },
    {
      "cell_type": "code",
      "metadata": {
        "id": "NxdSTJBRJyWg",
        "colab_type": "code",
        "colab": {
          "base_uri": "https://localhost:8080/",
          "height": 255
        },
        "outputId": "ee7d0879-85aa-4049-b48b-caf50434d414"
      },
      "source": [
        "model.summary()"
      ],
      "execution_count": 239,
      "outputs": [
        {
          "output_type": "stream",
          "text": [
            "Model: \"model_11\"\n",
            "_________________________________________________________________\n",
            "Layer (type)                 Output Shape              Param #   \n",
            "=================================================================\n",
            "input_12 (InputLayer)        [(None, 29)]              0         \n",
            "_________________________________________________________________\n",
            "dense_31 (Dense)             (None, 29)                870       \n",
            "_________________________________________________________________\n",
            "dense_32 (Dense)             (None, 29)                870       \n",
            "=================================================================\n",
            "Total params: 1,740\n",
            "Trainable params: 1,740\n",
            "Non-trainable params: 0\n",
            "_________________________________________________________________\n"
          ],
          "name": "stdout"
        }
      ]
    },
    {
      "cell_type": "code",
      "metadata": {
        "id": "hWdZmjeCpc6g",
        "colab_type": "code",
        "colab": {
          "base_uri": "https://localhost:8080/",
          "height": 312
        },
        "outputId": "97d158c1-d19b-4ecf-c488-8e5870311770"
      },
      "source": [
        "plot_model(model, show_shapes=True)"
      ],
      "execution_count": 240,
      "outputs": [
        {
          "output_type": "execute_result",
          "data": {
            "image/png": "[encoded data removed]",
            "text/plain": [
              "<IPython.core.display.Image object>"
            ]
          },
          "metadata": {
            "tags": []
          },
          "execution_count": 240
        }
      ]
    },
    {
      "cell_type": "markdown",
      "metadata": {
        "id": "tzMz-oFyOkbT",
        "colab_type": "text"
      },
      "source": [
        "## Train"
      ]
    },
    {
      "cell_type": "code",
      "metadata": {
        "id": "wN4nc-VqOlry",
        "colab_type": "code",
        "colab": {}
      },
      "source": [
        "model.compile(optimizer='adam', loss='mse', metrics=['accuracy'])"
      ],
      "execution_count": 241,
      "outputs": []
    },
    {
      "cell_type": "code",
      "metadata": {
        "id": "YcCnN0-sOvDZ",
        "colab_type": "code",
        "colab": {
          "base_uri": "https://localhost:8080/",
          "height": 360
        },
        "outputId": "69857748-26e3-47bf-d1aa-aaadb42b6e26"
      },
      "source": [
        "early_stop = EarlyStopping(patience=3, verbose=1)\n",
        "history_complete = model.fit(X_train, X_train,\n",
        "                             epochs=epochs,\n",
        "                             batch_size=batch_size,\n",
        "                             shuffle=True,\n",
        "                             validation_data=(X_test, X_test),\n",
        "                             callbacks=[early_stop],\n",
        "                             verbose=1)"
      ],
      "execution_count": 242,
      "outputs": [
        {
          "output_type": "stream",
          "text": [
            "Epoch 1/20\n",
            "6676/6676 [==============================] - 11s 2ms/step - loss: 0.1159 - accuracy: 0.8639 - val_loss: 0.0029 - val_accuracy: 0.9810\n",
            "Epoch 2/20\n",
            "6676/6676 [==============================] - 11s 2ms/step - loss: 0.0033 - accuracy: 0.9769 - val_loss: 0.0021 - val_accuracy: 0.9847\n",
            "Epoch 3/20\n",
            "6676/6676 [==============================] - 11s 2ms/step - loss: 0.0034 - accuracy: 0.9772 - val_loss: 0.0022 - val_accuracy: 0.9837\n",
            "Epoch 4/20\n",
            "6676/6676 [==============================] - 11s 2ms/step - loss: 0.0030 - accuracy: 0.9782 - val_loss: 0.0030 - val_accuracy: 0.9815\n",
            "Epoch 5/20\n",
            "6676/6676 [==============================] - 11s 2ms/step - loss: 0.0028 - accuracy: 0.9789 - val_loss: 0.0011 - val_accuracy: 0.9880\n",
            "Epoch 6/20\n",
            "6676/6676 [==============================] - 12s 2ms/step - loss: 0.0014 - accuracy: 0.9853 - val_loss: 1.2425e-04 - val_accuracy: 0.9977\n",
            "Epoch 7/20\n",
            "6676/6676 [==============================] - 11s 2ms/step - loss: 8.6403e-04 - accuracy: 0.9892 - val_loss: 9.8322e-04 - val_accuracy: 0.9830\n",
            "Epoch 8/20\n",
            "6676/6676 [==============================] - 11s 2ms/step - loss: 8.3261e-04 - accuracy: 0.9892 - val_loss: 1.4525e-04 - val_accuracy: 0.9977\n",
            "Epoch 9/20\n",
            "6676/6676 [==============================] - 11s 2ms/step - loss: 7.5496e-04 - accuracy: 0.9893 - val_loss: 1.2849e-04 - val_accuracy: 0.9970\n",
            "Epoch 00009: early stopping\n"
          ],
          "name": "stdout"
        }
      ]
    },
    {
      "cell_type": "markdown",
      "metadata": {
        "id": "oQS9NqITQBMs",
        "colab_type": "text"
      },
      "source": [
        "## Plots"
      ]
    },
    {
      "cell_type": "code",
      "metadata": {
        "id": "FLqP2JHtQMGF",
        "colab_type": "code",
        "colab": {
          "base_uri": "https://localhost:8080/",
          "height": 621
        },
        "outputId": "a37181dc-9b4b-4681-9148-75d9239593fb"
      },
      "source": [
        "plot_performance(history_complete)"
      ],
      "execution_count": 243,
      "outputs": [
        {
          "output_type": "display_data",
          "data": {
            "image/png": "[encoded data removed]",
            "text/plain": [
              "<Figure size 864x720 with 2 Axes>"
            ]
          },
          "metadata": {
            "tags": [],
            "needs_background": "light"
          }
        }
      ]
    },
    {
      "cell_type": "markdown",
      "metadata": {
        "id": "w7lw_fKiPmqr",
        "colab_type": "text"
      },
      "source": [
        "## Test"
      ]
    },
    {
      "cell_type": "code",
      "metadata": {
        "id": "kmbib2l3Pray",
        "colab_type": "code",
        "colab": {
          "base_uri": "https://localhost:8080/",
          "height": 85
        },
        "outputId": "e8238503-e3d2-447d-8adf-cedfdd38139b"
      },
      "source": [
        "evaluated = model.evaluate(X_test, X_test) \n",
        "pred      = model.predict(X_test)\n",
        "\n",
        "mae  = mean_absolute_error(X_test, pred)\n",
        "rmse = math.sqrt(mean_squared_error(X_test, pred))\n",
        "loss = evaluated[0]\n",
        "acc  = evaluated[1]\n",
        "\n",
        "print(f'MAE: {mae:.2f} RMSE: {rmse:.2f}')\n",
        "print(f'Test Loss     {loss}')\n",
        "print(f'Test Accuracy {acc}')"
      ],
      "execution_count": 244,
      "outputs": [
        {
          "output_type": "stream",
          "text": [
            "2226/2226 [==============================] - 2s 1ms/step - loss: 1.2849e-04 - accuracy: 0.9970\n",
            "MAE: 0.00 RMSE: 0.01\n",
            "Test Loss     0.00012849021004512906\n",
            "Test Accuracy 0.9970365762710571\n"
          ],
          "name": "stdout"
        }
      ]
    },
    {
      "cell_type": "markdown",
      "metadata": {
        "id": "uS8TznycMm74",
        "colab_type": "text"
      },
      "source": [
        "## Reconstruction"
      ]
    },
    {
      "cell_type": "code",
      "metadata": {
        "id": "QzQsMRw4f7yB",
        "colab_type": "code",
        "colab": {
          "base_uri": "https://localhost:8080/",
          "height": 173
        },
        "outputId": "3feea10b-1a6b-402f-b4e1-24287b56243e"
      },
      "source": [
        "scores = reconstruction_error(X_test, pred)\n",
        "error_df = pd.DataFrame()\n",
        "error_df['error']  = scores\n",
        "error_df['actual'] = y_test \n",
        "mean_no_fraud = error_df[error_df.actual == 0]['error'].mean()\n",
        "mean_fraud    = error_df[error_df.actual == 1]['error'].mean()\n",
        "error_df.groupby('actual').describe()"
      ],
      "execution_count": 245,
      "outputs": [
        {
          "output_type": "execute_result",
          "data": {
            "text/html": [
              "<div>\n",
              "<style scoped>\n",
              "    .dataframe tbody tr th:only-of-type {\n",
              "        vertical-align: middle;\n",
              "    }\n",
              "\n",
              "    .dataframe tbody tr th {\n",
              "        vertical-align: top;\n",
              "    }\n",
              "\n",
              "    .dataframe thead tr th {\n",
              "        text-align: left;\n",
              "    }\n",
              "\n",
              "    .dataframe thead tr:last-of-type th {\n",
              "        text-align: right;\n",
              "    }\n",
              "</style>\n",
              "<table border=\"1\" class=\"dataframe\">\n",
              "  <thead>\n",
              "    <tr>\n",
              "      <th></th>\n",
              "      <th colspan=\"8\" halign=\"left\">error</th>\n",
              "    </tr>\n",
              "    <tr>\n",
              "      <th></th>\n",
              "      <th>count</th>\n",
              "      <th>mean</th>\n",
              "      <th>std</th>\n",
              "      <th>min</th>\n",
              "      <th>25%</th>\n",
              "      <th>50%</th>\n",
              "      <th>75%</th>\n",
              "      <th>max</th>\n",
              "    </tr>\n",
              "    <tr>\n",
              "      <th>actual</th>\n",
              "      <th></th>\n",
              "      <th></th>\n",
              "      <th></th>\n",
              "      <th></th>\n",
              "      <th></th>\n",
              "      <th></th>\n",
              "      <th></th>\n",
              "      <th></th>\n",
              "    </tr>\n",
              "  </thead>\n",
              "  <tbody>\n",
              "    <tr>\n",
              "      <th>0</th>\n",
              "      <td>71079.0</td>\n",
              "      <td>0.003350</td>\n",
              "      <td>0.438375</td>\n",
              "      <td>0.000041</td>\n",
              "      <td>0.000126</td>\n",
              "      <td>0.000189</td>\n",
              "      <td>0.000322</td>\n",
              "      <td>116.090133</td>\n",
              "    </tr>\n",
              "    <tr>\n",
              "      <th>1</th>\n",
              "      <td>123.0</td>\n",
              "      <td>0.220961</td>\n",
              "      <td>1.496271</td>\n",
              "      <td>0.000103</td>\n",
              "      <td>0.002819</td>\n",
              "      <td>0.009794</td>\n",
              "      <td>0.073981</td>\n",
              "      <td>16.445619</td>\n",
              "    </tr>\n",
              "  </tbody>\n",
              "</table>\n",
              "</div>"
            ],
            "text/plain": [
              "          error                      ...                                \n",
              "          count      mean       std  ...       50%       75%         max\n",
              "actual                               ...                                \n",
              "0       71079.0  0.003350  0.438375  ...  0.000189  0.000322  116.090133\n",
              "1         123.0  0.220961  1.496271  ...  0.009794  0.073981   16.445619\n",
              "\n",
              "[2 rows x 8 columns]"
            ]
          },
          "metadata": {
            "tags": []
          },
          "execution_count": 245
        }
      ]
    },
    {
      "cell_type": "code",
      "metadata": {
        "id": "B7lQDmd-p7Zc",
        "colab_type": "code",
        "colab": {}
      },
      "source": [
        "results_df.loc['Complete'] = [mae, rmse, loss, acc, mean_no_fraud, mean_fraud]"
      ],
      "execution_count": 246,
      "outputs": []
    },
    {
      "cell_type": "markdown",
      "metadata": {
        "id": "lUpHe-b8MfX7",
        "colab_type": "text"
      },
      "source": [
        "# Undercomplete"
      ]
    },
    {
      "cell_type": "markdown",
      "metadata": {
        "id": "r899GS3dYpp2",
        "colab_type": "text"
      },
      "source": [
        "## Model"
      ]
    },
    {
      "cell_type": "code",
      "metadata": {
        "colab_type": "code",
        "id": "Cw-r-zdJY57B",
        "colab": {
          "base_uri": "https://localhost:8080/",
          "height": 34
        },
        "outputId": "d62734f8-9974-4288-d7d3-75e25687a95b"
      },
      "source": [
        "input_size = X.shape[1]\n",
        "print(input_size)"
      ],
      "execution_count": 247,
      "outputs": [
        {
          "output_type": "stream",
          "text": [
            "29\n"
          ],
          "name": "stdout"
        }
      ]
    },
    {
      "cell_type": "code",
      "metadata": {
        "colab_type": "code",
        "id": "57cfa_-0Y57H",
        "colab": {}
      },
      "source": [
        "# Input\n",
        "input_layer = Input(shape=(input_size,))\n",
        "\n",
        "# Encoder\n",
        "encoded = Dense(input_size // 2,  activation='relu')(input_layer)\n",
        "\n",
        "# Output\n",
        "output_layer = Dense(input_size, activation='linear')(encoded)\n",
        "\n",
        "# AutoEncoder\n",
        "model = Model(input_layer, output_layer)"
      ],
      "execution_count": 248,
      "outputs": []
    },
    {
      "cell_type": "code",
      "metadata": {
        "colab_type": "code",
        "id": "sHnAi9mHY57L",
        "colab": {
          "base_uri": "https://localhost:8080/",
          "height": 255
        },
        "outputId": "bc910d30-64fe-401b-963e-f9d24e1d2eed"
      },
      "source": [
        "model.summary()"
      ],
      "execution_count": 249,
      "outputs": [
        {
          "output_type": "stream",
          "text": [
            "Model: \"model_12\"\n",
            "_________________________________________________________________\n",
            "Layer (type)                 Output Shape              Param #   \n",
            "=================================================================\n",
            "input_13 (InputLayer)        [(None, 29)]              0         \n",
            "_________________________________________________________________\n",
            "dense_33 (Dense)             (None, 14)                420       \n",
            "_________________________________________________________________\n",
            "dense_34 (Dense)             (None, 29)                435       \n",
            "=================================================================\n",
            "Total params: 855\n",
            "Trainable params: 855\n",
            "Non-trainable params: 0\n",
            "_________________________________________________________________\n"
          ],
          "name": "stdout"
        }
      ]
    },
    {
      "cell_type": "code",
      "metadata": {
        "id": "b_-6G1HipvbP",
        "colab_type": "code",
        "colab": {
          "base_uri": "https://localhost:8080/",
          "height": 312
        },
        "outputId": "12ecc852-ecaf-44f8-89c1-c3e05060abf3"
      },
      "source": [
        "plot_model(model, show_shapes=True)"
      ],
      "execution_count": 250,
      "outputs": [
        {
          "output_type": "execute_result",
          "data": {
            "image/png": "[encoded data removed]",
            "text/plain": [
              "<IPython.core.display.Image object>"
            ]
          },
          "metadata": {
            "tags": []
          },
          "execution_count": 250
        }
      ]
    },
    {
      "cell_type": "markdown",
      "metadata": {
        "id": "o0gmOua4Ypjy",
        "colab_type": "text"
      },
      "source": [
        "## Train"
      ]
    },
    {
      "cell_type": "code",
      "metadata": {
        "colab_type": "code",
        "id": "cEqqMujqZJqI",
        "colab": {}
      },
      "source": [
        "model.compile(optimizer='adam', loss='mse', metrics=['accuracy'])"
      ],
      "execution_count": 251,
      "outputs": []
    },
    {
      "cell_type": "code",
      "metadata": {
        "colab_type": "code",
        "id": "fCefPatEZJqN",
        "colab": {
          "base_uri": "https://localhost:8080/",
          "height": 394
        },
        "outputId": "580ab64b-e990-4b77-f7ef-622ba5de8066"
      },
      "source": [
        "early_stop = EarlyStopping(patience=3, verbose=1)\n",
        "history_undercomplete = model.fit(X_train, X_train,\n",
        "                             epochs=epochs,\n",
        "                             batch_size=batch_size,\n",
        "                             shuffle=True,\n",
        "                             validation_data=(X_test, X_test),\n",
        "                             callbacks=[early_stop],\n",
        "                             verbose=1)"
      ],
      "execution_count": 252,
      "outputs": [
        {
          "output_type": "stream",
          "text": [
            "Epoch 1/20\n",
            "6676/6676 [==============================] - 11s 2ms/step - loss: 0.3727 - accuracy: 0.6737 - val_loss: 0.2498 - val_accuracy: 0.7970\n",
            "Epoch 2/20\n",
            "6676/6676 [==============================] - 11s 2ms/step - loss: 0.2483 - accuracy: 0.8100 - val_loss: 0.2458 - val_accuracy: 0.8270\n",
            "Epoch 3/20\n",
            "6676/6676 [==============================] - 11s 2ms/step - loss: 0.2465 - accuracy: 0.8277 - val_loss: 0.2468 - val_accuracy: 0.8331\n",
            "Epoch 4/20\n",
            "6676/6676 [==============================] - 11s 2ms/step - loss: 0.2459 - accuracy: 0.8332 - val_loss: 0.2466 - val_accuracy: 0.8378\n",
            "Epoch 5/20\n",
            "6676/6676 [==============================] - 11s 2ms/step - loss: 0.2457 - accuracy: 0.8345 - val_loss: 0.2441 - val_accuracy: 0.8414\n",
            "Epoch 6/20\n",
            "6676/6676 [==============================] - 11s 2ms/step - loss: 0.2455 - accuracy: 0.8354 - val_loss: 0.2454 - val_accuracy: 0.8367\n",
            "Epoch 7/20\n",
            "6676/6676 [==============================] - 11s 2ms/step - loss: 0.2455 - accuracy: 0.8360 - val_loss: 0.2438 - val_accuracy: 0.8429\n",
            "Epoch 8/20\n",
            "6676/6676 [==============================] - 11s 2ms/step - loss: 0.2453 - accuracy: 0.8361 - val_loss: 0.2446 - val_accuracy: 0.8392\n",
            "Epoch 9/20\n",
            "6676/6676 [==============================] - 11s 2ms/step - loss: 0.2454 - accuracy: 0.8363 - val_loss: 0.2454 - val_accuracy: 0.8398\n",
            "Epoch 10/20\n",
            "6676/6676 [==============================] - 11s 2ms/step - loss: 0.2453 - accuracy: 0.8362 - val_loss: 0.2456 - val_accuracy: 0.8396\n",
            "Epoch 00010: early stopping\n"
          ],
          "name": "stdout"
        }
      ]
    },
    {
      "cell_type": "markdown",
      "metadata": {
        "id": "lC4rOrk3YpXb",
        "colab_type": "text"
      },
      "source": [
        "## Plots"
      ]
    },
    {
      "cell_type": "code",
      "metadata": {
        "id": "2ORN1RG3Zfrn",
        "colab_type": "code",
        "colab": {
          "base_uri": "https://localhost:8080/",
          "height": 621
        },
        "outputId": "6e99e3bf-1e9e-453b-b176-805c9aace581"
      },
      "source": [
        "plot_performance(history_undercomplete)"
      ],
      "execution_count": 253,
      "outputs": [
        {
          "output_type": "display_data",
          "data": {
            "image/png": "[encoded data removed]",
            "text/plain": [
              "<Figure size 864x720 with 2 Axes>"
            ]
          },
          "metadata": {
            "tags": [],
            "needs_background": "light"
          }
        }
      ]
    },
    {
      "cell_type": "markdown",
      "metadata": {
        "id": "b-SXK25sYpd8",
        "colab_type": "text"
      },
      "source": [
        "## Test"
      ]
    },
    {
      "cell_type": "code",
      "metadata": {
        "id": "snKwyHPcZcTM",
        "colab_type": "code",
        "colab": {
          "base_uri": "https://localhost:8080/",
          "height": 85
        },
        "outputId": "d4eaf615-c63f-45be-a09b-a8ce1d9b56b5"
      },
      "source": [
        "evaluated = model.evaluate(X_test, X_test) \n",
        "pred      = model.predict(X_test)\n",
        "\n",
        "mae  = mean_absolute_error(X_test, pred)\n",
        "rmse = math.sqrt(mean_squared_error(X_test, pred))\n",
        "loss = evaluated[0]\n",
        "acc  = evaluated[1]\n",
        "\n",
        "print(f'MAE: {mae:.2f} RMSE: {rmse:.2f}')\n",
        "print(f'Test Loss     {loss}')\n",
        "print(f'Test Accuracy {acc}')"
      ],
      "execution_count": 254,
      "outputs": [
        {
          "output_type": "stream",
          "text": [
            "2226/2226 [==============================] - 2s 1ms/step - loss: 0.2456 - accuracy: 0.8396\n",
            "MAE: 0.24 RMSE: 0.50\n",
            "Test Loss     0.24555522203445435\n",
            "Test Accuracy 0.8396252989768982\n"
          ],
          "name": "stdout"
        }
      ]
    },
    {
      "cell_type": "markdown",
      "metadata": {
        "id": "5kBNHYY0NFL_",
        "colab_type": "text"
      },
      "source": [
        "## Reconstruction"
      ]
    },
    {
      "cell_type": "code",
      "metadata": {
        "id": "cwioVl3oNHOT",
        "colab_type": "code",
        "colab": {
          "base_uri": "https://localhost:8080/",
          "height": 173
        },
        "outputId": "9dac8674-51cd-4cab-8779-92b1ded3c3c1"
      },
      "source": [
        "scores = reconstruction_error(X_test, pred)\n",
        "error_df = pd.DataFrame()\n",
        "error_df['error']  = scores\n",
        "error_df['actual'] = y_test \n",
        "mean_no_fraud = error_df[error_df.actual == 0]['error'].mean()\n",
        "mean_fraud    = error_df[error_df.actual == 1]['error'].mean()\n",
        "error_df.groupby('actual').describe()"
      ],
      "execution_count": 255,
      "outputs": [
        {
          "output_type": "execute_result",
          "data": {
            "text/html": [
              "<div>\n",
              "<style scoped>\n",
              "    .dataframe tbody tr th:only-of-type {\n",
              "        vertical-align: middle;\n",
              "    }\n",
              "\n",
              "    .dataframe tbody tr th {\n",
              "        vertical-align: top;\n",
              "    }\n",
              "\n",
              "    .dataframe thead tr th {\n",
              "        text-align: left;\n",
              "    }\n",
              "\n",
              "    .dataframe thead tr:last-of-type th {\n",
              "        text-align: right;\n",
              "    }\n",
              "</style>\n",
              "<table border=\"1\" class=\"dataframe\">\n",
              "  <thead>\n",
              "    <tr>\n",
              "      <th></th>\n",
              "      <th colspan=\"8\" halign=\"left\">error</th>\n",
              "    </tr>\n",
              "    <tr>\n",
              "      <th></th>\n",
              "      <th>count</th>\n",
              "      <th>mean</th>\n",
              "      <th>std</th>\n",
              "      <th>min</th>\n",
              "      <th>25%</th>\n",
              "      <th>50%</th>\n",
              "      <th>75%</th>\n",
              "      <th>max</th>\n",
              "    </tr>\n",
              "    <tr>\n",
              "      <th>actual</th>\n",
              "      <th></th>\n",
              "      <th></th>\n",
              "      <th></th>\n",
              "      <th></th>\n",
              "      <th></th>\n",
              "      <th></th>\n",
              "      <th></th>\n",
              "      <th></th>\n",
              "    </tr>\n",
              "  </thead>\n",
              "  <tbody>\n",
              "    <tr>\n",
              "      <th>0</th>\n",
              "      <td>71079.0</td>\n",
              "      <td>6.847952</td>\n",
              "      <td>41.132618</td>\n",
              "      <td>0.200891</td>\n",
              "      <td>2.576216</td>\n",
              "      <td>4.182816</td>\n",
              "      <td>7.040090</td>\n",
              "      <td>9716.412645</td>\n",
              "    </tr>\n",
              "    <tr>\n",
              "      <th>1</th>\n",
              "      <td>123.0</td>\n",
              "      <td>164.965582</td>\n",
              "      <td>222.358303</td>\n",
              "      <td>1.684515</td>\n",
              "      <td>19.450767</td>\n",
              "      <td>64.914811</td>\n",
              "      <td>185.638119</td>\n",
              "      <td>947.428630</td>\n",
              "    </tr>\n",
              "  </tbody>\n",
              "</table>\n",
              "</div>"
            ],
            "text/plain": [
              "          error                          ...                                    \n",
              "          count        mean         std  ...        50%         75%          max\n",
              "actual                                   ...                                    \n",
              "0       71079.0    6.847952   41.132618  ...   4.182816    7.040090  9716.412645\n",
              "1         123.0  164.965582  222.358303  ...  64.914811  185.638119   947.428630\n",
              "\n",
              "[2 rows x 8 columns]"
            ]
          },
          "metadata": {
            "tags": []
          },
          "execution_count": 255
        }
      ]
    },
    {
      "cell_type": "code",
      "metadata": {
        "id": "BDUp0nKkqfws",
        "colab_type": "code",
        "colab": {}
      },
      "source": [
        "results_df.loc['Under Complete'] = [mae, rmse, loss, acc, mean_no_fraud, mean_fraud]"
      ],
      "execution_count": 256,
      "outputs": []
    },
    {
      "cell_type": "markdown",
      "metadata": {
        "id": "sOjUI2nkW6aZ",
        "colab_type": "text"
      },
      "source": [
        "# Overcomplete"
      ]
    },
    {
      "cell_type": "markdown",
      "metadata": {
        "id": "fnx-CzHJH3DW",
        "colab_type": "text"
      },
      "source": [
        "## Model"
      ]
    },
    {
      "cell_type": "code",
      "metadata": {
        "colab_type": "code",
        "id": "0O8qajyqICBk",
        "colab": {
          "base_uri": "https://localhost:8080/",
          "height": 34
        },
        "outputId": "fae86ba2-2f30-44bc-ac45-6b7610099d56"
      },
      "source": [
        "input_size = X.shape[1]\n",
        "print(input_size)"
      ],
      "execution_count": 257,
      "outputs": [
        {
          "output_type": "stream",
          "text": [
            "29\n"
          ],
          "name": "stdout"
        }
      ]
    },
    {
      "cell_type": "code",
      "metadata": {
        "colab_type": "code",
        "id": "bZjclVd9ICBs",
        "colab": {}
      },
      "source": [
        "# Input\n",
        "input_layer = Input(shape=(input_size,))\n",
        "\n",
        "# Encoder\n",
        "encoded = Dense(input_size * 2,  activation='relu', activity_regularizer=l1(1e5))(input_layer)\n",
        "\n",
        "# Output\n",
        "output_layer = Dense(input_size, activation='linear')(encoded)\n",
        "\n",
        "# AutoEncoder\n",
        "model = Model(input_layer, output_layer)"
      ],
      "execution_count": 258,
      "outputs": []
    },
    {
      "cell_type": "code",
      "metadata": {
        "colab_type": "code",
        "id": "rMnpdu9oICBw",
        "colab": {
          "base_uri": "https://localhost:8080/",
          "height": 255
        },
        "outputId": "8ab9b169-ccd0-4d40-cc4c-c2d11f5f2cea"
      },
      "source": [
        "model.summary()"
      ],
      "execution_count": 259,
      "outputs": [
        {
          "output_type": "stream",
          "text": [
            "Model: \"model_13\"\n",
            "_________________________________________________________________\n",
            "Layer (type)                 Output Shape              Param #   \n",
            "=================================================================\n",
            "input_14 (InputLayer)        [(None, 29)]              0         \n",
            "_________________________________________________________________\n",
            "dense_35 (Dense)             (None, 58)                1740      \n",
            "_________________________________________________________________\n",
            "dense_36 (Dense)             (None, 29)                1711      \n",
            "=================================================================\n",
            "Total params: 3,451\n",
            "Trainable params: 3,451\n",
            "Non-trainable params: 0\n",
            "_________________________________________________________________\n"
          ],
          "name": "stdout"
        }
      ]
    },
    {
      "cell_type": "code",
      "metadata": {
        "id": "Ud0up8T3pxq-",
        "colab_type": "code",
        "colab": {
          "base_uri": "https://localhost:8080/",
          "height": 312
        },
        "outputId": "dc316f92-b139-469b-d82b-366a4f84b5e2"
      },
      "source": [
        "plot_model(model, show_shapes=True)"
      ],
      "execution_count": 260,
      "outputs": [
        {
          "output_type": "execute_result",
          "data": {
            "image/png": "[encoded data removed]",
            "text/plain": [
              "<IPython.core.display.Image object>"
            ]
          },
          "metadata": {
            "tags": []
          },
          "execution_count": 260
        }
      ]
    },
    {
      "cell_type": "markdown",
      "metadata": {
        "id": "dsOcK1IUH2-5",
        "colab_type": "text"
      },
      "source": [
        "## Train"
      ]
    },
    {
      "cell_type": "code",
      "metadata": {
        "colab_type": "code",
        "id": "wQOuP0xDINbm",
        "colab": {}
      },
      "source": [
        "model.compile(optimizer='adam', loss='mse', metrics=['accuracy'])"
      ],
      "execution_count": 261,
      "outputs": []
    },
    {
      "cell_type": "code",
      "metadata": {
        "colab_type": "code",
        "id": "vwLOPkE0INbq",
        "colab": {
          "base_uri": "https://localhost:8080/",
          "height": 326
        },
        "outputId": "3ffe9a76-f6fb-425b-9169-9b914e27291e"
      },
      "source": [
        "early_stop = EarlyStopping(patience=3, verbose=1)\n",
        "history_overcomplete = model.fit(X_train, X_train,\n",
        "                             epochs=epochs,\n",
        "                             batch_size=batch_size,\n",
        "                             shuffle=True,\n",
        "                             validation_data=(X_test, X_test),\n",
        "                             callbacks=[early_stop],\n",
        "                             verbose=1)"
      ],
      "execution_count": 262,
      "outputs": [
        {
          "output_type": "stream",
          "text": [
            "Epoch 1/20\n",
            "6676/6676 [==============================] - 11s 2ms/step - loss: 30133.2969 - accuracy: 0.0697 - val_loss: 3.1363 - val_accuracy: 0.0123\n",
            "Epoch 2/20\n",
            "6676/6676 [==============================] - 11s 2ms/step - loss: 6.7675 - accuracy: 0.0659 - val_loss: 1.9157 - val_accuracy: 0.1299\n",
            "Epoch 3/20\n",
            "6676/6676 [==============================] - 11s 2ms/step - loss: 1.9289 - accuracy: 0.0813 - val_loss: 1.2067 - val_accuracy: 0.0670\n",
            "Epoch 4/20\n",
            "6676/6676 [==============================] - 11s 2ms/step - loss: 1.1294 - accuracy: 0.0728 - val_loss: 1.2067 - val_accuracy: 0.0123\n",
            "Epoch 5/20\n",
            "6676/6676 [==============================] - 11s 2ms/step - loss: 1.0895 - accuracy: 0.0506 - val_loss: 1.2066 - val_accuracy: 0.0027\n",
            "Epoch 6/20\n",
            "6676/6676 [==============================] - 11s 2ms/step - loss: 1.0895 - accuracy: 0.0589 - val_loss: 1.2066 - val_accuracy: 0.0421\n",
            "Epoch 7/20\n",
            "6676/6676 [==============================] - 11s 2ms/step - loss: 1.0895 - accuracy: 0.0635 - val_loss: 1.2067 - val_accuracy: 0.0421\n",
            "Epoch 8/20\n",
            "6676/6676 [==============================] - 11s 2ms/step - loss: 1.0895 - accuracy: 0.0538 - val_loss: 1.2067 - val_accuracy: 0.0140\n",
            "Epoch 00008: early stopping\n"
          ],
          "name": "stdout"
        }
      ]
    },
    {
      "cell_type": "markdown",
      "metadata": {
        "id": "RJlqEVoWH22e",
        "colab_type": "text"
      },
      "source": [
        "## Plots"
      ]
    },
    {
      "cell_type": "code",
      "metadata": {
        "id": "ViKxyrBPIUZi",
        "colab_type": "code",
        "colab": {
          "base_uri": "https://localhost:8080/",
          "height": 621
        },
        "outputId": "f9227210-e1e5-4f60-acf6-6ae4978a3c38"
      },
      "source": [
        "plot_performance(history_overcomplete)"
      ],
      "execution_count": 263,
      "outputs": [
        {
          "output_type": "display_data",
          "data": {
            "image/png": "[encoded data removed]",
            "text/plain": [
              "<Figure size 864x720 with 2 Axes>"
            ]
          },
          "metadata": {
            "tags": [],
            "needs_background": "light"
          }
        }
      ]
    },
    {
      "cell_type": "markdown",
      "metadata": {
        "id": "0xqXLZ4kH2so",
        "colab_type": "text"
      },
      "source": [
        "## Test"
      ]
    },
    {
      "cell_type": "code",
      "metadata": {
        "id": "omq6KNU_IZFq",
        "colab_type": "code",
        "colab": {
          "base_uri": "https://localhost:8080/",
          "height": 85
        },
        "outputId": "2c00f513-516a-45a2-ed7e-633402a23c06"
      },
      "source": [
        "evaluated = model.evaluate(X_test, X_test) \n",
        "pred      = model.predict(X_test)\n",
        "\n",
        "mae  = mean_absolute_error(X_test, pred)\n",
        "rmse = math.sqrt(mean_squared_error(X_test, pred))\n",
        "loss = evaluated[0]\n",
        "acc  = evaluated[1]\n",
        "\n",
        "print(f'MAE: {mae:.2f} RMSE: {rmse:.2f}')\n",
        "print(f'Test Loss     {loss}')\n",
        "print(f'Test Accuracy {acc}')"
      ],
      "execution_count": 264,
      "outputs": [
        {
          "output_type": "stream",
          "text": [
            "2226/2226 [==============================] - 2s 1ms/step - loss: 1.2067 - accuracy: 0.0140\n",
            "MAE: 0.65 RMSE: 1.05\n",
            "Test Loss     1.2066748142242432\n",
            "Test Accuracy 0.014002415351569653\n"
          ],
          "name": "stdout"
        }
      ]
    },
    {
      "cell_type": "markdown",
      "metadata": {
        "id": "e2AHPjTvH2Mb",
        "colab_type": "text"
      },
      "source": [
        "## Reconstruction"
      ]
    },
    {
      "cell_type": "code",
      "metadata": {
        "id": "Ws-jVZG2IjJT",
        "colab_type": "code",
        "colab": {
          "base_uri": "https://localhost:8080/",
          "height": 173
        },
        "outputId": "235ed823-9f0b-42bc-e50f-f30fa88d4286"
      },
      "source": [
        "scores = reconstruction_error(X_test, pred)\n",
        "error_df = pd.DataFrame()\n",
        "error_df['error']  = scores\n",
        "error_df['actual'] = y_test \n",
        "mean_no_fraud = error_df[error_df.actual == 0]['error'].mean()\n",
        "mean_fraud    = error_df[error_df.actual == 1]['error'].mean()\n",
        "error_df.groupby('actual').describe()"
      ],
      "execution_count": 265,
      "outputs": [
        {
          "output_type": "execute_result",
          "data": {
            "text/html": [
              "<div>\n",
              "<style scoped>\n",
              "    .dataframe tbody tr th:only-of-type {\n",
              "        vertical-align: middle;\n",
              "    }\n",
              "\n",
              "    .dataframe tbody tr th {\n",
              "        vertical-align: top;\n",
              "    }\n",
              "\n",
              "    .dataframe thead tr th {\n",
              "        text-align: left;\n",
              "    }\n",
              "\n",
              "    .dataframe thead tr:last-of-type th {\n",
              "        text-align: right;\n",
              "    }\n",
              "</style>\n",
              "<table border=\"1\" class=\"dataframe\">\n",
              "  <thead>\n",
              "    <tr>\n",
              "      <th></th>\n",
              "      <th colspan=\"8\" halign=\"left\">error</th>\n",
              "    </tr>\n",
              "    <tr>\n",
              "      <th></th>\n",
              "      <th>count</th>\n",
              "      <th>mean</th>\n",
              "      <th>std</th>\n",
              "      <th>min</th>\n",
              "      <th>25%</th>\n",
              "      <th>50%</th>\n",
              "      <th>75%</th>\n",
              "      <th>max</th>\n",
              "    </tr>\n",
              "    <tr>\n",
              "      <th>actual</th>\n",
              "      <th></th>\n",
              "      <th></th>\n",
              "      <th></th>\n",
              "      <th></th>\n",
              "      <th></th>\n",
              "      <th></th>\n",
              "      <th></th>\n",
              "      <th></th>\n",
              "    </tr>\n",
              "  </thead>\n",
              "  <tbody>\n",
              "    <tr>\n",
              "      <th>0</th>\n",
              "      <td>71079.0</td>\n",
              "      <td>30.812237</td>\n",
              "      <td>221.187223</td>\n",
              "      <td>4.503991</td>\n",
              "      <td>12.210068</td>\n",
              "      <td>18.220417</td>\n",
              "      <td>28.090412</td>\n",
              "      <td>54541.626539</td>\n",
              "    </tr>\n",
              "    <tr>\n",
              "      <th>1</th>\n",
              "      <td>123.0</td>\n",
              "      <td>806.349795</td>\n",
              "      <td>1133.032389</td>\n",
              "      <td>16.445618</td>\n",
              "      <td>120.410421</td>\n",
              "      <td>280.371962</td>\n",
              "      <td>759.991837</td>\n",
              "      <td>4633.898860</td>\n",
              "    </tr>\n",
              "  </tbody>\n",
              "</table>\n",
              "</div>"
            ],
            "text/plain": [
              "          error                           ...                                      \n",
              "          count        mean          std  ...         50%         75%           max\n",
              "actual                                    ...                                      \n",
              "0       71079.0   30.812237   221.187223  ...   18.220417   28.090412  54541.626539\n",
              "1         123.0  806.349795  1133.032389  ...  280.371962  759.991837   4633.898860\n",
              "\n",
              "[2 rows x 8 columns]"
            ]
          },
          "metadata": {
            "tags": []
          },
          "execution_count": 265
        }
      ]
    },
    {
      "cell_type": "code",
      "metadata": {
        "id": "Ve_Hunjqqi18",
        "colab_type": "code",
        "colab": {}
      },
      "source": [
        "results_df.loc['Over Complete'] = [mae, rmse, loss, acc, mean_no_fraud, mean_fraud]"
      ],
      "execution_count": 266,
      "outputs": []
    },
    {
      "cell_type": "markdown",
      "metadata": {
        "id": "OFGnlNPzjeCY",
        "colab_type": "text"
      },
      "source": [
        "# Compare"
      ]
    },
    {
      "cell_type": "code",
      "metadata": {
        "id": "Rv_GD3rufI-g",
        "colab_type": "code",
        "colab": {
          "base_uri": "https://localhost:8080/",
          "height": 142
        },
        "outputId": "3452c440-8934-459f-f2ca-8d1a3366f141"
      },
      "source": [
        "results_df"
      ],
      "execution_count": 267,
      "outputs": [
        {
          "output_type": "execute_result",
          "data": {
            "text/html": [
              "<div>\n",
              "<style scoped>\n",
              "    .dataframe tbody tr th:only-of-type {\n",
              "        vertical-align: middle;\n",
              "    }\n",
              "\n",
              "    .dataframe tbody tr th {\n",
              "        vertical-align: top;\n",
              "    }\n",
              "\n",
              "    .dataframe thead th {\n",
              "        text-align: right;\n",
              "    }\n",
              "</style>\n",
              "<table border=\"1\" class=\"dataframe\">\n",
              "  <thead>\n",
              "    <tr style=\"text-align: right;\">\n",
              "      <th></th>\n",
              "      <th>MAE</th>\n",
              "      <th>RMSE</th>\n",
              "      <th>LOSS</th>\n",
              "      <th>ACC</th>\n",
              "      <th>NO_FRAUD</th>\n",
              "      <th>FRAUD</th>\n",
              "    </tr>\n",
              "  </thead>\n",
              "  <tbody>\n",
              "    <tr>\n",
              "      <th>Complete</th>\n",
              "      <td>0.002979</td>\n",
              "      <td>0.011335</td>\n",
              "      <td>0.000128</td>\n",
              "      <td>0.997037</td>\n",
              "      <td>0.003350</td>\n",
              "      <td>0.220961</td>\n",
              "    </tr>\n",
              "    <tr>\n",
              "      <th>Under Complete</th>\n",
              "      <td>0.237758</td>\n",
              "      <td>0.495535</td>\n",
              "      <td>0.245555</td>\n",
              "      <td>0.839625</td>\n",
              "      <td>6.847952</td>\n",
              "      <td>164.965582</td>\n",
              "    </tr>\n",
              "    <tr>\n",
              "      <th>Over Complete</th>\n",
              "      <td>0.648561</td>\n",
              "      <td>1.052943</td>\n",
              "      <td>1.206675</td>\n",
              "      <td>0.014002</td>\n",
              "      <td>30.812237</td>\n",
              "      <td>806.349795</td>\n",
              "    </tr>\n",
              "  </tbody>\n",
              "</table>\n",
              "</div>"
            ],
            "text/plain": [
              "                     MAE      RMSE      LOSS       ACC   NO_FRAUD       FRAUD\n",
              "Complete        0.002979  0.011335  0.000128  0.997037   0.003350    0.220961\n",
              "Under Complete  0.237758  0.495535  0.245555  0.839625   6.847952  164.965582\n",
              "Over Complete   0.648561  1.052943  1.206675  0.014002  30.812237  806.349795"
            ]
          },
          "metadata": {
            "tags": []
          },
          "execution_count": 267
        }
      ]
    },
    {
      "cell_type": "markdown",
      "metadata": {
        "id": "dHzjN4GaW6TJ",
        "colab_type": "text"
      },
      "source": [
        "# Deep AutoEncoder"
      ]
    },
    {
      "cell_type": "markdown",
      "metadata": {
        "id": "5uok2W9EOvNb",
        "colab_type": "text"
      },
      "source": [
        "## Model\n",
        "* Multi-Layer UnderComplete AE"
      ]
    },
    {
      "cell_type": "code",
      "metadata": {
        "id": "9xWUuftodKH_",
        "colab_type": "code",
        "colab": {}
      },
      "source": [
        "# Input\n",
        "input_layer = Input(shape=(X.shape[1],))\n",
        "\n",
        "# Encoder\n",
        "encoded = Dense(X.shape[1], activation='relu')(input_layer)\n",
        "encoded = Dense(14, activation='relu')(encoded)\n",
        "encoded = Dense(7,  activation='relu')(encoded)\n",
        "\n",
        "# Decoder\n",
        "decoded = Dense(14, activation='relu')(encoded)\n",
        "output_layer = Dense(X.shape[1], activation='linear')(decoded)\n",
        "\n",
        "# Output\n",
        "#output_layer = Dense(2, activation='softmax')(decoded)\n",
        "\n",
        "# AutoEncoder\n",
        "model = Model(input_layer, output_layer)"
      ],
      "execution_count": 268,
      "outputs": []
    },
    {
      "cell_type": "code",
      "metadata": {
        "id": "AGU2_w9IO31o",
        "colab_type": "code",
        "colab": {
          "base_uri": "https://localhost:8080/",
          "height": 357
        },
        "outputId": "0105bce4-7334-4f8f-d3b6-5da42ca66a7a"
      },
      "source": [
        "model.summary()"
      ],
      "execution_count": 269,
      "outputs": [
        {
          "output_type": "stream",
          "text": [
            "Model: \"model_14\"\n",
            "_________________________________________________________________\n",
            "Layer (type)                 Output Shape              Param #   \n",
            "=================================================================\n",
            "input_15 (InputLayer)        [(None, 29)]              0         \n",
            "_________________________________________________________________\n",
            "dense_37 (Dense)             (None, 29)                870       \n",
            "_________________________________________________________________\n",
            "dense_38 (Dense)             (None, 14)                420       \n",
            "_________________________________________________________________\n",
            "dense_39 (Dense)             (None, 7)                 105       \n",
            "_________________________________________________________________\n",
            "dense_40 (Dense)             (None, 14)                112       \n",
            "_________________________________________________________________\n",
            "dense_41 (Dense)             (None, 29)                435       \n",
            "=================================================================\n",
            "Total params: 1,942\n",
            "Trainable params: 1,942\n",
            "Non-trainable params: 0\n",
            "_________________________________________________________________\n"
          ],
          "name": "stdout"
        }
      ]
    },
    {
      "cell_type": "code",
      "metadata": {
        "id": "J_x-6wEkp0gM",
        "colab_type": "code",
        "colab": {
          "base_uri": "https://localhost:8080/",
          "height": 644
        },
        "outputId": "4a9cc715-9c7c-4df0-808f-60c1787303c3"
      },
      "source": [
        "plot_model(model, show_shapes=True)"
      ],
      "execution_count": 270,
      "outputs": [
        {
          "output_type": "execute_result",
          "data": {
            "image/png": "[encoded data removed]",
            "text/plain": [
              "<IPython.core.display.Image object>"
            ]
          },
          "metadata": {
            "tags": []
          },
          "execution_count": 270
        }
      ]
    },
    {
      "cell_type": "markdown",
      "metadata": {
        "id": "lAKql_b6Ozhw",
        "colab_type": "text"
      },
      "source": [
        "## Train\n",
        "* In contrast to complete, over & under, we'll train only on normal transactions"
      ]
    },
    {
      "cell_type": "code",
      "metadata": {
        "id": "-b3UkPIxGVhd",
        "colab_type": "code",
        "colab": {
          "base_uri": "https://localhost:8080/",
          "height": 51
        },
        "outputId": "839a62ab-ca28-4eb1-b3bf-275679b0554e"
      },
      "source": [
        "X_train_ae = X_train[y_train == 0]\n",
        "y_train_ae = y_train[y_train == 0]\n",
        "\n",
        "print(X_train.shape, y_train.shape)\n",
        "print(X_train_ae.shape, y_train_ae.shape)"
      ],
      "execution_count": 271,
      "outputs": [
        {
          "output_type": "stream",
          "text": [
            "(213605, 29) (213605,)\n",
            "(213236, 29) (213236,)\n"
          ],
          "name": "stdout"
        }
      ]
    },
    {
      "cell_type": "code",
      "metadata": {
        "colab_type": "code",
        "id": "FB6NnU32O15S",
        "colab": {}
      },
      "source": [
        "model.compile(optimizer='adam', loss='mse', metrics=['mae', 'accuracy'])"
      ],
      "execution_count": 272,
      "outputs": []
    },
    {
      "cell_type": "code",
      "metadata": {
        "colab_type": "code",
        "id": "o7Q7v5J5O15Y",
        "colab": {
          "base_uri": "https://localhost:8080/",
          "height": 530
        },
        "outputId": "e3bc5043-a2b6-48e2-dde1-3be6a0fb8fb1"
      },
      "source": [
        "early_stop = EarlyStopping(patience=3, verbose=1)\n",
        "history_deep = model.fit(X_train_ae, X_train_ae,\n",
        "                             epochs=epochs,\n",
        "                             batch_size=batch_size,\n",
        "                             shuffle=True,\n",
        "                             validation_data=(X_train_ae, X_train_ae),\n",
        "                             callbacks=[early_stop],\n",
        "                             verbose=1)"
      ],
      "execution_count": 273,
      "outputs": [
        {
          "output_type": "stream",
          "text": [
            "Epoch 1/20\n",
            "6664/6664 [==============================] - 17s 3ms/step - loss: 0.4657 - mae: 0.4439 - accuracy: 0.5784 - val_loss: 0.3541 - val_mae: 0.3786 - val_accuracy: 0.6591\n",
            "Epoch 2/20\n",
            "6664/6664 [==============================] - 16s 2ms/step - loss: 0.3470 - mae: 0.3730 - accuracy: 0.6623 - val_loss: 0.3336 - val_mae: 0.3621 - val_accuracy: 0.6672\n",
            "Epoch 3/20\n",
            "6664/6664 [==============================] - 17s 3ms/step - loss: 0.3319 - mae: 0.3630 - accuracy: 0.6679 - val_loss: 0.3259 - val_mae: 0.3583 - val_accuracy: 0.6727\n",
            "Epoch 4/20\n",
            "6664/6664 [==============================] - 17s 3ms/step - loss: 0.3212 - mae: 0.3562 - accuracy: 0.6733 - val_loss: 0.3196 - val_mae: 0.3571 - val_accuracy: 0.6770\n",
            "Epoch 5/20\n",
            "6664/6664 [==============================] - 17s 2ms/step - loss: 0.3103 - mae: 0.3508 - accuracy: 0.6801 - val_loss: 0.3013 - val_mae: 0.3451 - val_accuracy: 0.6854\n",
            "Epoch 6/20\n",
            "6664/6664 [==============================] - 17s 3ms/step - loss: 0.3003 - mae: 0.3452 - accuracy: 0.6868 - val_loss: 0.3055 - val_mae: 0.3560 - val_accuracy: 0.6789\n",
            "Epoch 7/20\n",
            "6664/6664 [==============================] - 17s 2ms/step - loss: 0.2954 - mae: 0.3412 - accuracy: 0.6899 - val_loss: 0.2894 - val_mae: 0.3342 - val_accuracy: 0.6971\n",
            "Epoch 8/20\n",
            "6664/6664 [==============================] - 17s 3ms/step - loss: 0.2916 - mae: 0.3372 - accuracy: 0.6938 - val_loss: 0.2932 - val_mae: 0.3384 - val_accuracy: 0.6913\n",
            "Epoch 9/20\n",
            "6664/6664 [==============================] - 17s 2ms/step - loss: 0.2899 - mae: 0.3350 - accuracy: 0.6969 - val_loss: 0.2858 - val_mae: 0.3295 - val_accuracy: 0.7060\n",
            "Epoch 10/20\n",
            "6664/6664 [==============================] - 17s 3ms/step - loss: 0.2878 - mae: 0.3327 - accuracy: 0.7017 - val_loss: 0.2840 - val_mae: 0.3293 - val_accuracy: 0.7074\n",
            "Epoch 11/20\n",
            "6664/6664 [==============================] - 17s 3ms/step - loss: 0.2863 - mae: 0.3308 - accuracy: 0.7086 - val_loss: 0.2817 - val_mae: 0.3262 - val_accuracy: 0.7179\n",
            "Epoch 12/20\n",
            "6664/6664 [==============================] - 17s 3ms/step - loss: 0.2853 - mae: 0.3294 - accuracy: 0.7141 - val_loss: 0.2852 - val_mae: 0.3308 - val_accuracy: 0.7117\n",
            "Epoch 13/20\n",
            "6664/6664 [==============================] - 17s 2ms/step - loss: 0.2841 - mae: 0.3276 - accuracy: 0.7193 - val_loss: 0.2897 - val_mae: 0.3321 - val_accuracy: 0.7108\n",
            "Epoch 14/20\n",
            "6664/6664 [==============================] - 17s 3ms/step - loss: 0.2838 - mae: 0.3263 - accuracy: 0.7229 - val_loss: 0.2817 - val_mae: 0.3242 - val_accuracy: 0.7236\n",
            "Epoch 00014: early stopping\n"
          ],
          "name": "stdout"
        }
      ]
    },
    {
      "cell_type": "markdown",
      "metadata": {
        "id": "5M3n95Q4PTWt",
        "colab_type": "text"
      },
      "source": [
        "## Plots"
      ]
    },
    {
      "cell_type": "code",
      "metadata": {
        "id": "WiFvAC5GPl7W",
        "colab_type": "code",
        "colab": {
          "base_uri": "https://localhost:8080/",
          "height": 621
        },
        "outputId": "ac45a917-934b-4c90-9ad8-3b8049a0a8a6"
      },
      "source": [
        "plot_performance(history_deep)"
      ],
      "execution_count": 274,
      "outputs": [
        {
          "output_type": "display_data",
          "data": {
            "image/png": "[encoded data removed]",
            "text/plain": [
              "<Figure size 864x720 with 2 Axes>"
            ]
          },
          "metadata": {
            "tags": [],
            "needs_background": "light"
          }
        }
      ]
    },
    {
      "cell_type": "markdown",
      "metadata": {
        "id": "EkusJVf9PSdp",
        "colab_type": "text"
      },
      "source": [
        "## Test"
      ]
    },
    {
      "cell_type": "code",
      "metadata": {
        "id": "A9Z785oIPXg2",
        "colab_type": "code",
        "colab": {
          "base_uri": "https://localhost:8080/",
          "height": 85
        },
        "outputId": "9a1fb54b-ae2a-4d50-98b8-fd284df3f7fb"
      },
      "source": [
        "evaluated = model.evaluate(X_test, X_test) \n",
        "pred      = model.predict(X_test)\n",
        "\n",
        "mae  = mean_absolute_error(X_test, pred)\n",
        "rmse = math.sqrt(mean_squared_error(X_test, pred))\n",
        "loss = evaluated[0]\n",
        "acc  = evaluated[1]\n",
        "\n",
        "print(f'MAE: {mae:.2f} RMSE: {rmse:.2f}')\n",
        "print(f'Test Loss     {loss}')\n",
        "print(f'Test Accuracy {acc}')"
      ],
      "execution_count": 275,
      "outputs": [
        {
          "output_type": "stream",
          "text": [
            "2226/2226 [==============================] - 2s 1ms/step - loss: 0.3149 - mae: 0.3281 - accuracy: 0.7273\n",
            "MAE: 0.33 RMSE: 0.56\n",
            "Test Loss     0.31490281224250793\n",
            "Test Accuracy 0.3281382620334625\n"
          ],
          "name": "stdout"
        }
      ]
    },
    {
      "cell_type": "markdown",
      "metadata": {
        "id": "FdhXklV9PS5V",
        "colab_type": "text"
      },
      "source": [
        "## Reconstruction"
      ]
    },
    {
      "cell_type": "code",
      "metadata": {
        "colab_type": "code",
        "id": "E4Hld1c4PcgH",
        "colab": {
          "base_uri": "https://localhost:8080/",
          "height": 173
        },
        "outputId": "6066295b-3214-4f0c-97ab-a60627c158ca"
      },
      "source": [
        "scores = reconstruction_error(X_test, pred)\n",
        "error_df = pd.DataFrame()\n",
        "error_df['error']  = scores\n",
        "error_df['actual'] = y_test \n",
        "error_df.groupby('actual').describe()"
      ],
      "execution_count": 276,
      "outputs": [
        {
          "output_type": "execute_result",
          "data": {
            "text/html": [
              "<div>\n",
              "<style scoped>\n",
              "    .dataframe tbody tr th:only-of-type {\n",
              "        vertical-align: middle;\n",
              "    }\n",
              "\n",
              "    .dataframe tbody tr th {\n",
              "        vertical-align: top;\n",
              "    }\n",
              "\n",
              "    .dataframe thead tr th {\n",
              "        text-align: left;\n",
              "    }\n",
              "\n",
              "    .dataframe thead tr:last-of-type th {\n",
              "        text-align: right;\n",
              "    }\n",
              "</style>\n",
              "<table border=\"1\" class=\"dataframe\">\n",
              "  <thead>\n",
              "    <tr>\n",
              "      <th></th>\n",
              "      <th colspan=\"8\" halign=\"left\">error</th>\n",
              "    </tr>\n",
              "    <tr>\n",
              "      <th></th>\n",
              "      <th>count</th>\n",
              "      <th>mean</th>\n",
              "      <th>std</th>\n",
              "      <th>min</th>\n",
              "      <th>25%</th>\n",
              "      <th>50%</th>\n",
              "      <th>75%</th>\n",
              "      <th>max</th>\n",
              "    </tr>\n",
              "    <tr>\n",
              "      <th>actual</th>\n",
              "      <th></th>\n",
              "      <th></th>\n",
              "      <th></th>\n",
              "      <th></th>\n",
              "      <th></th>\n",
              "      <th></th>\n",
              "      <th></th>\n",
              "      <th></th>\n",
              "    </tr>\n",
              "  </thead>\n",
              "  <tbody>\n",
              "    <tr>\n",
              "      <th>0</th>\n",
              "      <td>71079.0</td>\n",
              "      <td>8.246492</td>\n",
              "      <td>48.400547</td>\n",
              "      <td>0.262853</td>\n",
              "      <td>3.407745</td>\n",
              "      <td>5.499292</td>\n",
              "      <td>9.001248</td>\n",
              "      <td>11519.911243</td>\n",
              "    </tr>\n",
              "    <tr>\n",
              "      <th>1</th>\n",
              "      <td>123.0</td>\n",
              "      <td>520.951478</td>\n",
              "      <td>668.335339</td>\n",
              "      <td>1.851906</td>\n",
              "      <td>83.099220</td>\n",
              "      <td>222.015717</td>\n",
              "      <td>638.222767</td>\n",
              "      <td>2220.617101</td>\n",
              "    </tr>\n",
              "  </tbody>\n",
              "</table>\n",
              "</div>"
            ],
            "text/plain": [
              "          error                          ...                                      \n",
              "          count        mean         std  ...         50%         75%           max\n",
              "actual                                   ...                                      \n",
              "0       71079.0    8.246492   48.400547  ...    5.499292    9.001248  11519.911243\n",
              "1         123.0  520.951478  668.335339  ...  222.015717  638.222767   2220.617101\n",
              "\n",
              "[2 rows x 8 columns]"
            ]
          },
          "metadata": {
            "tags": []
          },
          "execution_count": 276
        }
      ]
    },
    {
      "cell_type": "code",
      "metadata": {
        "id": "qUpFBHm0vSHX",
        "colab_type": "code",
        "colab": {
          "base_uri": "https://localhost:8080/",
          "height": 142
        },
        "outputId": "d3dbe610-7e39-40cd-d287-26ebce12c1b6"
      },
      "source": [
        "results_df[['NO_FRAUD', 'FRAUD']]"
      ],
      "execution_count": 293,
      "outputs": [
        {
          "output_type": "execute_result",
          "data": {
            "text/html": [
              "<div>\n",
              "<style scoped>\n",
              "    .dataframe tbody tr th:only-of-type {\n",
              "        vertical-align: middle;\n",
              "    }\n",
              "\n",
              "    .dataframe tbody tr th {\n",
              "        vertical-align: top;\n",
              "    }\n",
              "\n",
              "    .dataframe thead th {\n",
              "        text-align: right;\n",
              "    }\n",
              "</style>\n",
              "<table border=\"1\" class=\"dataframe\">\n",
              "  <thead>\n",
              "    <tr style=\"text-align: right;\">\n",
              "      <th></th>\n",
              "      <th>NO_FRAUD</th>\n",
              "      <th>FRAUD</th>\n",
              "    </tr>\n",
              "  </thead>\n",
              "  <tbody>\n",
              "    <tr>\n",
              "      <th>Complete</th>\n",
              "      <td>0.003350</td>\n",
              "      <td>0.220961</td>\n",
              "    </tr>\n",
              "    <tr>\n",
              "      <th>Under Complete</th>\n",
              "      <td>6.847952</td>\n",
              "      <td>164.965582</td>\n",
              "    </tr>\n",
              "    <tr>\n",
              "      <th>Over Complete</th>\n",
              "      <td>30.812237</td>\n",
              "      <td>806.349795</td>\n",
              "    </tr>\n",
              "  </tbody>\n",
              "</table>\n",
              "</div>"
            ],
            "text/plain": [
              "                 NO_FRAUD       FRAUD\n",
              "Complete         0.003350    0.220961\n",
              "Under Complete   6.847952  164.965582\n",
              "Over Complete   30.812237  806.349795"
            ]
          },
          "metadata": {
            "tags": []
          },
          "execution_count": 293
        }
      ]
    },
    {
      "cell_type": "markdown",
      "metadata": {
        "id": "HeSkP4j-x4uj",
        "colab_type": "text"
      },
      "source": [
        "### Separability"
      ]
    },
    {
      "cell_type": "code",
      "metadata": {
        "id": "rrZC5HsUxRqF",
        "colab_type": "code",
        "colab": {
          "base_uri": "https://localhost:8080/",
          "height": 557
        },
        "outputId": "6a8d4169-4594-4cda-e9d1-9171848b653f"
      },
      "source": [
        "error_df.boxplot('error', by='actual', figsize=(10,8))"
      ],
      "execution_count": 298,
      "outputs": [
        {
          "output_type": "execute_result",
          "data": {
            "text/plain": [
              "<matplotlib.axes._subplots.AxesSubplot at 0x7f0889dd12b0>"
            ]
          },
          "metadata": {
            "tags": []
          },
          "execution_count": 298
        },
        {
          "output_type": "display_data",
          "data": {
            "image/png": "[encoded data removed]",
            "text/plain": [
              "<Figure size 720x576 with 1 Axes>"
            ]
          },
          "metadata": {
            "tags": [],
            "needs_background": "light"
          }
        }
      ]
    },
    {
      "cell_type": "code",
      "metadata": {
        "colab_type": "code",
        "id": "MZpKj4t6PcgM",
        "colab": {
          "base_uri": "https://localhost:8080/",
          "height": 285
        },
        "outputId": "b58e7f68-00a5-4d27-8f5d-101ad23aad87"
      },
      "source": [
        "plt.figure(figsize=(10,4))\n",
        "plt.scatter(error_df[error_df.actual == 0].index, \n",
        "            error_df[error_df.actual == 0].error, color='C0')\n",
        "plt.scatter(error_df[error_df.actual == 1].index, \n",
        "            error_df[error_df.actual == 1].error, color='red')"
      ],
      "execution_count": 277,
      "outputs": [
        {
          "output_type": "execute_result",
          "data": {
            "text/plain": [
              "<matplotlib.collections.PathCollection at 0x7f088567b908>"
            ]
          },
          "metadata": {
            "tags": []
          },
          "execution_count": 277
        },
        {
          "output_type": "display_data",
          "data": {
            "image/png": "[encoded data removed]",
            "text/plain": [
              "<Figure size 720x288 with 1 Axes>"
            ]
          },
          "metadata": {
            "tags": [],
            "needs_background": "light"
          }
        }
      ]
    },
    {
      "cell_type": "code",
      "metadata": {
        "id": "W83OOiRJMJ1S",
        "colab_type": "code",
        "colab": {
          "base_uri": "https://localhost:8080/",
          "height": 286
        },
        "outputId": "2358e12c-f9c5-492d-a0b9-27602b0dc829"
      },
      "source": [
        "plt.figure(figsize=(10,4))\n",
        "plt.scatter(error_df[error_df.actual == 0].index, \n",
        "            error_df[error_df.actual == 0].error, color='C0')\n",
        "plt.scatter(error_df[error_df.actual == 1].index, \n",
        "            error_df[error_df.actual == 1].error, color='red')\n",
        "plt.ylim(0, 1000);"
      ],
      "execution_count": 278,
      "outputs": [
        {
          "output_type": "execute_result",
          "data": {
            "text/plain": [
              "(0.0, 1000.0)"
            ]
          },
          "metadata": {
            "tags": []
          },
          "execution_count": 278
        },
        {
          "output_type": "display_data",
          "data": {
            "image/png": "[encoded data removed]",
            "text/plain": [
              "<Figure size 720x288 with 1 Axes>"
            ]
          },
          "metadata": {
            "tags": [],
            "needs_background": "light"
          }
        }
      ]
    },
    {
      "cell_type": "markdown",
      "metadata": {
        "id": "SKNfWZtqPTgk",
        "colab_type": "text"
      },
      "source": [
        "## Anomalies"
      ]
    },
    {
      "cell_type": "markdown",
      "metadata": {
        "id": "507J4hYAJagy",
        "colab_type": "text"
      },
      "source": [
        "### Threshold"
      ]
    },
    {
      "cell_type": "code",
      "metadata": {
        "id": "s-66K-62LZXN",
        "colab_type": "code",
        "colab": {}
      },
      "source": [
        "def predict_class_threshold(recon_error, thresh):\n",
        "  predicted_class = np.where(recon_error > thresh, 1, 0)\n",
        "  return predicted_class"
      ],
      "execution_count": 279,
      "outputs": []
    },
    {
      "cell_type": "code",
      "metadata": {
        "id": "iJoNlMGkJeq_",
        "colab_type": "code",
        "colab": {}
      },
      "source": [
        "threshold = 100\n",
        "pred_test_recon  = model.predict(X_test)\n",
        "score_test_recon = reconstruction_error(X_test, pred_test_recon)\n",
        "pred_recon_class = predict_class_threshold(score_test_recon, threshold)"
      ],
      "execution_count": 280,
      "outputs": []
    },
    {
      "cell_type": "code",
      "metadata": {
        "id": "DP8mJqFDNgaw",
        "colab_type": "code",
        "colab": {
          "base_uri": "https://localhost:8080/",
          "height": 286
        },
        "outputId": "561befbd-bd5b-4243-b5db-9e880c498333"
      },
      "source": [
        "plt.figure(figsize=(10,4))\n",
        "plt.scatter(error_df[error_df.actual == 0].index, \n",
        "            error_df[error_df.actual == 0].error, color='C0')\n",
        "plt.scatter(error_df[error_df.actual == 1].index, \n",
        "            error_df[error_df.actual == 1].error, color='red')\n",
        "plt.plot([0, max(error_df.index)], [threshold, threshold], linestyle='--', color='black', linewidth=3)\n",
        "plt.ylim(0, 1000)"
      ],
      "execution_count": 281,
      "outputs": [
        {
          "output_type": "execute_result",
          "data": {
            "text/plain": [
              "(0.0, 1000.0)"
            ]
          },
          "metadata": {
            "tags": []
          },
          "execution_count": 281
        },
        {
          "output_type": "display_data",
          "data": {
            "image/png": "[encoded data removed]",
            "text/plain": [
              "<Figure size 720x288 with 1 Axes>"
            ]
          },
          "metadata": {
            "tags": [],
            "needs_background": "light"
          }
        }
      ]
    },
    {
      "cell_type": "code",
      "metadata": {
        "id": "-foUtmHTLyUg",
        "colab_type": "code",
        "colab": {
          "base_uri": "https://localhost:8080/",
          "height": 759
        },
        "outputId": "08b8fe69-4163-4bc2-8842-7f4670b4b662"
      },
      "source": [
        "plot_confusion(y_test, pred_recon_class)\n",
        "print_classification_report(y_test, pred_recon_class)"
      ],
      "execution_count": 282,
      "outputs": [
        {
          "output_type": "display_data",
          "data": {
            "image/png": "[encoded data removed]",
            "text/plain": [
              "<Figure size 720x720 with 2 Axes>"
            ]
          },
          "metadata": {
            "tags": [],
            "needs_background": "light"
          }
        },
        {
          "output_type": "stream",
          "text": [
            "              precision    recall  f1-score   support\n",
            "\n",
            "    No Fraud       1.00      1.00      1.00     71079\n",
            "       Fraud       0.30      0.69      0.42       123\n",
            "\n",
            "    accuracy                           1.00     71202\n",
            "   macro avg       0.65      0.84      0.71     71202\n",
            "weighted avg       1.00      1.00      1.00     71202\n",
            "\n"
          ],
          "name": "stdout"
        }
      ]
    },
    {
      "cell_type": "code",
      "metadata": {
        "id": "VdpejFmKN7TQ",
        "colab_type": "code",
        "colab": {
          "base_uri": "https://localhost:8080/",
          "height": 71
        },
        "outputId": "093d5ac0-eb17-4bd8-c0e7-fef069f24902"
      },
      "source": [
        "thresh_df = pd.DataFrame(columns=['Threshold', 'Precision', 'Recall'])\n",
        "for thresh in range(0, 500, 5):\n",
        "  predicted_class = predict_class_threshold(score_test_recon, thresh)\n",
        "  rpt = classification_report(y_test, predicted_class, output_dict=True, target_names=class_names)\n",
        "  thresh_df.loc[thresh] = [thresh, rpt['Fraud']['precision'], rpt['Fraud']['recall']]"
      ],
      "execution_count": 283,
      "outputs": [
        {
          "output_type": "stream",
          "text": [
            "/usr/local/lib/python3.6/dist-packages/sklearn/metrics/_classification.py:1272: UndefinedMetricWarning: Precision and F-score are ill-defined and being set to 0.0 in labels with no predicted samples. Use `zero_division` parameter to control this behavior.\n",
            "  _warn_prf(average, modifier, msg_start, len(result))\n"
          ],
          "name": "stderr"
        }
      ]
    },
    {
      "cell_type": "code",
      "metadata": {
        "id": "TCSJOs3CQsAL",
        "colab_type": "code",
        "colab": {
          "base_uri": "https://localhost:8080/",
          "height": 298
        },
        "outputId": "62117011-1e79-45ca-c16f-7178f608c328"
      },
      "source": [
        "plt.plot(thresh_df['Threshold'], thresh_df['Recall'])\n",
        "plt.title('Recall')"
      ],
      "execution_count": 284,
      "outputs": [
        {
          "output_type": "execute_result",
          "data": {
            "text/plain": [
              "Text(0.5, 1.0, 'Recall')"
            ]
          },
          "metadata": {
            "tags": []
          },
          "execution_count": 284
        },
        {
          "output_type": "display_data",
          "data": {
            "image/png": "[encoded data removed]",
            "text/plain": [
              "<Figure size 432x288 with 1 Axes>"
            ]
          },
          "metadata": {
            "tags": [],
            "needs_background": "light"
          }
        }
      ]
    },
    {
      "cell_type": "code",
      "metadata": {
        "id": "o14V_rkXQ9-t",
        "colab_type": "code",
        "colab": {
          "base_uri": "https://localhost:8080/",
          "height": 298
        },
        "outputId": "c03eaaeb-ce27-4698-d199-f05f4276c4e3"
      },
      "source": [
        "plt.plot(thresh_df['Threshold'], thresh_df['Precision'])\n",
        "plt.title('Precision')"
      ],
      "execution_count": 285,
      "outputs": [
        {
          "output_type": "execute_result",
          "data": {
            "text/plain": [
              "Text(0.5, 1.0, 'Precision')"
            ]
          },
          "metadata": {
            "tags": []
          },
          "execution_count": 285
        },
        {
          "output_type": "display_data",
          "data": {
            "image/png": "[encoded data removed]",
            "text/plain": [
              "<Figure size 432x288 with 1 Axes>"
            ]
          },
          "metadata": {
            "tags": [],
            "needs_background": "light"
          }
        }
      ]
    },
    {
      "cell_type": "code",
      "metadata": {
        "id": "bjbwCRQCRUGd",
        "colab_type": "code",
        "colab": {
          "base_uri": "https://localhost:8080/",
          "height": 312
        },
        "outputId": "ef802c16-06b1-4d71-f8e3-6b6b1f11590f"
      },
      "source": [
        "plt.plot(thresh_df['Recall'], thresh_df['Precision'])\n",
        "plt.xlabel('Recall')\n",
        "plt.ylabel('Precision')\n",
        "plt.title('Precision - Recall')"
      ],
      "execution_count": 286,
      "outputs": [
        {
          "output_type": "execute_result",
          "data": {
            "text/plain": [
              "Text(0.5, 1.0, 'Precision - Recall')"
            ]
          },
          "metadata": {
            "tags": []
          },
          "execution_count": 286
        },
        {
          "output_type": "display_data",
          "data": {
            "image/png": "[encoded data removed]",
            "text/plain": [
              "<Figure size 432x288 with 1 Axes>"
            ]
          },
          "metadata": {
            "tags": [],
            "needs_background": "light"
          }
        }
      ]
    },
    {
      "cell_type": "markdown",
      "metadata": {
        "id": "9_Al2x8eJYJ7",
        "colab_type": "text"
      },
      "source": [
        "### Logistic Regression\n",
        "* Can we find an optimal threshold?"
      ]
    },
    {
      "cell_type": "code",
      "metadata": {
        "id": "LEScShoiWrAM",
        "colab_type": "code",
        "colab": {}
      },
      "source": [
        "weights = {0:1, 1:int(len(y_test) / y_test.sum())}\n",
        "lr = LogisticRegression(class_weight=weights)\n",
        "\n",
        "pred_train_recon  = model.predict(X_train)\n",
        "score_train_recon = reconstruction_error(X_train, pred_train_recon)\n",
        "\n",
        "pred_test_recon  = model.predict(X_test)\n",
        "score_test_recon = reconstruction_error(X_test, pred_test_recon)\n",
        "\n",
        "lr.fit(np.array(score_train_recon).reshape(-1, 1), y_train)\n",
        "pred_recon_proba = lr.predict_proba(np.array(score_test_recon).reshape(-1, 1))\n",
        "pred_recon_class = lr.predict(np.array(score_test_recon).reshape(-1, 1))"
      ],
      "execution_count": 287,
      "outputs": []
    },
    {
      "cell_type": "code",
      "metadata": {
        "id": "YMvzYlOO8WBP",
        "colab_type": "code",
        "colab": {
          "base_uri": "https://localhost:8080/",
          "height": 760
        },
        "outputId": "aea184aa-fc9b-4452-a755-f926e2e1cb05"
      },
      "source": [
        "plot_confusion(y_test, pred_recon_class)\n",
        "print_classification_report(y_test, pred_recon_class)"
      ],
      "execution_count": 288,
      "outputs": [
        {
          "output_type": "display_data",
          "data": {
            "image/png": "[encoded data removed]",
            "text/plain": [
              "<Figure size 720x720 with 2 Axes>"
            ]
          },
          "metadata": {
            "tags": [],
            "needs_background": "light"
          }
        },
        {
          "output_type": "stream",
          "text": [
            "              precision    recall  f1-score   support\n",
            "\n",
            "    No Fraud       1.00      0.99      0.99     71079\n",
            "       Fraud       0.11      0.79      0.19       123\n",
            "\n",
            "    accuracy                           0.99     71202\n",
            "   macro avg       0.55      0.89      0.59     71202\n",
            "weighted avg       1.00      0.99      0.99     71202\n",
            "\n"
          ],
          "name": "stdout"
        }
      ]
    },
    {
      "cell_type": "code",
      "metadata": {
        "id": "X-XZY0hp8Kbw",
        "colab_type": "code",
        "colab": {
          "base_uri": "https://localhost:8080/",
          "height": 621
        },
        "outputId": "27ee631c-a4b7-41ef-c4ec-fb175b9ac857"
      },
      "source": [
        "plot_roc_curve(y_test, pred_recon_proba[:,1])"
      ],
      "execution_count": 289,
      "outputs": [
        {
          "output_type": "display_data",
          "data": {
            "image/png": "[encoded data removed]",
            "text/plain": [
              "<Figure size 720x720 with 1 Axes>"
            ]
          },
          "metadata": {
            "tags": [],
            "needs_background": "light"
          }
        }
      ]
    },
    {
      "cell_type": "code",
      "metadata": {
        "id": "npxJrLiag2Yw",
        "colab_type": "code",
        "colab": {
          "base_uri": "https://localhost:8080/",
          "height": 621
        },
        "outputId": "ff1e5645-ed21-4709-f34b-c5dc4cb818ec"
      },
      "source": [
        "plot_precision_recall_curve(y_test, pred_recon_proba[:,1])"
      ],
      "execution_count": 290,
      "outputs": [
        {
          "output_type": "display_data",
          "data": {
            "image/png": "[encoded data removed]",
            "text/plain": [
              "<Figure size 720x720 with 1 Axes>"
            ]
          },
          "metadata": {
            "tags": [],
            "needs_background": "light"
          }
        }
      ]
    },
    {
      "cell_type": "markdown",
      "metadata": {
        "id": "98TEAFx0WwJB",
        "colab_type": "text"
      },
      "source": [
        "# Recap\n",
        "* AutoEncoders\n",
        "  * Information Compression - PCA\n",
        "  * Normal - Anomaly\n",
        "* Architectures\n",
        "  * Complete - Memorize Data\n",
        "  * Under Complete - Use bottleneck\n",
        "  * Over Complete - Use regularization & Dropout\n",
        "* Encoder -> Decoder\n",
        "  * Seq2Seq (Variable input & output)\n",
        "  * Transformer (Bert)"
      ]
    },
    {
      "cell_type": "code",
      "metadata": {
        "id": "OPCXvrXumXqC",
        "colab_type": "code",
        "colab": {}
      },
      "source": [
        ""
      ],
      "execution_count": 290,
      "outputs": []
    }
  ]
}