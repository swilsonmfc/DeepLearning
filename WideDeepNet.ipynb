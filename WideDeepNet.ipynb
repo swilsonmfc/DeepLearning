{
  "nbformat": 4,
  "nbformat_minor": 0,
  "metadata": {
    "colab": {
      "name": "WideDeepNet.ipynb",
      "provenance": [],
      "collapsed_sections": [],
      "toc_visible": true,
      "authorship_tag": "ABX9TyP+eng67hYY+MV64PDLQSgg",
      "include_colab_link": true
    },
    "kernelspec": {
      "name": "python3",
      "display_name": "Python 3"
    }
  },
  "cells": [
    {
      "cell_type": "markdown",
      "metadata": {
        "id": "view-in-github",
        "colab_type": "text"
      },
      "source": [
        "<a href=\"https://colab.research.google.com/github/swilsonmfc/deeplearning/blob/master/WideDeepNet.ipynb\" target=\"_parent\"><img src=\"https://colab.research.google.com/assets/colab-badge.svg\" alt=\"Open In Colab\"/></a>"
      ]
    },
    {
      "cell_type": "markdown",
      "metadata": {
        "id": "F1AkMWt26PyS"
      },
      "source": [
        "# Wide & Deep Networks\n",
        "\n",
        "![](https://w5coaching.com/wp-content/uploads/2017/05/Mile-wide-and-an-inch-deep.jpg)"
      ]
    },
    {
      "cell_type": "markdown",
      "metadata": {
        "id": "5YkpMV_y73Rf"
      },
      "source": [
        "http://arxiv.org/abs/1606.07792"
      ]
    },
    {
      "cell_type": "markdown",
      "metadata": {
        "id": "ILN7nBJo8WXA"
      },
      "source": [
        "# Setup"
      ]
    },
    {
      "cell_type": "code",
      "metadata": {
        "id": "MNL3U5Ix_CNZ"
      },
      "source": [
        "import pandas as pd\n",
        "import numpy as np\n",
        "import matplotlib.pyplot as plt\n",
        "import seaborn as sns\n",
        "\n",
        "import tensorflow as tf\n",
        "import tensorflow.keras as keras\n",
        "\n",
        "from tensorflow.keras.layers import Input\n",
        "from tensorflow.keras.layers import DenseFeatures\n",
        "from tensorflow.keras.layers import Dense\n",
        "from tensorflow.keras.layers import Concatenate\n",
        "from tensorflow.keras.layers import Dropout\n",
        "\n",
        "from tensorflow.keras.models import Model\n",
        "from tensorflow.keras.callbacks import EarlyStopping\n",
        "\n",
        "from tensorflow.data import Dataset\n",
        "import tensorflow.feature_column as fc\n",
        "\n",
        "from sklearn.model_selection import train_test_split\n",
        "\n",
        "from sklearn.metrics import accuracy_score\n",
        "from sklearn.metrics import classification_report"
      ],
      "execution_count": 1,
      "outputs": []
    },
    {
      "cell_type": "markdown",
      "metadata": {
        "id": "niBAZXAJEFYy"
      },
      "source": [
        "# Random"
      ]
    },
    {
      "cell_type": "code",
      "metadata": {
        "id": "tYR-DvNREIC8"
      },
      "source": [
        "np.random.seed(2001)\n",
        "tf.random.set_seed(2001)"
      ],
      "execution_count": 2,
      "outputs": []
    },
    {
      "cell_type": "markdown",
      "metadata": {
        "id": "7SxlNzr38X8n"
      },
      "source": [
        "# Data"
      ]
    },
    {
      "cell_type": "code",
      "metadata": {
        "id": "sN4SBGv1VR05",
        "outputId": "f30ba98a-35fd-4232-958b-400932d3cff4",
        "colab": {
          "base_uri": "https://localhost:8080/",
          "height": 204
        }
      },
      "source": [
        "!wget -O adult.data https://archive.ics.uci.edu/ml/machine-learning-databases/adult/adult.data"
      ],
      "execution_count": 3,
      "outputs": [
        {
          "output_type": "stream",
          "text": [
            "--2020-09-30 23:54:35--  https://archive.ics.uci.edu/ml/machine-learning-databases/adult/adult.data\n",
            "Resolving archive.ics.uci.edu (archive.ics.uci.edu)... 128.195.10.252\n",
            "Connecting to archive.ics.uci.edu (archive.ics.uci.edu)|128.195.10.252|:443... connected.\n",
            "HTTP request sent, awaiting response... 200 OK\n",
            "Length: 3974305 (3.8M) [application/x-httpd-php]\n",
            "Saving to: ‘adult.data’\n",
            "\n",
            "adult.data          100%[===================>]   3.79M  3.65MB/s    in 1.0s    \n",
            "\n",
            "2020-09-30 23:54:37 (3.65 MB/s) - ‘adult.data’ saved [3974305/3974305]\n",
            "\n"
          ],
          "name": "stdout"
        }
      ]
    },
    {
      "cell_type": "markdown",
      "metadata": {
        "id": "FcEYWFPmXl1_"
      },
      "source": [
        "## Columns\n",
        "* age: continuous.\n",
        "* workclass: Private, Self-emp-not-inc, Self-emp-inc, Federal-gov, Local-gov, State-gov, Without-pay, Never-worked.\n",
        "* fnlwgt: continuous.\n",
        "* education: Bachelors, Some-college, 11th, HS-grad, Prof-school, Assoc-acdm, Assoc-voc, 9th, 7th-8th, 12th, Masters, 1st-4th, 10th, Doctorate, 5th-6th, Preschool.\n",
        "* education-num: continuous.\n",
        "* marital-status: Married-civ-spouse, Divorced, Never-married, Separated, Widowed, Married-spouse-absent, Married-AF-spouse.\n",
        "* occupation: Tech-support, Craft-repair, Other-service, Sales, Exec-managerial, Prof-specialty, Handlers-cleaners, Machine-op-inspct, Adm-clerical, Farming-fishing, Transport-moving, Priv-house-serv, Protective-serv, Armed-Forces.\n",
        "* relationship: Wife, Own-child, Husband, Not-in-family, Other-relative, Unmarried.\n",
        "* race: White, Asian-Pac-Islander, Amer-Indian-Eskimo, Other, Black.\n",
        "* sex: Female, Male.\n",
        "* capital-gain: continuous.\n",
        "* capital-loss: continuous.\n",
        "* hours-per-week: continuous.\n",
        "* native-country: United-States, Cambodia, England, Puerto-Rico, Canada, Germany, Outlying-US(Guam-USVI-etc), India, Japan, Greece, South, China, Cuba, Iran, Honduras, Philippines, Italy, Poland, Jamaica, Vietnam, Mexico, Portugal, Ireland, France, Dominican-Republic, Laos, Ecuador, Taiwan, Haiti, Columbia, Hungary, Guatemala, Nicaragua, Scotland, Thailand, Yugoslavia, El-Salvador, Trinadad&Tobago, Peru, Hong, Holand-Netherlands.\n"
      ]
    },
    {
      "cell_type": "code",
      "metadata": {
        "id": "qclm2ATMXZm3"
      },
      "source": [
        "columns = [\n",
        "  'age',\n",
        "  'workclass',\n",
        "  'fnlwgt',\n",
        "  'education',\n",
        "  'education_num',\n",
        "  'marital_status',\n",
        "  'occupation',\n",
        "  'relationship',\n",
        "  'race',\n",
        "  'sex',\n",
        "  'capital_gain',\n",
        "  'capital_loss',\n",
        "  'hours_per_week',\n",
        "  'native_country',\n",
        "  'target'\n",
        "]"
      ],
      "execution_count": 4,
      "outputs": []
    },
    {
      "cell_type": "code",
      "metadata": {
        "id": "rK9eYVlsXQ8r",
        "outputId": "0be1d482-b57c-4af1-ebfc-e5c76edc2c3b",
        "colab": {
          "base_uri": "https://localhost:8080/",
          "height": 558
        }
      },
      "source": [
        "df = pd.read_csv('adult.data', names=columns)\n",
        "df"
      ],
      "execution_count": 5,
      "outputs": [
        {
          "output_type": "execute_result",
          "data": {
            "text/html": [
              "<div>\n",
              "<style scoped>\n",
              "    .dataframe tbody tr th:only-of-type {\n",
              "        vertical-align: middle;\n",
              "    }\n",
              "\n",
              "    .dataframe tbody tr th {\n",
              "        vertical-align: top;\n",
              "    }\n",
              "\n",
              "    .dataframe thead th {\n",
              "        text-align: right;\n",
              "    }\n",
              "</style>\n",
              "<table border=\"1\" class=\"dataframe\">\n",
              "  <thead>\n",
              "    <tr style=\"text-align: right;\">\n",
              "      <th></th>\n",
              "      <th>age</th>\n",
              "      <th>workclass</th>\n",
              "      <th>fnlwgt</th>\n",
              "      <th>education</th>\n",
              "      <th>education_num</th>\n",
              "      <th>marital_status</th>\n",
              "      <th>occupation</th>\n",
              "      <th>relationship</th>\n",
              "      <th>race</th>\n",
              "      <th>sex</th>\n",
              "      <th>capital_gain</th>\n",
              "      <th>capital_loss</th>\n",
              "      <th>hours_per_week</th>\n",
              "      <th>native_country</th>\n",
              "      <th>target</th>\n",
              "    </tr>\n",
              "  </thead>\n",
              "  <tbody>\n",
              "    <tr>\n",
              "      <th>0</th>\n",
              "      <td>39</td>\n",
              "      <td>State-gov</td>\n",
              "      <td>77516</td>\n",
              "      <td>Bachelors</td>\n",
              "      <td>13</td>\n",
              "      <td>Never-married</td>\n",
              "      <td>Adm-clerical</td>\n",
              "      <td>Not-in-family</td>\n",
              "      <td>White</td>\n",
              "      <td>Male</td>\n",
              "      <td>2174</td>\n",
              "      <td>0</td>\n",
              "      <td>40</td>\n",
              "      <td>United-States</td>\n",
              "      <td>&lt;=50K</td>\n",
              "    </tr>\n",
              "    <tr>\n",
              "      <th>1</th>\n",
              "      <td>50</td>\n",
              "      <td>Self-emp-not-inc</td>\n",
              "      <td>83311</td>\n",
              "      <td>Bachelors</td>\n",
              "      <td>13</td>\n",
              "      <td>Married-civ-spouse</td>\n",
              "      <td>Exec-managerial</td>\n",
              "      <td>Husband</td>\n",
              "      <td>White</td>\n",
              "      <td>Male</td>\n",
              "      <td>0</td>\n",
              "      <td>0</td>\n",
              "      <td>13</td>\n",
              "      <td>United-States</td>\n",
              "      <td>&lt;=50K</td>\n",
              "    </tr>\n",
              "    <tr>\n",
              "      <th>2</th>\n",
              "      <td>38</td>\n",
              "      <td>Private</td>\n",
              "      <td>215646</td>\n",
              "      <td>HS-grad</td>\n",
              "      <td>9</td>\n",
              "      <td>Divorced</td>\n",
              "      <td>Handlers-cleaners</td>\n",
              "      <td>Not-in-family</td>\n",
              "      <td>White</td>\n",
              "      <td>Male</td>\n",
              "      <td>0</td>\n",
              "      <td>0</td>\n",
              "      <td>40</td>\n",
              "      <td>United-States</td>\n",
              "      <td>&lt;=50K</td>\n",
              "    </tr>\n",
              "    <tr>\n",
              "      <th>3</th>\n",
              "      <td>53</td>\n",
              "      <td>Private</td>\n",
              "      <td>234721</td>\n",
              "      <td>11th</td>\n",
              "      <td>7</td>\n",
              "      <td>Married-civ-spouse</td>\n",
              "      <td>Handlers-cleaners</td>\n",
              "      <td>Husband</td>\n",
              "      <td>Black</td>\n",
              "      <td>Male</td>\n",
              "      <td>0</td>\n",
              "      <td>0</td>\n",
              "      <td>40</td>\n",
              "      <td>United-States</td>\n",
              "      <td>&lt;=50K</td>\n",
              "    </tr>\n",
              "    <tr>\n",
              "      <th>4</th>\n",
              "      <td>28</td>\n",
              "      <td>Private</td>\n",
              "      <td>338409</td>\n",
              "      <td>Bachelors</td>\n",
              "      <td>13</td>\n",
              "      <td>Married-civ-spouse</td>\n",
              "      <td>Prof-specialty</td>\n",
              "      <td>Wife</td>\n",
              "      <td>Black</td>\n",
              "      <td>Female</td>\n",
              "      <td>0</td>\n",
              "      <td>0</td>\n",
              "      <td>40</td>\n",
              "      <td>Cuba</td>\n",
              "      <td>&lt;=50K</td>\n",
              "    </tr>\n",
              "    <tr>\n",
              "      <th>...</th>\n",
              "      <td>...</td>\n",
              "      <td>...</td>\n",
              "      <td>...</td>\n",
              "      <td>...</td>\n",
              "      <td>...</td>\n",
              "      <td>...</td>\n",
              "      <td>...</td>\n",
              "      <td>...</td>\n",
              "      <td>...</td>\n",
              "      <td>...</td>\n",
              "      <td>...</td>\n",
              "      <td>...</td>\n",
              "      <td>...</td>\n",
              "      <td>...</td>\n",
              "      <td>...</td>\n",
              "    </tr>\n",
              "    <tr>\n",
              "      <th>32556</th>\n",
              "      <td>27</td>\n",
              "      <td>Private</td>\n",
              "      <td>257302</td>\n",
              "      <td>Assoc-acdm</td>\n",
              "      <td>12</td>\n",
              "      <td>Married-civ-spouse</td>\n",
              "      <td>Tech-support</td>\n",
              "      <td>Wife</td>\n",
              "      <td>White</td>\n",
              "      <td>Female</td>\n",
              "      <td>0</td>\n",
              "      <td>0</td>\n",
              "      <td>38</td>\n",
              "      <td>United-States</td>\n",
              "      <td>&lt;=50K</td>\n",
              "    </tr>\n",
              "    <tr>\n",
              "      <th>32557</th>\n",
              "      <td>40</td>\n",
              "      <td>Private</td>\n",
              "      <td>154374</td>\n",
              "      <td>HS-grad</td>\n",
              "      <td>9</td>\n",
              "      <td>Married-civ-spouse</td>\n",
              "      <td>Machine-op-inspct</td>\n",
              "      <td>Husband</td>\n",
              "      <td>White</td>\n",
              "      <td>Male</td>\n",
              "      <td>0</td>\n",
              "      <td>0</td>\n",
              "      <td>40</td>\n",
              "      <td>United-States</td>\n",
              "      <td>&gt;50K</td>\n",
              "    </tr>\n",
              "    <tr>\n",
              "      <th>32558</th>\n",
              "      <td>58</td>\n",
              "      <td>Private</td>\n",
              "      <td>151910</td>\n",
              "      <td>HS-grad</td>\n",
              "      <td>9</td>\n",
              "      <td>Widowed</td>\n",
              "      <td>Adm-clerical</td>\n",
              "      <td>Unmarried</td>\n",
              "      <td>White</td>\n",
              "      <td>Female</td>\n",
              "      <td>0</td>\n",
              "      <td>0</td>\n",
              "      <td>40</td>\n",
              "      <td>United-States</td>\n",
              "      <td>&lt;=50K</td>\n",
              "    </tr>\n",
              "    <tr>\n",
              "      <th>32559</th>\n",
              "      <td>22</td>\n",
              "      <td>Private</td>\n",
              "      <td>201490</td>\n",
              "      <td>HS-grad</td>\n",
              "      <td>9</td>\n",
              "      <td>Never-married</td>\n",
              "      <td>Adm-clerical</td>\n",
              "      <td>Own-child</td>\n",
              "      <td>White</td>\n",
              "      <td>Male</td>\n",
              "      <td>0</td>\n",
              "      <td>0</td>\n",
              "      <td>20</td>\n",
              "      <td>United-States</td>\n",
              "      <td>&lt;=50K</td>\n",
              "    </tr>\n",
              "    <tr>\n",
              "      <th>32560</th>\n",
              "      <td>52</td>\n",
              "      <td>Self-emp-inc</td>\n",
              "      <td>287927</td>\n",
              "      <td>HS-grad</td>\n",
              "      <td>9</td>\n",
              "      <td>Married-civ-spouse</td>\n",
              "      <td>Exec-managerial</td>\n",
              "      <td>Wife</td>\n",
              "      <td>White</td>\n",
              "      <td>Female</td>\n",
              "      <td>15024</td>\n",
              "      <td>0</td>\n",
              "      <td>40</td>\n",
              "      <td>United-States</td>\n",
              "      <td>&gt;50K</td>\n",
              "    </tr>\n",
              "  </tbody>\n",
              "</table>\n",
              "<p>32561 rows × 15 columns</p>\n",
              "</div>"
            ],
            "text/plain": [
              "       age          workclass  fnlwgt  ... hours_per_week  native_country  target\n",
              "0       39          State-gov   77516  ...             40   United-States   <=50K\n",
              "1       50   Self-emp-not-inc   83311  ...             13   United-States   <=50K\n",
              "2       38            Private  215646  ...             40   United-States   <=50K\n",
              "3       53            Private  234721  ...             40   United-States   <=50K\n",
              "4       28            Private  338409  ...             40            Cuba   <=50K\n",
              "...    ...                ...     ...  ...            ...             ...     ...\n",
              "32556   27            Private  257302  ...             38   United-States   <=50K\n",
              "32557   40            Private  154374  ...             40   United-States    >50K\n",
              "32558   58            Private  151910  ...             40   United-States   <=50K\n",
              "32559   22            Private  201490  ...             20   United-States   <=50K\n",
              "32560   52       Self-emp-inc  287927  ...             40   United-States    >50K\n",
              "\n",
              "[32561 rows x 15 columns]"
            ]
          },
          "metadata": {
            "tags": []
          },
          "execution_count": 5
        }
      ]
    },
    {
      "cell_type": "markdown",
      "metadata": {
        "id": "9z1BOgpVj-dq"
      },
      "source": [
        "# EDA"
      ]
    },
    {
      "cell_type": "markdown",
      "metadata": {
        "id": "aRaOMORfCltL"
      },
      "source": [
        "## Missing"
      ]
    },
    {
      "cell_type": "code",
      "metadata": {
        "id": "Rc8C9hZ9Cp_Q",
        "outputId": "e8e94dd8-948a-483d-e433-08a9e277055a",
        "colab": {
          "base_uri": "https://localhost:8080/",
          "height": 289
        }
      },
      "source": [
        "df.isna().sum()"
      ],
      "execution_count": 6,
      "outputs": [
        {
          "output_type": "execute_result",
          "data": {
            "text/plain": [
              "age               0\n",
              "workclass         0\n",
              "fnlwgt            0\n",
              "education         0\n",
              "education_num     0\n",
              "marital_status    0\n",
              "occupation        0\n",
              "relationship      0\n",
              "race              0\n",
              "sex               0\n",
              "capital_gain      0\n",
              "capital_loss      0\n",
              "hours_per_week    0\n",
              "native_country    0\n",
              "target            0\n",
              "dtype: int64"
            ]
          },
          "metadata": {
            "tags": []
          },
          "execution_count": 6
        }
      ]
    },
    {
      "cell_type": "markdown",
      "metadata": {
        "id": "mANdvbrwqAPz"
      },
      "source": [
        "## Age"
      ]
    },
    {
      "cell_type": "code",
      "metadata": {
        "id": "buUIQCa-l-VF",
        "outputId": "82c08ab1-c830-4fde-b364-6c030a259d0b",
        "colab": {
          "base_uri": "https://localhost:8080/",
          "height": 170
        }
      },
      "source": [
        "df.age.describe()"
      ],
      "execution_count": 7,
      "outputs": [
        {
          "output_type": "execute_result",
          "data": {
            "text/plain": [
              "count    32561.000000\n",
              "mean        38.581647\n",
              "std         13.640433\n",
              "min         17.000000\n",
              "25%         28.000000\n",
              "50%         37.000000\n",
              "75%         48.000000\n",
              "max         90.000000\n",
              "Name: age, dtype: float64"
            ]
          },
          "metadata": {
            "tags": []
          },
          "execution_count": 7
        }
      ]
    },
    {
      "cell_type": "code",
      "metadata": {
        "id": "uj03kGfWqClg",
        "outputId": "5038782b-686a-40ea-8ad0-7c31d1a9c1a1",
        "colab": {
          "base_uri": "https://localhost:8080/",
          "height": 279
        }
      },
      "source": [
        "df.age.plot.density()\n",
        "plt.xlabel('Age');"
      ],
      "execution_count": 8,
      "outputs": [
        {
          "output_type": "display_data",
          "data": {
            "image/png": "[encoded data removed]",
            "text/plain": [
              "<Figure size 432x288 with 1 Axes>"
            ]
          },
          "metadata": {
            "tags": [],
            "needs_background": "light"
          }
        }
      ]
    },
    {
      "cell_type": "markdown",
      "metadata": {
        "id": "sw2wAlt_ZA9C"
      },
      "source": [
        "## Education\n",
        "* Good feature for embedding"
      ]
    },
    {
      "cell_type": "code",
      "metadata": {
        "id": "RjDYZLW3ZDNC",
        "outputId": "200bad44-85a3-4d68-cb26-752a2f139064",
        "colab": {
          "base_uri": "https://localhost:8080/",
          "height": 282
        }
      },
      "source": [
        "df.groupby('education').size().plot.barh()"
      ],
      "execution_count": 9,
      "outputs": [
        {
          "output_type": "execute_result",
          "data": {
            "text/plain": [
              "<matplotlib.axes._subplots.AxesSubplot at 0x7f2a491f1b00>"
            ]
          },
          "metadata": {
            "tags": []
          },
          "execution_count": 9
        },
        {
          "output_type": "display_data",
          "data": {
            "image/png": "[encoded data removed]",
            "text/plain": [
              "<Figure size 432x288 with 1 Axes>"
            ]
          },
          "metadata": {
            "tags": [],
            "needs_background": "light"
          }
        }
      ]
    },
    {
      "cell_type": "markdown",
      "metadata": {
        "id": "eAxySo5OkQYa"
      },
      "source": [
        "## Working Class"
      ]
    },
    {
      "cell_type": "code",
      "metadata": {
        "id": "ZZlUHeOPkHwQ",
        "outputId": "2b8ddc6d-0b87-464f-b7f2-e086fa09ff72",
        "colab": {
          "base_uri": "https://localhost:8080/",
          "height": 282
        }
      },
      "source": [
        "df.groupby('workclass').size().plot.barh()"
      ],
      "execution_count": 10,
      "outputs": [
        {
          "output_type": "execute_result",
          "data": {
            "text/plain": [
              "<matplotlib.axes._subplots.AxesSubplot at 0x7f2a4ba22da0>"
            ]
          },
          "metadata": {
            "tags": []
          },
          "execution_count": 10
        },
        {
          "output_type": "display_data",
          "data": {
            "image/png": "[encoded data removed]",
            "text/plain": [
              "<Figure size 432x288 with 1 Axes>"
            ]
          },
          "metadata": {
            "tags": [],
            "needs_background": "light"
          }
        }
      ]
    },
    {
      "cell_type": "markdown",
      "metadata": {
        "id": "II3-3AYqZTky"
      },
      "source": [
        "## Race"
      ]
    },
    {
      "cell_type": "code",
      "metadata": {
        "id": "R0KJ3_RuZVNL",
        "outputId": "67380b9f-60ce-4fc0-cfde-83e4c6b1d656",
        "colab": {
          "base_uri": "https://localhost:8080/",
          "height": 282
        }
      },
      "source": [
        "df.groupby('race').size().plot.barh()"
      ],
      "execution_count": 11,
      "outputs": [
        {
          "output_type": "execute_result",
          "data": {
            "text/plain": [
              "<matplotlib.axes._subplots.AxesSubplot at 0x7f2a48c53dd8>"
            ]
          },
          "metadata": {
            "tags": []
          },
          "execution_count": 11
        },
        {
          "output_type": "display_data",
          "data": {
            "image/png": "[encoded data removed]",
            "text/plain": [
              "<Figure size 432x288 with 1 Axes>"
            ]
          },
          "metadata": {
            "tags": [],
            "needs_background": "light"
          }
        }
      ]
    },
    {
      "cell_type": "markdown",
      "metadata": {
        "id": "eCKKZqXOaNlS"
      },
      "source": [
        "## Marital Status"
      ]
    },
    {
      "cell_type": "code",
      "metadata": {
        "id": "owVfuh8gaRQo",
        "outputId": "698ef20d-e88d-4c9d-9576-5d197d2873cb",
        "colab": {
          "base_uri": "https://localhost:8080/",
          "height": 282
        }
      },
      "source": [
        "df.groupby('marital_status').size().plot.barh()"
      ],
      "execution_count": 12,
      "outputs": [
        {
          "output_type": "execute_result",
          "data": {
            "text/plain": [
              "<matplotlib.axes._subplots.AxesSubplot at 0x7f2a48c00ac8>"
            ]
          },
          "metadata": {
            "tags": []
          },
          "execution_count": 12
        },
        {
          "output_type": "display_data",
          "data": {
            "image/png": "[encoded data removed]",
            "text/plain": [
              "<Figure size 432x288 with 1 Axes>"
            ]
          },
          "metadata": {
            "tags": [],
            "needs_background": "light"
          }
        }
      ]
    },
    {
      "cell_type": "markdown",
      "metadata": {
        "id": "7ZLRV0jLaP0M"
      },
      "source": [
        "## Relationship"
      ]
    },
    {
      "cell_type": "code",
      "metadata": {
        "id": "N-Vvm4J8aW9T",
        "outputId": "d9be2d3c-e903-49e1-e6da-18a988a16f51",
        "colab": {
          "base_uri": "https://localhost:8080/",
          "height": 282
        }
      },
      "source": [
        "df.groupby('relationship').size().plot.barh()"
      ],
      "execution_count": 13,
      "outputs": [
        {
          "output_type": "execute_result",
          "data": {
            "text/plain": [
              "<matplotlib.axes._subplots.AxesSubplot at 0x7f2a48bb6ac8>"
            ]
          },
          "metadata": {
            "tags": []
          },
          "execution_count": 13
        },
        {
          "output_type": "display_data",
          "data": {
            "image/png": "[encoded data removed]",
            "text/plain": [
              "<Figure size 432x288 with 1 Axes>"
            ]
          },
          "metadata": {
            "tags": [],
            "needs_background": "light"
          }
        }
      ]
    },
    {
      "cell_type": "markdown",
      "metadata": {
        "id": "GUKfH1mpu7Fm"
      },
      "source": [
        "## Sex"
      ]
    },
    {
      "cell_type": "code",
      "metadata": {
        "id": "WlMJjXNpu_Qc",
        "outputId": "365aa73c-5081-475a-8ef5-c6c1928358db",
        "colab": {
          "base_uri": "https://localhost:8080/",
          "height": 282
        }
      },
      "source": [
        "df.groupby('sex').size().plot.barh()"
      ],
      "execution_count": 14,
      "outputs": [
        {
          "output_type": "execute_result",
          "data": {
            "text/plain": [
              "<matplotlib.axes._subplots.AxesSubplot at 0x7f2a48b284a8>"
            ]
          },
          "metadata": {
            "tags": []
          },
          "execution_count": 14
        },
        {
          "output_type": "display_data",
          "data": {
            "image/png": "[encoded data removed]",
            "text/plain": [
              "<Figure size 432x288 with 1 Axes>"
            ]
          },
          "metadata": {
            "tags": [],
            "needs_background": "light"
          }
        }
      ]
    },
    {
      "cell_type": "markdown",
      "metadata": {
        "id": "rKQg7fHvZifn"
      },
      "source": [
        "## Native Country\n",
        "* Heavily Skewed to US"
      ]
    },
    {
      "cell_type": "code",
      "metadata": {
        "id": "vZmO6qR-ZhzV",
        "outputId": "b71b3581-76a1-4f2e-db6e-f2b8bc72f76b",
        "colab": {
          "base_uri": "https://localhost:8080/",
          "height": 500
        }
      },
      "source": [
        "plt.figure(figsize=(10,8))\n",
        "df.groupby('native_country').size().plot.barh()"
      ],
      "execution_count": 15,
      "outputs": [
        {
          "output_type": "execute_result",
          "data": {
            "text/plain": [
              "<matplotlib.axes._subplots.AxesSubplot at 0x7f2a48af9f60>"
            ]
          },
          "metadata": {
            "tags": []
          },
          "execution_count": 15
        },
        {
          "output_type": "display_data",
          "data": {
            "image/png": "[encoded data removed]",
            "text/plain": [
              "<Figure size 720x576 with 1 Axes>"
            ]
          },
          "metadata": {
            "tags": [],
            "needs_background": "light"
          }
        }
      ]
    },
    {
      "cell_type": "markdown",
      "metadata": {
        "id": "IgbEaJuPda66"
      },
      "source": [
        "## Capital Gains & Losses\n",
        "* Possible place to engineer features\n",
        "* Net Gain = Gains - Losses\n",
        "* Has Gain (Present / Not)\n",
        "* We should get every gain > 50K correct as well"
      ]
    },
    {
      "cell_type": "code",
      "metadata": {
        "id": "H8zXFBhEdd97",
        "outputId": "a5c9590f-3820-490e-97cd-cdbdcd1be943",
        "colab": {
          "base_uri": "https://localhost:8080/",
          "height": 282
        }
      },
      "source": [
        "df.capital_gain.plot.density()"
      ],
      "execution_count": 63,
      "outputs": [
        {
          "output_type": "execute_result",
          "data": {
            "text/plain": [
              "<matplotlib.axes._subplots.AxesSubplot at 0x7f2a39499da0>"
            ]
          },
          "metadata": {
            "tags": []
          },
          "execution_count": 63
        },
        {
          "output_type": "display_data",
          "data": {
            "image/png": "[encoded data removed]",
            "text/plain": [
              "<Figure size 432x288 with 1 Axes>"
            ]
          },
          "metadata": {
            "tags": [],
            "needs_background": "light"
          }
        }
      ]
    },
    {
      "cell_type": "code",
      "metadata": {
        "id": "r2kYTQE7ePOG",
        "outputId": "90f89487-15ec-4aa6-b56d-781e637a2d5d",
        "colab": {
          "base_uri": "https://localhost:8080/",
          "height": 282
        }
      },
      "source": [
        "df.capital_loss.plot.density()"
      ],
      "execution_count": 64,
      "outputs": [
        {
          "output_type": "execute_result",
          "data": {
            "text/plain": [
              "<matplotlib.axes._subplots.AxesSubplot at 0x7f2a3940d860>"
            ]
          },
          "metadata": {
            "tags": []
          },
          "execution_count": 64
        },
        {
          "output_type": "display_data",
          "data": {
            "image/png": "[encoded data removed]",
            "text/plain": [
              "<Figure size 432x288 with 1 Axes>"
            ]
          },
          "metadata": {
            "tags": [],
            "needs_background": "light"
          }
        }
      ]
    },
    {
      "cell_type": "markdown",
      "metadata": {
        "id": "dnEvqJjxkTER"
      },
      "source": [
        "## Target\n",
        "* Class balance is an issue\n",
        "* For this notebook we ignore it, but we may see <= 50K perform better than >50K"
      ]
    },
    {
      "cell_type": "code",
      "metadata": {
        "id": "o6X2J6BLlj5f",
        "outputId": "944d653a-74ac-4400-9a3f-598c66817e2e",
        "colab": {
          "base_uri": "https://localhost:8080/",
          "height": 282
        }
      },
      "source": [
        "df.groupby('target').size().plot.barh()"
      ],
      "execution_count": 16,
      "outputs": [
        {
          "output_type": "execute_result",
          "data": {
            "text/plain": [
              "<matplotlib.axes._subplots.AxesSubplot at 0x7f2a48ce2ac8>"
            ]
          },
          "metadata": {
            "tags": []
          },
          "execution_count": 16
        },
        {
          "output_type": "display_data",
          "data": {
            "image/png": "[encoded data removed]",
            "text/plain": [
              "<Figure size 432x288 with 1 Axes>"
            ]
          },
          "metadata": {
            "tags": [],
            "needs_background": "light"
          }
        }
      ]
    },
    {
      "cell_type": "code",
      "metadata": {
        "id": "k4vXBzJ_kSKM"
      },
      "source": [
        "df['y'] = np.where(df.target == ' >50K', 1, 0)"
      ],
      "execution_count": 17,
      "outputs": []
    },
    {
      "cell_type": "markdown",
      "metadata": {
        "id": "7H26sDI_8Y11"
      },
      "source": [
        "# Train Test"
      ]
    },
    {
      "cell_type": "code",
      "metadata": {
        "id": "OZiE6Ftq0Fiw",
        "outputId": "1a16c7ae-a59c-427e-943b-7247355d207e",
        "colab": {
          "base_uri": "https://localhost:8080/",
          "height": 609
        }
      },
      "source": [
        "df[df.target == ' >50K']"
      ],
      "execution_count": 18,
      "outputs": [
        {
          "output_type": "execute_result",
          "data": {
            "text/html": [
              "<div>\n",
              "<style scoped>\n",
              "    .dataframe tbody tr th:only-of-type {\n",
              "        vertical-align: middle;\n",
              "    }\n",
              "\n",
              "    .dataframe tbody tr th {\n",
              "        vertical-align: top;\n",
              "    }\n",
              "\n",
              "    .dataframe thead th {\n",
              "        text-align: right;\n",
              "    }\n",
              "</style>\n",
              "<table border=\"1\" class=\"dataframe\">\n",
              "  <thead>\n",
              "    <tr style=\"text-align: right;\">\n",
              "      <th></th>\n",
              "      <th>age</th>\n",
              "      <th>workclass</th>\n",
              "      <th>fnlwgt</th>\n",
              "      <th>education</th>\n",
              "      <th>education_num</th>\n",
              "      <th>marital_status</th>\n",
              "      <th>occupation</th>\n",
              "      <th>relationship</th>\n",
              "      <th>race</th>\n",
              "      <th>sex</th>\n",
              "      <th>capital_gain</th>\n",
              "      <th>capital_loss</th>\n",
              "      <th>hours_per_week</th>\n",
              "      <th>native_country</th>\n",
              "      <th>target</th>\n",
              "      <th>y</th>\n",
              "    </tr>\n",
              "  </thead>\n",
              "  <tbody>\n",
              "    <tr>\n",
              "      <th>7</th>\n",
              "      <td>52</td>\n",
              "      <td>Self-emp-not-inc</td>\n",
              "      <td>209642</td>\n",
              "      <td>HS-grad</td>\n",
              "      <td>9</td>\n",
              "      <td>Married-civ-spouse</td>\n",
              "      <td>Exec-managerial</td>\n",
              "      <td>Husband</td>\n",
              "      <td>White</td>\n",
              "      <td>Male</td>\n",
              "      <td>0</td>\n",
              "      <td>0</td>\n",
              "      <td>45</td>\n",
              "      <td>United-States</td>\n",
              "      <td>&gt;50K</td>\n",
              "      <td>1</td>\n",
              "    </tr>\n",
              "    <tr>\n",
              "      <th>8</th>\n",
              "      <td>31</td>\n",
              "      <td>Private</td>\n",
              "      <td>45781</td>\n",
              "      <td>Masters</td>\n",
              "      <td>14</td>\n",
              "      <td>Never-married</td>\n",
              "      <td>Prof-specialty</td>\n",
              "      <td>Not-in-family</td>\n",
              "      <td>White</td>\n",
              "      <td>Female</td>\n",
              "      <td>14084</td>\n",
              "      <td>0</td>\n",
              "      <td>50</td>\n",
              "      <td>United-States</td>\n",
              "      <td>&gt;50K</td>\n",
              "      <td>1</td>\n",
              "    </tr>\n",
              "    <tr>\n",
              "      <th>9</th>\n",
              "      <td>42</td>\n",
              "      <td>Private</td>\n",
              "      <td>159449</td>\n",
              "      <td>Bachelors</td>\n",
              "      <td>13</td>\n",
              "      <td>Married-civ-spouse</td>\n",
              "      <td>Exec-managerial</td>\n",
              "      <td>Husband</td>\n",
              "      <td>White</td>\n",
              "      <td>Male</td>\n",
              "      <td>5178</td>\n",
              "      <td>0</td>\n",
              "      <td>40</td>\n",
              "      <td>United-States</td>\n",
              "      <td>&gt;50K</td>\n",
              "      <td>1</td>\n",
              "    </tr>\n",
              "    <tr>\n",
              "      <th>10</th>\n",
              "      <td>37</td>\n",
              "      <td>Private</td>\n",
              "      <td>280464</td>\n",
              "      <td>Some-college</td>\n",
              "      <td>10</td>\n",
              "      <td>Married-civ-spouse</td>\n",
              "      <td>Exec-managerial</td>\n",
              "      <td>Husband</td>\n",
              "      <td>Black</td>\n",
              "      <td>Male</td>\n",
              "      <td>0</td>\n",
              "      <td>0</td>\n",
              "      <td>80</td>\n",
              "      <td>United-States</td>\n",
              "      <td>&gt;50K</td>\n",
              "      <td>1</td>\n",
              "    </tr>\n",
              "    <tr>\n",
              "      <th>11</th>\n",
              "      <td>30</td>\n",
              "      <td>State-gov</td>\n",
              "      <td>141297</td>\n",
              "      <td>Bachelors</td>\n",
              "      <td>13</td>\n",
              "      <td>Married-civ-spouse</td>\n",
              "      <td>Prof-specialty</td>\n",
              "      <td>Husband</td>\n",
              "      <td>Asian-Pac-Islander</td>\n",
              "      <td>Male</td>\n",
              "      <td>0</td>\n",
              "      <td>0</td>\n",
              "      <td>40</td>\n",
              "      <td>India</td>\n",
              "      <td>&gt;50K</td>\n",
              "      <td>1</td>\n",
              "    </tr>\n",
              "    <tr>\n",
              "      <th>...</th>\n",
              "      <td>...</td>\n",
              "      <td>...</td>\n",
              "      <td>...</td>\n",
              "      <td>...</td>\n",
              "      <td>...</td>\n",
              "      <td>...</td>\n",
              "      <td>...</td>\n",
              "      <td>...</td>\n",
              "      <td>...</td>\n",
              "      <td>...</td>\n",
              "      <td>...</td>\n",
              "      <td>...</td>\n",
              "      <td>...</td>\n",
              "      <td>...</td>\n",
              "      <td>...</td>\n",
              "      <td>...</td>\n",
              "    </tr>\n",
              "    <tr>\n",
              "      <th>32539</th>\n",
              "      <td>71</td>\n",
              "      <td>?</td>\n",
              "      <td>287372</td>\n",
              "      <td>Doctorate</td>\n",
              "      <td>16</td>\n",
              "      <td>Married-civ-spouse</td>\n",
              "      <td>?</td>\n",
              "      <td>Husband</td>\n",
              "      <td>White</td>\n",
              "      <td>Male</td>\n",
              "      <td>0</td>\n",
              "      <td>0</td>\n",
              "      <td>10</td>\n",
              "      <td>United-States</td>\n",
              "      <td>&gt;50K</td>\n",
              "      <td>1</td>\n",
              "    </tr>\n",
              "    <tr>\n",
              "      <th>32545</th>\n",
              "      <td>39</td>\n",
              "      <td>Local-gov</td>\n",
              "      <td>111499</td>\n",
              "      <td>Assoc-acdm</td>\n",
              "      <td>12</td>\n",
              "      <td>Married-civ-spouse</td>\n",
              "      <td>Adm-clerical</td>\n",
              "      <td>Wife</td>\n",
              "      <td>White</td>\n",
              "      <td>Female</td>\n",
              "      <td>0</td>\n",
              "      <td>0</td>\n",
              "      <td>20</td>\n",
              "      <td>United-States</td>\n",
              "      <td>&gt;50K</td>\n",
              "      <td>1</td>\n",
              "    </tr>\n",
              "    <tr>\n",
              "      <th>32554</th>\n",
              "      <td>53</td>\n",
              "      <td>Private</td>\n",
              "      <td>321865</td>\n",
              "      <td>Masters</td>\n",
              "      <td>14</td>\n",
              "      <td>Married-civ-spouse</td>\n",
              "      <td>Exec-managerial</td>\n",
              "      <td>Husband</td>\n",
              "      <td>White</td>\n",
              "      <td>Male</td>\n",
              "      <td>0</td>\n",
              "      <td>0</td>\n",
              "      <td>40</td>\n",
              "      <td>United-States</td>\n",
              "      <td>&gt;50K</td>\n",
              "      <td>1</td>\n",
              "    </tr>\n",
              "    <tr>\n",
              "      <th>32557</th>\n",
              "      <td>40</td>\n",
              "      <td>Private</td>\n",
              "      <td>154374</td>\n",
              "      <td>HS-grad</td>\n",
              "      <td>9</td>\n",
              "      <td>Married-civ-spouse</td>\n",
              "      <td>Machine-op-inspct</td>\n",
              "      <td>Husband</td>\n",
              "      <td>White</td>\n",
              "      <td>Male</td>\n",
              "      <td>0</td>\n",
              "      <td>0</td>\n",
              "      <td>40</td>\n",
              "      <td>United-States</td>\n",
              "      <td>&gt;50K</td>\n",
              "      <td>1</td>\n",
              "    </tr>\n",
              "    <tr>\n",
              "      <th>32560</th>\n",
              "      <td>52</td>\n",
              "      <td>Self-emp-inc</td>\n",
              "      <td>287927</td>\n",
              "      <td>HS-grad</td>\n",
              "      <td>9</td>\n",
              "      <td>Married-civ-spouse</td>\n",
              "      <td>Exec-managerial</td>\n",
              "      <td>Wife</td>\n",
              "      <td>White</td>\n",
              "      <td>Female</td>\n",
              "      <td>15024</td>\n",
              "      <td>0</td>\n",
              "      <td>40</td>\n",
              "      <td>United-States</td>\n",
              "      <td>&gt;50K</td>\n",
              "      <td>1</td>\n",
              "    </tr>\n",
              "  </tbody>\n",
              "</table>\n",
              "<p>7841 rows × 16 columns</p>\n",
              "</div>"
            ],
            "text/plain": [
              "       age          workclass  fnlwgt  ...  native_country  target  y\n",
              "7       52   Self-emp-not-inc  209642  ...   United-States    >50K  1\n",
              "8       31            Private   45781  ...   United-States    >50K  1\n",
              "9       42            Private  159449  ...   United-States    >50K  1\n",
              "10      37            Private  280464  ...   United-States    >50K  1\n",
              "11      30          State-gov  141297  ...           India    >50K  1\n",
              "...    ...                ...     ...  ...             ...     ... ..\n",
              "32539   71                  ?  287372  ...   United-States    >50K  1\n",
              "32545   39          Local-gov  111499  ...   United-States    >50K  1\n",
              "32554   53            Private  321865  ...   United-States    >50K  1\n",
              "32557   40            Private  154374  ...   United-States    >50K  1\n",
              "32560   52       Self-emp-inc  287927  ...   United-States    >50K  1\n",
              "\n",
              "[7841 rows x 16 columns]"
            ]
          },
          "metadata": {
            "tags": []
          },
          "execution_count": 18
        }
      ]
    },
    {
      "cell_type": "code",
      "metadata": {
        "id": "cPYqwVd0jAQm"
      },
      "source": [
        "df_train, df_test = train_test_split(df)\n",
        "df_train, df_val  = train_test_split(df_train, test_size=0.1)"
      ],
      "execution_count": 19,
      "outputs": []
    },
    {
      "cell_type": "markdown",
      "metadata": {
        "id": "IjD-CJDGa3Ye"
      },
      "source": [
        "# Feature Columns\n",
        "\n",
        "![](https://miro.medium.com/max/700/1*fYLBsPF_BZ0RuL0vt0CzXw.jpeg)"
      ]
    },
    {
      "cell_type": "markdown",
      "metadata": {
        "id": "LY_4DLdULkc3"
      },
      "source": [
        "## Feature Engineering"
      ]
    },
    {
      "cell_type": "markdown",
      "metadata": {
        "id": "FG78wwB9Lnjf"
      },
      "source": [
        "### Binning\n",
        "Feature Columns can automatically apply binning\n",
        "\n",
        "```python\n",
        "age        = fc.numeric_column('age')\n",
        "binned_age = fc.bucketized_column(age, boundaries=[18, 30, 50, 65, 99])\n",
        "```"
      ]
    },
    {
      "cell_type": "markdown",
      "metadata": {
        "id": "3MJ_S2peEutB"
      },
      "source": [
        "### Crossing\n",
        "Add interactions by crossing categorical features\n",
        "\n",
        "```python\n",
        "departure_id = fc.categorical_column('dep_airport')\n",
        "arrival_id   = fc.categorical_column('arr_airport')\n",
        "route = crossed_column(['dep_airport', 'arr_airport'], 50K)\n",
        "```"
      ]
    },
    {
      "cell_type": "markdown",
      "metadata": {
        "id": "ERM0EYBeURtt"
      },
      "source": [
        "### Shared Embedding\n",
        "Embeddings can be shared across multiple columns.  \n",
        "\n",
        "```python\n",
        "embed_size =\n",
        "departure_id = fc.categorical_column('dep_airport')\n",
        "arrival_id   = fc.categorical_column('arr_airport')\n",
        "airports     = fc.shared_embedding_columns([departure_id, arrival_id], dimension=10)\n",
        "```"
      ]
    },
    {
      "cell_type": "markdown",
      "metadata": {
        "id": "0Ha5jnZeUtRA"
      },
      "source": [
        "## Define"
      ]
    },
    {
      "cell_type": "markdown",
      "metadata": {
        "id": "VY4grH3o4wf9"
      },
      "source": [
        "Define the columns as numeric or categorical"
      ]
    },
    {
      "cell_type": "code",
      "metadata": {
        "id": "-g8qcTtod8ug"
      },
      "source": [
        "numeric_cols = ['age', \n",
        "                'capital_gain', \n",
        "                'capital_loss', \n",
        "                'hours_per_week']\n",
        "                \n",
        "sparse_cols  = ['workclass', \n",
        "                'education', \n",
        "                'marital_status', \n",
        "                'relationship', \n",
        "                'race', \n",
        "                'sex', \n",
        "                'occupation',\n",
        "                'native_country']"
      ],
      "execution_count": 20,
      "outputs": []
    },
    {
      "cell_type": "markdown",
      "metadata": {
        "id": "i5njnZ2p40RX"
      },
      "source": [
        "Assign columns to numeric valued or sparse encoding"
      ]
    },
    {
      "cell_type": "code",
      "metadata": {
        "id": "AZ4sAObfa3ju"
      },
      "source": [
        "real = {\n",
        "    colname : fc.numeric_column(colname) \n",
        "          for colname in numeric_cols\n",
        "}\n",
        "\n",
        "sparse = {\n",
        "      'workclass'      : fc.categorical_column_with_hash_bucket('workclass',      hash_bucket_size=1000),\n",
        "      'education'      : fc.categorical_column_with_hash_bucket('education',      hash_bucket_size=1000),\n",
        "      'marital_status' : fc.categorical_column_with_hash_bucket('marital_status', hash_bucket_size=1000),\n",
        "      'relationship'   : fc.categorical_column_with_hash_bucket('relationship',   hash_bucket_size=1000),\n",
        "      'race'           : fc.categorical_column_with_hash_bucket('race',           hash_bucket_size=1000),\n",
        "      'sex'            : fc.categorical_column_with_hash_bucket('sex',            hash_bucket_size=1000),\n",
        "      'occupation'     : fc.categorical_column_with_hash_bucket('occupation',     hash_bucket_size=1000),\n",
        "      'native_country' : fc.categorical_column_with_hash_bucket('native_country', hash_bucket_size=1000)\n",
        "}"
      ],
      "execution_count": 22,
      "outputs": []
    },
    {
      "cell_type": "markdown",
      "metadata": {
        "id": "KnejAndz47eH"
      },
      "source": [
        "Create an Input layer for each col in numerica and sparse"
      ]
    },
    {
      "cell_type": "code",
      "metadata": {
        "id": "MZK36c4d8Yi3"
      },
      "source": [
        "inputs = {\n",
        "    colname : Input(name=colname, shape=(), dtype='float32') \n",
        "          for colname in real.keys()\n",
        "}\n",
        "\n",
        "inputs.update({\n",
        "    colname : Input(name=colname, shape=(), dtype='string') \n",
        "          for colname in sparse.keys()\n",
        "})"
      ],
      "execution_count": 23,
      "outputs": []
    },
    {
      "cell_type": "markdown",
      "metadata": {
        "id": "ogXDVz2X5DJD"
      },
      "source": [
        "Wrap sparse with an indicator cols and add embeddings to our numerics"
      ]
    },
    {
      "cell_type": "code",
      "metadata": {
        "id": "vGl-MGYKfyHU"
      },
      "source": [
        "embed = {\n",
        "       'embed_{}'.format(colname) : fc.embedding_column(col, 10) \n",
        "          for colname, col in sparse.items()\n",
        "}\n",
        "real.update(embed)\n",
        "\n",
        "\n",
        "sparse = {\n",
        "    colname : fc.indicator_column(col) \n",
        "          for colname, col in sparse.items()\n",
        "}"
      ],
      "execution_count": 24,
      "outputs": []
    },
    {
      "cell_type": "markdown",
      "metadata": {
        "id": "RUkd-GaK5QfY"
      },
      "source": [
        "## Objects"
      ]
    },
    {
      "cell_type": "code",
      "metadata": {
        "id": "Yvotmb6T4bQs",
        "outputId": "0ce751e1-5ad3-4b43-90ce-ece5a009e1bc",
        "colab": {
          "base_uri": "https://localhost:8080/",
          "height": 241
        }
      },
      "source": [
        "real"
      ],
      "execution_count": 25,
      "outputs": [
        {
          "output_type": "execute_result",
          "data": {
            "text/plain": [
              "{'age': NumericColumn(key='age', shape=(1,), default_value=None, dtype=tf.float32, normalizer_fn=None),\n",
              " 'capital_gain': NumericColumn(key='capital_gain', shape=(1,), default_value=None, dtype=tf.float32, normalizer_fn=None),\n",
              " 'capital_loss': NumericColumn(key='capital_loss', shape=(1,), default_value=None, dtype=tf.float32, normalizer_fn=None),\n",
              " 'embed_education': EmbeddingColumn(categorical_column=HashedCategoricalColumn(key='education', hash_bucket_size=1000, dtype=tf.string), dimension=10, combiner='mean', initializer=<tensorflow.python.ops.init_ops.TruncatedNormal object at 0x7f2a488f1278>, ckpt_to_load_from=None, tensor_name_in_ckpt=None, max_norm=None, trainable=True, use_safe_embedding_lookup=True),\n",
              " 'embed_marital_status': EmbeddingColumn(categorical_column=HashedCategoricalColumn(key='marital_status', hash_bucket_size=1000, dtype=tf.string), dimension=10, combiner='mean', initializer=<tensorflow.python.ops.init_ops.TruncatedNormal object at 0x7f2a488f1128>, ckpt_to_load_from=None, tensor_name_in_ckpt=None, max_norm=None, trainable=True, use_safe_embedding_lookup=True),\n",
              " 'embed_native_country': EmbeddingColumn(categorical_column=HashedCategoricalColumn(key='native_country', hash_bucket_size=1000, dtype=tf.string), dimension=10, combiner='mean', initializer=<tensorflow.python.ops.init_ops.TruncatedNormal object at 0x7f2a488f13c8>, ckpt_to_load_from=None, tensor_name_in_ckpt=None, max_norm=None, trainable=True, use_safe_embedding_lookup=True),\n",
              " 'embed_occupation': EmbeddingColumn(categorical_column=HashedCategoricalColumn(key='occupation', hash_bucket_size=1000, dtype=tf.string), dimension=10, combiner='mean', initializer=<tensorflow.python.ops.init_ops.TruncatedNormal object at 0x7f2a488f1208>, ckpt_to_load_from=None, tensor_name_in_ckpt=None, max_norm=None, trainable=True, use_safe_embedding_lookup=True),\n",
              " 'embed_race': EmbeddingColumn(categorical_column=HashedCategoricalColumn(key='race', hash_bucket_size=1000, dtype=tf.string), dimension=10, combiner='mean', initializer=<tensorflow.python.ops.init_ops.TruncatedNormal object at 0x7f2a488f12e8>, ckpt_to_load_from=None, tensor_name_in_ckpt=None, max_norm=None, trainable=True, use_safe_embedding_lookup=True),\n",
              " 'embed_relationship': EmbeddingColumn(categorical_column=HashedCategoricalColumn(key='relationship', hash_bucket_size=1000, dtype=tf.string), dimension=10, combiner='mean', initializer=<tensorflow.python.ops.init_ops.TruncatedNormal object at 0x7f2a488f1518>, ckpt_to_load_from=None, tensor_name_in_ckpt=None, max_norm=None, trainable=True, use_safe_embedding_lookup=True),\n",
              " 'embed_sex': EmbeddingColumn(categorical_column=HashedCategoricalColumn(key='sex', hash_bucket_size=1000, dtype=tf.string), dimension=10, combiner='mean', initializer=<tensorflow.python.ops.init_ops.TruncatedNormal object at 0x7f2a488f1198>, ckpt_to_load_from=None, tensor_name_in_ckpt=None, max_norm=None, trainable=True, use_safe_embedding_lookup=True),\n",
              " 'embed_workclass': EmbeddingColumn(categorical_column=HashedCategoricalColumn(key='workclass', hash_bucket_size=1000, dtype=tf.string), dimension=10, combiner='mean', initializer=<tensorflow.python.ops.init_ops.TruncatedNormal object at 0x7f2a488e9ef0>, ckpt_to_load_from=None, tensor_name_in_ckpt=None, max_norm=None, trainable=True, use_safe_embedding_lookup=True),\n",
              " 'hours_per_week': NumericColumn(key='hours_per_week', shape=(1,), default_value=None, dtype=tf.float32, normalizer_fn=None)}"
            ]
          },
          "metadata": {
            "tags": []
          },
          "execution_count": 25
        }
      ]
    },
    {
      "cell_type": "code",
      "metadata": {
        "id": "yAMlDTX24e16",
        "outputId": "4d4a7b18-812d-4df8-d1e0-55f0ed6f9c47",
        "colab": {
          "base_uri": "https://localhost:8080/",
          "height": 173
        }
      },
      "source": [
        "sparse"
      ],
      "execution_count": 26,
      "outputs": [
        {
          "output_type": "execute_result",
          "data": {
            "text/plain": [
              "{'education': IndicatorColumn(categorical_column=HashedCategoricalColumn(key='education', hash_bucket_size=1000, dtype=tf.string)),\n",
              " 'marital_status': IndicatorColumn(categorical_column=HashedCategoricalColumn(key='marital_status', hash_bucket_size=1000, dtype=tf.string)),\n",
              " 'native_country': IndicatorColumn(categorical_column=HashedCategoricalColumn(key='native_country', hash_bucket_size=1000, dtype=tf.string)),\n",
              " 'occupation': IndicatorColumn(categorical_column=HashedCategoricalColumn(key='occupation', hash_bucket_size=1000, dtype=tf.string)),\n",
              " 'race': IndicatorColumn(categorical_column=HashedCategoricalColumn(key='race', hash_bucket_size=1000, dtype=tf.string)),\n",
              " 'relationship': IndicatorColumn(categorical_column=HashedCategoricalColumn(key='relationship', hash_bucket_size=1000, dtype=tf.string)),\n",
              " 'sex': IndicatorColumn(categorical_column=HashedCategoricalColumn(key='sex', hash_bucket_size=1000, dtype=tf.string)),\n",
              " 'workclass': IndicatorColumn(categorical_column=HashedCategoricalColumn(key='workclass', hash_bucket_size=1000, dtype=tf.string))}"
            ]
          },
          "metadata": {
            "tags": []
          },
          "execution_count": 26
        }
      ]
    },
    {
      "cell_type": "code",
      "metadata": {
        "id": "910VQqL1f35B",
        "outputId": "fee55a44-ab84-4348-f3e9-ab43632d02b6",
        "colab": {
          "base_uri": "https://localhost:8080/",
          "height": 221
        }
      },
      "source": [
        "inputs"
      ],
      "execution_count": 27,
      "outputs": [
        {
          "output_type": "execute_result",
          "data": {
            "text/plain": [
              "{'age': <tf.Tensor 'age:0' shape=(None,) dtype=float32>,\n",
              " 'capital_gain': <tf.Tensor 'capital_gain:0' shape=(None,) dtype=float32>,\n",
              " 'capital_loss': <tf.Tensor 'capital_loss:0' shape=(None,) dtype=float32>,\n",
              " 'education': <tf.Tensor 'education:0' shape=(None,) dtype=string>,\n",
              " 'hours_per_week': <tf.Tensor 'hours_per_week:0' shape=(None,) dtype=float32>,\n",
              " 'marital_status': <tf.Tensor 'marital_status:0' shape=(None,) dtype=string>,\n",
              " 'native_country': <tf.Tensor 'native_country:0' shape=(None,) dtype=string>,\n",
              " 'occupation': <tf.Tensor 'occupation:0' shape=(None,) dtype=string>,\n",
              " 'race': <tf.Tensor 'race:0' shape=(None,) dtype=string>,\n",
              " 'relationship': <tf.Tensor 'relationship:0' shape=(None,) dtype=string>,\n",
              " 'sex': <tf.Tensor 'sex:0' shape=(None,) dtype=string>,\n",
              " 'workclass': <tf.Tensor 'workclass:0' shape=(None,) dtype=string>}"
            ]
          },
          "metadata": {
            "tags": []
          },
          "execution_count": 27
        }
      ]
    },
    {
      "cell_type": "markdown",
      "metadata": {
        "id": "kyVvHPWfpeSl"
      },
      "source": [
        "# Dataset"
      ]
    },
    {
      "cell_type": "code",
      "metadata": {
        "id": "S8Tv40_qr5vI",
        "outputId": "6e1f518e-ccfc-4105-c561-011b1b17019c",
        "colab": {
          "base_uri": "https://localhost:8080/",
          "height": 306
        }
      },
      "source": [
        "df.dtypes"
      ],
      "execution_count": 28,
      "outputs": [
        {
          "output_type": "execute_result",
          "data": {
            "text/plain": [
              "age                int64\n",
              "workclass         object\n",
              "fnlwgt             int64\n",
              "education         object\n",
              "education_num      int64\n",
              "marital_status    object\n",
              "occupation        object\n",
              "relationship      object\n",
              "race              object\n",
              "sex               object\n",
              "capital_gain       int64\n",
              "capital_loss       int64\n",
              "hours_per_week     int64\n",
              "native_country    object\n",
              "target            object\n",
              "y                  int64\n",
              "dtype: object"
            ]
          },
          "metadata": {
            "tags": []
          },
          "execution_count": 28
        }
      ]
    },
    {
      "cell_type": "code",
      "metadata": {
        "id": "--VmgiqXqH3u",
        "outputId": "604a0cf5-07ac-452b-a6cd-baf0aafcc373",
        "colab": {
          "base_uri": "https://localhost:8080/",
          "height": 558
        }
      },
      "source": [
        "df"
      ],
      "execution_count": 29,
      "outputs": [
        {
          "output_type": "execute_result",
          "data": {
            "text/html": [
              "<div>\n",
              "<style scoped>\n",
              "    .dataframe tbody tr th:only-of-type {\n",
              "        vertical-align: middle;\n",
              "    }\n",
              "\n",
              "    .dataframe tbody tr th {\n",
              "        vertical-align: top;\n",
              "    }\n",
              "\n",
              "    .dataframe thead th {\n",
              "        text-align: right;\n",
              "    }\n",
              "</style>\n",
              "<table border=\"1\" class=\"dataframe\">\n",
              "  <thead>\n",
              "    <tr style=\"text-align: right;\">\n",
              "      <th></th>\n",
              "      <th>age</th>\n",
              "      <th>workclass</th>\n",
              "      <th>fnlwgt</th>\n",
              "      <th>education</th>\n",
              "      <th>education_num</th>\n",
              "      <th>marital_status</th>\n",
              "      <th>occupation</th>\n",
              "      <th>relationship</th>\n",
              "      <th>race</th>\n",
              "      <th>sex</th>\n",
              "      <th>capital_gain</th>\n",
              "      <th>capital_loss</th>\n",
              "      <th>hours_per_week</th>\n",
              "      <th>native_country</th>\n",
              "      <th>target</th>\n",
              "      <th>y</th>\n",
              "    </tr>\n",
              "  </thead>\n",
              "  <tbody>\n",
              "    <tr>\n",
              "      <th>0</th>\n",
              "      <td>39</td>\n",
              "      <td>State-gov</td>\n",
              "      <td>77516</td>\n",
              "      <td>Bachelors</td>\n",
              "      <td>13</td>\n",
              "      <td>Never-married</td>\n",
              "      <td>Adm-clerical</td>\n",
              "      <td>Not-in-family</td>\n",
              "      <td>White</td>\n",
              "      <td>Male</td>\n",
              "      <td>2174</td>\n",
              "      <td>0</td>\n",
              "      <td>40</td>\n",
              "      <td>United-States</td>\n",
              "      <td>&lt;=50K</td>\n",
              "      <td>0</td>\n",
              "    </tr>\n",
              "    <tr>\n",
              "      <th>1</th>\n",
              "      <td>50</td>\n",
              "      <td>Self-emp-not-inc</td>\n",
              "      <td>83311</td>\n",
              "      <td>Bachelors</td>\n",
              "      <td>13</td>\n",
              "      <td>Married-civ-spouse</td>\n",
              "      <td>Exec-managerial</td>\n",
              "      <td>Husband</td>\n",
              "      <td>White</td>\n",
              "      <td>Male</td>\n",
              "      <td>0</td>\n",
              "      <td>0</td>\n",
              "      <td>13</td>\n",
              "      <td>United-States</td>\n",
              "      <td>&lt;=50K</td>\n",
              "      <td>0</td>\n",
              "    </tr>\n",
              "    <tr>\n",
              "      <th>2</th>\n",
              "      <td>38</td>\n",
              "      <td>Private</td>\n",
              "      <td>215646</td>\n",
              "      <td>HS-grad</td>\n",
              "      <td>9</td>\n",
              "      <td>Divorced</td>\n",
              "      <td>Handlers-cleaners</td>\n",
              "      <td>Not-in-family</td>\n",
              "      <td>White</td>\n",
              "      <td>Male</td>\n",
              "      <td>0</td>\n",
              "      <td>0</td>\n",
              "      <td>40</td>\n",
              "      <td>United-States</td>\n",
              "      <td>&lt;=50K</td>\n",
              "      <td>0</td>\n",
              "    </tr>\n",
              "    <tr>\n",
              "      <th>3</th>\n",
              "      <td>53</td>\n",
              "      <td>Private</td>\n",
              "      <td>234721</td>\n",
              "      <td>11th</td>\n",
              "      <td>7</td>\n",
              "      <td>Married-civ-spouse</td>\n",
              "      <td>Handlers-cleaners</td>\n",
              "      <td>Husband</td>\n",
              "      <td>Black</td>\n",
              "      <td>Male</td>\n",
              "      <td>0</td>\n",
              "      <td>0</td>\n",
              "      <td>40</td>\n",
              "      <td>United-States</td>\n",
              "      <td>&lt;=50K</td>\n",
              "      <td>0</td>\n",
              "    </tr>\n",
              "    <tr>\n",
              "      <th>4</th>\n",
              "      <td>28</td>\n",
              "      <td>Private</td>\n",
              "      <td>338409</td>\n",
              "      <td>Bachelors</td>\n",
              "      <td>13</td>\n",
              "      <td>Married-civ-spouse</td>\n",
              "      <td>Prof-specialty</td>\n",
              "      <td>Wife</td>\n",
              "      <td>Black</td>\n",
              "      <td>Female</td>\n",
              "      <td>0</td>\n",
              "      <td>0</td>\n",
              "      <td>40</td>\n",
              "      <td>Cuba</td>\n",
              "      <td>&lt;=50K</td>\n",
              "      <td>0</td>\n",
              "    </tr>\n",
              "    <tr>\n",
              "      <th>...</th>\n",
              "      <td>...</td>\n",
              "      <td>...</td>\n",
              "      <td>...</td>\n",
              "      <td>...</td>\n",
              "      <td>...</td>\n",
              "      <td>...</td>\n",
              "      <td>...</td>\n",
              "      <td>...</td>\n",
              "      <td>...</td>\n",
              "      <td>...</td>\n",
              "      <td>...</td>\n",
              "      <td>...</td>\n",
              "      <td>...</td>\n",
              "      <td>...</td>\n",
              "      <td>...</td>\n",
              "      <td>...</td>\n",
              "    </tr>\n",
              "    <tr>\n",
              "      <th>32556</th>\n",
              "      <td>27</td>\n",
              "      <td>Private</td>\n",
              "      <td>257302</td>\n",
              "      <td>Assoc-acdm</td>\n",
              "      <td>12</td>\n",
              "      <td>Married-civ-spouse</td>\n",
              "      <td>Tech-support</td>\n",
              "      <td>Wife</td>\n",
              "      <td>White</td>\n",
              "      <td>Female</td>\n",
              "      <td>0</td>\n",
              "      <td>0</td>\n",
              "      <td>38</td>\n",
              "      <td>United-States</td>\n",
              "      <td>&lt;=50K</td>\n",
              "      <td>0</td>\n",
              "    </tr>\n",
              "    <tr>\n",
              "      <th>32557</th>\n",
              "      <td>40</td>\n",
              "      <td>Private</td>\n",
              "      <td>154374</td>\n",
              "      <td>HS-grad</td>\n",
              "      <td>9</td>\n",
              "      <td>Married-civ-spouse</td>\n",
              "      <td>Machine-op-inspct</td>\n",
              "      <td>Husband</td>\n",
              "      <td>White</td>\n",
              "      <td>Male</td>\n",
              "      <td>0</td>\n",
              "      <td>0</td>\n",
              "      <td>40</td>\n",
              "      <td>United-States</td>\n",
              "      <td>&gt;50K</td>\n",
              "      <td>1</td>\n",
              "    </tr>\n",
              "    <tr>\n",
              "      <th>32558</th>\n",
              "      <td>58</td>\n",
              "      <td>Private</td>\n",
              "      <td>151910</td>\n",
              "      <td>HS-grad</td>\n",
              "      <td>9</td>\n",
              "      <td>Widowed</td>\n",
              "      <td>Adm-clerical</td>\n",
              "      <td>Unmarried</td>\n",
              "      <td>White</td>\n",
              "      <td>Female</td>\n",
              "      <td>0</td>\n",
              "      <td>0</td>\n",
              "      <td>40</td>\n",
              "      <td>United-States</td>\n",
              "      <td>&lt;=50K</td>\n",
              "      <td>0</td>\n",
              "    </tr>\n",
              "    <tr>\n",
              "      <th>32559</th>\n",
              "      <td>22</td>\n",
              "      <td>Private</td>\n",
              "      <td>201490</td>\n",
              "      <td>HS-grad</td>\n",
              "      <td>9</td>\n",
              "      <td>Never-married</td>\n",
              "      <td>Adm-clerical</td>\n",
              "      <td>Own-child</td>\n",
              "      <td>White</td>\n",
              "      <td>Male</td>\n",
              "      <td>0</td>\n",
              "      <td>0</td>\n",
              "      <td>20</td>\n",
              "      <td>United-States</td>\n",
              "      <td>&lt;=50K</td>\n",
              "      <td>0</td>\n",
              "    </tr>\n",
              "    <tr>\n",
              "      <th>32560</th>\n",
              "      <td>52</td>\n",
              "      <td>Self-emp-inc</td>\n",
              "      <td>287927</td>\n",
              "      <td>HS-grad</td>\n",
              "      <td>9</td>\n",
              "      <td>Married-civ-spouse</td>\n",
              "      <td>Exec-managerial</td>\n",
              "      <td>Wife</td>\n",
              "      <td>White</td>\n",
              "      <td>Female</td>\n",
              "      <td>15024</td>\n",
              "      <td>0</td>\n",
              "      <td>40</td>\n",
              "      <td>United-States</td>\n",
              "      <td>&gt;50K</td>\n",
              "      <td>1</td>\n",
              "    </tr>\n",
              "  </tbody>\n",
              "</table>\n",
              "<p>32561 rows × 16 columns</p>\n",
              "</div>"
            ],
            "text/plain": [
              "       age          workclass  fnlwgt  ...  native_country  target  y\n",
              "0       39          State-gov   77516  ...   United-States   <=50K  0\n",
              "1       50   Self-emp-not-inc   83311  ...   United-States   <=50K  0\n",
              "2       38            Private  215646  ...   United-States   <=50K  0\n",
              "3       53            Private  234721  ...   United-States   <=50K  0\n",
              "4       28            Private  338409  ...            Cuba   <=50K  0\n",
              "...    ...                ...     ...  ...             ...     ... ..\n",
              "32556   27            Private  257302  ...   United-States   <=50K  0\n",
              "32557   40            Private  154374  ...   United-States    >50K  1\n",
              "32558   58            Private  151910  ...   United-States   <=50K  0\n",
              "32559   22            Private  201490  ...   United-States   <=50K  0\n",
              "32560   52       Self-emp-inc  287927  ...   United-States    >50K  1\n",
              "\n",
              "[32561 rows x 16 columns]"
            ]
          },
          "metadata": {
            "tags": []
          },
          "execution_count": 29
        }
      ]
    },
    {
      "cell_type": "code",
      "metadata": {
        "id": "sZpbUYtBsCRd"
      },
      "source": [
        "def to_dataset(df, shuffle=True, batch_size=32):\n",
        "  dataframe = df.copy()\n",
        "  labels = dataframe.pop('y')\n",
        "  \n",
        "  ds = tf.data.Dataset.from_tensor_slices((dict(dataframe), labels))\n",
        "  \n",
        "  if shuffle:\n",
        "    ds = ds.shuffle(buffer_size=len(dataframe))\n",
        "  ds = ds.batch(batch_size)\n",
        "  \n",
        "  return ds"
      ],
      "execution_count": 30,
      "outputs": []
    },
    {
      "cell_type": "code",
      "metadata": {
        "id": "YdYFf30KpgAv"
      },
      "source": [
        "cols = ['y'] + numeric_cols + sparse_cols\n",
        "dataset_train = to_dataset(df_train[cols])\n",
        "dataset_val   = to_dataset(df_val[cols],  shuffle=False)\n",
        "dataset_test  = to_dataset(df_test[cols], shuffle=False)"
      ],
      "execution_count": 31,
      "outputs": []
    },
    {
      "cell_type": "markdown",
      "metadata": {
        "id": "VxO9Aprbp61a"
      },
      "source": [
        "# Parameters"
      ]
    },
    {
      "cell_type": "code",
      "metadata": {
        "id": "jdmpXnfzp9Y2"
      },
      "source": [
        "BATCH_SIZE=128\n",
        "EPOCHS=50"
      ],
      "execution_count": 32,
      "outputs": []
    },
    {
      "cell_type": "markdown",
      "metadata": {
        "id": "rQmI-Rsj8YZu"
      },
      "source": [
        "# Deep Model\n",
        "* We want our deep model to generalize\n",
        "* Using embeddings, we look for it to find similarity"
      ]
    },
    {
      "cell_type": "markdown",
      "metadata": {
        "id": "k3BRTCQAmIXS"
      },
      "source": [
        "![](https://3.bp.blogspot.com/-O6Ssu0m0_O8/V3MhQWN10AI/AAAAAAAABHE/V1PtDHKp2MQQ9jfuyHxs2HHR7Ovg5M6LQCLcB/s1600/image01.png)"
      ]
    },
    {
      "cell_type": "markdown",
      "metadata": {
        "id": "0_Lu3pILXkOF"
      },
      "source": [
        "## Model"
      ]
    },
    {
      "cell_type": "code",
      "metadata": {
        "id": "IBoJXmNNiWAt"
      },
      "source": [
        "deep = DenseFeatures(real.values())(inputs)\n",
        "deep = Dense(64, activation='relu')(deep)\n",
        "deep = Dense(16, activation='relu')(deep)\n",
        "output = Dense(1, activation='sigmoid')(deep)\n",
        "model = Model(inputs, output)"
      ],
      "execution_count": 33,
      "outputs": []
    },
    {
      "cell_type": "code",
      "metadata": {
        "id": "nbzknT8YiogE",
        "outputId": "25d1884a-2c28-4fde-b930-1ca0be133706",
        "colab": {
          "base_uri": "https://localhost:8080/",
          "height": 884
        }
      },
      "source": [
        "model.compile(optimizer='adam', loss='binary_crossentropy', metrics=['accuracy'])\n",
        "model.summary()"
      ],
      "execution_count": 34,
      "outputs": [
        {
          "output_type": "stream",
          "text": [
            "Model: \"functional_1\"\n",
            "__________________________________________________________________________________________________\n",
            "Layer (type)                    Output Shape         Param #     Connected to                     \n",
            "==================================================================================================\n",
            "age (InputLayer)                [(None,)]            0                                            \n",
            "__________________________________________________________________________________________________\n",
            "capital_gain (InputLayer)       [(None,)]            0                                            \n",
            "__________________________________________________________________________________________________\n",
            "capital_loss (InputLayer)       [(None,)]            0                                            \n",
            "__________________________________________________________________________________________________\n",
            "education (InputLayer)          [(None,)]            0                                            \n",
            "__________________________________________________________________________________________________\n",
            "hours_per_week (InputLayer)     [(None,)]            0                                            \n",
            "__________________________________________________________________________________________________\n",
            "marital_status (InputLayer)     [(None,)]            0                                            \n",
            "__________________________________________________________________________________________________\n",
            "native_country (InputLayer)     [(None,)]            0                                            \n",
            "__________________________________________________________________________________________________\n",
            "occupation (InputLayer)         [(None,)]            0                                            \n",
            "__________________________________________________________________________________________________\n",
            "race (InputLayer)               [(None,)]            0                                            \n",
            "__________________________________________________________________________________________________\n",
            "relationship (InputLayer)       [(None,)]            0                                            \n",
            "__________________________________________________________________________________________________\n",
            "sex (InputLayer)                [(None,)]            0                                            \n",
            "__________________________________________________________________________________________________\n",
            "workclass (InputLayer)          [(None,)]            0                                            \n",
            "__________________________________________________________________________________________________\n",
            "dense_features (DenseFeatures)  (None, 84)           80000       age[0][0]                        \n",
            "                                                                 capital_gain[0][0]               \n",
            "                                                                 capital_loss[0][0]               \n",
            "                                                                 education[0][0]                  \n",
            "                                                                 hours_per_week[0][0]             \n",
            "                                                                 marital_status[0][0]             \n",
            "                                                                 native_country[0][0]             \n",
            "                                                                 occupation[0][0]                 \n",
            "                                                                 race[0][0]                       \n",
            "                                                                 relationship[0][0]               \n",
            "                                                                 sex[0][0]                        \n",
            "                                                                 workclass[0][0]                  \n",
            "__________________________________________________________________________________________________\n",
            "dense (Dense)                   (None, 64)           5440        dense_features[0][0]             \n",
            "__________________________________________________________________________________________________\n",
            "dense_1 (Dense)                 (None, 16)           1040        dense[0][0]                      \n",
            "__________________________________________________________________________________________________\n",
            "dense_2 (Dense)                 (None, 1)            17          dense_1[0][0]                    \n",
            "==================================================================================================\n",
            "Total params: 86,497\n",
            "Trainable params: 86,497\n",
            "Non-trainable params: 0\n",
            "__________________________________________________________________________________________________\n"
          ],
          "name": "stdout"
        }
      ]
    },
    {
      "cell_type": "code",
      "metadata": {
        "id": "5RByO1zClPlN",
        "outputId": "b93d2450-da53-4fbd-ea2e-7fef5a10122c",
        "colab": {
          "base_uri": "https://localhost:8080/",
          "height": 872
        }
      },
      "source": [
        "tf.keras.utils.plot_model(model, show_shapes=False, rankdir='LR')"
      ],
      "execution_count": 35,
      "outputs": [
        {
          "output_type": "execute_result",
          "data": {
            "image/png": "[encoded data removed]",
            "text/plain": [
              "<IPython.core.display.Image object>"
            ]
          },
          "metadata": {
            "tags": []
          },
          "execution_count": 35
        }
      ]
    },
    {
      "cell_type": "markdown",
      "metadata": {
        "id": "q2ZPJZOMXm-6"
      },
      "source": [
        "## Train"
      ]
    },
    {
      "cell_type": "code",
      "metadata": {
        "id": "-FGKrwrpiojd",
        "outputId": "fe09a83d-3ef4-4a7a-a021-16f2caaf0482",
        "colab": {
          "base_uri": "https://localhost:8080/",
          "height": 255
        }
      },
      "source": [
        "stop = EarlyStopping(patience=3)\n",
        "history = model.fit(dataset_train, epochs=EPOCHS, batch_size=BATCH_SIZE, \n",
        "                    validation_data=dataset_val, callbacks=[stop])"
      ],
      "execution_count": 36,
      "outputs": [
        {
          "output_type": "stream",
          "text": [
            "Epoch 1/50\n",
            "687/687 [==============================] - 3s 4ms/step - loss: 1.8366 - accuracy: 0.8082 - val_loss: 0.5536 - val_accuracy: 0.8509\n",
            "Epoch 2/50\n",
            "687/687 [==============================] - 2s 3ms/step - loss: 0.5829 - accuracy: 0.8370 - val_loss: 0.5565 - val_accuracy: 0.8456\n",
            "Epoch 3/50\n",
            "687/687 [==============================] - 2s 3ms/step - loss: 0.8697 - accuracy: 0.8383 - val_loss: 1.3848 - val_accuracy: 0.8497\n",
            "Epoch 4/50\n",
            "687/687 [==============================] - 2s 3ms/step - loss: 1.0644 - accuracy: 0.8392 - val_loss: 0.5109 - val_accuracy: 0.8587\n",
            "Epoch 5/50\n",
            "687/687 [==============================] - 2s 3ms/step - loss: 0.6475 - accuracy: 0.8446 - val_loss: 0.6269 - val_accuracy: 0.8604\n",
            "Epoch 6/50\n",
            "687/687 [==============================] - 2s 3ms/step - loss: 0.8186 - accuracy: 0.8463 - val_loss: 0.6360 - val_accuracy: 0.8403\n",
            "Epoch 7/50\n",
            "687/687 [==============================] - 2s 3ms/step - loss: 0.9278 - accuracy: 0.8453 - val_loss: 0.7654 - val_accuracy: 0.8395\n"
          ],
          "name": "stdout"
        }
      ]
    },
    {
      "cell_type": "markdown",
      "metadata": {
        "id": "NZgPf3UxXoes"
      },
      "source": [
        "## Test"
      ]
    },
    {
      "cell_type": "code",
      "metadata": {
        "id": "MSKPT5JRy3EQ",
        "outputId": "40f366e8-c745-4baf-c17c-cc759ab643c6",
        "colab": {
          "base_uri": "https://localhost:8080/",
          "height": 51
        }
      },
      "source": [
        "results = model.evaluate(dataset_test)\n",
        "print(\"test loss, test acc:\", results)"
      ],
      "execution_count": 37,
      "outputs": [
        {
          "output_type": "stream",
          "text": [
            "255/255 [==============================] - 0s 2ms/step - loss: 0.7905 - accuracy: 0.8274\n",
            "test loss, test acc: [0.7904967069625854, 0.8274167776107788]\n"
          ],
          "name": "stdout"
        }
      ]
    },
    {
      "cell_type": "code",
      "metadata": {
        "id": "--wdrRVazXY7",
        "outputId": "536b4d6b-eba1-46c8-d21d-74cb4332e92f",
        "colab": {
          "base_uri": "https://localhost:8080/",
          "height": 34
        }
      },
      "source": [
        "pred = model.predict(dataset_test)\n",
        "pred_class = np.where(pred.squeeze() > 0.5, 1, 0)\n",
        "accuracy = accuracy_score(pred_class, df_test.y)\n",
        "print(f'Test Accuracy {accuracy * 100.:.2f}%')"
      ],
      "execution_count": 38,
      "outputs": [
        {
          "output_type": "stream",
          "text": [
            "Test Accuracy 82.74%\n"
          ],
          "name": "stdout"
        }
      ]
    },
    {
      "cell_type": "code",
      "metadata": {
        "id": "wY0m8wVGE9hi",
        "outputId": "c8c73b32-9d03-40e1-b2d4-ce66d6833be7",
        "colab": {
          "base_uri": "https://localhost:8080/",
          "height": 170
        }
      },
      "source": [
        "print(classification_report(pred_class, df_test.y))"
      ],
      "execution_count": 39,
      "outputs": [
        {
          "output_type": "stream",
          "text": [
            "              precision    recall  f1-score   support\n",
            "\n",
            "           0       0.96      0.84      0.89      7088\n",
            "           1       0.41      0.78      0.54      1053\n",
            "\n",
            "    accuracy                           0.83      8141\n",
            "   macro avg       0.69      0.81      0.72      8141\n",
            "weighted avg       0.89      0.83      0.85      8141\n",
            "\n"
          ],
          "name": "stdout"
        }
      ]
    },
    {
      "cell_type": "markdown",
      "metadata": {
        "id": "JXhvwb-C8Xzn"
      },
      "source": [
        "# Wide & Deep Model\n",
        "\n",
        "![](https://2.bp.blogspot.com/-wkrmRibw_GM/V3Mg3O3Q0-I/AAAAAAAABG0/Jm3Nl4-VcYIJ44dA5nSz6vpTyCKF2KWQgCKgB/s1600/image03.png)"
      ]
    },
    {
      "cell_type": "markdown",
      "metadata": {
        "id": "SsRX8CzBMkSB"
      },
      "source": [
        "## Model"
      ]
    },
    {
      "cell_type": "code",
      "metadata": {
        "id": "S30Ex3H8iEhy"
      },
      "source": [
        "def wide_and_deep_classifier(inputs, linear_feature_columns, dnn_feature_columns, dnn_hidden_units):\n",
        "    deep = DenseFeatures(dnn_feature_columns, name='Deep')(inputs)\n",
        "    for numnodes in dnn_hidden_units:\n",
        "        deep = tf.keras.layers.Dense(numnodes, activation='relu')(deep)        \n",
        "    \n",
        "    wide = DenseFeatures(linear_feature_columns, name='Wide')(inputs)\n",
        "\n",
        "    both = Concatenate()([deep, wide])\n",
        "    output = Dense(1, activation='sigmoid')(both)\n",
        "    \n",
        "    model = Model(inputs, output)\n",
        "    model.compile(optimizer='adam',\n",
        "                  loss='binary_crossentropy',\n",
        "                  metrics=['accuracy'])\n",
        "    \n",
        "    return model"
      ],
      "execution_count": 40,
      "outputs": []
    },
    {
      "cell_type": "code",
      "metadata": {
        "id": "ETgbcYDcegFl",
        "outputId": "8b004428-ff2b-4764-815e-b21cba02e19f",
        "colab": {
          "base_uri": "https://localhost:8080/",
          "height": 1000
        }
      },
      "source": [
        "model = wide_and_deep_classifier(inputs, sparse.values(), real.values(), [64, 16])\n",
        "model.summary()"
      ],
      "execution_count": 41,
      "outputs": [
        {
          "output_type": "stream",
          "text": [
            "Model: \"functional_3\"\n",
            "__________________________________________________________________________________________________\n",
            "Layer (type)                    Output Shape         Param #     Connected to                     \n",
            "==================================================================================================\n",
            "age (InputLayer)                [(None,)]            0                                            \n",
            "__________________________________________________________________________________________________\n",
            "capital_gain (InputLayer)       [(None,)]            0                                            \n",
            "__________________________________________________________________________________________________\n",
            "capital_loss (InputLayer)       [(None,)]            0                                            \n",
            "__________________________________________________________________________________________________\n",
            "education (InputLayer)          [(None,)]            0                                            \n",
            "__________________________________________________________________________________________________\n",
            "hours_per_week (InputLayer)     [(None,)]            0                                            \n",
            "__________________________________________________________________________________________________\n",
            "marital_status (InputLayer)     [(None,)]            0                                            \n",
            "__________________________________________________________________________________________________\n",
            "native_country (InputLayer)     [(None,)]            0                                            \n",
            "__________________________________________________________________________________________________\n",
            "occupation (InputLayer)         [(None,)]            0                                            \n",
            "__________________________________________________________________________________________________\n",
            "race (InputLayer)               [(None,)]            0                                            \n",
            "__________________________________________________________________________________________________\n",
            "relationship (InputLayer)       [(None,)]            0                                            \n",
            "__________________________________________________________________________________________________\n",
            "sex (InputLayer)                [(None,)]            0                                            \n",
            "__________________________________________________________________________________________________\n",
            "workclass (InputLayer)          [(None,)]            0                                            \n",
            "__________________________________________________________________________________________________\n",
            "Deep (DenseFeatures)            (None, 84)           80000       age[0][0]                        \n",
            "                                                                 capital_gain[0][0]               \n",
            "                                                                 capital_loss[0][0]               \n",
            "                                                                 education[0][0]                  \n",
            "                                                                 hours_per_week[0][0]             \n",
            "                                                                 marital_status[0][0]             \n",
            "                                                                 native_country[0][0]             \n",
            "                                                                 occupation[0][0]                 \n",
            "                                                                 race[0][0]                       \n",
            "                                                                 relationship[0][0]               \n",
            "                                                                 sex[0][0]                        \n",
            "                                                                 workclass[0][0]                  \n",
            "__________________________________________________________________________________________________\n",
            "dense_3 (Dense)                 (None, 64)           5440        Deep[0][0]                       \n",
            "__________________________________________________________________________________________________\n",
            "dense_4 (Dense)                 (None, 16)           1040        dense_3[0][0]                    \n",
            "__________________________________________________________________________________________________\n",
            "Wide (DenseFeatures)            (None, 8000)         0           age[0][0]                        \n",
            "                                                                 capital_gain[0][0]               \n",
            "                                                                 capital_loss[0][0]               \n",
            "                                                                 education[0][0]                  \n",
            "                                                                 hours_per_week[0][0]             \n",
            "                                                                 marital_status[0][0]             \n",
            "                                                                 native_country[0][0]             \n",
            "                                                                 occupation[0][0]                 \n",
            "                                                                 race[0][0]                       \n",
            "                                                                 relationship[0][0]               \n",
            "                                                                 sex[0][0]                        \n",
            "                                                                 workclass[0][0]                  \n",
            "__________________________________________________________________________________________________\n",
            "concatenate (Concatenate)       (None, 8016)         0           dense_4[0][0]                    \n",
            "                                                                 Wide[0][0]                       \n",
            "__________________________________________________________________________________________________\n",
            "dense_5 (Dense)                 (None, 1)            8017        concatenate[0][0]                \n",
            "==================================================================================================\n",
            "Total params: 94,497\n",
            "Trainable params: 94,497\n",
            "Non-trainable params: 0\n",
            "__________________________________________________________________________________________________\n"
          ],
          "name": "stdout"
        }
      ]
    },
    {
      "cell_type": "code",
      "metadata": {
        "id": "u-14IcOcDILu",
        "outputId": "8fce066f-184d-4f61-9fff-9f1e80d377d5",
        "colab": {
          "base_uri": "https://localhost:8080/",
          "height": 735
        }
      },
      "source": [
        "tf.keras.utils.plot_model(model, show_shapes=False, rankdir='LR')"
      ],
      "execution_count": 42,
      "outputs": [
        {
          "output_type": "execute_result",
          "data": {
            "image/png": "[encoded data removed]",
            "text/plain": [
              "<IPython.core.display.Image object>"
            ]
          },
          "metadata": {
            "tags": []
          },
          "execution_count": 42
        }
      ]
    },
    {
      "cell_type": "markdown",
      "metadata": {
        "id": "Ej--4Y7doFp5"
      },
      "source": [
        "## Deep\n",
        "* In Wide and Deep models we want the architecture to find relatedness / generalization\n",
        "* For deep use embeddings for categorical features in addition to numeric features"
      ]
    },
    {
      "cell_type": "code",
      "metadata": {
        "id": "EeD8HZ0coHKQ",
        "outputId": "735150da-f961-4114-b9d6-442967d8dc6e",
        "colab": {
          "base_uri": "https://localhost:8080/",
          "height": 241
        }
      },
      "source": [
        "for feature in real.values():\n",
        "  print(feature)"
      ],
      "execution_count": 43,
      "outputs": [
        {
          "output_type": "stream",
          "text": [
            "NumericColumn(key='age', shape=(1,), default_value=None, dtype=tf.float32, normalizer_fn=None)\n",
            "NumericColumn(key='capital_gain', shape=(1,), default_value=None, dtype=tf.float32, normalizer_fn=None)\n",
            "NumericColumn(key='capital_loss', shape=(1,), default_value=None, dtype=tf.float32, normalizer_fn=None)\n",
            "NumericColumn(key='hours_per_week', shape=(1,), default_value=None, dtype=tf.float32, normalizer_fn=None)\n",
            "EmbeddingColumn(categorical_column=HashedCategoricalColumn(key='workclass', hash_bucket_size=1000, dtype=tf.string), dimension=10, combiner='mean', initializer=<tensorflow.python.ops.init_ops.TruncatedNormal object at 0x7f2a488e9ef0>, ckpt_to_load_from=None, tensor_name_in_ckpt=None, max_norm=None, trainable=True, use_safe_embedding_lookup=True)\n",
            "EmbeddingColumn(categorical_column=HashedCategoricalColumn(key='education', hash_bucket_size=1000, dtype=tf.string), dimension=10, combiner='mean', initializer=<tensorflow.python.ops.init_ops.TruncatedNormal object at 0x7f2a488f1278>, ckpt_to_load_from=None, tensor_name_in_ckpt=None, max_norm=None, trainable=True, use_safe_embedding_lookup=True)\n",
            "EmbeddingColumn(categorical_column=HashedCategoricalColumn(key='marital_status', hash_bucket_size=1000, dtype=tf.string), dimension=10, combiner='mean', initializer=<tensorflow.python.ops.init_ops.TruncatedNormal object at 0x7f2a488f1128>, ckpt_to_load_from=None, tensor_name_in_ckpt=None, max_norm=None, trainable=True, use_safe_embedding_lookup=True)\n",
            "EmbeddingColumn(categorical_column=HashedCategoricalColumn(key='relationship', hash_bucket_size=1000, dtype=tf.string), dimension=10, combiner='mean', initializer=<tensorflow.python.ops.init_ops.TruncatedNormal object at 0x7f2a488f1518>, ckpt_to_load_from=None, tensor_name_in_ckpt=None, max_norm=None, trainable=True, use_safe_embedding_lookup=True)\n",
            "EmbeddingColumn(categorical_column=HashedCategoricalColumn(key='race', hash_bucket_size=1000, dtype=tf.string), dimension=10, combiner='mean', initializer=<tensorflow.python.ops.init_ops.TruncatedNormal object at 0x7f2a488f12e8>, ckpt_to_load_from=None, tensor_name_in_ckpt=None, max_norm=None, trainable=True, use_safe_embedding_lookup=True)\n",
            "EmbeddingColumn(categorical_column=HashedCategoricalColumn(key='sex', hash_bucket_size=1000, dtype=tf.string), dimension=10, combiner='mean', initializer=<tensorflow.python.ops.init_ops.TruncatedNormal object at 0x7f2a488f1198>, ckpt_to_load_from=None, tensor_name_in_ckpt=None, max_norm=None, trainable=True, use_safe_embedding_lookup=True)\n",
            "EmbeddingColumn(categorical_column=HashedCategoricalColumn(key='occupation', hash_bucket_size=1000, dtype=tf.string), dimension=10, combiner='mean', initializer=<tensorflow.python.ops.init_ops.TruncatedNormal object at 0x7f2a488f1208>, ckpt_to_load_from=None, tensor_name_in_ckpt=None, max_norm=None, trainable=True, use_safe_embedding_lookup=True)\n",
            "EmbeddingColumn(categorical_column=HashedCategoricalColumn(key='native_country', hash_bucket_size=1000, dtype=tf.string), dimension=10, combiner='mean', initializer=<tensorflow.python.ops.init_ops.TruncatedNormal object at 0x7f2a488f13c8>, ckpt_to_load_from=None, tensor_name_in_ckpt=None, max_norm=None, trainable=True, use_safe_embedding_lookup=True)\n"
          ],
          "name": "stdout"
        }
      ]
    },
    {
      "cell_type": "markdown",
      "metadata": {
        "id": "ejTGzsyonmI6"
      },
      "source": [
        "## Wide\n",
        "* For wide, we use indicator and interaction factors in a shallow network\n",
        "* Wide factors are akin to memorization where we hope to find places where the architecture is highly correlated with the outcome\n",
        "* Wide leads to easily interpretable features"
      ]
    },
    {
      "cell_type": "code",
      "metadata": {
        "id": "c39l20NGnqgf",
        "outputId": "1e37df98-5cc2-4857-938c-2fcf9d41c0cb",
        "colab": {
          "base_uri": "https://localhost:8080/",
          "height": 153
        }
      },
      "source": [
        "for feature in sparse.values():\n",
        "  print(feature)"
      ],
      "execution_count": 44,
      "outputs": [
        {
          "output_type": "stream",
          "text": [
            "IndicatorColumn(categorical_column=HashedCategoricalColumn(key='workclass', hash_bucket_size=1000, dtype=tf.string))\n",
            "IndicatorColumn(categorical_column=HashedCategoricalColumn(key='education', hash_bucket_size=1000, dtype=tf.string))\n",
            "IndicatorColumn(categorical_column=HashedCategoricalColumn(key='marital_status', hash_bucket_size=1000, dtype=tf.string))\n",
            "IndicatorColumn(categorical_column=HashedCategoricalColumn(key='relationship', hash_bucket_size=1000, dtype=tf.string))\n",
            "IndicatorColumn(categorical_column=HashedCategoricalColumn(key='race', hash_bucket_size=1000, dtype=tf.string))\n",
            "IndicatorColumn(categorical_column=HashedCategoricalColumn(key='sex', hash_bucket_size=1000, dtype=tf.string))\n",
            "IndicatorColumn(categorical_column=HashedCategoricalColumn(key='occupation', hash_bucket_size=1000, dtype=tf.string))\n",
            "IndicatorColumn(categorical_column=HashedCategoricalColumn(key='native_country', hash_bucket_size=1000, dtype=tf.string))\n"
          ],
          "name": "stdout"
        }
      ]
    },
    {
      "cell_type": "markdown",
      "metadata": {
        "id": "Y_pHksEhLjSi"
      },
      "source": [
        " ## Train"
      ]
    },
    {
      "cell_type": "code",
      "metadata": {
        "id": "nQ6S-WZOXe6u",
        "outputId": "2e68ba14-6e2a-4bdc-d76d-0c0828bfe161",
        "colab": {
          "base_uri": "https://localhost:8080/",
          "height": 527
        }
      },
      "source": [
        "stop = EarlyStopping(patience=3)\n",
        "history_wd = model.fit(dataset_train, validation_data=dataset_val,\n",
        "                       epochs=EPOCHS, batch_size=BATCH_SIZE, callbacks=[stop])"
      ],
      "execution_count": 45,
      "outputs": [
        {
          "output_type": "stream",
          "text": [
            "Epoch 1/50\n",
            "687/687 [==============================] - 5s 7ms/step - loss: 0.4123 - accuracy: 0.8186 - val_loss: 0.3433 - val_accuracy: 0.8481\n",
            "Epoch 2/50\n",
            "687/687 [==============================] - 4s 5ms/step - loss: 0.3385 - accuracy: 0.8429 - val_loss: 0.3359 - val_accuracy: 0.8489\n",
            "Epoch 3/50\n",
            "687/687 [==============================] - 4s 5ms/step - loss: 0.3268 - accuracy: 0.8488 - val_loss: 0.3179 - val_accuracy: 0.8563\n",
            "Epoch 4/50\n",
            "687/687 [==============================] - 4s 5ms/step - loss: 0.3211 - accuracy: 0.8525 - val_loss: 0.3121 - val_accuracy: 0.8649\n",
            "Epoch 5/50\n",
            "687/687 [==============================] - 4s 5ms/step - loss: 0.3188 - accuracy: 0.8531 - val_loss: 0.3169 - val_accuracy: 0.8554\n",
            "Epoch 6/50\n",
            "687/687 [==============================] - 4s 5ms/step - loss: 0.3157 - accuracy: 0.8522 - val_loss: 0.3095 - val_accuracy: 0.8559\n",
            "Epoch 7/50\n",
            "687/687 [==============================] - 4s 5ms/step - loss: 0.3146 - accuracy: 0.8547 - val_loss: 0.3102 - val_accuracy: 0.8624\n",
            "Epoch 8/50\n",
            "687/687 [==============================] - 4s 5ms/step - loss: 0.3138 - accuracy: 0.8542 - val_loss: 0.3104 - val_accuracy: 0.8612\n",
            "Epoch 9/50\n",
            "687/687 [==============================] - 4s 5ms/step - loss: 0.3117 - accuracy: 0.8558 - val_loss: 0.3088 - val_accuracy: 0.8595\n",
            "Epoch 10/50\n",
            "687/687 [==============================] - 4s 5ms/step - loss: 0.3111 - accuracy: 0.8559 - val_loss: 0.3030 - val_accuracy: 0.8640\n",
            "Epoch 11/50\n",
            "687/687 [==============================] - 4s 5ms/step - loss: 0.3102 - accuracy: 0.8557 - val_loss: 0.3118 - val_accuracy: 0.8583\n",
            "Epoch 12/50\n",
            "687/687 [==============================] - 4s 5ms/step - loss: 0.3101 - accuracy: 0.8568 - val_loss: 0.3029 - val_accuracy: 0.8649\n",
            "Epoch 13/50\n",
            "687/687 [==============================] - 4s 5ms/step - loss: 0.3081 - accuracy: 0.8566 - val_loss: 0.3054 - val_accuracy: 0.8620\n",
            "Epoch 14/50\n",
            "687/687 [==============================] - 4s 5ms/step - loss: 0.3073 - accuracy: 0.8570 - val_loss: 0.3072 - val_accuracy: 0.8628\n",
            "Epoch 15/50\n",
            "687/687 [==============================] - 4s 5ms/step - loss: 0.3073 - accuracy: 0.8571 - val_loss: 0.3034 - val_accuracy: 0.8604\n"
          ],
          "name": "stdout"
        }
      ]
    },
    {
      "cell_type": "markdown",
      "metadata": {
        "id": "ALrQ_Pv1Xqdg"
      },
      "source": [
        "## Test"
      ]
    },
    {
      "cell_type": "code",
      "metadata": {
        "id": "PZVg2afZXyYl",
        "outputId": "6eb7900b-e202-4db6-aaf7-1af40918b950",
        "colab": {
          "base_uri": "https://localhost:8080/",
          "height": 51
        }
      },
      "source": [
        "results_wd = model.evaluate(dataset_test)\n",
        "print(\"test loss, test acc:\", results_wd)"
      ],
      "execution_count": 46,
      "outputs": [
        {
          "output_type": "stream",
          "text": [
            "255/255 [==============================] - 1s 3ms/step - loss: 0.3178 - accuracy: 0.8546\n",
            "test loss, test acc: [0.3177884519100189, 0.854563295841217]\n"
          ],
          "name": "stdout"
        }
      ]
    },
    {
      "cell_type": "code",
      "metadata": {
        "id": "ZL02Ksw8DKVD",
        "outputId": "63ba1417-e6fa-4f56-e35a-d8d9eb04b60d",
        "colab": {
          "base_uri": "https://localhost:8080/",
          "height": 34
        }
      },
      "source": [
        "pred = model.predict(dataset_test)\n",
        "pred_class = np.where(pred.squeeze() > 0.5, 1, 0)\n",
        "accuracy = accuracy_score(pred_class, df_test.y)\n",
        "print(f'Test Accuracy {accuracy * 100.:.2f}%')"
      ],
      "execution_count": 47,
      "outputs": [
        {
          "output_type": "stream",
          "text": [
            "Test Accuracy 85.46%\n"
          ],
          "name": "stdout"
        }
      ]
    },
    {
      "cell_type": "code",
      "metadata": {
        "id": "RxexIplEFdrN",
        "outputId": "7d7eef19-15aa-492a-c641-79635fb900cf",
        "colab": {
          "base_uri": "https://localhost:8080/",
          "height": 170
        }
      },
      "source": [
        "print(classification_report(pred_class, df_test.y))"
      ],
      "execution_count": 48,
      "outputs": [
        {
          "output_type": "stream",
          "text": [
            "              precision    recall  f1-score   support\n",
            "\n",
            "           0       0.92      0.89      0.91      6375\n",
            "           1       0.65      0.73      0.68      1766\n",
            "\n",
            "    accuracy                           0.85      8141\n",
            "   macro avg       0.78      0.81      0.79      8141\n",
            "weighted avg       0.86      0.85      0.86      8141\n",
            "\n"
          ],
          "name": "stdout"
        }
      ]
    },
    {
      "cell_type": "markdown",
      "metadata": {
        "id": "reoCbSsMMB-e"
      },
      "source": [
        "# Wider and Deeper Model\n",
        "We take advantage of feature engineering options to build new interactions"
      ]
    },
    {
      "cell_type": "markdown",
      "metadata": {
        "id": "8zsA42bdMrP1"
      },
      "source": [
        "## Model"
      ]
    },
    {
      "cell_type": "code",
      "metadata": {
        "id": "XVAKH_6rNGBW"
      },
      "source": [
        "wider = sparse.copy()\n",
        "\n",
        "crosses = {\n",
        "    'education_x_native_country'      : fc.indicator_column(fc.crossed_column(['education', 'native_country'], 1000)),\n",
        "    'workclass_x_native_country'      : fc.indicator_column(fc.crossed_column(['workclass', 'native_country'], 1000)),\n",
        "    'marital_status_x_native_country' : fc.indicator_column(fc.crossed_column(['marital_status', 'native_country'], 1000)),\n",
        "    'relationship_x_native_country'   : fc.indicator_column(fc.crossed_column(['relationship', 'native_country'], 1000)),\n",
        "    'occupation_x_native_country'     : fc.indicator_column(fc.crossed_column(['occupation', 'native_country'], 1000)),\n",
        "    'race_x_native_country'           : fc.indicator_column(fc.crossed_column(['race', 'native_country'], 1000)),\n",
        "    'sex_x_native_country'            : fc.indicator_column(fc.crossed_column(['sex', 'native_country'], 1000)),\n",
        "    'education_x_sex'                 : fc.indicator_column(fc.crossed_column(['education', 'sex'], 1000)),\n",
        "    'workclass_x_sex'                 : fc.indicator_column(fc.crossed_column(['workclass', 'sex'], 1000)),\n",
        "    'marital_status_x_sex'            : fc.indicator_column(fc.crossed_column(['marital_status', 'sex'], 1000)),\n",
        "    'relationship_x_sex'              : fc.indicator_column(fc.crossed_column(['relationship', 'sex'], 1000)),\n",
        "    'occupation_x_sex'                : fc.indicator_column(fc.crossed_column(['occupation', 'sex'], 1000)),\n",
        "    'race_x_sex'                      : fc.indicator_column(fc.crossed_column(['race', 'sex'], 1000)),\n",
        "    'education_x_race'                : fc.indicator_column(fc.crossed_column(['education', 'race'], 1000)),\n",
        "    'workclass_x_race'                : fc.indicator_column(fc.crossed_column(['workclass', 'race'], 1000)),\n",
        "    'marital_status_x_race'           : fc.indicator_column(fc.crossed_column(['marital_status', 'race'], 1000)),\n",
        "    'relationship_x_race'             : fc.indicator_column(fc.crossed_column(['relationship', 'race'], 1000)),\n",
        "    'occupation_x_race'               : fc.indicator_column(fc.crossed_column(['occupation', 'race'], 1000)),\n",
        "    'education_x_relationship'        : fc.indicator_column(fc.crossed_column(['education', 'relationship'], 1000)),\n",
        "    'workclass_x_relationship'        : fc.indicator_column(fc.crossed_column(['workclass', 'relationship'], 1000)),\n",
        "    'marital_status_x_relationship'   : fc.indicator_column(fc.crossed_column(['marital_status', 'relationship'], 1000)),\n",
        "    'occupation_x_relationship'       : fc.indicator_column(fc.crossed_column(['occupation', 'relationship'], 1000)),\n",
        "    'education_x_occupation'          : fc.indicator_column(fc.crossed_column(['education', 'occupation'], 1000)),\n",
        "    'workclass_x_occupation'          : fc.indicator_column(fc.crossed_column(['workclass', 'occupation'], 1000)),\n",
        "    'marital_status_x_occupation'     : fc.indicator_column(fc.crossed_column(['marital_status', 'occupation'], 1000)),\n",
        "    'education_x_marital_status'      : fc.indicator_column(fc.crossed_column(['education', 'marital_status'], 1000)),\n",
        "    'workclass_x_marital_status'      : fc.indicator_column(fc.crossed_column(['workclass', 'marital_status'], 1000)),\n",
        "    'education_x_workclass'           : fc.indicator_column(fc.crossed_column(['education', 'workclass'], 1000)),\n",
        "}\n",
        "wider.update(crosses)"
      ],
      "execution_count": 49,
      "outputs": []
    },
    {
      "cell_type": "code",
      "metadata": {
        "id": "0-25Qs_DMSZK",
        "outputId": "a822eb38-c384-4937-ae58-2564fc77dc4f",
        "colab": {
          "base_uri": "https://localhost:8080/",
          "height": 629
        }
      },
      "source": [
        "for item in wider.values():\n",
        "  print(item)"
      ],
      "execution_count": 50,
      "outputs": [
        {
          "output_type": "stream",
          "text": [
            "IndicatorColumn(categorical_column=HashedCategoricalColumn(key='workclass', hash_bucket_size=1000, dtype=tf.string))\n",
            "IndicatorColumn(categorical_column=HashedCategoricalColumn(key='education', hash_bucket_size=1000, dtype=tf.string))\n",
            "IndicatorColumn(categorical_column=HashedCategoricalColumn(key='marital_status', hash_bucket_size=1000, dtype=tf.string))\n",
            "IndicatorColumn(categorical_column=HashedCategoricalColumn(key='relationship', hash_bucket_size=1000, dtype=tf.string))\n",
            "IndicatorColumn(categorical_column=HashedCategoricalColumn(key='race', hash_bucket_size=1000, dtype=tf.string))\n",
            "IndicatorColumn(categorical_column=HashedCategoricalColumn(key='sex', hash_bucket_size=1000, dtype=tf.string))\n",
            "IndicatorColumn(categorical_column=HashedCategoricalColumn(key='occupation', hash_bucket_size=1000, dtype=tf.string))\n",
            "IndicatorColumn(categorical_column=HashedCategoricalColumn(key='native_country', hash_bucket_size=1000, dtype=tf.string))\n",
            "IndicatorColumn(categorical_column=CrossedColumn(keys=('education', 'native_country'), hash_bucket_size=1000, hash_key=None))\n",
            "IndicatorColumn(categorical_column=CrossedColumn(keys=('workclass', 'native_country'), hash_bucket_size=1000, hash_key=None))\n",
            "IndicatorColumn(categorical_column=CrossedColumn(keys=('marital_status', 'native_country'), hash_bucket_size=1000, hash_key=None))\n",
            "IndicatorColumn(categorical_column=CrossedColumn(keys=('relationship', 'native_country'), hash_bucket_size=1000, hash_key=None))\n",
            "IndicatorColumn(categorical_column=CrossedColumn(keys=('occupation', 'native_country'), hash_bucket_size=1000, hash_key=None))\n",
            "IndicatorColumn(categorical_column=CrossedColumn(keys=('race', 'native_country'), hash_bucket_size=1000, hash_key=None))\n",
            "IndicatorColumn(categorical_column=CrossedColumn(keys=('sex', 'native_country'), hash_bucket_size=1000, hash_key=None))\n",
            "IndicatorColumn(categorical_column=CrossedColumn(keys=('education', 'sex'), hash_bucket_size=1000, hash_key=None))\n",
            "IndicatorColumn(categorical_column=CrossedColumn(keys=('workclass', 'sex'), hash_bucket_size=1000, hash_key=None))\n",
            "IndicatorColumn(categorical_column=CrossedColumn(keys=('marital_status', 'sex'), hash_bucket_size=1000, hash_key=None))\n",
            "IndicatorColumn(categorical_column=CrossedColumn(keys=('relationship', 'sex'), hash_bucket_size=1000, hash_key=None))\n",
            "IndicatorColumn(categorical_column=CrossedColumn(keys=('occupation', 'sex'), hash_bucket_size=1000, hash_key=None))\n",
            "IndicatorColumn(categorical_column=CrossedColumn(keys=('race', 'sex'), hash_bucket_size=1000, hash_key=None))\n",
            "IndicatorColumn(categorical_column=CrossedColumn(keys=('education', 'race'), hash_bucket_size=1000, hash_key=None))\n",
            "IndicatorColumn(categorical_column=CrossedColumn(keys=('workclass', 'race'), hash_bucket_size=1000, hash_key=None))\n",
            "IndicatorColumn(categorical_column=CrossedColumn(keys=('marital_status', 'race'), hash_bucket_size=1000, hash_key=None))\n",
            "IndicatorColumn(categorical_column=CrossedColumn(keys=('relationship', 'race'), hash_bucket_size=1000, hash_key=None))\n",
            "IndicatorColumn(categorical_column=CrossedColumn(keys=('occupation', 'race'), hash_bucket_size=1000, hash_key=None))\n",
            "IndicatorColumn(categorical_column=CrossedColumn(keys=('education', 'relationship'), hash_bucket_size=1000, hash_key=None))\n",
            "IndicatorColumn(categorical_column=CrossedColumn(keys=('workclass', 'relationship'), hash_bucket_size=1000, hash_key=None))\n",
            "IndicatorColumn(categorical_column=CrossedColumn(keys=('marital_status', 'relationship'), hash_bucket_size=1000, hash_key=None))\n",
            "IndicatorColumn(categorical_column=CrossedColumn(keys=('occupation', 'relationship'), hash_bucket_size=1000, hash_key=None))\n",
            "IndicatorColumn(categorical_column=CrossedColumn(keys=('education', 'occupation'), hash_bucket_size=1000, hash_key=None))\n",
            "IndicatorColumn(categorical_column=CrossedColumn(keys=('workclass', 'occupation'), hash_bucket_size=1000, hash_key=None))\n",
            "IndicatorColumn(categorical_column=CrossedColumn(keys=('marital_status', 'occupation'), hash_bucket_size=1000, hash_key=None))\n",
            "IndicatorColumn(categorical_column=CrossedColumn(keys=('education', 'marital_status'), hash_bucket_size=1000, hash_key=None))\n",
            "IndicatorColumn(categorical_column=CrossedColumn(keys=('workclass', 'marital_status'), hash_bucket_size=1000, hash_key=None))\n",
            "IndicatorColumn(categorical_column=CrossedColumn(keys=('education', 'workclass'), hash_bucket_size=1000, hash_key=None))\n"
          ],
          "name": "stdout"
        }
      ]
    },
    {
      "cell_type": "code",
      "metadata": {
        "id": "wHk_hLP0MNtN"
      },
      "source": [
        "def wider_and_deep_classifier(inputs, wide_feature_columns, deep_feature_columns, hidden_units):\n",
        "    deep = DenseFeatures(deep_feature_columns, name='Deep')(inputs)\n",
        "    for numnodes in hidden_units:\n",
        "        deep = tf.keras.layers.Dense(numnodes, activation='relu')(deep)        \n",
        "    \n",
        "    wide = DenseFeatures(wide_feature_columns, name='Wide')(inputs)\n",
        "\n",
        "    both = Concatenate()([deep, wide])\n",
        "\n",
        "    output = Dense(1, activation='sigmoid')(both)\n",
        "    \n",
        "    model = Model(inputs, output)\n",
        "    model.compile(optimizer='adam',\n",
        "                  loss='binary_crossentropy',\n",
        "                  metrics=['accuracy'])\n",
        "    \n",
        "    return model"
      ],
      "execution_count": 51,
      "outputs": []
    },
    {
      "cell_type": "code",
      "metadata": {
        "id": "1FGGPN7YMtz7",
        "outputId": "fe4e268b-21a3-42c0-c674-b1bc2ac1478a",
        "colab": {
          "base_uri": "https://localhost:8080/",
          "height": 1000
        }
      },
      "source": [
        "model = wider_and_deep_classifier(inputs, wider.values(), real.values(), [64, 32, 16])\n",
        "model.summary()"
      ],
      "execution_count": 52,
      "outputs": [
        {
          "output_type": "stream",
          "text": [
            "Model: \"functional_5\"\n",
            "__________________________________________________________________________________________________\n",
            "Layer (type)                    Output Shape         Param #     Connected to                     \n",
            "==================================================================================================\n",
            "age (InputLayer)                [(None,)]            0                                            \n",
            "__________________________________________________________________________________________________\n",
            "capital_gain (InputLayer)       [(None,)]            0                                            \n",
            "__________________________________________________________________________________________________\n",
            "capital_loss (InputLayer)       [(None,)]            0                                            \n",
            "__________________________________________________________________________________________________\n",
            "education (InputLayer)          [(None,)]            0                                            \n",
            "__________________________________________________________________________________________________\n",
            "hours_per_week (InputLayer)     [(None,)]            0                                            \n",
            "__________________________________________________________________________________________________\n",
            "marital_status (InputLayer)     [(None,)]            0                                            \n",
            "__________________________________________________________________________________________________\n",
            "native_country (InputLayer)     [(None,)]            0                                            \n",
            "__________________________________________________________________________________________________\n",
            "occupation (InputLayer)         [(None,)]            0                                            \n",
            "__________________________________________________________________________________________________\n",
            "race (InputLayer)               [(None,)]            0                                            \n",
            "__________________________________________________________________________________________________\n",
            "relationship (InputLayer)       [(None,)]            0                                            \n",
            "__________________________________________________________________________________________________\n",
            "sex (InputLayer)                [(None,)]            0                                            \n",
            "__________________________________________________________________________________________________\n",
            "workclass (InputLayer)          [(None,)]            0                                            \n",
            "__________________________________________________________________________________________________\n",
            "Deep (DenseFeatures)            (None, 84)           80000       age[0][0]                        \n",
            "                                                                 capital_gain[0][0]               \n",
            "                                                                 capital_loss[0][0]               \n",
            "                                                                 education[0][0]                  \n",
            "                                                                 hours_per_week[0][0]             \n",
            "                                                                 marital_status[0][0]             \n",
            "                                                                 native_country[0][0]             \n",
            "                                                                 occupation[0][0]                 \n",
            "                                                                 race[0][0]                       \n",
            "                                                                 relationship[0][0]               \n",
            "                                                                 sex[0][0]                        \n",
            "                                                                 workclass[0][0]                  \n",
            "__________________________________________________________________________________________________\n",
            "dense_6 (Dense)                 (None, 64)           5440        Deep[0][0]                       \n",
            "__________________________________________________________________________________________________\n",
            "dense_7 (Dense)                 (None, 32)           2080        dense_6[0][0]                    \n",
            "__________________________________________________________________________________________________\n",
            "dense_8 (Dense)                 (None, 16)           528         dense_7[0][0]                    \n",
            "__________________________________________________________________________________________________\n",
            "Wide (DenseFeatures)            (None, 36000)        0           age[0][0]                        \n",
            "                                                                 capital_gain[0][0]               \n",
            "                                                                 capital_loss[0][0]               \n",
            "                                                                 education[0][0]                  \n",
            "                                                                 hours_per_week[0][0]             \n",
            "                                                                 marital_status[0][0]             \n",
            "                                                                 native_country[0][0]             \n",
            "                                                                 occupation[0][0]                 \n",
            "                                                                 race[0][0]                       \n",
            "                                                                 relationship[0][0]               \n",
            "                                                                 sex[0][0]                        \n",
            "                                                                 workclass[0][0]                  \n",
            "__________________________________________________________________________________________________\n",
            "concatenate_1 (Concatenate)     (None, 36016)        0           dense_8[0][0]                    \n",
            "                                                                 Wide[0][0]                       \n",
            "__________________________________________________________________________________________________\n",
            "dense_9 (Dense)                 (None, 1)            36017       concatenate_1[0][0]              \n",
            "==================================================================================================\n",
            "Total params: 124,065\n",
            "Trainable params: 124,065\n",
            "Non-trainable params: 0\n",
            "__________________________________________________________________________________________________\n"
          ],
          "name": "stdout"
        }
      ]
    },
    {
      "cell_type": "code",
      "metadata": {
        "id": "yo097KoWOPnb",
        "outputId": "4dc1ae6d-865c-4f8b-f84f-5a77170170e2",
        "colab": {
          "base_uri": "https://localhost:8080/",
          "height": 637
        }
      },
      "source": [
        "tf.keras.utils.plot_model(model, show_shapes=False, rankdir='LR')"
      ],
      "execution_count": 53,
      "outputs": [
        {
          "output_type": "execute_result",
          "data": {
            "image/png": "[encoded data removed]",
            "text/plain": [
              "<IPython.core.display.Image object>"
            ]
          },
          "metadata": {
            "tags": []
          },
          "execution_count": 53
        }
      ]
    },
    {
      "cell_type": "markdown",
      "metadata": {
        "id": "xlKBb_bWRGnL"
      },
      "source": [
        "## Train"
      ]
    },
    {
      "cell_type": "code",
      "metadata": {
        "id": "jwbwjzYYRIAy",
        "outputId": "a12739d2-a1dd-462f-8f32-c6795e9f0be7",
        "colab": {
          "base_uri": "https://localhost:8080/",
          "height": 275
        }
      },
      "source": [
        "stop = EarlyStopping(patience=3)\n",
        "history_wider = model.fit(dataset_train, validation_data=dataset_val,\n",
        "                          epochs=EPOCHS, batch_size=BATCH_SIZE, callbacks=[stop])"
      ],
      "execution_count": 54,
      "outputs": [
        {
          "output_type": "stream",
          "text": [
            "Epoch 1/50\n",
            "687/687 [==============================] - 8s 12ms/step - loss: 0.3700 - accuracy: 0.8356 - val_loss: 0.3180 - val_accuracy: 0.8600\n",
            "Epoch 2/50\n",
            "687/687 [==============================] - 7s 11ms/step - loss: 0.3174 - accuracy: 0.8522 - val_loss: 0.3075 - val_accuracy: 0.8632\n",
            "Epoch 3/50\n",
            "687/687 [==============================] - 7s 10ms/step - loss: 0.3100 - accuracy: 0.8546 - val_loss: 0.3079 - val_accuracy: 0.8620\n",
            "Epoch 4/50\n",
            "687/687 [==============================] - 7s 10ms/step - loss: 0.3082 - accuracy: 0.8567 - val_loss: 0.3045 - val_accuracy: 0.8628\n",
            "Epoch 5/50\n",
            "687/687 [==============================] - 7s 11ms/step - loss: 0.3037 - accuracy: 0.8597 - val_loss: 0.3151 - val_accuracy: 0.8554\n",
            "Epoch 6/50\n",
            "687/687 [==============================] - 7s 11ms/step - loss: 0.3005 - accuracy: 0.8605 - val_loss: 0.3055 - val_accuracy: 0.8649\n",
            "Epoch 7/50\n",
            "687/687 [==============================] - 7s 11ms/step - loss: 0.2984 - accuracy: 0.8605 - val_loss: 0.3062 - val_accuracy: 0.8583\n"
          ],
          "name": "stdout"
        }
      ]
    },
    {
      "cell_type": "markdown",
      "metadata": {
        "id": "nxk2fe8eRLK9"
      },
      "source": [
        "## Test"
      ]
    },
    {
      "cell_type": "code",
      "metadata": {
        "id": "t-JKojK8RRyb",
        "outputId": "2de8b789-ba27-447a-dbcf-6406b02984aa",
        "colab": {
          "base_uri": "https://localhost:8080/",
          "height": 51
        }
      },
      "source": [
        "results_wider = model.evaluate(dataset_test)\n",
        "print(\"test loss, test acc:\", results_wd)"
      ],
      "execution_count": 55,
      "outputs": [
        {
          "output_type": "stream",
          "text": [
            "255/255 [==============================] - 2s 7ms/step - loss: 0.3152 - accuracy: 0.8525\n",
            "test loss, test acc: [0.3177884519100189, 0.854563295841217]\n"
          ],
          "name": "stdout"
        }
      ]
    },
    {
      "cell_type": "code",
      "metadata": {
        "id": "2qJJeuMwRRyh",
        "outputId": "3b6760e2-7c0b-4eeb-ce8b-230046ad27de",
        "colab": {
          "base_uri": "https://localhost:8080/",
          "height": 34
        }
      },
      "source": [
        "pred = model.predict(dataset_test)\n",
        "pred_class = np.where(pred.squeeze() > 0.5, 1, 0)\n",
        "accuracy = accuracy_score(pred_class, df_test.y)\n",
        "print(f'Test Accuracy {accuracy * 100.:.2f}%')"
      ],
      "execution_count": 56,
      "outputs": [
        {
          "output_type": "stream",
          "text": [
            "Test Accuracy 85.25%\n"
          ],
          "name": "stdout"
        }
      ]
    },
    {
      "cell_type": "code",
      "metadata": {
        "id": "q4N4_7VtRRyl",
        "outputId": "cceeda3f-8db4-4077-90f6-6d79b0b696ba",
        "colab": {
          "base_uri": "https://localhost:8080/",
          "height": 170
        }
      },
      "source": [
        "print(classification_report(pred_class, df_test.y))"
      ],
      "execution_count": 57,
      "outputs": [
        {
          "output_type": "stream",
          "text": [
            "              precision    recall  f1-score   support\n",
            "\n",
            "           0       0.93      0.88      0.91      6496\n",
            "           1       0.61      0.74      0.67      1645\n",
            "\n",
            "    accuracy                           0.85      8141\n",
            "   macro avg       0.77      0.81      0.79      8141\n",
            "weighted avg       0.87      0.85      0.86      8141\n",
            "\n"
          ],
          "name": "stdout"
        }
      ]
    },
    {
      "cell_type": "markdown",
      "metadata": {
        "id": "m-Uza6Vjqgox"
      },
      "source": [
        "# Comparison"
      ]
    },
    {
      "cell_type": "code",
      "metadata": {
        "id": "uKg1nSvCqi7f",
        "outputId": "e2e94d20-6c21-43db-cd2a-4aae12453018",
        "colab": {
          "base_uri": "https://localhost:8080/",
          "height": 142
        }
      },
      "source": [
        "results_df = pd.DataFrame(columns=['Loss', 'Accuracy'])\n",
        "results_df.loc['Deep'] = results\n",
        "results_df.loc['Wide & Deep'] = results_wd\n",
        "results_df.loc['Wider'] = results_wider\n",
        "results_df"
      ],
      "execution_count": 58,
      "outputs": [
        {
          "output_type": "execute_result",
          "data": {
            "text/html": [
              "<div>\n",
              "<style scoped>\n",
              "    .dataframe tbody tr th:only-of-type {\n",
              "        vertical-align: middle;\n",
              "    }\n",
              "\n",
              "    .dataframe tbody tr th {\n",
              "        vertical-align: top;\n",
              "    }\n",
              "\n",
              "    .dataframe thead th {\n",
              "        text-align: right;\n",
              "    }\n",
              "</style>\n",
              "<table border=\"1\" class=\"dataframe\">\n",
              "  <thead>\n",
              "    <tr style=\"text-align: right;\">\n",
              "      <th></th>\n",
              "      <th>Loss</th>\n",
              "      <th>Accuracy</th>\n",
              "    </tr>\n",
              "  </thead>\n",
              "  <tbody>\n",
              "    <tr>\n",
              "      <th>Deep</th>\n",
              "      <td>0.790497</td>\n",
              "      <td>0.827417</td>\n",
              "    </tr>\n",
              "    <tr>\n",
              "      <th>Wide &amp; Deep</th>\n",
              "      <td>0.317788</td>\n",
              "      <td>0.854563</td>\n",
              "    </tr>\n",
              "    <tr>\n",
              "      <th>Wider</th>\n",
              "      <td>0.315185</td>\n",
              "      <td>0.852475</td>\n",
              "    </tr>\n",
              "  </tbody>\n",
              "</table>\n",
              "</div>"
            ],
            "text/plain": [
              "                 Loss  Accuracy\n",
              "Deep         0.790497  0.827417\n",
              "Wide & Deep  0.317788  0.854563\n",
              "Wider        0.315185  0.852475"
            ]
          },
          "metadata": {
            "tags": []
          },
          "execution_count": 58
        }
      ]
    },
    {
      "cell_type": "code",
      "metadata": {
        "id": "TkeWd-Q_US-i"
      },
      "source": [
        ""
      ],
      "execution_count": 58,
      "outputs": []
    }
  ]
}