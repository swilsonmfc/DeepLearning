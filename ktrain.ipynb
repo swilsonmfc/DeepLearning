{
  "nbformat": 4,
  "nbformat_minor": 0,
  "metadata": {
    "colab": {
      "name": "ktrain.ipynb",
      "provenance": [],
      "toc_visible": true,
      "authorship_tag": "ABX9TyMTpjab/oZY1O27FOoHAdhi",
      "include_colab_link": true
    },
    "kernelspec": {
      "name": "python3",
      "display_name": "Python 3"
    },
    "language_info": {
      "name": "python"
    }
  },
  "cells": [
    {
      "cell_type": "markdown",
      "metadata": {
        "id": "view-in-github",
        "colab_type": "text"
      },
      "source": [
        "<a href=\"https://colab.research.google.com/github/swilsonmfc/deeplearning/blob/master/ktrain.ipynb\" target=\"_parent\"><img src=\"https://colab.research.google.com/assets/colab-badge.svg\" alt=\"Open In Colab\"/></a>"
      ]
    },
    {
      "cell_type": "markdown",
      "metadata": {
        "id": "WrGm2wHeb8hF"
      },
      "source": [
        "# Ktrain\n",
        "\n",
        "![](https://lh3.googleusercontent.com/proxy/euQu_twmHKZi8mKUKNlhpt4cTCXILRa1Cxn9WM22RG7qJ1SmY-Lu7Ezat-EZ1TtJoDozfFjm1Fv0ObGC1Ec3bLVIpMz-ODHCmAeWNL85-jrH2b0luScB)"
      ]
    },
    {
      "cell_type": "markdown",
      "metadata": {
        "id": "Ue_2OzsNcAF9"
      },
      "source": [
        "# Install"
      ]
    },
    {
      "cell_type": "code",
      "metadata": {
        "colab": {
          "base_uri": "https://localhost:8080/"
        },
        "id": "DIclO2nmcDL9",
        "outputId": "f9ab23bc-334a-4c8b-f1b1-e30dc31467f8"
      },
      "source": [
        "!pip install ktrain\n",
        "!pip install shap"
      ],
      "execution_count": 1,
      "outputs": [
        {
          "output_type": "stream",
          "name": "stdout",
          "text": [
            "Collecting ktrain\n",
            "  Downloading ktrain-0.27.3.tar.gz (25.3 MB)\n",
            "\u001b[K     |████████████████████████████████| 25.3 MB 100 kB/s \n",
            "\u001b[?25hCollecting scikit-learn==0.23.2\n",
            "  Downloading scikit_learn-0.23.2-cp37-cp37m-manylinux1_x86_64.whl (6.8 MB)\n",
            "\u001b[K     |████████████████████████████████| 6.8 MB 37.0 MB/s \n",
            "\u001b[?25hRequirement already satisfied: matplotlib>=3.0.0 in /usr/local/lib/python3.7/dist-packages (from ktrain) (3.2.2)\n",
            "Requirement already satisfied: pandas>=1.0.1 in /usr/local/lib/python3.7/dist-packages (from ktrain) (1.1.5)\n",
            "Requirement already satisfied: fastprogress>=0.1.21 in /usr/local/lib/python3.7/dist-packages (from ktrain) (1.0.0)\n",
            "Requirement already satisfied: requests in /usr/local/lib/python3.7/dist-packages (from ktrain) (2.23.0)\n",
            "Requirement already satisfied: joblib in /usr/local/lib/python3.7/dist-packages (from ktrain) (1.0.1)\n",
            "Requirement already satisfied: packaging in /usr/local/lib/python3.7/dist-packages (from ktrain) (21.0)\n",
            "Requirement already satisfied: ipython in /usr/local/lib/python3.7/dist-packages (from ktrain) (5.5.0)\n",
            "Collecting langdetect\n",
            "  Downloading langdetect-1.0.9.tar.gz (981 kB)\n",
            "\u001b[K     |████████████████████████████████| 981 kB 54.7 MB/s \n",
            "\u001b[?25hRequirement already satisfied: jieba in /usr/local/lib/python3.7/dist-packages (from ktrain) (0.42.1)\n",
            "Collecting cchardet\n",
            "  Downloading cchardet-2.1.7-cp37-cp37m-manylinux2010_x86_64.whl (263 kB)\n",
            "\u001b[K     |████████████████████████████████| 263 kB 70.9 MB/s \n",
            "\u001b[?25hRequirement already satisfied: chardet in /usr/local/lib/python3.7/dist-packages (from ktrain) (3.0.4)\n",
            "Collecting syntok\n",
            "  Downloading syntok-1.3.1.tar.gz (23 kB)\n",
            "Collecting seqeval==0.0.19\n",
            "  Downloading seqeval-0.0.19.tar.gz (30 kB)\n",
            "Collecting transformers<=4.3.3,>=4.0.0\n",
            "  Downloading transformers-4.3.3-py3-none-any.whl (1.9 MB)\n",
            "\u001b[K     |████████████████████████████████| 1.9 MB 66.3 MB/s \n",
            "\u001b[?25hCollecting sentencepiece\n",
            "  Downloading sentencepiece-0.1.96-cp37-cp37m-manylinux_2_17_x86_64.manylinux2014_x86_64.whl (1.2 MB)\n",
            "\u001b[K     |████████████████████████████████| 1.2 MB 49.9 MB/s \n",
            "\u001b[?25hCollecting keras_bert>=0.86.0\n",
            "  Downloading keras-bert-0.88.0.tar.gz (26 kB)\n",
            "Requirement already satisfied: networkx>=2.3 in /usr/local/lib/python3.7/dist-packages (from ktrain) (2.6.3)\n",
            "Collecting whoosh\n",
            "  Downloading Whoosh-2.7.4-py2.py3-none-any.whl (468 kB)\n",
            "\u001b[K     |████████████████████████████████| 468 kB 20.5 MB/s \n",
            "\u001b[?25hCollecting threadpoolctl>=2.0.0\n",
            "  Downloading threadpoolctl-2.2.0-py3-none-any.whl (12 kB)\n",
            "Requirement already satisfied: scipy>=0.19.1 in /usr/local/lib/python3.7/dist-packages (from scikit-learn==0.23.2->ktrain) (1.4.1)\n",
            "Requirement already satisfied: numpy>=1.13.3 in /usr/local/lib/python3.7/dist-packages (from scikit-learn==0.23.2->ktrain) (1.19.5)\n",
            "Requirement already satisfied: Keras>=2.2.4 in /usr/local/lib/python3.7/dist-packages (from seqeval==0.0.19->ktrain) (2.6.0)\n",
            "Collecting keras-transformer>=0.39.0\n",
            "  Downloading keras-transformer-0.39.0.tar.gz (11 kB)\n",
            "Collecting keras-pos-embd>=0.12.0\n",
            "  Downloading keras-pos-embd-0.12.0.tar.gz (6.0 kB)\n",
            "Collecting keras-multi-head>=0.28.0\n",
            "  Downloading keras-multi-head-0.28.0.tar.gz (14 kB)\n",
            "Collecting keras-layer-normalization>=0.15.0\n",
            "  Downloading keras-layer-normalization-0.15.0.tar.gz (4.2 kB)\n",
            "Collecting keras-position-wise-feed-forward>=0.7.0\n",
            "  Downloading keras-position-wise-feed-forward-0.7.0.tar.gz (4.5 kB)\n",
            "Collecting keras-embed-sim>=0.9.0\n",
            "  Downloading keras-embed-sim-0.9.0.tar.gz (4.1 kB)\n",
            "Collecting keras-self-attention>=0.50.0\n",
            "  Downloading keras-self-attention-0.50.0.tar.gz (12 kB)\n",
            "Requirement already satisfied: python-dateutil>=2.1 in /usr/local/lib/python3.7/dist-packages (from matplotlib>=3.0.0->ktrain) (2.8.2)\n",
            "Requirement already satisfied: pyparsing!=2.0.4,!=2.1.2,!=2.1.6,>=2.0.1 in /usr/local/lib/python3.7/dist-packages (from matplotlib>=3.0.0->ktrain) (2.4.7)\n",
            "Requirement already satisfied: cycler>=0.10 in /usr/local/lib/python3.7/dist-packages (from matplotlib>=3.0.0->ktrain) (0.10.0)\n",
            "Requirement already satisfied: kiwisolver>=1.0.1 in /usr/local/lib/python3.7/dist-packages (from matplotlib>=3.0.0->ktrain) (1.3.2)\n",
            "Requirement already satisfied: six in /usr/local/lib/python3.7/dist-packages (from cycler>=0.10->matplotlib>=3.0.0->ktrain) (1.15.0)\n",
            "Requirement already satisfied: pytz>=2017.2 in /usr/local/lib/python3.7/dist-packages (from pandas>=1.0.1->ktrain) (2018.9)\n",
            "Requirement already satisfied: importlib-metadata in /usr/local/lib/python3.7/dist-packages (from transformers<=4.3.3,>=4.0.0->ktrain) (4.8.1)\n",
            "Requirement already satisfied: regex!=2019.12.17 in /usr/local/lib/python3.7/dist-packages (from transformers<=4.3.3,>=4.0.0->ktrain) (2019.12.20)\n",
            "Requirement already satisfied: filelock in /usr/local/lib/python3.7/dist-packages (from transformers<=4.3.3,>=4.0.0->ktrain) (3.0.12)\n",
            "Collecting sacremoses\n",
            "  Downloading sacremoses-0.0.46-py3-none-any.whl (895 kB)\n",
            "\u001b[K     |████████████████████████████████| 895 kB 46.1 MB/s \n",
            "\u001b[?25hCollecting tokenizers<0.11,>=0.10.1\n",
            "  Downloading tokenizers-0.10.3-cp37-cp37m-manylinux_2_5_x86_64.manylinux1_x86_64.manylinux_2_12_x86_64.manylinux2010_x86_64.whl (3.3 MB)\n",
            "\u001b[K     |████████████████████████████████| 3.3 MB 46.0 MB/s \n",
            "\u001b[?25hRequirement already satisfied: tqdm>=4.27 in /usr/local/lib/python3.7/dist-packages (from transformers<=4.3.3,>=4.0.0->ktrain) (4.62.3)\n",
            "Requirement already satisfied: zipp>=0.5 in /usr/local/lib/python3.7/dist-packages (from importlib-metadata->transformers<=4.3.3,>=4.0.0->ktrain) (3.5.0)\n",
            "Requirement already satisfied: typing-extensions>=3.6.4 in /usr/local/lib/python3.7/dist-packages (from importlib-metadata->transformers<=4.3.3,>=4.0.0->ktrain) (3.7.4.3)\n",
            "Requirement already satisfied: simplegeneric>0.8 in /usr/local/lib/python3.7/dist-packages (from ipython->ktrain) (0.8.1)\n",
            "Requirement already satisfied: setuptools>=18.5 in /usr/local/lib/python3.7/dist-packages (from ipython->ktrain) (57.4.0)\n",
            "Requirement already satisfied: prompt-toolkit<2.0.0,>=1.0.4 in /usr/local/lib/python3.7/dist-packages (from ipython->ktrain) (1.0.18)\n",
            "Requirement already satisfied: decorator in /usr/local/lib/python3.7/dist-packages (from ipython->ktrain) (4.4.2)\n",
            "Requirement already satisfied: pygments in /usr/local/lib/python3.7/dist-packages (from ipython->ktrain) (2.6.1)\n",
            "Requirement already satisfied: traitlets>=4.2 in /usr/local/lib/python3.7/dist-packages (from ipython->ktrain) (5.1.0)\n",
            "Requirement already satisfied: pickleshare in /usr/local/lib/python3.7/dist-packages (from ipython->ktrain) (0.7.5)\n",
            "Requirement already satisfied: pexpect in /usr/local/lib/python3.7/dist-packages (from ipython->ktrain) (4.8.0)\n",
            "Requirement already satisfied: wcwidth in /usr/local/lib/python3.7/dist-packages (from prompt-toolkit<2.0.0,>=1.0.4->ipython->ktrain) (0.2.5)\n",
            "Requirement already satisfied: ptyprocess>=0.5 in /usr/local/lib/python3.7/dist-packages (from pexpect->ipython->ktrain) (0.7.0)\n",
            "Requirement already satisfied: certifi>=2017.4.17 in /usr/local/lib/python3.7/dist-packages (from requests->ktrain) (2021.5.30)\n",
            "Requirement already satisfied: urllib3!=1.25.0,!=1.25.1,<1.26,>=1.21.1 in /usr/local/lib/python3.7/dist-packages (from requests->ktrain) (1.24.3)\n",
            "Requirement already satisfied: idna<3,>=2.5 in /usr/local/lib/python3.7/dist-packages (from requests->ktrain) (2.10)\n",
            "Requirement already satisfied: click in /usr/local/lib/python3.7/dist-packages (from sacremoses->transformers<=4.3.3,>=4.0.0->ktrain) (7.1.2)\n",
            "Building wheels for collected packages: ktrain, seqeval, keras-bert, keras-transformer, keras-embed-sim, keras-layer-normalization, keras-multi-head, keras-pos-embd, keras-position-wise-feed-forward, keras-self-attention, langdetect, syntok\n",
            "  Building wheel for ktrain (setup.py) ... \u001b[?25l\u001b[?25hdone\n",
            "  Created wheel for ktrain: filename=ktrain-0.27.3-py3-none-any.whl size=25283131 sha256=56aca241538fbcbfadb30bcf73ec9a579ac8c2fd29d9ec542cea97acab90afd0\n",
            "  Stored in directory: /root/.cache/pip/wheels/3c/ef/e1/7da805d8a5944e8a3ac0553831d832c00b1800b848939849cb\n",
            "  Building wheel for seqeval (setup.py) ... \u001b[?25l\u001b[?25hdone\n",
            "  Created wheel for seqeval: filename=seqeval-0.0.19-py3-none-any.whl size=9929 sha256=848d838b92e114c26a53d922af661ef374ff637092da5721af9368c84deed5d5\n",
            "  Stored in directory: /root/.cache/pip/wheels/f5/ac/f1/4e13d7aff05c722d142b7d20a88ad63f9aab11b895411241a4\n",
            "  Building wheel for keras-bert (setup.py) ... \u001b[?25l\u001b[?25hdone\n",
            "  Created wheel for keras-bert: filename=keras_bert-0.88.0-py3-none-any.whl size=34204 sha256=aacc0bf8658d2b8e74ea1bb3921d2d97bb618659573cc8f2273b7b5c70f9c31d\n",
            "  Stored in directory: /root/.cache/pip/wheels/a2/90/cd/c038f2366929a3a5e3414a303b673e10235e802d871d29a835\n",
            "  Building wheel for keras-transformer (setup.py) ... \u001b[?25l\u001b[?25hdone\n",
            "  Created wheel for keras-transformer: filename=keras_transformer-0.39.0-py3-none-any.whl size=12842 sha256=b6522f55590de3f2e8bfe57727b362ff861ee76c7aada5aca2147dd197df4eec\n",
            "  Stored in directory: /root/.cache/pip/wheels/bc/01/e0/5a1a14bed6726f2ed73f7917d2d2c2d4081d2c88426dea07ce\n",
            "  Building wheel for keras-embed-sim (setup.py) ... \u001b[?25l\u001b[?25hdone\n",
            "  Created wheel for keras-embed-sim: filename=keras_embed_sim-0.9.0-py3-none-any.whl size=4504 sha256=dc53edea8f05ae64fdf4ff4ae8c07d9c4c949b8c3d16037b3bebbaf978f254ba\n",
            "  Stored in directory: /root/.cache/pip/wheels/a8/1e/d2/9bc15513dd2f8b9de3e628b3aa9d2de49e721deef6bbd1497e\n",
            "  Building wheel for keras-layer-normalization (setup.py) ... \u001b[?25l\u001b[?25hdone\n",
            "  Created wheel for keras-layer-normalization: filename=keras_layer_normalization-0.15.0-py3-none-any.whl size=5224 sha256=3aa219928aac025cd77a194d855347c08ba82742793023a8cc35bff499d14424\n",
            "  Stored in directory: /root/.cache/pip/wheels/4d/be/fe/55422f77ac11fe6ddcb471198038de8a26b5a4dd1557883c1e\n",
            "  Building wheel for keras-multi-head (setup.py) ... \u001b[?25l\u001b[?25hdone\n",
            "  Created wheel for keras-multi-head: filename=keras_multi_head-0.28.0-py3-none-any.whl size=15559 sha256=1be7b022bb45b4dbad092c16ceb3375b5987af33e182bc86d1b38764d1a6384e\n",
            "  Stored in directory: /root/.cache/pip/wheels/79/4a/ea/9503ab5a02201dfb8635ba2cc8f30844661623c684a5b44472\n",
            "  Building wheel for keras-pos-embd (setup.py) ... \u001b[?25l\u001b[?25hdone\n",
            "  Created wheel for keras-pos-embd: filename=keras_pos_embd-0.12.0-py3-none-any.whl size=7469 sha256=d2d9508c8dcc2f247d45b7a391bd045980e1f7dd21831bc7e8b2ca760221094a\n",
            "  Stored in directory: /root/.cache/pip/wheels/77/99/fd/dd98f4876c3ebbef7aab0dbfbd37bca41d7db37d3a28b2cb09\n",
            "  Building wheel for keras-position-wise-feed-forward (setup.py) ... \u001b[?25l\u001b[?25hdone\n",
            "  Created wheel for keras-position-wise-feed-forward: filename=keras_position_wise_feed_forward-0.7.0-py3-none-any.whl size=5541 sha256=0353844f17bc2993fb812e4a09796bf6d46d29d558355e8b484651e0c81d3a1a\n",
            "  Stored in directory: /root/.cache/pip/wheels/2d/12/02/1ad455c4f181cda1a4e60c5445855853d5c2ea91f942586a04\n",
            "  Building wheel for keras-self-attention (setup.py) ... \u001b[?25l\u001b[?25hdone\n",
            "  Created wheel for keras-self-attention: filename=keras_self_attention-0.50.0-py3-none-any.whl size=19414 sha256=b10f4db6db9af15d7350a33df9fb6a25a3935e1a079ff8cf62c195323bc75845\n",
            "  Stored in directory: /root/.cache/pip/wheels/92/7a/a3/231bef5803298e7ec1815215bc0613239cb1e9c03c57b13c14\n",
            "  Building wheel for langdetect (setup.py) ... \u001b[?25l\u001b[?25hdone\n",
            "  Created wheel for langdetect: filename=langdetect-1.0.9-py3-none-any.whl size=993242 sha256=adbbea9ae7294e607112352d296c0a1ced976c99c9b34de011679c02c604c324\n",
            "  Stored in directory: /root/.cache/pip/wheels/c5/96/8a/f90c59ed25d75e50a8c10a1b1c2d4c402e4dacfa87f3aff36a\n",
            "  Building wheel for syntok (setup.py) ... \u001b[?25l\u001b[?25hdone\n",
            "  Created wheel for syntok: filename=syntok-1.3.1-py3-none-any.whl size=20917 sha256=d6b1ab23e9829c3a21f9004b1ddbea504ab19419ac21ef8a7c4a68041424ca01\n",
            "  Stored in directory: /root/.cache/pip/wheels/5e/c2/33/e5d7d8f2f8b0c391d76bf82b844c3151bf23a84d75d02b185f\n",
            "Successfully built ktrain seqeval keras-bert keras-transformer keras-embed-sim keras-layer-normalization keras-multi-head keras-pos-embd keras-position-wise-feed-forward keras-self-attention langdetect syntok\n",
            "Installing collected packages: keras-self-attention, keras-position-wise-feed-forward, keras-pos-embd, keras-multi-head, keras-layer-normalization, keras-embed-sim, tokenizers, threadpoolctl, sacremoses, keras-transformer, whoosh, transformers, syntok, seqeval, sentencepiece, scikit-learn, langdetect, keras-bert, cchardet, ktrain\n",
            "  Attempting uninstall: scikit-learn\n",
            "    Found existing installation: scikit-learn 0.22.2.post1\n",
            "    Uninstalling scikit-learn-0.22.2.post1:\n",
            "      Successfully uninstalled scikit-learn-0.22.2.post1\n",
            "Successfully installed cchardet-2.1.7 keras-bert-0.88.0 keras-embed-sim-0.9.0 keras-layer-normalization-0.15.0 keras-multi-head-0.28.0 keras-pos-embd-0.12.0 keras-position-wise-feed-forward-0.7.0 keras-self-attention-0.50.0 keras-transformer-0.39.0 ktrain-0.27.3 langdetect-1.0.9 sacremoses-0.0.46 scikit-learn-0.23.2 sentencepiece-0.1.96 seqeval-0.0.19 syntok-1.3.1 threadpoolctl-2.2.0 tokenizers-0.10.3 transformers-4.3.3 whoosh-2.7.4\n",
            "Collecting shap\n",
            "  Downloading shap-0.39.0.tar.gz (356 kB)\n",
            "\u001b[K     |████████████████████████████████| 356 kB 5.2 MB/s \n",
            "\u001b[?25hRequirement already satisfied: numpy in /usr/local/lib/python3.7/dist-packages (from shap) (1.19.5)\n",
            "Requirement already satisfied: scipy in /usr/local/lib/python3.7/dist-packages (from shap) (1.4.1)\n",
            "Requirement already satisfied: scikit-learn in /usr/local/lib/python3.7/dist-packages (from shap) (0.23.2)\n",
            "Requirement already satisfied: pandas in /usr/local/lib/python3.7/dist-packages (from shap) (1.1.5)\n",
            "Requirement already satisfied: tqdm>4.25.0 in /usr/local/lib/python3.7/dist-packages (from shap) (4.62.3)\n",
            "Collecting slicer==0.0.7\n",
            "  Downloading slicer-0.0.7-py3-none-any.whl (14 kB)\n",
            "Requirement already satisfied: numba in /usr/local/lib/python3.7/dist-packages (from shap) (0.51.2)\n",
            "Requirement already satisfied: cloudpickle in /usr/local/lib/python3.7/dist-packages (from shap) (1.3.0)\n",
            "Requirement already satisfied: llvmlite<0.35,>=0.34.0.dev0 in /usr/local/lib/python3.7/dist-packages (from numba->shap) (0.34.0)\n",
            "Requirement already satisfied: setuptools in /usr/local/lib/python3.7/dist-packages (from numba->shap) (57.4.0)\n",
            "Requirement already satisfied: python-dateutil>=2.7.3 in /usr/local/lib/python3.7/dist-packages (from pandas->shap) (2.8.2)\n",
            "Requirement already satisfied: pytz>=2017.2 in /usr/local/lib/python3.7/dist-packages (from pandas->shap) (2018.9)\n",
            "Requirement already satisfied: six>=1.5 in /usr/local/lib/python3.7/dist-packages (from python-dateutil>=2.7.3->pandas->shap) (1.15.0)\n",
            "Requirement already satisfied: joblib>=0.11 in /usr/local/lib/python3.7/dist-packages (from scikit-learn->shap) (1.0.1)\n",
            "Requirement already satisfied: threadpoolctl>=2.0.0 in /usr/local/lib/python3.7/dist-packages (from scikit-learn->shap) (2.2.0)\n",
            "Building wheels for collected packages: shap\n",
            "  Building wheel for shap (setup.py) ... \u001b[?25l\u001b[?25hdone\n",
            "  Created wheel for shap: filename=shap-0.39.0-cp37-cp37m-linux_x86_64.whl size=491666 sha256=f034d4d576bcb8a182f06400f3d92804deec05ea120acaeef80e00cab39b087f\n",
            "  Stored in directory: /root/.cache/pip/wheels/ca/25/8f/6ae5df62c32651cd719e972e738a8aaa4a87414c4d2b14c9c0\n",
            "Successfully built shap\n",
            "Installing collected packages: slicer, shap\n",
            "Successfully installed shap-0.39.0 slicer-0.0.7\n"
          ]
        }
      ]
    },
    {
      "cell_type": "markdown",
      "metadata": {
        "id": "2J3e_5G3cBto"
      },
      "source": [
        "# Setup"
      ]
    },
    {
      "cell_type": "code",
      "metadata": {
        "id": "bnCl9AaB_-bx"
      },
      "source": [
        "import pandas as pd\n",
        "import numpy as np\n",
        "import matplotlib.pyplot as plt\n",
        "import seaborn as sns\n",
        "\n",
        "import tensorflow as tf\n",
        "import tensorflow_datasets as tfds\n",
        "import tensorflow.keras as keras\n",
        "from tensorflow.keras.models import Sequential \n",
        "from tensorflow.keras.layers import Dense \n",
        "\n",
        "import ktrain\n",
        "from ktrain import tabular\n",
        "\n",
        "from sklearn.model_selection import train_test_split\n",
        "from sklearn.metrics import classification_report\n",
        "from sklearn.metrics import recall_score\n",
        "from sklearn.metrics import precision_score"
      ],
      "execution_count": 2,
      "outputs": []
    },
    {
      "cell_type": "markdown",
      "metadata": {
        "id": "XmIyVlo41eeu"
      },
      "source": [
        "# Ktrain Library\n",
        "* Inspired by work at FastAI\n",
        "* Low code library wrapping keras\n",
        "* https://arxiv.org/pdf/2004.10703.pdf"
      ]
    },
    {
      "cell_type": "markdown",
      "metadata": {
        "id": "dDSwQyOOcCwz"
      },
      "source": [
        "# Data"
      ]
    },
    {
      "cell_type": "markdown",
      "metadata": {
        "id": "JMIRYszatrKd"
      },
      "source": [
        "## Pull Data"
      ]
    },
    {
      "cell_type": "code",
      "metadata": {
        "colab": {
          "base_uri": "https://localhost:8080/"
        },
        "id": "Ua6wnRLdfeok",
        "outputId": "20741dc3-105b-40aa-bcfd-e843451bcd28"
      },
      "source": [
        "!wget -O credit.dat https://archive.ics.uci.edu/ml/machine-learning-databases/credit-screening/crx.data\n",
        "!wget -O names.dat https://archive.ics.uci.edu/ml/machine-learning-databases/credit-screening/credit.names"
      ],
      "execution_count": 3,
      "outputs": [
        {
          "output_type": "stream",
          "name": "stdout",
          "text": [
            "--2021-09-30 08:50:16--  https://archive.ics.uci.edu/ml/machine-learning-databases/credit-screening/crx.data\n",
            "Resolving archive.ics.uci.edu (archive.ics.uci.edu)... 128.195.10.252\n",
            "Connecting to archive.ics.uci.edu (archive.ics.uci.edu)|128.195.10.252|:443... connected.\n",
            "HTTP request sent, awaiting response... 200 OK\n",
            "Length: 32218 (31K) [application/x-httpd-php]\n",
            "Saving to: ‘credit.dat’\n",
            "\n",
            "credit.dat          100%[===================>]  31.46K  --.-KB/s    in 0.06s   \n",
            "\n",
            "2021-09-30 08:50:16 (489 KB/s) - ‘credit.dat’ saved [32218/32218]\n",
            "\n",
            "--2021-09-30 08:50:17--  https://archive.ics.uci.edu/ml/machine-learning-databases/credit-screening/credit.names\n",
            "Resolving archive.ics.uci.edu (archive.ics.uci.edu)... 128.195.10.252\n",
            "Connecting to archive.ics.uci.edu (archive.ics.uci.edu)|128.195.10.252|:443... connected.\n",
            "HTTP request sent, awaiting response... 200 OK\n",
            "Length: 522 [application/x-httpd-php]\n",
            "Saving to: ‘names.dat’\n",
            "\n",
            "names.dat           100%[===================>]     522  --.-KB/s    in 0s      \n",
            "\n",
            "2021-09-30 08:50:19 (22.5 MB/s) - ‘names.dat’ saved [522/522]\n",
            "\n"
          ]
        }
      ]
    },
    {
      "cell_type": "code",
      "metadata": {
        "colab": {
          "base_uri": "https://localhost:8080/"
        },
        "id": "MclCQwlUg891",
        "outputId": "a26a8e57-377c-47dc-fb83-d35b37492a1d"
      },
      "source": [
        "!cat names.dat"
      ],
      "execution_count": 4,
      "outputs": [
        {
          "output_type": "stream",
          "name": "stdout",
          "text": [
            "1. Title: Japanese Credit Screening (examples & domain theory)\n",
            "\n",
            "2. Source information:\n",
            "   -- Creators: Chiharu Sano \n",
            "   -- Donor: Chiharu Sano\n",
            "             csano@bonnie.ICS.UCI.EDU\n",
            "   -- Date: 3/19/92\n",
            "\n",
            "3. Past usage: \n",
            "   -- None Published\n",
            "\n",
            "4. Relevant information:\n",
            "   --  Examples represent positive and negative instances of people who were and were not \n",
            "       granted credit.\n",
            "   --  The theory was generated by talking to the individuals at a Japanese company that grants\n",
            "       credit.\n",
            "\n",
            "5. Number of instances: 125\n",
            "\n",
            "\n",
            "\n"
          ]
        }
      ]
    },
    {
      "cell_type": "code",
      "metadata": {
        "colab": {
          "base_uri": "https://localhost:8080/"
        },
        "id": "lZOYclvigl7l",
        "outputId": "e84d90c6-e082-44e0-c794-12794c274b6b"
      },
      "source": [
        "!head credit.dat"
      ],
      "execution_count": 5,
      "outputs": [
        {
          "output_type": "stream",
          "name": "stdout",
          "text": [
            "b,30.83,0,u,g,w,v,1.25,t,t,01,f,g,00202,0,+\n",
            "a,58.67,4.46,u,g,q,h,3.04,t,t,06,f,g,00043,560,+\n",
            "a,24.50,0.5,u,g,q,h,1.5,t,f,0,f,g,00280,824,+\n",
            "b,27.83,1.54,u,g,w,v,3.75,t,t,05,t,g,00100,3,+\n",
            "b,20.17,5.625,u,g,w,v,1.71,t,f,0,f,s,00120,0,+\n",
            "b,32.08,4,u,g,m,v,2.5,t,f,0,t,g,00360,0,+\n",
            "b,33.17,1.04,u,g,r,h,6.5,t,f,0,t,g,00164,31285,+\n",
            "a,22.92,11.585,u,g,cc,v,0.04,t,f,0,f,g,00080,1349,+\n",
            "b,54.42,0.5,y,p,k,h,3.96,t,f,0,f,g,00180,314,+\n",
            "b,42.50,4.915,y,p,w,v,3.165,t,f,0,t,g,00052,1442,+\n"
          ]
        }
      ]
    },
    {
      "cell_type": "markdown",
      "metadata": {
        "id": "Hqt7EkuqtohM"
      },
      "source": [
        "## Load Data"
      ]
    },
    {
      "cell_type": "code",
      "metadata": {
        "colab": {
          "base_uri": "https://localhost:8080/",
          "height": 422
        },
        "id": "5v07NGT6go0X",
        "outputId": "f33904c2-d1c8-4048-ad5a-b3a166293375"
      },
      "source": [
        "credit_df = pd.read_csv('credit.dat', header=None)\n",
        "credit_df.columns = ['CAT1',\n",
        "'NUM1',\n",
        "'NUM2',\n",
        "'CAT2',\n",
        "'CAT3', \n",
        "'CAT4',\n",
        "'CAT5',\n",
        "'NUM3',\n",
        "'CAT6',\n",
        "'CAT7',\n",
        "'NUM4',\n",
        "'CAT8',\n",
        "'CAT9',\n",
        "'NUM5',\n",
        "'NUM6',\n",
        "'TARGET'\n",
        "]\n",
        "credit_df"
      ],
      "execution_count": 6,
      "outputs": [
        {
          "output_type": "execute_result",
          "data": {
            "text/html": [
              "<div>\n",
              "<style scoped>\n",
              "    .dataframe tbody tr th:only-of-type {\n",
              "        vertical-align: middle;\n",
              "    }\n",
              "\n",
              "    .dataframe tbody tr th {\n",
              "        vertical-align: top;\n",
              "    }\n",
              "\n",
              "    .dataframe thead th {\n",
              "        text-align: right;\n",
              "    }\n",
              "</style>\n",
              "<table border=\"1\" class=\"dataframe\">\n",
              "  <thead>\n",
              "    <tr style=\"text-align: right;\">\n",
              "      <th></th>\n",
              "      <th>CAT1</th>\n",
              "      <th>NUM1</th>\n",
              "      <th>NUM2</th>\n",
              "      <th>CAT2</th>\n",
              "      <th>CAT3</th>\n",
              "      <th>CAT4</th>\n",
              "      <th>CAT5</th>\n",
              "      <th>NUM3</th>\n",
              "      <th>CAT6</th>\n",
              "      <th>CAT7</th>\n",
              "      <th>NUM4</th>\n",
              "      <th>CAT8</th>\n",
              "      <th>CAT9</th>\n",
              "      <th>NUM5</th>\n",
              "      <th>NUM6</th>\n",
              "      <th>TARGET</th>\n",
              "    </tr>\n",
              "  </thead>\n",
              "  <tbody>\n",
              "    <tr>\n",
              "      <th>0</th>\n",
              "      <td>b</td>\n",
              "      <td>30.83</td>\n",
              "      <td>0.000</td>\n",
              "      <td>u</td>\n",
              "      <td>g</td>\n",
              "      <td>w</td>\n",
              "      <td>v</td>\n",
              "      <td>1.25</td>\n",
              "      <td>t</td>\n",
              "      <td>t</td>\n",
              "      <td>1</td>\n",
              "      <td>f</td>\n",
              "      <td>g</td>\n",
              "      <td>00202</td>\n",
              "      <td>0</td>\n",
              "      <td>+</td>\n",
              "    </tr>\n",
              "    <tr>\n",
              "      <th>1</th>\n",
              "      <td>a</td>\n",
              "      <td>58.67</td>\n",
              "      <td>4.460</td>\n",
              "      <td>u</td>\n",
              "      <td>g</td>\n",
              "      <td>q</td>\n",
              "      <td>h</td>\n",
              "      <td>3.04</td>\n",
              "      <td>t</td>\n",
              "      <td>t</td>\n",
              "      <td>6</td>\n",
              "      <td>f</td>\n",
              "      <td>g</td>\n",
              "      <td>00043</td>\n",
              "      <td>560</td>\n",
              "      <td>+</td>\n",
              "    </tr>\n",
              "    <tr>\n",
              "      <th>2</th>\n",
              "      <td>a</td>\n",
              "      <td>24.50</td>\n",
              "      <td>0.500</td>\n",
              "      <td>u</td>\n",
              "      <td>g</td>\n",
              "      <td>q</td>\n",
              "      <td>h</td>\n",
              "      <td>1.50</td>\n",
              "      <td>t</td>\n",
              "      <td>f</td>\n",
              "      <td>0</td>\n",
              "      <td>f</td>\n",
              "      <td>g</td>\n",
              "      <td>00280</td>\n",
              "      <td>824</td>\n",
              "      <td>+</td>\n",
              "    </tr>\n",
              "    <tr>\n",
              "      <th>3</th>\n",
              "      <td>b</td>\n",
              "      <td>27.83</td>\n",
              "      <td>1.540</td>\n",
              "      <td>u</td>\n",
              "      <td>g</td>\n",
              "      <td>w</td>\n",
              "      <td>v</td>\n",
              "      <td>3.75</td>\n",
              "      <td>t</td>\n",
              "      <td>t</td>\n",
              "      <td>5</td>\n",
              "      <td>t</td>\n",
              "      <td>g</td>\n",
              "      <td>00100</td>\n",
              "      <td>3</td>\n",
              "      <td>+</td>\n",
              "    </tr>\n",
              "    <tr>\n",
              "      <th>4</th>\n",
              "      <td>b</td>\n",
              "      <td>20.17</td>\n",
              "      <td>5.625</td>\n",
              "      <td>u</td>\n",
              "      <td>g</td>\n",
              "      <td>w</td>\n",
              "      <td>v</td>\n",
              "      <td>1.71</td>\n",
              "      <td>t</td>\n",
              "      <td>f</td>\n",
              "      <td>0</td>\n",
              "      <td>f</td>\n",
              "      <td>s</td>\n",
              "      <td>00120</td>\n",
              "      <td>0</td>\n",
              "      <td>+</td>\n",
              "    </tr>\n",
              "    <tr>\n",
              "      <th>...</th>\n",
              "      <td>...</td>\n",
              "      <td>...</td>\n",
              "      <td>...</td>\n",
              "      <td>...</td>\n",
              "      <td>...</td>\n",
              "      <td>...</td>\n",
              "      <td>...</td>\n",
              "      <td>...</td>\n",
              "      <td>...</td>\n",
              "      <td>...</td>\n",
              "      <td>...</td>\n",
              "      <td>...</td>\n",
              "      <td>...</td>\n",
              "      <td>...</td>\n",
              "      <td>...</td>\n",
              "      <td>...</td>\n",
              "    </tr>\n",
              "    <tr>\n",
              "      <th>685</th>\n",
              "      <td>b</td>\n",
              "      <td>21.08</td>\n",
              "      <td>10.085</td>\n",
              "      <td>y</td>\n",
              "      <td>p</td>\n",
              "      <td>e</td>\n",
              "      <td>h</td>\n",
              "      <td>1.25</td>\n",
              "      <td>f</td>\n",
              "      <td>f</td>\n",
              "      <td>0</td>\n",
              "      <td>f</td>\n",
              "      <td>g</td>\n",
              "      <td>00260</td>\n",
              "      <td>0</td>\n",
              "      <td>-</td>\n",
              "    </tr>\n",
              "    <tr>\n",
              "      <th>686</th>\n",
              "      <td>a</td>\n",
              "      <td>22.67</td>\n",
              "      <td>0.750</td>\n",
              "      <td>u</td>\n",
              "      <td>g</td>\n",
              "      <td>c</td>\n",
              "      <td>v</td>\n",
              "      <td>2.00</td>\n",
              "      <td>f</td>\n",
              "      <td>t</td>\n",
              "      <td>2</td>\n",
              "      <td>t</td>\n",
              "      <td>g</td>\n",
              "      <td>00200</td>\n",
              "      <td>394</td>\n",
              "      <td>-</td>\n",
              "    </tr>\n",
              "    <tr>\n",
              "      <th>687</th>\n",
              "      <td>a</td>\n",
              "      <td>25.25</td>\n",
              "      <td>13.500</td>\n",
              "      <td>y</td>\n",
              "      <td>p</td>\n",
              "      <td>ff</td>\n",
              "      <td>ff</td>\n",
              "      <td>2.00</td>\n",
              "      <td>f</td>\n",
              "      <td>t</td>\n",
              "      <td>1</td>\n",
              "      <td>t</td>\n",
              "      <td>g</td>\n",
              "      <td>00200</td>\n",
              "      <td>1</td>\n",
              "      <td>-</td>\n",
              "    </tr>\n",
              "    <tr>\n",
              "      <th>688</th>\n",
              "      <td>b</td>\n",
              "      <td>17.92</td>\n",
              "      <td>0.205</td>\n",
              "      <td>u</td>\n",
              "      <td>g</td>\n",
              "      <td>aa</td>\n",
              "      <td>v</td>\n",
              "      <td>0.04</td>\n",
              "      <td>f</td>\n",
              "      <td>f</td>\n",
              "      <td>0</td>\n",
              "      <td>f</td>\n",
              "      <td>g</td>\n",
              "      <td>00280</td>\n",
              "      <td>750</td>\n",
              "      <td>-</td>\n",
              "    </tr>\n",
              "    <tr>\n",
              "      <th>689</th>\n",
              "      <td>b</td>\n",
              "      <td>35.00</td>\n",
              "      <td>3.375</td>\n",
              "      <td>u</td>\n",
              "      <td>g</td>\n",
              "      <td>c</td>\n",
              "      <td>h</td>\n",
              "      <td>8.29</td>\n",
              "      <td>f</td>\n",
              "      <td>f</td>\n",
              "      <td>0</td>\n",
              "      <td>t</td>\n",
              "      <td>g</td>\n",
              "      <td>00000</td>\n",
              "      <td>0</td>\n",
              "      <td>-</td>\n",
              "    </tr>\n",
              "  </tbody>\n",
              "</table>\n",
              "<p>690 rows × 16 columns</p>\n",
              "</div>"
            ],
            "text/plain": [
              "    CAT1   NUM1    NUM2 CAT2 CAT3 CAT4  ... NUM4  CAT8 CAT9   NUM5  NUM6 TARGET\n",
              "0      b  30.83   0.000    u    g    w  ...    1     f    g  00202     0      +\n",
              "1      a  58.67   4.460    u    g    q  ...    6     f    g  00043   560      +\n",
              "2      a  24.50   0.500    u    g    q  ...    0     f    g  00280   824      +\n",
              "3      b  27.83   1.540    u    g    w  ...    5     t    g  00100     3      +\n",
              "4      b  20.17   5.625    u    g    w  ...    0     f    s  00120     0      +\n",
              "..   ...    ...     ...  ...  ...  ...  ...  ...   ...  ...    ...   ...    ...\n",
              "685    b  21.08  10.085    y    p    e  ...    0     f    g  00260     0      -\n",
              "686    a  22.67   0.750    u    g    c  ...    2     t    g  00200   394      -\n",
              "687    a  25.25  13.500    y    p   ff  ...    1     t    g  00200     1      -\n",
              "688    b  17.92   0.205    u    g   aa  ...    0     f    g  00280   750      -\n",
              "689    b  35.00   3.375    u    g    c  ...    0     t    g  00000     0      -\n",
              "\n",
              "[690 rows x 16 columns]"
            ]
          },
          "metadata": {},
          "execution_count": 6
        }
      ]
    },
    {
      "cell_type": "code",
      "metadata": {
        "colab": {
          "base_uri": "https://localhost:8080/",
          "height": 205
        },
        "id": "TrAM2tjgh0R9",
        "outputId": "c81faa94-96e7-4aad-ad75-8fd884391dcb"
      },
      "source": [
        "# Convert target from + - to numeric\n",
        "credit_df['TARGET'] = np.where(credit_df.TARGET == '+', 1, 0)\n",
        "credit_df.head()"
      ],
      "execution_count": 7,
      "outputs": [
        {
          "output_type": "execute_result",
          "data": {
            "text/html": [
              "<div>\n",
              "<style scoped>\n",
              "    .dataframe tbody tr th:only-of-type {\n",
              "        vertical-align: middle;\n",
              "    }\n",
              "\n",
              "    .dataframe tbody tr th {\n",
              "        vertical-align: top;\n",
              "    }\n",
              "\n",
              "    .dataframe thead th {\n",
              "        text-align: right;\n",
              "    }\n",
              "</style>\n",
              "<table border=\"1\" class=\"dataframe\">\n",
              "  <thead>\n",
              "    <tr style=\"text-align: right;\">\n",
              "      <th></th>\n",
              "      <th>CAT1</th>\n",
              "      <th>NUM1</th>\n",
              "      <th>NUM2</th>\n",
              "      <th>CAT2</th>\n",
              "      <th>CAT3</th>\n",
              "      <th>CAT4</th>\n",
              "      <th>CAT5</th>\n",
              "      <th>NUM3</th>\n",
              "      <th>CAT6</th>\n",
              "      <th>CAT7</th>\n",
              "      <th>NUM4</th>\n",
              "      <th>CAT8</th>\n",
              "      <th>CAT9</th>\n",
              "      <th>NUM5</th>\n",
              "      <th>NUM6</th>\n",
              "      <th>TARGET</th>\n",
              "    </tr>\n",
              "  </thead>\n",
              "  <tbody>\n",
              "    <tr>\n",
              "      <th>0</th>\n",
              "      <td>b</td>\n",
              "      <td>30.83</td>\n",
              "      <td>0.000</td>\n",
              "      <td>u</td>\n",
              "      <td>g</td>\n",
              "      <td>w</td>\n",
              "      <td>v</td>\n",
              "      <td>1.25</td>\n",
              "      <td>t</td>\n",
              "      <td>t</td>\n",
              "      <td>1</td>\n",
              "      <td>f</td>\n",
              "      <td>g</td>\n",
              "      <td>00202</td>\n",
              "      <td>0</td>\n",
              "      <td>1</td>\n",
              "    </tr>\n",
              "    <tr>\n",
              "      <th>1</th>\n",
              "      <td>a</td>\n",
              "      <td>58.67</td>\n",
              "      <td>4.460</td>\n",
              "      <td>u</td>\n",
              "      <td>g</td>\n",
              "      <td>q</td>\n",
              "      <td>h</td>\n",
              "      <td>3.04</td>\n",
              "      <td>t</td>\n",
              "      <td>t</td>\n",
              "      <td>6</td>\n",
              "      <td>f</td>\n",
              "      <td>g</td>\n",
              "      <td>00043</td>\n",
              "      <td>560</td>\n",
              "      <td>1</td>\n",
              "    </tr>\n",
              "    <tr>\n",
              "      <th>2</th>\n",
              "      <td>a</td>\n",
              "      <td>24.50</td>\n",
              "      <td>0.500</td>\n",
              "      <td>u</td>\n",
              "      <td>g</td>\n",
              "      <td>q</td>\n",
              "      <td>h</td>\n",
              "      <td>1.50</td>\n",
              "      <td>t</td>\n",
              "      <td>f</td>\n",
              "      <td>0</td>\n",
              "      <td>f</td>\n",
              "      <td>g</td>\n",
              "      <td>00280</td>\n",
              "      <td>824</td>\n",
              "      <td>1</td>\n",
              "    </tr>\n",
              "    <tr>\n",
              "      <th>3</th>\n",
              "      <td>b</td>\n",
              "      <td>27.83</td>\n",
              "      <td>1.540</td>\n",
              "      <td>u</td>\n",
              "      <td>g</td>\n",
              "      <td>w</td>\n",
              "      <td>v</td>\n",
              "      <td>3.75</td>\n",
              "      <td>t</td>\n",
              "      <td>t</td>\n",
              "      <td>5</td>\n",
              "      <td>t</td>\n",
              "      <td>g</td>\n",
              "      <td>00100</td>\n",
              "      <td>3</td>\n",
              "      <td>1</td>\n",
              "    </tr>\n",
              "    <tr>\n",
              "      <th>4</th>\n",
              "      <td>b</td>\n",
              "      <td>20.17</td>\n",
              "      <td>5.625</td>\n",
              "      <td>u</td>\n",
              "      <td>g</td>\n",
              "      <td>w</td>\n",
              "      <td>v</td>\n",
              "      <td>1.71</td>\n",
              "      <td>t</td>\n",
              "      <td>f</td>\n",
              "      <td>0</td>\n",
              "      <td>f</td>\n",
              "      <td>s</td>\n",
              "      <td>00120</td>\n",
              "      <td>0</td>\n",
              "      <td>1</td>\n",
              "    </tr>\n",
              "  </tbody>\n",
              "</table>\n",
              "</div>"
            ],
            "text/plain": [
              "  CAT1   NUM1   NUM2 CAT2 CAT3 CAT4  ... NUM4  CAT8 CAT9   NUM5  NUM6 TARGET\n",
              "0    b  30.83  0.000    u    g    w  ...    1     f    g  00202     0      1\n",
              "1    a  58.67  4.460    u    g    q  ...    6     f    g  00043   560      1\n",
              "2    a  24.50  0.500    u    g    q  ...    0     f    g  00280   824      1\n",
              "3    b  27.83  1.540    u    g    w  ...    5     t    g  00100     3      1\n",
              "4    b  20.17  5.625    u    g    w  ...    0     f    s  00120     0      1\n",
              "\n",
              "[5 rows x 16 columns]"
            ]
          },
          "metadata": {},
          "execution_count": 7
        }
      ]
    },
    {
      "cell_type": "code",
      "metadata": {
        "colab": {
          "base_uri": "https://localhost:8080/"
        },
        "id": "gGkqDIkYimaY",
        "outputId": "b13910ad-1311-4085-9034-b49135ccce2c"
      },
      "source": [
        "# Numerics are coming in as strings\n",
        "credit_df.NUM5.unique()"
      ],
      "execution_count": 8,
      "outputs": [
        {
          "output_type": "execute_result",
          "data": {
            "text/plain": [
              "array(['00202', '00043', '00280', '00100', '00120', '00360', '00164',\n",
              "       '00080', '00180', '00052', '00128', '00260', '00000', '00320',\n",
              "       '00396', '00096', '00200', '00300', '00145', '00500', '00168',\n",
              "       '00434', '00583', '00030', '00240', '00070', '00455', '00311',\n",
              "       '00216', '00491', '00400', '00239', '00160', '00711', '00250',\n",
              "       '00520', '00515', '00420', '?', '00980', '00443', '00140', '00094',\n",
              "       '00368', '00288', '00928', '00188', '00112', '00171', '00268',\n",
              "       '00167', '00075', '00152', '00176', '00329', '00212', '00410',\n",
              "       '00274', '00375', '00408', '00350', '00204', '00040', '00181',\n",
              "       '00399', '00440', '00093', '00060', '00395', '00393', '00021',\n",
              "       '00029', '00102', '00431', '00370', '00024', '00020', '00129',\n",
              "       '00510', '00195', '00144', '00380', '00049', '00050', '00381',\n",
              "       '00150', '00117', '00056', '00211', '00230', '00156', '00022',\n",
              "       '00228', '00519', '00253', '00487', '00220', '00088', '00073',\n",
              "       '00121', '00470', '00136', '00132', '00292', '00154', '00272',\n",
              "       '00340', '00108', '00720', '00450', '00232', '00170', '01160',\n",
              "       '00411', '00460', '00348', '00480', '00640', '00372', '00276',\n",
              "       '00221', '00352', '00141', '00178', '00600', '00550', '02000',\n",
              "       '00225', '00210', '00110', '00356', '00045', '00062', '00092',\n",
              "       '00174', '00017', '00086', '00454', '00254', '00028', '00263',\n",
              "       '00333', '00312', '00290', '00371', '00099', '00252', '00760',\n",
              "       '00560', '00130', '00523', '00680', '00163', '00208', '00383',\n",
              "       '00330', '00422', '00840', '00432', '00032', '00186', '00303',\n",
              "       '00349', '00224', '00369', '00076', '00231', '00309', '00416',\n",
              "       '00465', '00256'], dtype=object)"
            ]
          },
          "metadata": {},
          "execution_count": 8
        }
      ]
    },
    {
      "cell_type": "code",
      "metadata": {
        "colab": {
          "base_uri": "https://localhost:8080/",
          "height": 455
        },
        "id": "JmZ_F2uIpvoB",
        "outputId": "8018dfb6-9bc1-4b10-d851-7fcf598d6f0c"
      },
      "source": [
        "# Unknown data flagged with an ?\n",
        "credit_df[credit_df.NUM5 == '?']"
      ],
      "execution_count": 9,
      "outputs": [
        {
          "output_type": "execute_result",
          "data": {
            "text/html": [
              "<div>\n",
              "<style scoped>\n",
              "    .dataframe tbody tr th:only-of-type {\n",
              "        vertical-align: middle;\n",
              "    }\n",
              "\n",
              "    .dataframe tbody tr th {\n",
              "        vertical-align: top;\n",
              "    }\n",
              "\n",
              "    .dataframe thead th {\n",
              "        text-align: right;\n",
              "    }\n",
              "</style>\n",
              "<table border=\"1\" class=\"dataframe\">\n",
              "  <thead>\n",
              "    <tr style=\"text-align: right;\">\n",
              "      <th></th>\n",
              "      <th>CAT1</th>\n",
              "      <th>NUM1</th>\n",
              "      <th>NUM2</th>\n",
              "      <th>CAT2</th>\n",
              "      <th>CAT3</th>\n",
              "      <th>CAT4</th>\n",
              "      <th>CAT5</th>\n",
              "      <th>NUM3</th>\n",
              "      <th>CAT6</th>\n",
              "      <th>CAT7</th>\n",
              "      <th>NUM4</th>\n",
              "      <th>CAT8</th>\n",
              "      <th>CAT9</th>\n",
              "      <th>NUM5</th>\n",
              "      <th>NUM6</th>\n",
              "      <th>TARGET</th>\n",
              "    </tr>\n",
              "  </thead>\n",
              "  <tbody>\n",
              "    <tr>\n",
              "      <th>71</th>\n",
              "      <td>b</td>\n",
              "      <td>34.83</td>\n",
              "      <td>4.000</td>\n",
              "      <td>u</td>\n",
              "      <td>g</td>\n",
              "      <td>d</td>\n",
              "      <td>bb</td>\n",
              "      <td>12.500</td>\n",
              "      <td>t</td>\n",
              "      <td>f</td>\n",
              "      <td>0</td>\n",
              "      <td>t</td>\n",
              "      <td>g</td>\n",
              "      <td>?</td>\n",
              "      <td>0</td>\n",
              "      <td>0</td>\n",
              "    </tr>\n",
              "    <tr>\n",
              "      <th>202</th>\n",
              "      <td>b</td>\n",
              "      <td>24.83</td>\n",
              "      <td>2.750</td>\n",
              "      <td>u</td>\n",
              "      <td>g</td>\n",
              "      <td>c</td>\n",
              "      <td>v</td>\n",
              "      <td>2.250</td>\n",
              "      <td>t</td>\n",
              "      <td>t</td>\n",
              "      <td>6</td>\n",
              "      <td>f</td>\n",
              "      <td>g</td>\n",
              "      <td>?</td>\n",
              "      <td>600</td>\n",
              "      <td>1</td>\n",
              "    </tr>\n",
              "    <tr>\n",
              "      <th>206</th>\n",
              "      <td>a</td>\n",
              "      <td>71.58</td>\n",
              "      <td>0.000</td>\n",
              "      <td>?</td>\n",
              "      <td>?</td>\n",
              "      <td>?</td>\n",
              "      <td>?</td>\n",
              "      <td>0.000</td>\n",
              "      <td>f</td>\n",
              "      <td>f</td>\n",
              "      <td>0</td>\n",
              "      <td>f</td>\n",
              "      <td>p</td>\n",
              "      <td>?</td>\n",
              "      <td>0</td>\n",
              "      <td>1</td>\n",
              "    </tr>\n",
              "    <tr>\n",
              "      <th>243</th>\n",
              "      <td>a</td>\n",
              "      <td>18.75</td>\n",
              "      <td>7.500</td>\n",
              "      <td>u</td>\n",
              "      <td>g</td>\n",
              "      <td>q</td>\n",
              "      <td>v</td>\n",
              "      <td>2.710</td>\n",
              "      <td>t</td>\n",
              "      <td>t</td>\n",
              "      <td>5</td>\n",
              "      <td>f</td>\n",
              "      <td>g</td>\n",
              "      <td>?</td>\n",
              "      <td>26726</td>\n",
              "      <td>1</td>\n",
              "    </tr>\n",
              "    <tr>\n",
              "      <th>270</th>\n",
              "      <td>b</td>\n",
              "      <td>37.58</td>\n",
              "      <td>0.000</td>\n",
              "      <td>?</td>\n",
              "      <td>?</td>\n",
              "      <td>?</td>\n",
              "      <td>?</td>\n",
              "      <td>0.000</td>\n",
              "      <td>f</td>\n",
              "      <td>f</td>\n",
              "      <td>0</td>\n",
              "      <td>f</td>\n",
              "      <td>p</td>\n",
              "      <td>?</td>\n",
              "      <td>0</td>\n",
              "      <td>1</td>\n",
              "    </tr>\n",
              "    <tr>\n",
              "      <th>278</th>\n",
              "      <td>b</td>\n",
              "      <td>24.58</td>\n",
              "      <td>13.500</td>\n",
              "      <td>y</td>\n",
              "      <td>p</td>\n",
              "      <td>ff</td>\n",
              "      <td>ff</td>\n",
              "      <td>0.000</td>\n",
              "      <td>f</td>\n",
              "      <td>f</td>\n",
              "      <td>0</td>\n",
              "      <td>f</td>\n",
              "      <td>g</td>\n",
              "      <td>?</td>\n",
              "      <td>0</td>\n",
              "      <td>0</td>\n",
              "    </tr>\n",
              "    <tr>\n",
              "      <th>330</th>\n",
              "      <td>b</td>\n",
              "      <td>20.42</td>\n",
              "      <td>0.000</td>\n",
              "      <td>?</td>\n",
              "      <td>?</td>\n",
              "      <td>?</td>\n",
              "      <td>?</td>\n",
              "      <td>0.000</td>\n",
              "      <td>f</td>\n",
              "      <td>f</td>\n",
              "      <td>0</td>\n",
              "      <td>f</td>\n",
              "      <td>p</td>\n",
              "      <td>?</td>\n",
              "      <td>0</td>\n",
              "      <td>0</td>\n",
              "    </tr>\n",
              "    <tr>\n",
              "      <th>406</th>\n",
              "      <td>a</td>\n",
              "      <td>40.33</td>\n",
              "      <td>8.125</td>\n",
              "      <td>y</td>\n",
              "      <td>p</td>\n",
              "      <td>k</td>\n",
              "      <td>v</td>\n",
              "      <td>0.165</td>\n",
              "      <td>f</td>\n",
              "      <td>t</td>\n",
              "      <td>2</td>\n",
              "      <td>f</td>\n",
              "      <td>g</td>\n",
              "      <td>?</td>\n",
              "      <td>18</td>\n",
              "      <td>0</td>\n",
              "    </tr>\n",
              "    <tr>\n",
              "      <th>445</th>\n",
              "      <td>a</td>\n",
              "      <td>?</td>\n",
              "      <td>11.250</td>\n",
              "      <td>u</td>\n",
              "      <td>g</td>\n",
              "      <td>ff</td>\n",
              "      <td>ff</td>\n",
              "      <td>0.000</td>\n",
              "      <td>f</td>\n",
              "      <td>f</td>\n",
              "      <td>0</td>\n",
              "      <td>f</td>\n",
              "      <td>g</td>\n",
              "      <td>?</td>\n",
              "      <td>5200</td>\n",
              "      <td>0</td>\n",
              "    </tr>\n",
              "    <tr>\n",
              "      <th>456</th>\n",
              "      <td>b</td>\n",
              "      <td>34.58</td>\n",
              "      <td>0.000</td>\n",
              "      <td>?</td>\n",
              "      <td>?</td>\n",
              "      <td>?</td>\n",
              "      <td>?</td>\n",
              "      <td>0.000</td>\n",
              "      <td>f</td>\n",
              "      <td>f</td>\n",
              "      <td>0</td>\n",
              "      <td>f</td>\n",
              "      <td>p</td>\n",
              "      <td>?</td>\n",
              "      <td>0</td>\n",
              "      <td>0</td>\n",
              "    </tr>\n",
              "    <tr>\n",
              "      <th>592</th>\n",
              "      <td>b</td>\n",
              "      <td>23.17</td>\n",
              "      <td>0.000</td>\n",
              "      <td>?</td>\n",
              "      <td>?</td>\n",
              "      <td>?</td>\n",
              "      <td>?</td>\n",
              "      <td>0.000</td>\n",
              "      <td>f</td>\n",
              "      <td>f</td>\n",
              "      <td>0</td>\n",
              "      <td>f</td>\n",
              "      <td>p</td>\n",
              "      <td>?</td>\n",
              "      <td>0</td>\n",
              "      <td>1</td>\n",
              "    </tr>\n",
              "    <tr>\n",
              "      <th>622</th>\n",
              "      <td>a</td>\n",
              "      <td>25.58</td>\n",
              "      <td>0.000</td>\n",
              "      <td>?</td>\n",
              "      <td>?</td>\n",
              "      <td>?</td>\n",
              "      <td>?</td>\n",
              "      <td>0.000</td>\n",
              "      <td>f</td>\n",
              "      <td>f</td>\n",
              "      <td>0</td>\n",
              "      <td>f</td>\n",
              "      <td>p</td>\n",
              "      <td>?</td>\n",
              "      <td>0</td>\n",
              "      <td>1</td>\n",
              "    </tr>\n",
              "    <tr>\n",
              "      <th>626</th>\n",
              "      <td>b</td>\n",
              "      <td>22.00</td>\n",
              "      <td>7.835</td>\n",
              "      <td>y</td>\n",
              "      <td>p</td>\n",
              "      <td>i</td>\n",
              "      <td>bb</td>\n",
              "      <td>0.165</td>\n",
              "      <td>f</td>\n",
              "      <td>f</td>\n",
              "      <td>0</td>\n",
              "      <td>t</td>\n",
              "      <td>g</td>\n",
              "      <td>?</td>\n",
              "      <td>0</td>\n",
              "      <td>0</td>\n",
              "    </tr>\n",
              "  </tbody>\n",
              "</table>\n",
              "</div>"
            ],
            "text/plain": [
              "    CAT1   NUM1    NUM2 CAT2 CAT3 CAT4  ... NUM4  CAT8 CAT9 NUM5   NUM6 TARGET\n",
              "71     b  34.83   4.000    u    g    d  ...    0     t    g    ?      0      0\n",
              "202    b  24.83   2.750    u    g    c  ...    6     f    g    ?    600      1\n",
              "206    a  71.58   0.000    ?    ?    ?  ...    0     f    p    ?      0      1\n",
              "243    a  18.75   7.500    u    g    q  ...    5     f    g    ?  26726      1\n",
              "270    b  37.58   0.000    ?    ?    ?  ...    0     f    p    ?      0      1\n",
              "278    b  24.58  13.500    y    p   ff  ...    0     f    g    ?      0      0\n",
              "330    b  20.42   0.000    ?    ?    ?  ...    0     f    p    ?      0      0\n",
              "406    a  40.33   8.125    y    p    k  ...    2     f    g    ?     18      0\n",
              "445    a      ?  11.250    u    g   ff  ...    0     f    g    ?   5200      0\n",
              "456    b  34.58   0.000    ?    ?    ?  ...    0     f    p    ?      0      0\n",
              "592    b  23.17   0.000    ?    ?    ?  ...    0     f    p    ?      0      1\n",
              "622    a  25.58   0.000    ?    ?    ?  ...    0     f    p    ?      0      1\n",
              "626    b  22.00   7.835    y    p    i  ...    0     t    g    ?      0      0\n",
              "\n",
              "[13 rows x 16 columns]"
            ]
          },
          "metadata": {},
          "execution_count": 9
        }
      ]
    },
    {
      "cell_type": "markdown",
      "metadata": {
        "id": "mccgRC1jpcjh"
      },
      "source": [
        "# Missing Data"
      ]
    },
    {
      "cell_type": "code",
      "metadata": {
        "colab": {
          "base_uri": "https://localhost:8080/"
        },
        "id": "FsHr4Xwfpob8",
        "outputId": "37f11962-91c5-47dc-a77e-c4fcfc9c128b"
      },
      "source": [
        "credit_df = credit_df.replace('?', np.NaN)\n",
        "credit_df['NUM5'] = credit_df.NUM5.astype(float)\n",
        "credit_df.isna().sum()"
      ],
      "execution_count": 10,
      "outputs": [
        {
          "output_type": "execute_result",
          "data": {
            "text/plain": [
              "CAT1      12\n",
              "NUM1      12\n",
              "NUM2       0\n",
              "CAT2       6\n",
              "CAT3       6\n",
              "CAT4       9\n",
              "CAT5       9\n",
              "NUM3       0\n",
              "CAT6       0\n",
              "CAT7       0\n",
              "NUM4       0\n",
              "CAT8       0\n",
              "CAT9       0\n",
              "NUM5      13\n",
              "NUM6       0\n",
              "TARGET     0\n",
              "dtype: int64"
            ]
          },
          "metadata": {},
          "execution_count": 10
        }
      ]
    },
    {
      "cell_type": "code",
      "metadata": {
        "colab": {
          "base_uri": "https://localhost:8080/"
        },
        "id": "gap4yHXIqPMi",
        "outputId": "bb12cd8b-fe1f-4707-dabd-0afd066320e6"
      },
      "source": [
        "def impute_categorical(df, col):\n",
        "  df.loc[pd.isnull(df[col]), col] = 'UNKNOWN'\n",
        "  return df\n",
        "\n",
        "for col in [f'CAT{x}' for x in range(1, 10)]:\n",
        "  credit_df = impute_categorical(credit_df, col)\n",
        "\n",
        "credit_df.isna().sum()"
      ],
      "execution_count": 11,
      "outputs": [
        {
          "output_type": "execute_result",
          "data": {
            "text/plain": [
              "CAT1       0\n",
              "NUM1      12\n",
              "NUM2       0\n",
              "CAT2       0\n",
              "CAT3       0\n",
              "CAT4       0\n",
              "CAT5       0\n",
              "NUM3       0\n",
              "CAT6       0\n",
              "CAT7       0\n",
              "NUM4       0\n",
              "CAT8       0\n",
              "CAT9       0\n",
              "NUM5      13\n",
              "NUM6       0\n",
              "TARGET     0\n",
              "dtype: int64"
            ]
          },
          "metadata": {},
          "execution_count": 11
        }
      ]
    },
    {
      "cell_type": "code",
      "metadata": {
        "colab": {
          "base_uri": "https://localhost:8080/"
        },
        "id": "c0KlarqWqDH3",
        "outputId": "5b6ff1c0-5fe1-493c-810a-916f272d5766"
      },
      "source": [
        "def impute_numeric(df, col):\n",
        "  df[col] = df[col].astype(float)\n",
        "  missing = df[col].isna().sum()\n",
        "  if missing > 0:\n",
        "    df[f'{col}_IMPUTED'] = np.where(pd.isnull(df[col]), 1, 0)\n",
        "    df.loc[pd.isnull(df[col]), col] = df[col].mean()\n",
        "  return df\n",
        "\n",
        "for col in [f'NUM{x}' for x in range(1, 7)]:\n",
        "  credit_df = impute_numeric(credit_df, col)\n",
        "\n",
        "credit_df.isna().sum()"
      ],
      "execution_count": 12,
      "outputs": [
        {
          "output_type": "execute_result",
          "data": {
            "text/plain": [
              "CAT1            0\n",
              "NUM1            0\n",
              "NUM2            0\n",
              "CAT2            0\n",
              "CAT3            0\n",
              "CAT4            0\n",
              "CAT5            0\n",
              "NUM3            0\n",
              "CAT6            0\n",
              "CAT7            0\n",
              "NUM4            0\n",
              "CAT8            0\n",
              "CAT9            0\n",
              "NUM5            0\n",
              "NUM6            0\n",
              "TARGET          0\n",
              "NUM1_IMPUTED    0\n",
              "NUM5_IMPUTED    0\n",
              "dtype: int64"
            ]
          },
          "metadata": {},
          "execution_count": 12
        }
      ]
    },
    {
      "cell_type": "markdown",
      "metadata": {
        "id": "t_jhQJMKwdRP"
      },
      "source": [
        "# Split Data"
      ]
    },
    {
      "cell_type": "code",
      "metadata": {
        "id": "iyGlfzVswfVO"
      },
      "source": [
        "train_df, test_df = train_test_split(credit_df, test_size=25, random_state=505)"
      ],
      "execution_count": 13,
      "outputs": []
    },
    {
      "cell_type": "markdown",
      "metadata": {
        "id": "M2LQivwqskfV"
      },
      "source": [
        "# KTrain"
      ]
    },
    {
      "cell_type": "markdown",
      "metadata": {
        "id": "FQJXGOPouC-3"
      },
      "source": [
        "## Tabular Task\n",
        "* Can handle missing values\n",
        "* But, can't automatically process ? as Missing"
      ]
    },
    {
      "cell_type": "code",
      "metadata": {
        "colab": {
          "base_uri": "https://localhost:8080/"
        },
        "id": "3HZtt9SXuFIW",
        "outputId": "9f75c7e7-9275-49b8-b53a-c5243786420d"
      },
      "source": [
        "train, val, preprocess = tabular.tabular_from_df(train_df, \n",
        "                                                 label_columns=['TARGET'], \n",
        "                                                 random_state=505)"
      ],
      "execution_count": 14,
      "outputs": [
        {
          "output_type": "stream",
          "name": "stdout",
          "text": [
            "processing train: 595 rows x 18 columns\n",
            "['not_TARGET', 'TARGET']\n",
            "     not_TARGET  TARGET\n",
            "187         0.0     1.0\n",
            "134         0.0     1.0\n",
            "266         1.0     0.0\n",
            "610         1.0     0.0\n",
            "539         1.0     0.0\n",
            "\n",
            "The following integer column(s) are being treated as categorical variables:\n",
            "['NUM1_IMPUTED', 'NUM5_IMPUTED']\n",
            "To treat any of these column(s) as numerical, cast the column to float in DataFrame or CSV\n",
            " and re-run tabular_from* function.\n",
            "\n",
            "processing test: 70 rows x 18 columns\n",
            "['not_TARGET', 'TARGET']\n",
            "     not_TARGET  TARGET\n",
            "116         1.0     0.0\n",
            "14          0.0     1.0\n",
            "250         0.0     1.0\n",
            "124         0.0     1.0\n",
            "647         1.0     0.0\n"
          ]
        }
      ]
    },
    {
      "cell_type": "markdown",
      "metadata": {
        "id": "uxaCBDKUvogk"
      },
      "source": [
        "## Create Model\n",
        "* We may have a number of models to select from\n",
        "* For tabular, we have the MLP (Multi Layer Perceptron)\n",
        "* The MLP paper references *Entity Embeddings of Categorical Variables*\n",
        "  * Paper looks at the use of embeddings in structured datasets\n",
        "  * Notes prior work and effectiveness in language processing\n",
        "  * Discusses theory & experimentation on sizing embeddings \n",
        "  * Authors won the Rossman Kaggle challenge"
      ]
    },
    {
      "cell_type": "code",
      "metadata": {
        "colab": {
          "base_uri": "https://localhost:8080/"
        },
        "id": "neR2oL-yuLqJ",
        "outputId": "41ff44b5-626f-4220-cda1-1c1a0e7fea2d"
      },
      "source": [
        "tabular.print_tabular_classifiers()"
      ],
      "execution_count": 15,
      "outputs": [
        {
          "output_type": "stream",
          "name": "stdout",
          "text": [
            "mlp: a configurable multilayer perceptron with categorical variable embeddings [https://arxiv.org/abs/1604.06737]\n"
          ]
        }
      ]
    },
    {
      "cell_type": "code",
      "metadata": {
        "colab": {
          "base_uri": "https://localhost:8080/"
        },
        "id": "LViHHTIuuiUC",
        "outputId": "a97a86f2-5fc8-4aca-f0d4-7cf773e65faf"
      },
      "source": [
        "model = tabular.tabular_classifier('mlp', train)"
      ],
      "execution_count": 16,
      "outputs": [
        {
          "output_type": "stream",
          "name": "stdout",
          "text": [
            "Is Multi-Label? False\n",
            "done.\n"
          ]
        }
      ]
    },
    {
      "cell_type": "code",
      "metadata": {
        "colab": {
          "base_uri": "https://localhost:8080/"
        },
        "id": "01pSheS_vXCw",
        "outputId": "e4dc8e76-d05c-4513-edcb-ce1dbf18bb9a"
      },
      "source": [
        "model.summary()"
      ],
      "execution_count": 17,
      "outputs": [
        {
          "output_type": "stream",
          "name": "stdout",
          "text": [
            "Model: \"model\"\n",
            "__________________________________________________________________________________________________\n",
            "Layer (type)                    Output Shape         Param #     Connected to                     \n",
            "==================================================================================================\n",
            "input_1 (InputLayer)            [(None, 1)]          0                                            \n",
            "__________________________________________________________________________________________________\n",
            "input_2 (InputLayer)            [(None, 1)]          0                                            \n",
            "__________________________________________________________________________________________________\n",
            "input_3 (InputLayer)            [(None, 1)]          0                                            \n",
            "__________________________________________________________________________________________________\n",
            "input_4 (InputLayer)            [(None, 1)]          0                                            \n",
            "__________________________________________________________________________________________________\n",
            "input_5 (InputLayer)            [(None, 1)]          0                                            \n",
            "__________________________________________________________________________________________________\n",
            "input_6 (InputLayer)            [(None, 1)]          0                                            \n",
            "__________________________________________________________________________________________________\n",
            "input_7 (InputLayer)            [(None, 1)]          0                                            \n",
            "__________________________________________________________________________________________________\n",
            "input_8 (InputLayer)            [(None, 1)]          0                                            \n",
            "__________________________________________________________________________________________________\n",
            "input_9 (InputLayer)            [(None, 1)]          0                                            \n",
            "__________________________________________________________________________________________________\n",
            "input_10 (InputLayer)           [(None, 1)]          0                                            \n",
            "__________________________________________________________________________________________________\n",
            "input_11 (InputLayer)           [(None, 1)]          0                                            \n",
            "__________________________________________________________________________________________________\n",
            "embedding (Embedding)           (None, 1, 3)         12          input_1[0][0]                    \n",
            "__________________________________________________________________________________________________\n",
            "embedding_1 (Embedding)         (None, 1, 3)         15          input_2[0][0]                    \n",
            "__________________________________________________________________________________________________\n",
            "embedding_2 (Embedding)         (None, 1, 3)         15          input_3[0][0]                    \n",
            "__________________________________________________________________________________________________\n",
            "embedding_3 (Embedding)         (None, 1, 9)         144         input_4[0][0]                    \n",
            "__________________________________________________________________________________________________\n",
            "embedding_4 (Embedding)         (None, 1, 6)         66          input_5[0][0]                    \n",
            "__________________________________________________________________________________________________\n",
            "embedding_5 (Embedding)         (None, 1, 2)         6           input_6[0][0]                    \n",
            "__________________________________________________________________________________________________\n",
            "embedding_6 (Embedding)         (None, 1, 2)         6           input_7[0][0]                    \n",
            "__________________________________________________________________________________________________\n",
            "embedding_7 (Embedding)         (None, 1, 2)         6           input_8[0][0]                    \n",
            "__________________________________________________________________________________________________\n",
            "embedding_8 (Embedding)         (None, 1, 3)         12          input_9[0][0]                    \n",
            "__________________________________________________________________________________________________\n",
            "embedding_9 (Embedding)         (None, 1, 2)         6           input_10[0][0]                   \n",
            "__________________________________________________________________________________________________\n",
            "embedding_10 (Embedding)        (None, 1, 2)         6           input_11[0][0]                   \n",
            "__________________________________________________________________________________________________\n",
            "concatenate (Concatenate)       (None, 1, 37)        0           embedding[0][0]                  \n",
            "                                                                 embedding_1[0][0]                \n",
            "                                                                 embedding_2[0][0]                \n",
            "                                                                 embedding_3[0][0]                \n",
            "                                                                 embedding_4[0][0]                \n",
            "                                                                 embedding_5[0][0]                \n",
            "                                                                 embedding_6[0][0]                \n",
            "                                                                 embedding_7[0][0]                \n",
            "                                                                 embedding_8[0][0]                \n",
            "                                                                 embedding_9[0][0]                \n",
            "                                                                 embedding_10[0][0]               \n",
            "__________________________________________________________________________________________________\n",
            "flatten (Flatten)               (None, 37)           0           concatenate[0][0]                \n",
            "__________________________________________________________________________________________________\n",
            "input_12 (InputLayer)           [(None, 6)]          0                                            \n",
            "__________________________________________________________________________________________________\n",
            "concatenate_1 (Concatenate)     (None, 43)           0           flatten[0][0]                    \n",
            "                                                                 input_12[0][0]                   \n",
            "__________________________________________________________________________________________________\n",
            "dense (Dense)                   (None, 1000)         44000       concatenate_1[0][0]              \n",
            "__________________________________________________________________________________________________\n",
            "dense_1 (Dense)                 (None, 500)          500500      dense[0][0]                      \n",
            "__________________________________________________________________________________________________\n",
            "dropout (Dropout)               (None, 500)          0           dense_1[0][0]                    \n",
            "__________________________________________________________________________________________________\n",
            "dense_2 (Dense)                 (None, 2)            1002        dropout[0][0]                    \n",
            "==================================================================================================\n",
            "Total params: 545,796\n",
            "Trainable params: 545,796\n",
            "Non-trainable params: 0\n",
            "__________________________________________________________________________________________________\n"
          ]
        }
      ]
    },
    {
      "cell_type": "code",
      "metadata": {
        "colab": {
          "base_uri": "https://localhost:8080/",
          "height": 402
        },
        "id": "att4Gv6YbnOL",
        "outputId": "8c7a2366-d904-4b1b-cf02-8d1de2ec4b77"
      },
      "source": [
        "tabular.models.plot_model(model)"
      ],
      "execution_count": 18,
      "outputs": [
        {
          "output_type": "execute_result",
          "data": {
            "image/png": "[encoded data removed]",
            "text/plain": [
              "<IPython.core.display.Image object>"
            ]
          },
          "metadata": {},
          "execution_count": 18
        }
      ]
    },
    {
      "cell_type": "code",
      "metadata": {
        "id": "oomjkBMMuqJA"
      },
      "source": [
        "learner = ktrain.get_learner(model, train_data=train, val_data=val, batch_size=32)"
      ],
      "execution_count": 19,
      "outputs": []
    },
    {
      "cell_type": "markdown",
      "metadata": {
        "id": "sTzkgPE8uw4I"
      },
      "source": [
        "## Find Learning Rate"
      ]
    },
    {
      "cell_type": "code",
      "metadata": {
        "colab": {
          "base_uri": "https://localhost:8080/",
          "height": 542
        },
        "id": "iryt6BcRu1c9",
        "outputId": "38405297-d24d-49f7-96db-b96b0a4d60fc"
      },
      "source": [
        "learner.lr_find(show_plot=True, max_epochs=5)"
      ],
      "execution_count": 20,
      "outputs": [
        {
          "output_type": "stream",
          "name": "stdout",
          "text": [
            "simulating training for different learning rates... this may take a few moments...\n",
            "Epoch 1/5\n",
            "18/18 [==============================] - 2s 26ms/step - loss: 0.7035 - accuracy: 0.4352\n",
            "Epoch 2/5\n",
            "18/18 [==============================] - 1s 28ms/step - loss: 0.6972 - accuracy: 0.4956\n",
            "Epoch 3/5\n",
            "18/18 [==============================] - 1s 28ms/step - loss: 0.5739 - accuracy: 0.7353\n",
            "Epoch 4/5\n",
            "18/18 [==============================] - 1s 28ms/step - loss: 2.3043 - accuracy: 0.6838\n",
            "Epoch 5/5\n",
            "18/18 [==============================] - 0s 5ms/step - loss: 54.6707 - accuracy: 0.6016\n",
            "\n",
            "\n",
            "done.\n",
            "Visually inspect loss plot and select learning rate associated with falling loss\n"
          ]
        },
        {
          "output_type": "display_data",
          "data": {
            "image/png": "[encoded data removed]",
            "text/plain": [
              "<Figure size 432x288 with 1 Axes>"
            ]
          },
          "metadata": {
            "needs_background": "light"
          }
        }
      ]
    },
    {
      "cell_type": "markdown",
      "metadata": {
        "id": "xQFghN1Fu2Oz"
      },
      "source": [
        "## Fit Model"
      ]
    },
    {
      "cell_type": "code",
      "metadata": {
        "colab": {
          "base_uri": "https://localhost:8080/"
        },
        "id": "svqxDSfrvAN0",
        "outputId": "f5feb3dc-cafc-490a-c1c2-767ba2d5fede"
      },
      "source": [
        "learner.fit_onecycle(1e-3, 10)"
      ],
      "execution_count": 21,
      "outputs": [
        {
          "output_type": "stream",
          "name": "stdout",
          "text": [
            "\n",
            "\n",
            "begin training using onecycle policy with max lr of 0.001...\n",
            "Epoch 1/10\n",
            "19/19 [==============================] - 3s 57ms/step - loss: 0.6222 - accuracy: 0.6622 - val_loss: 0.5594 - val_accuracy: 0.7143\n",
            "Epoch 2/10\n",
            "19/19 [==============================] - 1s 36ms/step - loss: 0.5204 - accuracy: 0.7529 - val_loss: 0.5493 - val_accuracy: 0.7286\n",
            "Epoch 3/10\n",
            "19/19 [==============================] - 1s 36ms/step - loss: 0.4753 - accuracy: 0.7882 - val_loss: 0.5353 - val_accuracy: 0.7429\n",
            "Epoch 4/10\n",
            "19/19 [==============================] - 1s 32ms/step - loss: 0.4412 - accuracy: 0.8034 - val_loss: 0.5301 - val_accuracy: 0.7429\n",
            "Epoch 5/10\n",
            "19/19 [==============================] - 1s 32ms/step - loss: 0.3859 - accuracy: 0.8471 - val_loss: 0.4235 - val_accuracy: 0.8000\n",
            "Epoch 6/10\n",
            "19/19 [==============================] - 1s 32ms/step - loss: 0.3198 - accuracy: 0.8706 - val_loss: 0.4446 - val_accuracy: 0.8143\n",
            "Epoch 7/10\n",
            "19/19 [==============================] - 1s 31ms/step - loss: 0.2869 - accuracy: 0.8874 - val_loss: 0.4262 - val_accuracy: 0.8429\n",
            "Epoch 8/10\n",
            "19/19 [==============================] - 1s 31ms/step - loss: 0.2800 - accuracy: 0.8874 - val_loss: 0.4117 - val_accuracy: 0.8286\n",
            "Epoch 9/10\n",
            "19/19 [==============================] - 1s 35ms/step - loss: 0.2658 - accuracy: 0.8958 - val_loss: 0.4085 - val_accuracy: 0.8143\n",
            "Epoch 10/10\n",
            "19/19 [==============================] - 1s 34ms/step - loss: 0.2483 - accuracy: 0.9008 - val_loss: 0.4058 - val_accuracy: 0.8143\n"
          ]
        },
        {
          "output_type": "execute_result",
          "data": {
            "text/plain": [
              "<keras.callbacks.History at 0x7fb43f97a210>"
            ]
          },
          "metadata": {},
          "execution_count": 21
        }
      ]
    },
    {
      "cell_type": "markdown",
      "metadata": {
        "id": "2Qy8A7UQvPX8"
      },
      "source": [
        "## Score"
      ]
    },
    {
      "cell_type": "code",
      "metadata": {
        "colab": {
          "base_uri": "https://localhost:8080/"
        },
        "id": "3Iz1GfoPAMNP",
        "outputId": "927a091b-4263-4e7a-9a18-db5bfa379276"
      },
      "source": [
        "# Validating the moel runs the scoring on the validation test set\n",
        "learner.validate()"
      ],
      "execution_count": 22,
      "outputs": [
        {
          "output_type": "stream",
          "name": "stdout",
          "text": [
            "              precision    recall  f1-score   support\n",
            "\n",
            "           0       0.79      0.86      0.83        36\n",
            "           1       0.84      0.76      0.80        34\n",
            "\n",
            "    accuracy                           0.81        70\n",
            "   macro avg       0.82      0.81      0.81        70\n",
            "weighted avg       0.82      0.81      0.81        70\n",
            "\n"
          ]
        },
        {
          "output_type": "execute_result",
          "data": {
            "text/plain": [
              "array([[31,  5],\n",
              "       [ 8, 26]])"
            ]
          },
          "metadata": {},
          "execution_count": 22
        }
      ]
    },
    {
      "cell_type": "code",
      "metadata": {
        "colab": {
          "base_uri": "https://localhost:8080/"
        },
        "id": "QDbBuhaUvEAA",
        "outputId": "3315f582-15e8-4958-ae4d-e760d1e568a4"
      },
      "source": [
        "# You can run this explicity passing the val dataset to evaluate\n",
        "learner.evaluate(val, class_names=preprocess.get_classes())"
      ],
      "execution_count": 23,
      "outputs": [
        {
          "output_type": "stream",
          "name": "stdout",
          "text": [
            "              precision    recall  f1-score   support\n",
            "\n",
            "  not_TARGET       0.79      0.86      0.83        36\n",
            "      TARGET       0.84      0.76      0.80        34\n",
            "\n",
            "    accuracy                           0.81        70\n",
            "   macro avg       0.82      0.81      0.81        70\n",
            "weighted avg       0.82      0.81      0.81        70\n",
            "\n"
          ]
        },
        {
          "output_type": "execute_result",
          "data": {
            "text/plain": [
              "array([[31,  5],\n",
              "       [ 8, 26]])"
            ]
          },
          "metadata": {},
          "execution_count": 23
        }
      ]
    },
    {
      "cell_type": "markdown",
      "metadata": {
        "id": "TmSCzMt7vJsC"
      },
      "source": [
        "## Predict"
      ]
    },
    {
      "cell_type": "code",
      "metadata": {
        "colab": {
          "base_uri": "https://localhost:8080/"
        },
        "id": "tVv5y6MIvU8n",
        "outputId": "0a528c35-e9a3-47d7-c104-480919f40e14"
      },
      "source": [
        "# To predict, we make a predictor combining the model and preprocessor\n",
        "predictor = ktrain.get_predictor(learner.model, preprocess)\n",
        "preds = predictor.predict(test_df, return_proba=True)\n",
        "pred_class = np.argmax(preds, axis=1)"
      ],
      "execution_count": 24,
      "outputs": [
        {
          "output_type": "stream",
          "name": "stdout",
          "text": [
            "['not_TARGET', 'TARGET']\n",
            "     not_TARGET  TARGET\n",
            "502         0.0     1.0\n",
            "594         0.0     1.0\n",
            "376         1.0     0.0\n",
            "104         1.0     0.0\n",
            "372         1.0     0.0\n"
          ]
        }
      ]
    },
    {
      "cell_type": "code",
      "metadata": {
        "colab": {
          "base_uri": "https://localhost:8080/"
        },
        "id": "wrz42A59zFW0",
        "outputId": "9cf22e77-f692-4e9e-cb63-e9ee56639916"
      },
      "source": [
        "# Evaluate on the test dataset\n",
        "learner.evaluate(preprocess.preprocess_test(test_df), \n",
        "                 class_names=preprocess.get_classes())"
      ],
      "execution_count": 25,
      "outputs": [
        {
          "output_type": "stream",
          "name": "stdout",
          "text": [
            "processing test: 25 rows x 18 columns\n",
            "['not_TARGET', 'TARGET']\n",
            "     not_TARGET  TARGET\n",
            "502         0.0     1.0\n",
            "594         0.0     1.0\n",
            "376         1.0     0.0\n",
            "104         1.0     0.0\n",
            "372         1.0     0.0\n",
            "              precision    recall  f1-score   support\n",
            "\n",
            "  not_TARGET       0.90      0.90      0.90        20\n",
            "      TARGET       0.60      0.60      0.60         5\n",
            "\n",
            "    accuracy                           0.84        25\n",
            "   macro avg       0.75      0.75      0.75        25\n",
            "weighted avg       0.84      0.84      0.84        25\n",
            "\n"
          ]
        },
        {
          "output_type": "execute_result",
          "data": {
            "text/plain": [
              "array([[18,  2],\n",
              "       [ 2,  3]])"
            ]
          },
          "metadata": {},
          "execution_count": 25
        }
      ]
    },
    {
      "cell_type": "code",
      "metadata": {
        "colab": {
          "base_uri": "https://localhost:8080/"
        },
        "id": "IWAGZ0O5w9Qu",
        "outputId": "88a6c11b-96a9-4509-d809-f1c5f4bbfb7c"
      },
      "source": [
        "# KTrain's Evaluation for Classification wraps ClassificationReport\n",
        "print(classification_report(test_df.TARGET, pred_class))"
      ],
      "execution_count": 26,
      "outputs": [
        {
          "output_type": "stream",
          "name": "stdout",
          "text": [
            "              precision    recall  f1-score   support\n",
            "\n",
            "           0       0.90      0.90      0.90        20\n",
            "           1       0.60      0.60      0.60         5\n",
            "\n",
            "    accuracy                           0.84        25\n",
            "   macro avg       0.75      0.75      0.75        25\n",
            "weighted avg       0.84      0.84      0.84        25\n",
            "\n"
          ]
        }
      ]
    },
    {
      "cell_type": "markdown",
      "metadata": {
        "id": "QAyLx0_4yDjT"
      },
      "source": [
        "## Analysis"
      ]
    },
    {
      "cell_type": "code",
      "metadata": {
        "colab": {
          "base_uri": "https://localhost:8080/",
          "height": 175
        },
        "id": "39V3C__-xRY5",
        "outputId": "b5d825e1-5fa7-4228-c433-71b73596fad9"
      },
      "source": [
        "# Where are our predictions failing?\n",
        "pred_df = test_df.copy()\n",
        "pred_df['PREDICTED'] = pred_class\n",
        "pred_df[pred_df.PREDICTED != pred_df.TARGET]"
      ],
      "execution_count": 27,
      "outputs": [
        {
          "output_type": "execute_result",
          "data": {
            "text/html": [
              "<div>\n",
              "<style scoped>\n",
              "    .dataframe tbody tr th:only-of-type {\n",
              "        vertical-align: middle;\n",
              "    }\n",
              "\n",
              "    .dataframe tbody tr th {\n",
              "        vertical-align: top;\n",
              "    }\n",
              "\n",
              "    .dataframe thead th {\n",
              "        text-align: right;\n",
              "    }\n",
              "</style>\n",
              "<table border=\"1\" class=\"dataframe\">\n",
              "  <thead>\n",
              "    <tr style=\"text-align: right;\">\n",
              "      <th></th>\n",
              "      <th>CAT1</th>\n",
              "      <th>NUM1</th>\n",
              "      <th>NUM2</th>\n",
              "      <th>CAT2</th>\n",
              "      <th>CAT3</th>\n",
              "      <th>CAT4</th>\n",
              "      <th>CAT5</th>\n",
              "      <th>NUM3</th>\n",
              "      <th>CAT6</th>\n",
              "      <th>CAT7</th>\n",
              "      <th>NUM4</th>\n",
              "      <th>CAT8</th>\n",
              "      <th>CAT9</th>\n",
              "      <th>NUM5</th>\n",
              "      <th>NUM6</th>\n",
              "      <th>TARGET</th>\n",
              "      <th>NUM1_IMPUTED</th>\n",
              "      <th>NUM5_IMPUTED</th>\n",
              "      <th>PREDICTED</th>\n",
              "    </tr>\n",
              "  </thead>\n",
              "  <tbody>\n",
              "    <tr>\n",
              "      <th>502</th>\n",
              "      <td>a</td>\n",
              "      <td>64.08</td>\n",
              "      <td>0.165</td>\n",
              "      <td>u</td>\n",
              "      <td>g</td>\n",
              "      <td>ff</td>\n",
              "      <td>ff</td>\n",
              "      <td>0.000</td>\n",
              "      <td>t</td>\n",
              "      <td>t</td>\n",
              "      <td>1.0</td>\n",
              "      <td>f</td>\n",
              "      <td>g</td>\n",
              "      <td>232.0</td>\n",
              "      <td>100.0</td>\n",
              "      <td>1</td>\n",
              "      <td>0</td>\n",
              "      <td>0</td>\n",
              "      <td>0</td>\n",
              "    </tr>\n",
              "    <tr>\n",
              "      <th>594</th>\n",
              "      <td>b</td>\n",
              "      <td>38.67</td>\n",
              "      <td>0.210</td>\n",
              "      <td>u</td>\n",
              "      <td>g</td>\n",
              "      <td>k</td>\n",
              "      <td>v</td>\n",
              "      <td>0.085</td>\n",
              "      <td>t</td>\n",
              "      <td>f</td>\n",
              "      <td>0.0</td>\n",
              "      <td>t</td>\n",
              "      <td>g</td>\n",
              "      <td>280.0</td>\n",
              "      <td>0.0</td>\n",
              "      <td>1</td>\n",
              "      <td>0</td>\n",
              "      <td>0</td>\n",
              "      <td>0</td>\n",
              "    </tr>\n",
              "    <tr>\n",
              "      <th>104</th>\n",
              "      <td>b</td>\n",
              "      <td>27.83</td>\n",
              "      <td>4.000</td>\n",
              "      <td>y</td>\n",
              "      <td>p</td>\n",
              "      <td>i</td>\n",
              "      <td>h</td>\n",
              "      <td>5.750</td>\n",
              "      <td>t</td>\n",
              "      <td>t</td>\n",
              "      <td>2.0</td>\n",
              "      <td>t</td>\n",
              "      <td>g</td>\n",
              "      <td>75.0</td>\n",
              "      <td>0.0</td>\n",
              "      <td>0</td>\n",
              "      <td>0</td>\n",
              "      <td>0</td>\n",
              "      <td>1</td>\n",
              "    </tr>\n",
              "    <tr>\n",
              "      <th>101</th>\n",
              "      <td>b</td>\n",
              "      <td>35.25</td>\n",
              "      <td>16.500</td>\n",
              "      <td>y</td>\n",
              "      <td>p</td>\n",
              "      <td>c</td>\n",
              "      <td>v</td>\n",
              "      <td>4.000</td>\n",
              "      <td>t</td>\n",
              "      <td>f</td>\n",
              "      <td>0.0</td>\n",
              "      <td>f</td>\n",
              "      <td>g</td>\n",
              "      <td>80.0</td>\n",
              "      <td>0.0</td>\n",
              "      <td>0</td>\n",
              "      <td>0</td>\n",
              "      <td>0</td>\n",
              "      <td>1</td>\n",
              "    </tr>\n",
              "  </tbody>\n",
              "</table>\n",
              "</div>"
            ],
            "text/plain": [
              "    CAT1   NUM1    NUM2 CAT2  ... TARGET NUM1_IMPUTED NUM5_IMPUTED  PREDICTED\n",
              "502    a  64.08   0.165    u  ...      1            0            0          0\n",
              "594    b  38.67   0.210    u  ...      1            0            0          0\n",
              "104    b  27.83   4.000    y  ...      0            0            0          1\n",
              "101    b  35.25  16.500    y  ...      0            0            0          1\n",
              "\n",
              "[4 rows x 19 columns]"
            ]
          },
          "metadata": {},
          "execution_count": 27
        }
      ]
    },
    {
      "cell_type": "code",
      "metadata": {
        "colab": {
          "base_uri": "https://localhost:8080/",
          "height": 411
        },
        "id": "jY-rYec7xp99",
        "outputId": "1534216f-e6d0-4b25-8bdb-fd359fd06476"
      },
      "source": [
        "# Explain wraps shap (who doesn't these days?)\n",
        "predictor.explain(test_df, row_index=502, class_id=0)"
      ],
      "execution_count": 28,
      "outputs": [
        {
          "output_type": "stream",
          "name": "stdout",
          "text": [
            "['not_TARGET', 'TARGET']\n",
            "     not_TARGET  TARGET\n",
            "502         1.0     0.0\n",
            "594         1.0     0.0\n",
            "376         1.0     0.0\n",
            "104         1.0     0.0\n",
            "372         1.0     0.0\n",
            "Explanation for class = not_TARGET (row_index=502): \n"
          ]
        },
        {
          "output_type": "display_data",
          "data": {
            "image/png": "[encoded data removed]",
            "text/plain": [
              "<Figure size 1440x216 with 1 Axes>"
            ]
          },
          "metadata": {
            "needs_background": "light"
          }
        }
      ]
    },
    {
      "cell_type": "markdown",
      "metadata": {
        "id": "SyQkzIgOyJ7D"
      },
      "source": [
        "## Worst Predictions"
      ]
    },
    {
      "cell_type": "code",
      "metadata": {
        "colab": {
          "base_uri": "https://localhost:8080/"
        },
        "id": "Hc37_9Njyn3Z",
        "outputId": "d6bdb42b-cd1d-46d9-eb7f-81aa832aac17"
      },
      "source": [
        "# We can find the predictions that have the highest loss\n",
        "learner.view_top_losses(val_data=preprocess.preprocess_test(test_df), preproc=preprocess, n=5)"
      ],
      "execution_count": 29,
      "outputs": [
        {
          "output_type": "stream",
          "name": "stdout",
          "text": [
            "processing test: 25 rows x 18 columns\n",
            "['not_TARGET', 'TARGET']\n",
            "     not_TARGET  TARGET\n",
            "502         0.0     1.0\n",
            "594         0.0     1.0\n",
            "376         1.0     0.0\n",
            "104         1.0     0.0\n",
            "372         1.0     0.0\n",
            "----------\n",
            "id:3 | loss:1.52 | true:not_TARGET | pred:TARGET)\n",
            "\n",
            "----------\n",
            "id:8 | loss:1.21 | true:not_TARGET | pred:TARGET)\n",
            "\n",
            "----------\n",
            "id:1 | loss:1.17 | true:TARGET | pred:not_TARGET)\n",
            "\n",
            "----------\n",
            "id:0 | loss:0.81 | true:TARGET | pred:not_TARGET)\n",
            "\n"
          ]
        }
      ]
    },
    {
      "cell_type": "code",
      "metadata": {
        "colab": {
          "base_uri": "https://localhost:8080/"
        },
        "id": "VCKzdhvDzHau",
        "outputId": "d4910985-89d9-4f43-fb67-5dec0d1d3c6b"
      },
      "source": [
        "test_df.iloc[5]"
      ],
      "execution_count": 30,
      "outputs": [
        {
          "output_type": "execute_result",
          "data": {
            "text/plain": [
              "CAT1                a\n",
              "NUM1            41.58\n",
              "NUM2             1.04\n",
              "CAT2                u\n",
              "CAT3                g\n",
              "CAT4               aa\n",
              "CAT5                v\n",
              "NUM3            0.665\n",
              "CAT6                f\n",
              "CAT7                f\n",
              "NUM4                0\n",
              "CAT8                f\n",
              "CAT9                g\n",
              "NUM5              240\n",
              "NUM6              237\n",
              "TARGET              0\n",
              "NUM1_IMPUTED        0\n",
              "NUM5_IMPUTED        0\n",
              "Name: 675, dtype: object"
            ]
          },
          "metadata": {},
          "execution_count": 30
        }
      ]
    },
    {
      "cell_type": "code",
      "metadata": {
        "colab": {
          "base_uri": "https://localhost:8080/",
          "height": 411
        },
        "id": "6MJzfL_xy6jc",
        "outputId": "e8dc87ae-6a59-43fc-a835-ea59f26b54ac"
      },
      "source": [
        "predictor.explain(test_df, row_num=5, class_id=1)"
      ],
      "execution_count": 31,
      "outputs": [
        {
          "output_type": "stream",
          "name": "stdout",
          "text": [
            "['not_TARGET', 'TARGET']\n",
            "     not_TARGET  TARGET\n",
            "502         1.0     0.0\n",
            "594         1.0     0.0\n",
            "376         1.0     0.0\n",
            "104         1.0     0.0\n",
            "372         1.0     0.0\n",
            "Explanation for class = TARGET (row_num=5): \n"
          ]
        },
        {
          "output_type": "display_data",
          "data": {
            "image/png": "[encoded data removed]",
            "text/plain": [
              "<Figure size 1440x216 with 1 Axes>"
            ]
          },
          "metadata": {
            "needs_background": "light"
          }
        }
      ]
    },
    {
      "cell_type": "markdown",
      "metadata": {
        "id": "pa9OYVY8zYWL"
      },
      "source": [
        "# Going Further"
      ]
    },
    {
      "cell_type": "markdown",
      "metadata": {
        "id": "2V1ljU5KAY97"
      },
      "source": [
        "## Autofit\n",
        "* Autofit adds two enhancements to the learning process\n",
        "* Early stopping is enabled with patience level (default 5)\n",
        "* Reduce on plateau learning rate with patience level (default 2)"
      ]
    },
    {
      "cell_type": "code",
      "metadata": {
        "colab": {
          "base_uri": "https://localhost:8080/"
        },
        "id": "M6mZpMhjAU0J",
        "outputId": "7d590f00-2c1e-4450-93b7-16e483ec1778"
      },
      "source": [
        "model   = tabular.tabular_classifier('mlp', train)\n",
        "learner = ktrain.get_learner(model, train_data=train, val_data=val, batch_size=32)\n",
        "learner.autofit(lr=1e-3)"
      ],
      "execution_count": 32,
      "outputs": [
        {
          "output_type": "stream",
          "name": "stdout",
          "text": [
            "Is Multi-Label? False\n",
            "done.\n",
            "early_stopping automatically enabled at patience=5\n",
            "reduce_on_plateau automatically enabled at patience=2\n",
            "\n",
            "\n",
            "begin training using triangular learning rate policy with max lr of 0.001...\n",
            "Epoch 1/1024\n",
            "19/19 [==============================] - 2s 45ms/step - loss: 0.5549 - accuracy: 0.7345 - val_loss: 0.5671 - val_accuracy: 0.7000\n",
            "Epoch 2/1024\n",
            "19/19 [==============================] - 1s 32ms/step - loss: 0.4760 - accuracy: 0.7933 - val_loss: 0.5458 - val_accuracy: 0.6857\n",
            "Epoch 3/1024\n",
            "19/19 [==============================] - 1s 31ms/step - loss: 0.4447 - accuracy: 0.8101 - val_loss: 0.5403 - val_accuracy: 0.7571\n",
            "Epoch 4/1024\n",
            "19/19 [==============================] - 1s 31ms/step - loss: 0.3866 - accuracy: 0.8370 - val_loss: 0.4782 - val_accuracy: 0.7714\n",
            "Epoch 5/1024\n",
            "19/19 [==============================] - 1s 32ms/step - loss: 0.3361 - accuracy: 0.8538 - val_loss: 0.4742 - val_accuracy: 0.7857\n",
            "Epoch 6/1024\n",
            "19/19 [==============================] - 1s 33ms/step - loss: 0.3055 - accuracy: 0.8689 - val_loss: 0.4206 - val_accuracy: 0.8286\n",
            "Epoch 7/1024\n",
            "19/19 [==============================] - 1s 31ms/step - loss: 0.2735 - accuracy: 0.8941 - val_loss: 0.4050 - val_accuracy: 0.8429\n",
            "Epoch 8/1024\n",
            "19/19 [==============================] - 1s 30ms/step - loss: 0.2679 - accuracy: 0.8807 - val_loss: 0.4080 - val_accuracy: 0.8286\n",
            "Epoch 9/1024\n",
            "19/19 [==============================] - 1s 32ms/step - loss: 0.2442 - accuracy: 0.9059 - val_loss: 0.3852 - val_accuracy: 0.8571\n",
            "Epoch 10/1024\n",
            "19/19 [==============================] - 1s 32ms/step - loss: 0.2396 - accuracy: 0.9076 - val_loss: 0.4154 - val_accuracy: 0.8714\n",
            "Epoch 11/1024\n",
            "19/19 [==============================] - 1s 31ms/step - loss: 0.2312 - accuracy: 0.9126 - val_loss: 0.3810 - val_accuracy: 0.8714\n",
            "Epoch 12/1024\n",
            "19/19 [==============================] - 1s 30ms/step - loss: 0.2285 - accuracy: 0.9008 - val_loss: 0.4171 - val_accuracy: 0.8571\n",
            "Epoch 13/1024\n",
            "19/19 [==============================] - 1s 33ms/step - loss: 0.2143 - accuracy: 0.9076 - val_loss: 0.4141 - val_accuracy: 0.8429\n",
            "\n",
            "Epoch 00013: Reducing Max LR on Plateau: new max lr will be 0.0005 (if not early_stopping).\n",
            "Epoch 14/1024\n",
            "19/19 [==============================] - 1s 31ms/step - loss: 0.2006 - accuracy: 0.9227 - val_loss: 0.3994 - val_accuracy: 0.8429\n",
            "Epoch 15/1024\n",
            "19/19 [==============================] - 1s 31ms/step - loss: 0.1909 - accuracy: 0.9311 - val_loss: 0.4092 - val_accuracy: 0.8429\n",
            "\n",
            "Epoch 00015: Reducing Max LR on Plateau: new max lr will be 0.00025 (if not early_stopping).\n",
            "Epoch 16/1024\n",
            "19/19 [==============================] - 1s 35ms/step - loss: 0.1841 - accuracy: 0.9328 - val_loss: 0.4154 - val_accuracy: 0.8429\n",
            "Restoring model weights from the end of the best epoch.\n",
            "Epoch 00016: early stopping\n",
            "Weights from best epoch have been loaded into model.\n"
          ]
        },
        {
          "output_type": "execute_result",
          "data": {
            "text/plain": [
              "<keras.callbacks.History at 0x7fb43e522a10>"
            ]
          },
          "metadata": {},
          "execution_count": 32
        }
      ]
    },
    {
      "cell_type": "code",
      "metadata": {
        "colab": {
          "base_uri": "https://localhost:8080/"
        },
        "id": "O7PXdGgjAy2P",
        "outputId": "2464b034-5a46-4c32-cc36-7408b82b1a25"
      },
      "source": [
        "# Autofit performed comparably with the fit_onecycle approach\n",
        "learner.evaluate()"
      ],
      "execution_count": 33,
      "outputs": [
        {
          "output_type": "stream",
          "name": "stdout",
          "text": [
            "              precision    recall  f1-score   support\n",
            "\n",
            "           0       0.89      0.86      0.87        36\n",
            "           1       0.86      0.88      0.87        34\n",
            "\n",
            "    accuracy                           0.87        70\n",
            "   macro avg       0.87      0.87      0.87        70\n",
            "weighted avg       0.87      0.87      0.87        70\n",
            "\n"
          ]
        },
        {
          "output_type": "execute_result",
          "data": {
            "text/plain": [
              "array([[31,  5],\n",
              "       [ 4, 30]])"
            ]
          },
          "metadata": {},
          "execution_count": 33
        }
      ]
    },
    {
      "cell_type": "code",
      "metadata": {
        "colab": {
          "base_uri": "https://localhost:8080/"
        },
        "id": "FjSchmJDzebk",
        "outputId": "330d6e86-95e3-4ff5-fe55-5a725d1de420"
      },
      "source": [
        "# Evaluate on the test dataset\n",
        "learner.evaluate(preprocess.preprocess_test(test_df), \n",
        "                 class_names=preprocess.get_classes())"
      ],
      "execution_count": 34,
      "outputs": [
        {
          "output_type": "stream",
          "name": "stdout",
          "text": [
            "processing test: 25 rows x 18 columns\n",
            "['not_TARGET', 'TARGET']\n",
            "     not_TARGET  TARGET\n",
            "502         0.0     1.0\n",
            "594         0.0     1.0\n",
            "376         1.0     0.0\n",
            "104         1.0     0.0\n",
            "372         1.0     0.0\n",
            "              precision    recall  f1-score   support\n",
            "\n",
            "  not_TARGET       0.90      0.90      0.90        20\n",
            "      TARGET       0.60      0.60      0.60         5\n",
            "\n",
            "    accuracy                           0.84        25\n",
            "   macro avg       0.75      0.75      0.75        25\n",
            "weighted avg       0.84      0.84      0.84        25\n",
            "\n"
          ]
        },
        {
          "output_type": "execute_result",
          "data": {
            "text/plain": [
              "array([[18,  2],\n",
              "       [ 2,  3]])"
            ]
          },
          "metadata": {},
          "execution_count": 34
        }
      ]
    },
    {
      "cell_type": "markdown",
      "metadata": {
        "id": "bv2BZiNA8vWd"
      },
      "source": [
        "## Plotting History\n",
        "* There are plotting helpers built into the library"
      ]
    },
    {
      "cell_type": "code",
      "metadata": {
        "colab": {
          "base_uri": "https://localhost:8080/"
        },
        "id": "985n00gmBJIt",
        "outputId": "c81ed8bd-dd94-4ca4-bdd7-9856f6d8b5dd"
      },
      "source": [
        "model   = tabular.tabular_classifier('mlp', train)\n",
        "learner = ktrain.get_learner(model, train_data=train, val_data=val, batch_size=32)\n",
        "learner.autofit(lr=1e-3)"
      ],
      "execution_count": 35,
      "outputs": [
        {
          "output_type": "stream",
          "name": "stdout",
          "text": [
            "Is Multi-Label? False\n",
            "done.\n",
            "early_stopping automatically enabled at patience=5\n",
            "reduce_on_plateau automatically enabled at patience=2\n",
            "\n",
            "\n",
            "begin training using triangular learning rate policy with max lr of 0.001...\n",
            "Epoch 1/1024\n",
            "19/19 [==============================] - 3s 44ms/step - loss: 0.5676 - accuracy: 0.7025 - val_loss: 0.5444 - val_accuracy: 0.7571\n",
            "Epoch 2/1024\n",
            "19/19 [==============================] - 1s 31ms/step - loss: 0.4759 - accuracy: 0.7748 - val_loss: 0.5418 - val_accuracy: 0.7429\n",
            "Epoch 3/1024\n",
            "19/19 [==============================] - 1s 30ms/step - loss: 0.4406 - accuracy: 0.8168 - val_loss: 0.5623 - val_accuracy: 0.7571\n",
            "Epoch 4/1024\n",
            "19/19 [==============================] - 1s 31ms/step - loss: 0.3883 - accuracy: 0.8319 - val_loss: 0.5055 - val_accuracy: 0.7714\n",
            "Epoch 5/1024\n",
            "19/19 [==============================] - 1s 32ms/step - loss: 0.3351 - accuracy: 0.8706 - val_loss: 0.4781 - val_accuracy: 0.7714\n",
            "Epoch 6/1024\n",
            "19/19 [==============================] - 1s 32ms/step - loss: 0.2876 - accuracy: 0.8807 - val_loss: 0.4503 - val_accuracy: 0.8286\n",
            "Epoch 7/1024\n",
            "19/19 [==============================] - 1s 31ms/step - loss: 0.2634 - accuracy: 0.8958 - val_loss: 0.4151 - val_accuracy: 0.8571\n",
            "Epoch 8/1024\n",
            "19/19 [==============================] - 1s 31ms/step - loss: 0.2614 - accuracy: 0.8857 - val_loss: 0.4372 - val_accuracy: 0.8286\n",
            "Epoch 9/1024\n",
            "19/19 [==============================] - 1s 32ms/step - loss: 0.2472 - accuracy: 0.8924 - val_loss: 0.4558 - val_accuracy: 0.8000\n",
            "\n",
            "Epoch 00009: Reducing Max LR on Plateau: new max lr will be 0.0005 (if not early_stopping).\n",
            "Epoch 10/1024\n",
            "19/19 [==============================] - 1s 32ms/step - loss: 0.2464 - accuracy: 0.8908 - val_loss: 0.4247 - val_accuracy: 0.8571\n",
            "Epoch 11/1024\n",
            "19/19 [==============================] - 1s 32ms/step - loss: 0.2309 - accuracy: 0.9109 - val_loss: 0.4263 - val_accuracy: 0.8286\n",
            "\n",
            "Epoch 00011: Reducing Max LR on Plateau: new max lr will be 0.00025 (if not early_stopping).\n",
            "Epoch 12/1024\n",
            "19/19 [==============================] - 1s 34ms/step - loss: 0.2154 - accuracy: 0.9126 - val_loss: 0.4118 - val_accuracy: 0.8429\n",
            "Epoch 13/1024\n",
            "19/19 [==============================] - 1s 31ms/step - loss: 0.2113 - accuracy: 0.9160 - val_loss: 0.4166 - val_accuracy: 0.8429\n",
            "Epoch 14/1024\n",
            "19/19 [==============================] - 1s 32ms/step - loss: 0.2086 - accuracy: 0.9176 - val_loss: 0.4212 - val_accuracy: 0.8429\n",
            "\n",
            "Epoch 00014: Reducing Max LR on Plateau: new max lr will be 0.000125 (if not early_stopping).\n",
            "Epoch 15/1024\n",
            "19/19 [==============================] - 1s 33ms/step - loss: 0.2047 - accuracy: 0.9193 - val_loss: 0.4185 - val_accuracy: 0.8286\n",
            "Epoch 16/1024\n",
            "19/19 [==============================] - 1s 30ms/step - loss: 0.2014 - accuracy: 0.9244 - val_loss: 0.4206 - val_accuracy: 0.8429\n",
            "\n",
            "Epoch 00016: Reducing Max LR on Plateau: new max lr will be 6.25e-05 (if not early_stopping).\n",
            "Epoch 17/1024\n",
            "19/19 [==============================] - 1s 31ms/step - loss: 0.1990 - accuracy: 0.9244 - val_loss: 0.4158 - val_accuracy: 0.8429\n",
            "Restoring model weights from the end of the best epoch.\n",
            "Epoch 00017: early stopping\n",
            "Weights from best epoch have been loaded into model.\n"
          ]
        },
        {
          "output_type": "execute_result",
          "data": {
            "text/plain": [
              "<keras.callbacks.History at 0x7fb441110510>"
            ]
          },
          "metadata": {},
          "execution_count": 35
        }
      ]
    },
    {
      "cell_type": "code",
      "metadata": {
        "colab": {
          "base_uri": "https://localhost:8080/"
        },
        "id": "q9JJYXXKADUW",
        "outputId": "43d1061e-e522-4b92-bbab-f43e3a114351"
      },
      "source": [
        "for key in model.history.history.keys():\n",
        "  print(key)"
      ],
      "execution_count": 36,
      "outputs": [
        {
          "output_type": "stream",
          "name": "stdout",
          "text": [
            "loss\n",
            "accuracy\n",
            "val_loss\n",
            "val_accuracy\n",
            "lr\n",
            "iterations\n",
            "momentum\n"
          ]
        }
      ]
    },
    {
      "cell_type": "code",
      "metadata": {
        "colab": {
          "base_uri": "https://localhost:8080/",
          "height": 625
        },
        "id": "T3VLyVWXCy4a",
        "outputId": "c5a6049b-a704-479e-819f-3f571e7572c0"
      },
      "source": [
        "fig, ax = plt.subplots(2, 1, figsize=(10, 10))\n",
        "ax[0].plot(model.history.history['loss'], label='Train');\n",
        "ax[0].plot(model.history.history['val_loss'], color='orange', label='Val');\n",
        "ax[0].set_title('Loss')\n",
        "ax[0].legend()\n",
        "\n",
        "ax[1].plot(model.history.history['accuracy'], label='Train');\n",
        "ax[1].plot(model.history.history['val_accuracy'], color='orange', label='Val');\n",
        "ax[1].set_title('Accuracy')\n",
        "ax[1].legend()"
      ],
      "execution_count": 37,
      "outputs": [
        {
          "output_type": "execute_result",
          "data": {
            "text/plain": [
              "<matplotlib.legend.Legend at 0x7fb444ab0690>"
            ]
          },
          "metadata": {},
          "execution_count": 37
        },
        {
          "output_type": "display_data",
          "data": {
            "image/png": "[encoded data removed]",
            "text/plain": [
              "<Figure size 720x720 with 2 Axes>"
            ]
          },
          "metadata": {
            "needs_background": "light"
          }
        }
      ]
    },
    {
      "cell_type": "code",
      "metadata": {
        "colab": {
          "base_uri": "https://localhost:8080/",
          "height": 295
        },
        "id": "trSBKiLHFBUl",
        "outputId": "9e719e40-1dc2-4619-d553-9fae2066ec0f"
      },
      "source": [
        "# Plotting is built in and can save us some steps\n",
        "learner.plot('lr')"
      ],
      "execution_count": 38,
      "outputs": [
        {
          "output_type": "display_data",
          "data": {
            "image/png": "[encoded data removed]",
            "text/plain": [
              "<Figure size 432x288 with 1 Axes>"
            ]
          },
          "metadata": {
            "needs_background": "light"
          }
        }
      ]
    },
    {
      "cell_type": "code",
      "metadata": {
        "colab": {
          "base_uri": "https://localhost:8080/",
          "height": 295
        },
        "id": "lvaLAQS1FGVV",
        "outputId": "382ff742-c6c2-4f87-c41f-817eb16b81f3"
      },
      "source": [
        "learner.plot('momentum')"
      ],
      "execution_count": 39,
      "outputs": [
        {
          "output_type": "display_data",
          "data": {
            "image/png": "[encoded data removed]",
            "text/plain": [
              "<Figure size 432x288 with 1 Axes>"
            ]
          },
          "metadata": {
            "needs_background": "light"
          }
        }
      ]
    },
    {
      "cell_type": "markdown",
      "metadata": {
        "id": "R-N3bE-y2l84"
      },
      "source": [
        "## Weight Decay\n",
        "* Ktrain doesn't use weight decay\n",
        "* Weight decay is L2 regularization applied at update time rather than in the loss function\n",
        "* We can add in global weight decay"
      ]
    },
    {
      "cell_type": "code",
      "metadata": {
        "id": "g7o3evBP245B"
      },
      "source": [
        "# No Weight Decay\n",
        "learner.get_weight_decay()"
      ],
      "execution_count": 40,
      "outputs": []
    },
    {
      "cell_type": "code",
      "metadata": {
        "colab": {
          "base_uri": "https://localhost:8080/"
        },
        "id": "XITZ1IlM3v4i",
        "outputId": "6204302d-7f3e-4450-fc07-801fcf968801"
      },
      "source": [
        "# Easy to add -- default = 0.01\n",
        "learner.set_weight_decay()"
      ],
      "execution_count": 41,
      "outputs": [
        {
          "output_type": "stream",
          "name": "stderr",
          "text": [
            "recompiling model to use AdamWeightDecay as opimizer with weight decay of 0.01\n"
          ]
        }
      ]
    },
    {
      "cell_type": "markdown",
      "metadata": {
        "id": "L75NQ4xAAAdI"
      },
      "source": [
        "## Custom Models \n",
        "* If the MLP has 5MM+ Parameters, why doesn't it solve this?\n",
        "* There are ~30,000 pieces of information\n",
        "* Let's make a custom model (one without embeddings)"
      ]
    },
    {
      "cell_type": "code",
      "metadata": {
        "colab": {
          "base_uri": "https://localhost:8080/",
          "height": 442
        },
        "id": "92RynKc1BtZU",
        "outputId": "7a3793d4-8938-4625-8a92-d8ae681daf25"
      },
      "source": [
        "custom_df = credit_df.copy()\n",
        "custom_df = pd.get_dummies(custom_df, columns = [f'CAT{x}' for x in range(1, 10)]) \n",
        "for col in [f'NUM{x}' for x in range(1, 7)]:\n",
        "  custom_df[col] = (custom_df[col] - custom_df[col].mean()) / custom_df[col].std()\n",
        "custom_df"
      ],
      "execution_count": 42,
      "outputs": [
        {
          "output_type": "execute_result",
          "data": {
            "text/html": [
              "<div>\n",
              "<style scoped>\n",
              "    .dataframe tbody tr th:only-of-type {\n",
              "        vertical-align: middle;\n",
              "    }\n",
              "\n",
              "    .dataframe tbody tr th {\n",
              "        vertical-align: top;\n",
              "    }\n",
              "\n",
              "    .dataframe thead th {\n",
              "        text-align: right;\n",
              "    }\n",
              "</style>\n",
              "<table border=\"1\" class=\"dataframe\">\n",
              "  <thead>\n",
              "    <tr style=\"text-align: right;\">\n",
              "      <th></th>\n",
              "      <th>NUM1</th>\n",
              "      <th>NUM2</th>\n",
              "      <th>NUM3</th>\n",
              "      <th>NUM4</th>\n",
              "      <th>NUM5</th>\n",
              "      <th>NUM6</th>\n",
              "      <th>TARGET</th>\n",
              "      <th>NUM1_IMPUTED</th>\n",
              "      <th>NUM5_IMPUTED</th>\n",
              "      <th>CAT1_UNKNOWN</th>\n",
              "      <th>CAT1_a</th>\n",
              "      <th>CAT1_b</th>\n",
              "      <th>CAT2_UNKNOWN</th>\n",
              "      <th>CAT2_l</th>\n",
              "      <th>CAT2_u</th>\n",
              "      <th>CAT2_y</th>\n",
              "      <th>CAT3_UNKNOWN</th>\n",
              "      <th>CAT3_g</th>\n",
              "      <th>CAT3_gg</th>\n",
              "      <th>CAT3_p</th>\n",
              "      <th>CAT4_UNKNOWN</th>\n",
              "      <th>CAT4_aa</th>\n",
              "      <th>CAT4_c</th>\n",
              "      <th>CAT4_cc</th>\n",
              "      <th>CAT4_d</th>\n",
              "      <th>CAT4_e</th>\n",
              "      <th>CAT4_ff</th>\n",
              "      <th>CAT4_i</th>\n",
              "      <th>CAT4_j</th>\n",
              "      <th>CAT4_k</th>\n",
              "      <th>CAT4_m</th>\n",
              "      <th>CAT4_q</th>\n",
              "      <th>CAT4_r</th>\n",
              "      <th>CAT4_w</th>\n",
              "      <th>CAT4_x</th>\n",
              "      <th>CAT5_UNKNOWN</th>\n",
              "      <th>CAT5_bb</th>\n",
              "      <th>CAT5_dd</th>\n",
              "      <th>CAT5_ff</th>\n",
              "      <th>CAT5_h</th>\n",
              "      <th>CAT5_j</th>\n",
              "      <th>CAT5_n</th>\n",
              "      <th>CAT5_o</th>\n",
              "      <th>CAT5_v</th>\n",
              "      <th>CAT5_z</th>\n",
              "      <th>CAT6_f</th>\n",
              "      <th>CAT6_t</th>\n",
              "      <th>CAT7_f</th>\n",
              "      <th>CAT7_t</th>\n",
              "      <th>CAT8_f</th>\n",
              "      <th>CAT8_t</th>\n",
              "      <th>CAT9_g</th>\n",
              "      <th>CAT9_p</th>\n",
              "      <th>CAT9_s</th>\n",
              "    </tr>\n",
              "  </thead>\n",
              "  <tbody>\n",
              "    <tr>\n",
              "      <th>0</th>\n",
              "      <td>-0.062276</td>\n",
              "      <td>-0.955920</td>\n",
              "      <td>-0.290872</td>\n",
              "      <td>-0.287892</td>\n",
              "      <td>0.104469</td>\n",
              "      <td>-0.195272</td>\n",
              "      <td>1</td>\n",
              "      <td>0</td>\n",
              "      <td>0</td>\n",
              "      <td>0</td>\n",
              "      <td>0</td>\n",
              "      <td>1</td>\n",
              "      <td>0</td>\n",
              "      <td>0</td>\n",
              "      <td>1</td>\n",
              "      <td>0</td>\n",
              "      <td>0</td>\n",
              "      <td>1</td>\n",
              "      <td>0</td>\n",
              "      <td>0</td>\n",
              "      <td>0</td>\n",
              "      <td>0</td>\n",
              "      <td>0</td>\n",
              "      <td>0</td>\n",
              "      <td>0</td>\n",
              "      <td>0</td>\n",
              "      <td>0</td>\n",
              "      <td>0</td>\n",
              "      <td>0</td>\n",
              "      <td>0</td>\n",
              "      <td>0</td>\n",
              "      <td>0</td>\n",
              "      <td>0</td>\n",
              "      <td>1</td>\n",
              "      <td>0</td>\n",
              "      <td>0</td>\n",
              "      <td>0</td>\n",
              "      <td>0</td>\n",
              "      <td>0</td>\n",
              "      <td>0</td>\n",
              "      <td>0</td>\n",
              "      <td>0</td>\n",
              "      <td>0</td>\n",
              "      <td>1</td>\n",
              "      <td>0</td>\n",
              "      <td>0</td>\n",
              "      <td>1</td>\n",
              "      <td>0</td>\n",
              "      <td>1</td>\n",
              "      <td>1</td>\n",
              "      <td>0</td>\n",
              "      <td>1</td>\n",
              "      <td>0</td>\n",
              "      <td>0</td>\n",
              "    </tr>\n",
              "    <tr>\n",
              "      <th>1</th>\n",
              "      <td>2.286443</td>\n",
              "      <td>-0.060007</td>\n",
              "      <td>0.244013</td>\n",
              "      <td>0.740293</td>\n",
              "      <td>-0.819095</td>\n",
              "      <td>-0.087788</td>\n",
              "      <td>1</td>\n",
              "      <td>0</td>\n",
              "      <td>0</td>\n",
              "      <td>0</td>\n",
              "      <td>1</td>\n",
              "      <td>0</td>\n",
              "      <td>0</td>\n",
              "      <td>0</td>\n",
              "      <td>1</td>\n",
              "      <td>0</td>\n",
              "      <td>0</td>\n",
              "      <td>1</td>\n",
              "      <td>0</td>\n",
              "      <td>0</td>\n",
              "      <td>0</td>\n",
              "      <td>0</td>\n",
              "      <td>0</td>\n",
              "      <td>0</td>\n",
              "      <td>0</td>\n",
              "      <td>0</td>\n",
              "      <td>0</td>\n",
              "      <td>0</td>\n",
              "      <td>0</td>\n",
              "      <td>0</td>\n",
              "      <td>0</td>\n",
              "      <td>1</td>\n",
              "      <td>0</td>\n",
              "      <td>0</td>\n",
              "      <td>0</td>\n",
              "      <td>0</td>\n",
              "      <td>0</td>\n",
              "      <td>0</td>\n",
              "      <td>0</td>\n",
              "      <td>1</td>\n",
              "      <td>0</td>\n",
              "      <td>0</td>\n",
              "      <td>0</td>\n",
              "      <td>0</td>\n",
              "      <td>0</td>\n",
              "      <td>0</td>\n",
              "      <td>1</td>\n",
              "      <td>0</td>\n",
              "      <td>1</td>\n",
              "      <td>1</td>\n",
              "      <td>0</td>\n",
              "      <td>1</td>\n",
              "      <td>0</td>\n",
              "      <td>0</td>\n",
              "    </tr>\n",
              "    <tr>\n",
              "      <th>2</th>\n",
              "      <td>-0.596305</td>\n",
              "      <td>-0.855481</td>\n",
              "      <td>-0.216167</td>\n",
              "      <td>-0.493529</td>\n",
              "      <td>0.557537</td>\n",
              "      <td>-0.037117</td>\n",
              "      <td>1</td>\n",
              "      <td>0</td>\n",
              "      <td>0</td>\n",
              "      <td>0</td>\n",
              "      <td>1</td>\n",
              "      <td>0</td>\n",
              "      <td>0</td>\n",
              "      <td>0</td>\n",
              "      <td>1</td>\n",
              "      <td>0</td>\n",
              "      <td>0</td>\n",
              "      <td>1</td>\n",
              "      <td>0</td>\n",
              "      <td>0</td>\n",
              "      <td>0</td>\n",
              "      <td>0</td>\n",
              "      <td>0</td>\n",
              "      <td>0</td>\n",
              "      <td>0</td>\n",
              "      <td>0</td>\n",
              "      <td>0</td>\n",
              "      <td>0</td>\n",
              "      <td>0</td>\n",
              "      <td>0</td>\n",
              "      <td>0</td>\n",
              "      <td>1</td>\n",
              "      <td>0</td>\n",
              "      <td>0</td>\n",
              "      <td>0</td>\n",
              "      <td>0</td>\n",
              "      <td>0</td>\n",
              "      <td>0</td>\n",
              "      <td>0</td>\n",
              "      <td>1</td>\n",
              "      <td>0</td>\n",
              "      <td>0</td>\n",
              "      <td>0</td>\n",
              "      <td>0</td>\n",
              "      <td>0</td>\n",
              "      <td>0</td>\n",
              "      <td>1</td>\n",
              "      <td>1</td>\n",
              "      <td>0</td>\n",
              "      <td>1</td>\n",
              "      <td>0</td>\n",
              "      <td>1</td>\n",
              "      <td>0</td>\n",
              "      <td>0</td>\n",
              "    </tr>\n",
              "    <tr>\n",
              "      <th>3</th>\n",
              "      <td>-0.315370</td>\n",
              "      <td>-0.646569</td>\n",
              "      <td>0.456175</td>\n",
              "      <td>0.534656</td>\n",
              "      <td>-0.488006</td>\n",
              "      <td>-0.194696</td>\n",
              "      <td>1</td>\n",
              "      <td>0</td>\n",
              "      <td>0</td>\n",
              "      <td>0</td>\n",
              "      <td>0</td>\n",
              "      <td>1</td>\n",
              "      <td>0</td>\n",
              "      <td>0</td>\n",
              "      <td>1</td>\n",
              "      <td>0</td>\n",
              "      <td>0</td>\n",
              "      <td>1</td>\n",
              "      <td>0</td>\n",
              "      <td>0</td>\n",
              "      <td>0</td>\n",
              "      <td>0</td>\n",
              "      <td>0</td>\n",
              "      <td>0</td>\n",
              "      <td>0</td>\n",
              "      <td>0</td>\n",
              "      <td>0</td>\n",
              "      <td>0</td>\n",
              "      <td>0</td>\n",
              "      <td>0</td>\n",
              "      <td>0</td>\n",
              "      <td>0</td>\n",
              "      <td>0</td>\n",
              "      <td>1</td>\n",
              "      <td>0</td>\n",
              "      <td>0</td>\n",
              "      <td>0</td>\n",
              "      <td>0</td>\n",
              "      <td>0</td>\n",
              "      <td>0</td>\n",
              "      <td>0</td>\n",
              "      <td>0</td>\n",
              "      <td>0</td>\n",
              "      <td>1</td>\n",
              "      <td>0</td>\n",
              "      <td>0</td>\n",
              "      <td>1</td>\n",
              "      <td>0</td>\n",
              "      <td>1</td>\n",
              "      <td>0</td>\n",
              "      <td>1</td>\n",
              "      <td>1</td>\n",
              "      <td>0</td>\n",
              "      <td>0</td>\n",
              "    </tr>\n",
              "    <tr>\n",
              "      <th>4</th>\n",
              "      <td>-0.961605</td>\n",
              "      <td>0.174015</td>\n",
              "      <td>-0.153415</td>\n",
              "      <td>-0.493529</td>\n",
              "      <td>-0.371835</td>\n",
              "      <td>-0.195272</td>\n",
              "      <td>1</td>\n",
              "      <td>0</td>\n",
              "      <td>0</td>\n",
              "      <td>0</td>\n",
              "      <td>0</td>\n",
              "      <td>1</td>\n",
              "      <td>0</td>\n",
              "      <td>0</td>\n",
              "      <td>1</td>\n",
              "      <td>0</td>\n",
              "      <td>0</td>\n",
              "      <td>1</td>\n",
              "      <td>0</td>\n",
              "      <td>0</td>\n",
              "      <td>0</td>\n",
              "      <td>0</td>\n",
              "      <td>0</td>\n",
              "      <td>0</td>\n",
              "      <td>0</td>\n",
              "      <td>0</td>\n",
              "      <td>0</td>\n",
              "      <td>0</td>\n",
              "      <td>0</td>\n",
              "      <td>0</td>\n",
              "      <td>0</td>\n",
              "      <td>0</td>\n",
              "      <td>0</td>\n",
              "      <td>1</td>\n",
              "      <td>0</td>\n",
              "      <td>0</td>\n",
              "      <td>0</td>\n",
              "      <td>0</td>\n",
              "      <td>0</td>\n",
              "      <td>0</td>\n",
              "      <td>0</td>\n",
              "      <td>0</td>\n",
              "      <td>0</td>\n",
              "      <td>1</td>\n",
              "      <td>0</td>\n",
              "      <td>0</td>\n",
              "      <td>1</td>\n",
              "      <td>1</td>\n",
              "      <td>0</td>\n",
              "      <td>1</td>\n",
              "      <td>0</td>\n",
              "      <td>0</td>\n",
              "      <td>0</td>\n",
              "      <td>1</td>\n",
              "    </tr>\n",
              "    <tr>\n",
              "      <th>...</th>\n",
              "      <td>...</td>\n",
              "      <td>...</td>\n",
              "      <td>...</td>\n",
              "      <td>...</td>\n",
              "      <td>...</td>\n",
              "      <td>...</td>\n",
              "      <td>...</td>\n",
              "      <td>...</td>\n",
              "      <td>...</td>\n",
              "      <td>...</td>\n",
              "      <td>...</td>\n",
              "      <td>...</td>\n",
              "      <td>...</td>\n",
              "      <td>...</td>\n",
              "      <td>...</td>\n",
              "      <td>...</td>\n",
              "      <td>...</td>\n",
              "      <td>...</td>\n",
              "      <td>...</td>\n",
              "      <td>...</td>\n",
              "      <td>...</td>\n",
              "      <td>...</td>\n",
              "      <td>...</td>\n",
              "      <td>...</td>\n",
              "      <td>...</td>\n",
              "      <td>...</td>\n",
              "      <td>...</td>\n",
              "      <td>...</td>\n",
              "      <td>...</td>\n",
              "      <td>...</td>\n",
              "      <td>...</td>\n",
              "      <td>...</td>\n",
              "      <td>...</td>\n",
              "      <td>...</td>\n",
              "      <td>...</td>\n",
              "      <td>...</td>\n",
              "      <td>...</td>\n",
              "      <td>...</td>\n",
              "      <td>...</td>\n",
              "      <td>...</td>\n",
              "      <td>...</td>\n",
              "      <td>...</td>\n",
              "      <td>...</td>\n",
              "      <td>...</td>\n",
              "      <td>...</td>\n",
              "      <td>...</td>\n",
              "      <td>...</td>\n",
              "      <td>...</td>\n",
              "      <td>...</td>\n",
              "      <td>...</td>\n",
              "      <td>...</td>\n",
              "      <td>...</td>\n",
              "      <td>...</td>\n",
              "      <td>...</td>\n",
              "    </tr>\n",
              "    <tr>\n",
              "      <th>685</th>\n",
              "      <td>-0.884833</td>\n",
              "      <td>1.069928</td>\n",
              "      <td>-0.290872</td>\n",
              "      <td>-0.493529</td>\n",
              "      <td>0.441366</td>\n",
              "      <td>-0.195272</td>\n",
              "      <td>0</td>\n",
              "      <td>0</td>\n",
              "      <td>0</td>\n",
              "      <td>0</td>\n",
              "      <td>0</td>\n",
              "      <td>1</td>\n",
              "      <td>0</td>\n",
              "      <td>0</td>\n",
              "      <td>0</td>\n",
              "      <td>1</td>\n",
              "      <td>0</td>\n",
              "      <td>0</td>\n",
              "      <td>0</td>\n",
              "      <td>1</td>\n",
              "      <td>0</td>\n",
              "      <td>0</td>\n",
              "      <td>0</td>\n",
              "      <td>0</td>\n",
              "      <td>0</td>\n",
              "      <td>1</td>\n",
              "      <td>0</td>\n",
              "      <td>0</td>\n",
              "      <td>0</td>\n",
              "      <td>0</td>\n",
              "      <td>0</td>\n",
              "      <td>0</td>\n",
              "      <td>0</td>\n",
              "      <td>0</td>\n",
              "      <td>0</td>\n",
              "      <td>0</td>\n",
              "      <td>0</td>\n",
              "      <td>0</td>\n",
              "      <td>0</td>\n",
              "      <td>1</td>\n",
              "      <td>0</td>\n",
              "      <td>0</td>\n",
              "      <td>0</td>\n",
              "      <td>0</td>\n",
              "      <td>0</td>\n",
              "      <td>1</td>\n",
              "      <td>0</td>\n",
              "      <td>1</td>\n",
              "      <td>0</td>\n",
              "      <td>1</td>\n",
              "      <td>0</td>\n",
              "      <td>1</td>\n",
              "      <td>0</td>\n",
              "      <td>0</td>\n",
              "    </tr>\n",
              "    <tr>\n",
              "      <th>686</th>\n",
              "      <td>-0.750693</td>\n",
              "      <td>-0.805262</td>\n",
              "      <td>-0.066758</td>\n",
              "      <td>-0.082255</td>\n",
              "      <td>0.092851</td>\n",
              "      <td>-0.119649</td>\n",
              "      <td>0</td>\n",
              "      <td>0</td>\n",
              "      <td>0</td>\n",
              "      <td>0</td>\n",
              "      <td>1</td>\n",
              "      <td>0</td>\n",
              "      <td>0</td>\n",
              "      <td>0</td>\n",
              "      <td>1</td>\n",
              "      <td>0</td>\n",
              "      <td>0</td>\n",
              "      <td>1</td>\n",
              "      <td>0</td>\n",
              "      <td>0</td>\n",
              "      <td>0</td>\n",
              "      <td>0</td>\n",
              "      <td>1</td>\n",
              "      <td>0</td>\n",
              "      <td>0</td>\n",
              "      <td>0</td>\n",
              "      <td>0</td>\n",
              "      <td>0</td>\n",
              "      <td>0</td>\n",
              "      <td>0</td>\n",
              "      <td>0</td>\n",
              "      <td>0</td>\n",
              "      <td>0</td>\n",
              "      <td>0</td>\n",
              "      <td>0</td>\n",
              "      <td>0</td>\n",
              "      <td>0</td>\n",
              "      <td>0</td>\n",
              "      <td>0</td>\n",
              "      <td>0</td>\n",
              "      <td>0</td>\n",
              "      <td>0</td>\n",
              "      <td>0</td>\n",
              "      <td>1</td>\n",
              "      <td>0</td>\n",
              "      <td>1</td>\n",
              "      <td>0</td>\n",
              "      <td>0</td>\n",
              "      <td>1</td>\n",
              "      <td>0</td>\n",
              "      <td>1</td>\n",
              "      <td>1</td>\n",
              "      <td>0</td>\n",
              "      <td>0</td>\n",
              "    </tr>\n",
              "    <tr>\n",
              "      <th>687</th>\n",
              "      <td>-0.533032</td>\n",
              "      <td>1.755924</td>\n",
              "      <td>-0.066758</td>\n",
              "      <td>-0.287892</td>\n",
              "      <td>0.092851</td>\n",
              "      <td>-0.195080</td>\n",
              "      <td>0</td>\n",
              "      <td>0</td>\n",
              "      <td>0</td>\n",
              "      <td>0</td>\n",
              "      <td>1</td>\n",
              "      <td>0</td>\n",
              "      <td>0</td>\n",
              "      <td>0</td>\n",
              "      <td>0</td>\n",
              "      <td>1</td>\n",
              "      <td>0</td>\n",
              "      <td>0</td>\n",
              "      <td>0</td>\n",
              "      <td>1</td>\n",
              "      <td>0</td>\n",
              "      <td>0</td>\n",
              "      <td>0</td>\n",
              "      <td>0</td>\n",
              "      <td>0</td>\n",
              "      <td>0</td>\n",
              "      <td>1</td>\n",
              "      <td>0</td>\n",
              "      <td>0</td>\n",
              "      <td>0</td>\n",
              "      <td>0</td>\n",
              "      <td>0</td>\n",
              "      <td>0</td>\n",
              "      <td>0</td>\n",
              "      <td>0</td>\n",
              "      <td>0</td>\n",
              "      <td>0</td>\n",
              "      <td>0</td>\n",
              "      <td>1</td>\n",
              "      <td>0</td>\n",
              "      <td>0</td>\n",
              "      <td>0</td>\n",
              "      <td>0</td>\n",
              "      <td>0</td>\n",
              "      <td>0</td>\n",
              "      <td>1</td>\n",
              "      <td>0</td>\n",
              "      <td>0</td>\n",
              "      <td>1</td>\n",
              "      <td>0</td>\n",
              "      <td>1</td>\n",
              "      <td>1</td>\n",
              "      <td>0</td>\n",
              "      <td>0</td>\n",
              "    </tr>\n",
              "    <tr>\n",
              "      <th>688</th>\n",
              "      <td>-1.151426</td>\n",
              "      <td>-0.914740</td>\n",
              "      <td>-0.652442</td>\n",
              "      <td>-0.493529</td>\n",
              "      <td>0.557537</td>\n",
              "      <td>-0.051321</td>\n",
              "      <td>0</td>\n",
              "      <td>0</td>\n",
              "      <td>0</td>\n",
              "      <td>0</td>\n",
              "      <td>0</td>\n",
              "      <td>1</td>\n",
              "      <td>0</td>\n",
              "      <td>0</td>\n",
              "      <td>1</td>\n",
              "      <td>0</td>\n",
              "      <td>0</td>\n",
              "      <td>1</td>\n",
              "      <td>0</td>\n",
              "      <td>0</td>\n",
              "      <td>0</td>\n",
              "      <td>1</td>\n",
              "      <td>0</td>\n",
              "      <td>0</td>\n",
              "      <td>0</td>\n",
              "      <td>0</td>\n",
              "      <td>0</td>\n",
              "      <td>0</td>\n",
              "      <td>0</td>\n",
              "      <td>0</td>\n",
              "      <td>0</td>\n",
              "      <td>0</td>\n",
              "      <td>0</td>\n",
              "      <td>0</td>\n",
              "      <td>0</td>\n",
              "      <td>0</td>\n",
              "      <td>0</td>\n",
              "      <td>0</td>\n",
              "      <td>0</td>\n",
              "      <td>0</td>\n",
              "      <td>0</td>\n",
              "      <td>0</td>\n",
              "      <td>0</td>\n",
              "      <td>1</td>\n",
              "      <td>0</td>\n",
              "      <td>1</td>\n",
              "      <td>0</td>\n",
              "      <td>1</td>\n",
              "      <td>0</td>\n",
              "      <td>1</td>\n",
              "      <td>0</td>\n",
              "      <td>1</td>\n",
              "      <td>0</td>\n",
              "      <td>0</td>\n",
              "    </tr>\n",
              "    <tr>\n",
              "      <th>689</th>\n",
              "      <td>0.289526</td>\n",
              "      <td>-0.277959</td>\n",
              "      <td>1.812810</td>\n",
              "      <td>-0.493529</td>\n",
              "      <td>-1.068864</td>\n",
              "      <td>-0.195272</td>\n",
              "      <td>0</td>\n",
              "      <td>0</td>\n",
              "      <td>0</td>\n",
              "      <td>0</td>\n",
              "      <td>0</td>\n",
              "      <td>1</td>\n",
              "      <td>0</td>\n",
              "      <td>0</td>\n",
              "      <td>1</td>\n",
              "      <td>0</td>\n",
              "      <td>0</td>\n",
              "      <td>1</td>\n",
              "      <td>0</td>\n",
              "      <td>0</td>\n",
              "      <td>0</td>\n",
              "      <td>0</td>\n",
              "      <td>1</td>\n",
              "      <td>0</td>\n",
              "      <td>0</td>\n",
              "      <td>0</td>\n",
              "      <td>0</td>\n",
              "      <td>0</td>\n",
              "      <td>0</td>\n",
              "      <td>0</td>\n",
              "      <td>0</td>\n",
              "      <td>0</td>\n",
              "      <td>0</td>\n",
              "      <td>0</td>\n",
              "      <td>0</td>\n",
              "      <td>0</td>\n",
              "      <td>0</td>\n",
              "      <td>0</td>\n",
              "      <td>0</td>\n",
              "      <td>1</td>\n",
              "      <td>0</td>\n",
              "      <td>0</td>\n",
              "      <td>0</td>\n",
              "      <td>0</td>\n",
              "      <td>0</td>\n",
              "      <td>1</td>\n",
              "      <td>0</td>\n",
              "      <td>1</td>\n",
              "      <td>0</td>\n",
              "      <td>0</td>\n",
              "      <td>1</td>\n",
              "      <td>1</td>\n",
              "      <td>0</td>\n",
              "      <td>0</td>\n",
              "    </tr>\n",
              "  </tbody>\n",
              "</table>\n",
              "<p>690 rows × 54 columns</p>\n",
              "</div>"
            ],
            "text/plain": [
              "         NUM1      NUM2      NUM3      NUM4  ...  CAT8_t  CAT9_g  CAT9_p  CAT9_s\n",
              "0   -0.062276 -0.955920 -0.290872 -0.287892  ...       0       1       0       0\n",
              "1    2.286443 -0.060007  0.244013  0.740293  ...       0       1       0       0\n",
              "2   -0.596305 -0.855481 -0.216167 -0.493529  ...       0       1       0       0\n",
              "3   -0.315370 -0.646569  0.456175  0.534656  ...       1       1       0       0\n",
              "4   -0.961605  0.174015 -0.153415 -0.493529  ...       0       0       0       1\n",
              "..        ...       ...       ...       ...  ...     ...     ...     ...     ...\n",
              "685 -0.884833  1.069928 -0.290872 -0.493529  ...       0       1       0       0\n",
              "686 -0.750693 -0.805262 -0.066758 -0.082255  ...       1       1       0       0\n",
              "687 -0.533032  1.755924 -0.066758 -0.287892  ...       1       1       0       0\n",
              "688 -1.151426 -0.914740 -0.652442 -0.493529  ...       0       1       0       0\n",
              "689  0.289526 -0.277959  1.812810 -0.493529  ...       1       1       0       0\n",
              "\n",
              "[690 rows x 54 columns]"
            ]
          },
          "metadata": {},
          "execution_count": 42
        }
      ]
    },
    {
      "cell_type": "code",
      "metadata": {
        "colab": {
          "base_uri": "https://localhost:8080/"
        },
        "id": "ZN1PB2J3Z5Dl",
        "outputId": "94d70b25-fcb2-4470-c9a2-43135dcabc48"
      },
      "source": [
        "X = custom_df.copy()\n",
        "y = custom_df.pop('TARGET')\n",
        "X_train, X_val, y_train, y_val = train_test_split(X, y, test_size=0.15, random_state=777)\n",
        "X_val, X_test, y_val, y_test   = train_test_split(X_val, y_val, test_size=25, random_state=777)\n",
        "print(f'Train {X_train.shape}')"
      ],
      "execution_count": 43,
      "outputs": [
        {
          "output_type": "stream",
          "name": "stdout",
          "text": [
            "Train (586, 54)\n"
          ]
        }
      ]
    },
    {
      "cell_type": "code",
      "metadata": {
        "colab": {
          "base_uri": "https://localhost:8080/"
        },
        "id": "EYgCEv5gEaXp",
        "outputId": "6c51a4f9-e08e-4140-abeb-7867b20decd6"
      },
      "source": [
        "# Simple model - sequential (Dense layers, Relu)\n",
        "custom_model = Sequential()\n",
        "custom_model.add(Dense(64, activation='relu', input_shape=(54,)))\n",
        "custom_model.add(Dense(32, activation='relu'))\n",
        "custom_model.add(Dense(1, activation='sigmoid'))\n",
        "custom_model.build()\n",
        "custom_model.summary()"
      ],
      "execution_count": 44,
      "outputs": [
        {
          "output_type": "stream",
          "name": "stdout",
          "text": [
            "Model: \"sequential\"\n",
            "_________________________________________________________________\n",
            "Layer (type)                 Output Shape              Param #   \n",
            "=================================================================\n",
            "dense_9 (Dense)              (None, 64)                3520      \n",
            "_________________________________________________________________\n",
            "dense_10 (Dense)             (None, 32)                2080      \n",
            "_________________________________________________________________\n",
            "dense_11 (Dense)             (None, 1)                 33        \n",
            "=================================================================\n",
            "Total params: 5,633\n",
            "Trainable params: 5,633\n",
            "Non-trainable params: 0\n",
            "_________________________________________________________________\n"
          ]
        }
      ]
    },
    {
      "cell_type": "code",
      "metadata": {
        "id": "P1eOKFW4YWbh"
      },
      "source": [
        "custom_model.compile(loss='binary_crossentropy',\n",
        "                     optimizer='adam',\n",
        "                     metrics=['accuracy'])"
      ],
      "execution_count": 45,
      "outputs": []
    },
    {
      "cell_type": "code",
      "metadata": {
        "id": "A8Q7Ck6cY9Zu"
      },
      "source": [
        "learner = ktrain.get_learner(custom_model, \n",
        "                             train_data=(X_train.to_numpy(), y_train.to_numpy()), \n",
        "                             val_data=(X_val.to_numpy(), y_val.to_numpy()), \n",
        "                             batch_size=32)"
      ],
      "execution_count": 46,
      "outputs": []
    },
    {
      "cell_type": "code",
      "metadata": {
        "colab": {
          "base_uri": "https://localhost:8080/",
          "height": 542
        },
        "id": "RSYCWkv3d-9X",
        "outputId": "9b2a8422-1795-4ec4-eabc-5dc140535c45"
      },
      "source": [
        "learner.lr_find(show_plot=True, max_epochs=5)"
      ],
      "execution_count": 47,
      "outputs": [
        {
          "output_type": "stream",
          "name": "stdout",
          "text": [
            "simulating training for different learning rates... this may take a few moments...\n",
            "Epoch 1/5\n",
            "19/19 [==============================] - 1s 3ms/step - loss: 0.7204 - accuracy: 0.5375\n",
            "Epoch 2/5\n",
            "19/19 [==============================] - 0s 2ms/step - loss: 0.7187 - accuracy: 0.5410\n",
            "Epoch 3/5\n",
            "19/19 [==============================] - 0s 2ms/step - loss: 0.6597 - accuracy: 0.6468\n",
            "Epoch 4/5\n",
            "19/19 [==============================] - 0s 2ms/step - loss: 0.3656 - accuracy: 0.8874\n",
            "Epoch 5/5\n",
            "19/19 [==============================] - 0s 2ms/step - loss: 263.4290 - accuracy: 0.7139\n",
            "\n",
            "\n",
            "done.\n",
            "Visually inspect loss plot and select learning rate associated with falling loss\n"
          ]
        },
        {
          "output_type": "display_data",
          "data": {
            "image/png": "[encoded data removed]",
            "text/plain": [
              "<Figure size 432x288 with 1 Axes>"
            ]
          },
          "metadata": {
            "needs_background": "light"
          }
        }
      ]
    },
    {
      "cell_type": "code",
      "metadata": {
        "colab": {
          "base_uri": "https://localhost:8080/"
        },
        "id": "0Mco5ou1dPc4",
        "outputId": "9db33a2a-f689-4ab3-b1f1-4d6b7390e2e7"
      },
      "source": [
        "learner.fit_onecycle(1e-2, 10)"
      ],
      "execution_count": 48,
      "outputs": [
        {
          "output_type": "stream",
          "name": "stdout",
          "text": [
            "\n",
            "\n",
            "begin training using onecycle policy with max lr of 0.01...\n",
            "Epoch 1/10\n",
            "19/19 [==============================] - 1s 11ms/step - loss: 0.5932 - accuracy: 0.7031 - val_loss: 0.4123 - val_accuracy: 0.8481\n",
            "Epoch 2/10\n",
            "19/19 [==============================] - 0s 4ms/step - loss: 0.3184 - accuracy: 0.8805 - val_loss: 0.2241 - val_accuracy: 0.9114\n",
            "Epoch 3/10\n",
            "19/19 [==============================] - 0s 4ms/step - loss: 0.1549 - accuracy: 0.9403 - val_loss: 0.1250 - val_accuracy: 0.9620\n",
            "Epoch 4/10\n",
            "19/19 [==============================] - 0s 3ms/step - loss: 0.0361 - accuracy: 0.9949 - val_loss: 0.0204 - val_accuracy: 1.0000\n",
            "Epoch 5/10\n",
            "19/19 [==============================] - 0s 3ms/step - loss: 0.0051 - accuracy: 1.0000 - val_loss: 0.0033 - val_accuracy: 1.0000\n",
            "Epoch 6/10\n",
            "19/19 [==============================] - 0s 5ms/step - loss: 9.6415e-04 - accuracy: 1.0000 - val_loss: 0.0015 - val_accuracy: 1.0000\n",
            "Epoch 7/10\n",
            "19/19 [==============================] - 0s 4ms/step - loss: 5.3900e-04 - accuracy: 1.0000 - val_loss: 0.0012 - val_accuracy: 1.0000\n",
            "Epoch 8/10\n",
            "19/19 [==============================] - 0s 3ms/step - loss: 4.0797e-04 - accuracy: 1.0000 - val_loss: 9.9182e-04 - val_accuracy: 1.0000\n",
            "Epoch 9/10\n",
            "19/19 [==============================] - 0s 3ms/step - loss: 3.5511e-04 - accuracy: 1.0000 - val_loss: 9.0073e-04 - val_accuracy: 1.0000\n",
            "Epoch 10/10\n",
            "19/19 [==============================] - 0s 4ms/step - loss: 3.3228e-04 - accuracy: 1.0000 - val_loss: 8.7406e-04 - val_accuracy: 1.0000\n"
          ]
        },
        {
          "output_type": "execute_result",
          "data": {
            "text/plain": [
              "<keras.callbacks.History at 0x7fb444b137d0>"
            ]
          },
          "metadata": {},
          "execution_count": 48
        }
      ]
    },
    {
      "cell_type": "code",
      "metadata": {
        "colab": {
          "base_uri": "https://localhost:8080/"
        },
        "id": "ccJLGcyQdpuP",
        "outputId": "0283d10f-0e32-4707-9446-1118c52cc984"
      },
      "source": [
        "# Perfect performance on evaluation\n",
        "learner.validate()"
      ],
      "execution_count": 49,
      "outputs": [
        {
          "output_type": "stream",
          "name": "stdout",
          "text": [
            "              precision    recall  f1-score   support\n",
            "\n",
            "           0       1.00      1.00      1.00        52\n",
            "           1       1.00      1.00      1.00        27\n",
            "\n",
            "    accuracy                           1.00        79\n",
            "   macro avg       1.00      1.00      1.00        79\n",
            "weighted avg       1.00      1.00      1.00        79\n",
            "\n"
          ]
        },
        {
          "output_type": "execute_result",
          "data": {
            "text/plain": [
              "array([[52,  0],\n",
              "       [ 0, 27]])"
            ]
          },
          "metadata": {},
          "execution_count": 49
        }
      ]
    },
    {
      "cell_type": "code",
      "metadata": {
        "colab": {
          "base_uri": "https://localhost:8080/"
        },
        "id": "kDx8uty1enV-",
        "outputId": "1dbf4300-bf29-4a0e-eb56-3b3078ba6140"
      },
      "source": [
        "# Appears to have nailed it\n",
        "learner.evaluate(test_data=(X_test.to_numpy(), y_test.to_numpy()))"
      ],
      "execution_count": 50,
      "outputs": [
        {
          "output_type": "stream",
          "name": "stdout",
          "text": [
            "              precision    recall  f1-score   support\n",
            "\n",
            "           0       1.00      1.00      1.00        11\n",
            "           1       1.00      1.00      1.00        14\n",
            "\n",
            "    accuracy                           1.00        25\n",
            "   macro avg       1.00      1.00      1.00        25\n",
            "weighted avg       1.00      1.00      1.00        25\n",
            "\n"
          ]
        },
        {
          "output_type": "execute_result",
          "data": {
            "text/plain": [
              "array([[11,  0],\n",
              "       [ 0, 14]])"
            ]
          },
          "metadata": {},
          "execution_count": 50
        }
      ]
    },
    {
      "cell_type": "markdown",
      "metadata": {
        "id": "0JBchtU1z7Us"
      },
      "source": [
        "# Notes:\n",
        "* Helpful library - Think PyCaret for Tensorflow / Keras\n",
        "  * Like the learning rate helper\n",
        "  * Can put in your own model is a plus\n",
        "* We only looked at Tabular model\n",
        "* Our dataset to explore the tool, was really small\n",
        "  * Embeddings didn't help with it\n",
        "  * A simple net performed better\n",
        "  * Expect that to **change** on other, larger datasets\n",
        "* The library supports many other data types including\n",
        "  * Images\n",
        "  * Text\n",
        "  * Regression\n",
        "  * Time Series"
      ]
    }
  ]
}